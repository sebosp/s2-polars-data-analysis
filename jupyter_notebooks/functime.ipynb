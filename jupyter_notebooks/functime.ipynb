{
 "cells": [
  {
   "cell_type": "code",
   "execution_count": 8,
   "id": "de32eb68-01b3-48ab-95ea-d095fa69d73a",
   "metadata": {},
   "outputs": [
    {
     "data": {
      "text/plain": [
       "Schema([('ext_fs_id', UInt64),\n",
       "        ('ext_fs_sha256', String),\n",
       "        ('ext_fs_file_name', String),\n",
       "        ('control', Int64),\n",
       "        ('user_id', Int64),\n",
       "        ('team_id', Int64),\n",
       "        ('observe', UInt8),\n",
       "        ('working_set_slot_id', UInt8),\n",
       "        ('map_size_x', UInt8),\n",
       "        ('map_size_y', UInt8)])"
      ]
     },
     "execution_count": 8,
     "metadata": {},
     "output_type": "execute_result"
    }
   ],
   "source": [
    "import polars as pl\n",
    "from functime.cross_validation import train_test_split\n",
    "from functime.evaluation import rank_fva, rank_point_forecasts, rank_residuals\n",
    "from functime.forecasting import lightgbm, snaive\n",
    "from functime.plotting import plot_comet, plot_forecasts, plot_fva, plot_residuals\n",
    "from functime.preprocessing import detrend\n",
    "\n",
    "pl.Config.set_tbl_width_chars(256)\n",
    "pl.Config.set_fmt_str_lengths(256)\n",
    "pl.Config.set_tbl_rows(24)\n",
    "\n",
    "# Location of the IPC generated files from above.\n",
    "ipc_dir = \"/home/seb/git/s2protocol-rs/ipcs\"\n",
    "\n",
    "# Filter out these:\n",
    "# Beacon*: Similiar to above, default targets of hatcheries and buildings\n",
    "#          points to Beacons, clicks on the map, or actions when teams play\n",
    "#          together and send attack/defend points on the map.\n",
    "#          For now we'll avoid them.\n",
    "unit_born_df = pl.scan_ipc(f\"{ipc_dir}/unit_born.ipc\")\n",
    "# .filter((~pl.col(\"unit_type_name\").str.starts_with(\"Beacon\")))\n",
    "unit_died_df = pl.scan_ipc(f\"{ipc_dir}/unit_died.ipc\")\n",
    "# .filter((~pl.col(\"unit_died_name\").str.starts_with(\"Beacon\")))\n",
    "stats_df = pl.scan_ipc(f\"{ipc_dir}/stats.ipc\")\n",
    "upgrades_df = pl.scan_ipc(f\"{ipc_dir}/upgrades.ipc\")\n",
    "user_init_data_df = pl.scan_ipc(f\"{ipc_dir}/user_init_data.ipc\")\n",
    "lobby_slot_init_data_df = pl.scan_ipc(f\"{ipc_dir}/lobby_init_data.ipc\")\n",
    "details_df = pl.scan_ipc(f\"{ipc_dir}/details.ipc\")\n",
    "lobby_slot_init_data_df.collect_schema()\n"
   ]
  },
  {
   "cell_type": "code",
   "execution_count": 7,
   "id": "b8bdf538-59c2-443f-855d-caa8091e7879",
   "metadata": {},
   "outputs": [
    {
     "data": {
      "text/plain": [
       "Schema([('player_id', UInt8),\n",
       "        ('name', String),\n",
       "        ('count', Int32),\n",
       "        ('ext_replay_loop', Int64),\n",
       "        ('ext_replay_seconds', UInt32),\n",
       "        ('ext_fs_id', UInt64)])"
      ]
     },
     "execution_count": 7,
     "metadata": {},
     "output_type": "execute_result"
    }
   ],
   "source": [
    "upgrades_df.collect_schema()"
   ]
  },
  {
   "cell_type": "code",
   "execution_count": 6,
   "id": "6b98e763-b0ae-438a-80a8-a854f58e9f89",
   "metadata": {},
   "outputs": [
    {
     "ename": "ColumnNotFoundError",
     "evalue": "ext_fs_replay_sha256\n\nResolved plan until failure:\n\n\t---> FAILED HERE RESOLVING 'sink' <---\nIpc SCAN [/home/seb/git/s2protocol-rs/ipcs/details.ipc] [id: 139890742623024]\nPROJECT */22 COLUMNS",
     "output_type": "error",
     "traceback": [
      "\u001b[31m---------------------------------------------------------------------------\u001b[39m",
      "\u001b[31mColumnNotFoundError\u001b[39m                       Traceback (most recent call last)",
      "\u001b[36mCell\u001b[39m\u001b[36m \u001b[39m\u001b[32mIn[6]\u001b[39m\u001b[32m, line 22\u001b[39m\n\u001b[32m      1\u001b[39m y = (\n\u001b[32m      2\u001b[39m     \u001b[43mupgrades_df\u001b[49m\u001b[43m.\u001b[49m\u001b[43mjoin\u001b[49m\u001b[43m(\u001b[49m\n\u001b[32m      3\u001b[39m \u001b[43m        \u001b[49m\u001b[43mdetails_df\u001b[49m\u001b[43m,\u001b[49m\n\u001b[32m      4\u001b[39m \u001b[43m        \u001b[49m\u001b[43mleft_on\u001b[49m\u001b[43m=\u001b[49m\u001b[43m[\u001b[49m\n\u001b[32m      5\u001b[39m \u001b[43m            \u001b[49m\u001b[43mpl\u001b[49m\u001b[43m.\u001b[49m\u001b[43mcol\u001b[49m\u001b[43m(\u001b[49m\u001b[33;43m\"\u001b[39;49m\u001b[33;43mext_fs_replay_sha256\u001b[39;49m\u001b[33;43m\"\u001b[39;49m\u001b[43m)\u001b[49m\u001b[43m,\u001b[49m\n\u001b[32m      6\u001b[39m \u001b[43m            \u001b[49m\u001b[43mpl\u001b[49m\u001b[43m.\u001b[49m\u001b[43mcol\u001b[49m\u001b[43m(\u001b[49m\u001b[33;43m\"\u001b[39;49m\u001b[33;43mplayer_id\u001b[39;49m\u001b[33;43m\"\u001b[39;49m\u001b[43m)\u001b[49m\u001b[43m,\u001b[49m\n\u001b[32m      7\u001b[39m \u001b[43m        \u001b[49m\u001b[43m]\u001b[49m\u001b[43m,\u001b[49m\n\u001b[32m      8\u001b[39m \u001b[43m        \u001b[49m\u001b[43mright_on\u001b[49m\u001b[43m=\u001b[49m\u001b[43m[\u001b[49m\n\u001b[32m      9\u001b[39m \u001b[43m            \u001b[49m\u001b[43mpl\u001b[49m\u001b[43m.\u001b[49m\u001b[43mcol\u001b[49m\u001b[43m(\u001b[49m\u001b[33;43m\"\u001b[39;49m\u001b[33;43mext_fs_replay_sha256\u001b[39;49m\u001b[33;43m\"\u001b[39;49m\u001b[43m)\u001b[49m\u001b[43m,\u001b[49m\n\u001b[32m     10\u001b[39m \u001b[43m            \u001b[49m\u001b[43mpl\u001b[49m\u001b[43m.\u001b[49m\u001b[43mcol\u001b[49m\u001b[43m(\u001b[49m\u001b[33;43m\"\u001b[39;49m\u001b[33;43mworking_set_slot_id\u001b[39;49m\u001b[33;43m\"\u001b[39;49m\u001b[43m)\u001b[49m\u001b[43m,\u001b[49m\n\u001b[32m     11\u001b[39m \u001b[43m        \u001b[49m\u001b[43m]\u001b[49m\u001b[43m,\u001b[49m\n\u001b[32m     12\u001b[39m \u001b[43m    \u001b[49m\u001b[43m)\u001b[49m\n\u001b[32m     13\u001b[39m \u001b[43m    \u001b[49m\u001b[43m.\u001b[49m\u001b[43mfilter\u001b[49m\u001b[43m(\u001b[49m\u001b[43m(\u001b[49m\u001b[43mpl\u001b[49m\u001b[43m.\u001b[49m\u001b[43mcol\u001b[49m\u001b[43m(\u001b[49m\u001b[33;43m\"\u001b[39;49m\u001b[33;43mext_replay_seconds\u001b[39;49m\u001b[33;43m\"\u001b[39;49m\u001b[43m)\u001b[49m\u001b[43m.\u001b[49m\u001b[43mgt\u001b[49m\u001b[43m(\u001b[49m\u001b[32;43m0\u001b[39;49m\u001b[43m)\u001b[49m\u001b[43m)\u001b[49m\u001b[43m \u001b[49m\u001b[43m&\u001b[49m\u001b[43m \u001b[49m\u001b[43m(\u001b[49m\u001b[43mpl\u001b[49m\u001b[43m.\u001b[49m\u001b[43mcol\u001b[49m\u001b[43m(\u001b[49m\u001b[33;43m\"\u001b[39;49m\u001b[33;43mname\u001b[39;49m\u001b[33;43m\"\u001b[39;49m\u001b[43m)\u001b[49m\u001b[43m \u001b[49m\u001b[43m==\u001b[49m\u001b[43m \u001b[49m\u001b[33;43m\"\u001b[39;49m\u001b[33;43mzerglingmovementspeed\u001b[39;49m\u001b[33;43m\"\u001b[39;49m\u001b[43m)\u001b[49m\u001b[43m)\u001b[49m\n\u001b[32m     14\u001b[39m \u001b[43m    \u001b[49m\u001b[43m.\u001b[49m\u001b[43mselect\u001b[49m\u001b[43m(\u001b[49m\n\u001b[32m     15\u001b[39m \u001b[43m        \u001b[49m\u001b[43m[\u001b[49m\n\u001b[32m     16\u001b[39m \u001b[43m            \u001b[49m\u001b[43mpl\u001b[49m\u001b[43m.\u001b[49m\u001b[43mcol\u001b[49m\u001b[43m(\u001b[49m\u001b[33;43m\"\u001b[39;49m\u001b[33;43mname\u001b[39;49m\u001b[33;43m\"\u001b[39;49m\u001b[43m)\u001b[49m\u001b[43m,\u001b[49m\n\u001b[32m     17\u001b[39m \u001b[43m            \u001b[49m\u001b[43mpl\u001b[49m\u001b[43m.\u001b[49m\u001b[43mcol\u001b[49m\u001b[43m(\u001b[49m\u001b[33;43m\"\u001b[39;49m\u001b[33;43mext_datetime\u001b[39;49m\u001b[33;43m\"\u001b[39;49m\u001b[43m)\u001b[49m\u001b[43m.\u001b[49m\u001b[43malias\u001b[49m\u001b[43m(\u001b[49m\u001b[33;43m\"\u001b[39;49m\u001b[33;43mtime\u001b[39;49m\u001b[33;43m\"\u001b[39;49m\u001b[43m)\u001b[49m\u001b[43m,\u001b[49m\n\u001b[32m     18\u001b[39m \u001b[43m            \u001b[49m\u001b[43mpl\u001b[49m\u001b[43m.\u001b[49m\u001b[43mcol\u001b[49m\u001b[43m(\u001b[49m\u001b[33;43m\"\u001b[39;49m\u001b[33;43mext_replay_seconds\u001b[39;49m\u001b[33;43m\"\u001b[39;49m\u001b[43m)\u001b[49m\u001b[43m.\u001b[49m\u001b[43mcast\u001b[49m\u001b[43m(\u001b[49m\u001b[43mpl\u001b[49m\u001b[43m.\u001b[49m\u001b[43mFloat64\u001b[49m\u001b[43m)\u001b[49m\u001b[43m,\u001b[49m\n\u001b[32m     19\u001b[39m \u001b[43m        \u001b[49m\u001b[43m]\u001b[49m\n\u001b[32m     20\u001b[39m \u001b[43m    \u001b[49m\u001b[43m)\u001b[49m\n\u001b[32m     21\u001b[39m \u001b[43m    \u001b[49m\u001b[43m.\u001b[49m\u001b[43msort\u001b[49m\u001b[43m(\u001b[49m\u001b[33;43m\"\u001b[39;49m\u001b[33;43mtime\u001b[39;49m\u001b[33;43m\"\u001b[39;49m\u001b[43m)\u001b[49m\n\u001b[32m---> \u001b[39m\u001b[32m22\u001b[39m \u001b[43m    \u001b[49m\u001b[43m.\u001b[49m\u001b[43mcollect\u001b[49m\u001b[43m(\u001b[49m\u001b[43m)\u001b[49m\n\u001b[32m     23\u001b[39m )\n\u001b[32m     24\u001b[39m fh = \u001b[32m12\u001b[39m\n\u001b[32m     25\u001b[39m entity_col = y.columns[\u001b[32m0\u001b[39m]\n",
      "\u001b[36mFile \u001b[39m\u001b[32m~/git/s2-polars-data-analysis/venv/lib/python3.13/site-packages/polars/_utils/deprecation.py:97\u001b[39m, in \u001b[36mdeprecate_streaming_parameter.<locals>.decorate.<locals>.wrapper\u001b[39m\u001b[34m(*args, **kwargs)\u001b[39m\n\u001b[32m     93\u001b[39m         kwargs[\u001b[33m\"\u001b[39m\u001b[33mengine\u001b[39m\u001b[33m\"\u001b[39m] = \u001b[33m\"\u001b[39m\u001b[33min-memory\u001b[39m\u001b[33m\"\u001b[39m\n\u001b[32m     95\u001b[39m     \u001b[38;5;28;01mdel\u001b[39;00m kwargs[\u001b[33m\"\u001b[39m\u001b[33mstreaming\u001b[39m\u001b[33m\"\u001b[39m]\n\u001b[32m---> \u001b[39m\u001b[32m97\u001b[39m \u001b[38;5;28;01mreturn\u001b[39;00m \u001b[43mfunction\u001b[49m\u001b[43m(\u001b[49m\u001b[43m*\u001b[49m\u001b[43margs\u001b[49m\u001b[43m,\u001b[49m\u001b[43m \u001b[49m\u001b[43m*\u001b[49m\u001b[43m*\u001b[49m\u001b[43mkwargs\u001b[49m\u001b[43m)\u001b[49m\n",
      "\u001b[36mFile \u001b[39m\u001b[32m~/git/s2-polars-data-analysis/venv/lib/python3.13/site-packages/polars/lazyframe/opt_flags.py:330\u001b[39m, in \u001b[36mforward_old_opt_flags.<locals>.decorate.<locals>.wrapper\u001b[39m\u001b[34m(*args, **kwargs)\u001b[39m\n\u001b[32m    327\u001b[39m         optflags = cb(optflags, kwargs.pop(key))  \u001b[38;5;66;03m# type: ignore[no-untyped-call,unused-ignore]\u001b[39;00m\n\u001b[32m    329\u001b[39m kwargs[\u001b[33m\"\u001b[39m\u001b[33moptimizations\u001b[39m\u001b[33m\"\u001b[39m] = optflags\n\u001b[32m--> \u001b[39m\u001b[32m330\u001b[39m \u001b[38;5;28;01mreturn\u001b[39;00m \u001b[43mfunction\u001b[49m\u001b[43m(\u001b[49m\u001b[43m*\u001b[49m\u001b[43margs\u001b[49m\u001b[43m,\u001b[49m\u001b[43m \u001b[49m\u001b[43m*\u001b[49m\u001b[43m*\u001b[49m\u001b[43mkwargs\u001b[49m\u001b[43m)\u001b[49m\n",
      "\u001b[36mFile \u001b[39m\u001b[32m~/git/s2-polars-data-analysis/venv/lib/python3.13/site-packages/polars/lazyframe/frame.py:2332\u001b[39m, in \u001b[36mLazyFrame.collect\u001b[39m\u001b[34m(self, type_coercion, predicate_pushdown, projection_pushdown, simplify_expression, slice_pushdown, comm_subplan_elim, comm_subexpr_elim, cluster_with_columns, collapse_joins, no_optimization, engine, background, optimizations, **_kwargs)\u001b[39m\n\u001b[32m   2330\u001b[39m \u001b[38;5;66;03m# Only for testing purposes\u001b[39;00m\n\u001b[32m   2331\u001b[39m callback = _kwargs.get(\u001b[33m\"\u001b[39m\u001b[33mpost_opt_callback\u001b[39m\u001b[33m\"\u001b[39m, callback)\n\u001b[32m-> \u001b[39m\u001b[32m2332\u001b[39m \u001b[38;5;28;01mreturn\u001b[39;00m wrap_df(\u001b[43mldf\u001b[49m\u001b[43m.\u001b[49m\u001b[43mcollect\u001b[49m\u001b[43m(\u001b[49m\u001b[43mengine\u001b[49m\u001b[43m,\u001b[49m\u001b[43m \u001b[49m\u001b[43mcallback\u001b[49m\u001b[43m)\u001b[49m)\n",
      "\u001b[31mColumnNotFoundError\u001b[39m: ext_fs_replay_sha256\n\nResolved plan until failure:\n\n\t---> FAILED HERE RESOLVING 'sink' <---\nIpc SCAN [/home/seb/git/s2protocol-rs/ipcs/details.ipc] [id: 139890742623024]\nPROJECT */22 COLUMNS"
     ]
    }
   ],
   "source": [
    "\n",
    "y = (\n",
    "    upgrades_df.join(\n",
    "        details_df,\n",
    "        left_on=[\n",
    "            pl.col(\"ext_fs_replay_sha256\"),\n",
    "            pl.col(\"player_id\"),\n",
    "        ],\n",
    "        right_on=[\n",
    "            pl.col(\"ext_fs_replay_sha256\"),\n",
    "            pl.col(\"working_set_slot_id\"),\n",
    "        ],\n",
    "    )\n",
    "    .filter((pl.col(\"ext_replay_seconds\").gt(0)) & (pl.col(\"name\") == \"zerglingmovementspeed\"))\n",
    "    .select(\n",
    "        [\n",
    "            pl.col(\"name\"),\n",
    "            pl.col(\"ext_datetime\").alias(\"time\"),\n",
    "            pl.col(\"ext_replay_seconds\").cast(pl.Float64),\n",
    "        ]\n",
    "    )\n",
    "    .sort(\"time\")\n",
    "    .collect()\n",
    ")\n",
    "fh = 12\n",
    "entity_col = y.columns[0]\n",
    "y_train, y_test = train_test_split(test_size=fh, eager=True)(y)\n",
    "y.select(\n",
    "    pl.all().exclude(\"ext_replay_seconds\").n_unique(),\n",
    "    pl.col(\"time\").min().dt.date().alias(\"start\"),\n",
    "    pl.col(\"time\").max().dt.date().alias(\"end\"),\n",
    ")\n",
    "y_pred_bench = snaive(freq=\"1w\", sp=24)(y=y_train, fh=fh)\n",
    "y_pred_bench.head()\n",
    "\n",
    "selected_entities = ranks.head(4).get_column(entity_col).unique()\n",
    "figure = plot_forecasts(\n",
    "    y_true=y.filter(pl.col(entity_col).is_in(selected_entities)),\n",
    "    y_pred=y_pred_bench.filter(pl.col(entity_col).is_in(selected_entities)),\n",
    "    n_cols=2,\n",
    "    height=1000,\n",
    "    width=1200,\n",
    ")\n",
    "figure.show(renderer=\"svg\")\n",
    "ranks = rank_point_forecasts(y_true=y_test, y_pred=y_pred_bench, descending=True)\n",
    "ranks.head()\n",
    "selected_entities = ranks.head(4).get_column(entity_col).unique()\n",
    "figure = plot_forecasts(\n",
    "    y_true=y.filter(pl.col(entity_col).is_in(selected_entities)),\n",
    "    y_pred=y_pred_bench.filter(pl.col(entity_col).is_in(selected_entities)),\n",
    "    n_cols=2,\n",
    "    height=1000,\n",
    "    width=1200,\n",
    ")\n",
    "figure.show(renderer=\"svg\")\n",
    "figure = plot_fva(\n",
    "    y_true=y_test, y_pred=y_pred, y_pred_bench=y_pred_bench, height=900, width=900\n",
    ")\n",
    "figure.show(renderer=\"svg\")"
   ]
  },
  {
   "cell_type": "code",
   "execution_count": null,
   "id": "79af6075-8d37-406a-bbab-a34f4bc4b8c9",
   "metadata": {},
   "outputs": [],
   "source": []
  }
 ],
 "metadata": {
  "kernelspec": {
   "display_name": "Python 3 (ipykernel)",
   "language": "python",
   "name": "python3"
  },
  "language_info": {
   "codemirror_mode": {
    "name": "ipython",
    "version": 3
   },
   "file_extension": ".py",
   "mimetype": "text/x-python",
   "name": "python",
   "nbconvert_exporter": "python",
   "pygments_lexer": "ipython3",
   "version": "3.13.5"
  }
 },
 "nbformat": 4,
 "nbformat_minor": 5
}
