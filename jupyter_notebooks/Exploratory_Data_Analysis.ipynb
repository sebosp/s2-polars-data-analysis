{
 "cells": [
  {
   "cell_type": "markdown",
   "id": "f1993638-eb25-43c4-8631-68857873c481",
   "metadata": {},
   "source": [
    "# Generate the files\n",
    "\n",
    "## Requirements\n",
    "\n",
    "[rustup](https://rustup.rs/)\n",
    "[python3](https://www.python.org/downloads/)\n",
    "\n",
    "Maybe virtual env?\n",
    "\n",
    "## Step by Step\n",
    "We need to locate the directory where the replays are, in my case I dual-boot and mount windows to `/mnt/windows`\n",
    "\n",
    "The final step takes around 32 seconds to process 3600 Replay files. This means about 110 replays per-second on a 16 Core machine.\n",
    "```bash\n",
    "$ git clone https://github.com/sebosp/s2protocol-rs\n",
    "$ cd s2protocol-rs\n",
    "$ mkdir ipcs/\n",
    "$ cargo run --features arrow,syntax -r -- -v error --timing --source /home/seb/SCReplaysOnNVMe --output /home/seb/git/s2protocol-rs/ipcs/ write-arrow-ipc --process-max-files 10000000\n",
    "12059 files have valid init data, processing...\n",
    "Total time: 100s\n",
    "$ du -sh ipcs/*\n",
    "572M    ipcs/cmd_target_point.ipc \n",
    "264M    ipcs/cmd_target_unit.ipc \n",
    "3.5M    ipcs/details.ipc  \n",
    "38M     ipcs/lobby_init_data.ipc \n",
    "867M    ipcs/stats.ipc \n",
    "6.0G    ipcs/unit_born.ipc \n",
    "4.0G    ipcs/unit_died.ipc  \n",
    "43M     ipcs/upgrades.ipc \n",
    "36M     ipcs/user_init_data.ipc\n",
    "$ cd ../s2-polars-data-analysis/\n",
    "$ pip install -r requirements.txt\n",
    "$ jupyter lab --notebook-dir=jupyter_notebooks/\n",
    "# Open the URL explained in the terminal, this will open this notebook for interacting with the data.\n",
    "```\n"
   ]
  },
  {
   "cell_type": "code",
   "execution_count": 1,
   "id": "85a3b87b-e834-4ab7-99d3-8a192c6154a8",
   "metadata": {},
   "outputs": [
    {
     "data": {
      "text/plain": [
       "Schema([('ext_fs_id', UInt64),\n",
       "        ('ext_fs_sha256', String),\n",
       "        ('ext_fs_file_name', String),\n",
       "        ('control', Int64),\n",
       "        ('user_id', Int64),\n",
       "        ('team_id', Int64),\n",
       "        ('observe', UInt8),\n",
       "        ('working_set_slot_id', UInt8),\n",
       "        ('map_size_x', UInt8),\n",
       "        ('map_size_y', UInt8)])"
      ]
     },
     "execution_count": 1,
     "metadata": {},
     "output_type": "execute_result"
    }
   ],
   "source": [
    "# import datashader as ds\n",
    "import plotly.express as px\n",
    "import polars as pl\n",
    "\n",
    "pl.Config.set_tbl_width_chars(256)\n",
    "pl.Config.set_fmt_str_lengths(256)\n",
    "pl.Config.set_tbl_rows(24)\n",
    "\n",
    "# Location of the IPC generated files from above.\n",
    "ipc_dir = \"/home/seb/git/s2protocol-rs/ipcs\"\n",
    "\n",
    "# Filter out these:\n",
    "# Beacon*: Similiar to above, default targets of hatcheries and buildings\n",
    "#          points to Beacons, clicks on the map, or actions when teams play\n",
    "#          together and send attack/defend points on the map.\n",
    "#          For now we'll avoid them.\n",
    "unit_born_df = pl.scan_ipc(f\"{ipc_dir}/unit_born.ipc\")\n",
    "# .filter((~pl.col(\"unit_type_name\").str.starts_with(\"Beacon\")))\n",
    "unit_died_df = pl.scan_ipc(f\"{ipc_dir}/unit_died.ipc\")\n",
    "# .filter((~pl.col(\"unit_died_name\").str.starts_with(\"Beacon\")))\n",
    "stats_df = pl.scan_ipc(f\"{ipc_dir}/stats.ipc\")\n",
    "upgrades_df = pl.scan_ipc(f\"{ipc_dir}/upgrades.ipc\")\n",
    "user_init_data_df = pl.scan_ipc(f\"{ipc_dir}/user_init_data.ipc\")\n",
    "lobby_slot_init_data_df = pl.scan_ipc(f\"{ipc_dir}/lobby_init_data.ipc\")\n",
    "details_df = pl.scan_ipc(f\"{ipc_dir}/details.ipc\")\n",
    "lobby_slot_init_data_df.collect_schema()"
   ]
  },
  {
   "cell_type": "code",
   "execution_count": 2,
   "id": "80a71bba-6a97-490e-b197-56a8e2bd6a36",
   "metadata": {},
   "outputs": [
    {
     "data": {
      "text/html": [
       "<div><style>\n",
       ".dataframe > thead > tr,\n",
       ".dataframe > tbody > tr {\n",
       "  text-align: right;\n",
       "  white-space: pre-wrap;\n",
       "}\n",
       "</style>\n",
       "<small>shape: (16, 1)</small><table border=\"1\" class=\"dataframe\"><thead><tr><th>working_set_slot_id</th></tr><tr><td>struct[2]</td></tr></thead><tbody><tr><td>{15,12059}</td></tr><tr><td>{14,12059}</td></tr><tr><td>{13,12059}</td></tr><tr><td>{12,12059}</td></tr><tr><td>{8,12059}</td></tr><tr><td>{0,12059}</td></tr><tr><td>{11,12058}</td></tr><tr><td>{10,12058}</td></tr><tr><td>{9,12058}</td></tr><tr><td>{4,12057}</td></tr><tr><td>{1,12054}</td></tr><tr><td>{6,12050}</td></tr><tr><td>{5,12050}</td></tr><tr><td>{7,12046}</td></tr><tr><td>{2,11872}</td></tr><tr><td>{3,11005}</td></tr></tbody></table></div>"
      ],
      "text/plain": [
       "shape: (16, 1)\n",
       "┌─────────────────────┐\n",
       "│ working_set_slot_id │\n",
       "│ ---                 │\n",
       "│ struct[2]           │\n",
       "╞═════════════════════╡\n",
       "│ {15,12059}          │\n",
       "│ {14,12059}          │\n",
       "│ {13,12059}          │\n",
       "│ {12,12059}          │\n",
       "│ {8,12059}           │\n",
       "│ {0,12059}           │\n",
       "│ {11,12058}          │\n",
       "│ {10,12058}          │\n",
       "│ {9,12058}           │\n",
       "│ {4,12057}           │\n",
       "│ {1,12054}           │\n",
       "│ {6,12050}           │\n",
       "│ {5,12050}           │\n",
       "│ {7,12046}           │\n",
       "│ {2,11872}           │\n",
       "│ {3,11005}           │\n",
       "└─────────────────────┘"
      ]
     },
     "execution_count": 2,
     "metadata": {},
     "output_type": "execute_result"
    }
   ],
   "source": [
    "lobby_slot_init_data_df.select(pl.col(\"working_set_slot_id\").value_counts(sort=True)).collect()\n",
    "# - observe 0, 1, 2 --- 0 = player\n",
    "# - control 0,1,2,3 --- unsure\n",
    "# - user_id null, 0, 1, 2, 3 --- unsure\n",
    "# - team_id 0, 1 --- seems for players\n",
    "# - working_set_slot_id 0..15 --- unsure (are these maybe the slots of 16 players that can be in a lobby?\n",
    "# - map_size_x: 0? 1..16 possible values of size_x\n",
    "# - map_size_y: 0? 1.. many more than 16 possible values? doesn't match size_x hmm"
   ]
  },
  {
   "cell_type": "code",
   "execution_count": 3,
   "id": "2b3ddf67-7028-4bdd-b3f0-dbf648fb6208",
   "metadata": {},
   "outputs": [
    {
     "data": {
      "text/plain": [
       "Schema([('ext_fs_id', UInt64),\n",
       "        ('ext_fs_sha256', String),\n",
       "        ('ext_fs_file_name', String),\n",
       "        ('name', String),\n",
       "        ('clan_tag', String),\n",
       "        ('scaled_rating', Int32)])"
      ]
     },
     "execution_count": 3,
     "metadata": {},
     "output_type": "execute_result"
    }
   ],
   "source": [
    "user_init_data_df.collect_schema()"
   ]
  },
  {
   "cell_type": "code",
   "execution_count": 4,
   "id": "7a486ab4-eb11-42cc-bf24-af1bfee98492",
   "metadata": {},
   "outputs": [
    {
     "data": {
      "text/html": [
       "<div><style>\n",
       ".dataframe > thead > tr,\n",
       ".dataframe > tbody > tr {\n",
       "  text-align: right;\n",
       "  white-space: pre-wrap;\n",
       "}\n",
       "</style>\n",
       "<small>shape: (4_517, 1)</small><table border=\"1\" class=\"dataframe\"><thead><tr><th>name</th></tr><tr><td>struct[2]</td></tr></thead><tbody><tr><td>{&quot;\u0000&quot;,157010}</td></tr><tr><td>{&quot;Sazed&quot;,5052}</td></tr><tr><td>{&quot;Doombringer&quot;,3225}</td></tr><tr><td>{&quot;ESLRefereeB&quot;,892}</td></tr><tr><td>{&quot;EnObsA&quot;,822}</td></tr><tr><td>{&quot;EnObsB&quot;,821}</td></tr><tr><td>{&quot;AfreecaTV&quot;,802}</td></tr><tr><td>{&quot;Indy&quot;,588}</td></tr><tr><td>{&quot;ESLRefereeC&quot;,485}</td></tr><tr><td>{&quot;ENObsA&quot;,404}</td></tr><tr><td>{&quot;COSMOS&quot;,388}</td></tr><tr><td>{&quot;ENObsC&quot;,371}</td></tr><tr><td>&hellip;</td></tr><tr><td>{&quot;deBebbo&quot;,1}</td></tr><tr><td>{&quot;ZoniDruid&quot;,1}</td></tr><tr><td>{&quot;Yonray&quot;,1}</td></tr><tr><td>{&quot;DVlad&quot;,1}</td></tr><tr><td>{&quot;dochopper&quot;,1}</td></tr><tr><td>{&quot;msfan&quot;,1}</td></tr><tr><td>{&quot;danlia&quot;,1}</td></tr><tr><td>{&quot;Floy&quot;,1}</td></tr><tr><td>{&quot;NikBers&quot;,1}</td></tr><tr><td>{&quot;ÖnderSav&quot;,1}</td></tr><tr><td>{&quot;Tomstar&quot;,1}</td></tr><tr><td>{&quot;LiZaRdKiNg&quot;,1}</td></tr></tbody></table></div>"
      ],
      "text/plain": [
       "shape: (4_517, 1)\n",
       "┌──────────────────────┐\n",
       "│ name                 │\n",
       "│ ---                  │\n",
       "│ struct[2]            │\n",
       "╞══════════════════════╡\n",
       "│ {\"\u0000\",157010}         │\n",
       "│ {\"Sazed\",5052}       │\n",
       "│ {\"Doombringer\",3225} │\n",
       "│ {\"ESLRefereeB\",892}  │\n",
       "│ {\"EnObsA\",822}       │\n",
       "│ {\"EnObsB\",821}       │\n",
       "│ {\"AfreecaTV\",802}    │\n",
       "│ {\"Indy\",588}         │\n",
       "│ {\"ESLRefereeC\",485}  │\n",
       "│ {\"ENObsA\",404}       │\n",
       "│ {\"COSMOS\",388}       │\n",
       "│ {\"ENObsC\",371}       │\n",
       "│ …                    │\n",
       "│ {\"deBebbo\",1}        │\n",
       "│ {\"ZoniDruid\",1}      │\n",
       "│ {\"Yonray\",1}         │\n",
       "│ {\"DVlad\",1}          │\n",
       "│ {\"dochopper\",1}      │\n",
       "│ {\"msfan\",1}          │\n",
       "│ {\"danlia\",1}         │\n",
       "│ {\"Floy\",1}           │\n",
       "│ {\"NikBers\",1}        │\n",
       "│ {\"ÖnderSav\",1}       │\n",
       "│ {\"Tomstar\",1}        │\n",
       "│ {\"LiZaRdKiNg\",1}     │\n",
       "└──────────────────────┘"
      ]
     },
     "execution_count": 4,
     "metadata": {},
     "output_type": "execute_result"
    }
   ],
   "source": [
    "user_init_data_df.select(pl.col(\"name\").value_counts(sort=True)).collect()"
   ]
  },
  {
   "cell_type": "code",
   "execution_count": 5,
   "id": "8f11fa31-4bd8-4b86-8a80-b1f31e7a6c07",
   "metadata": {},
   "outputs": [
    {
     "data": {
      "text/html": [
       "<div><style>\n",
       ".dataframe > thead > tr,\n",
       ".dataframe > tbody > tr {\n",
       "  text-align: right;\n",
       "  white-space: pre-wrap;\n",
       "}\n",
       "</style>\n",
       "<small>shape: (2, 10)</small><table border=\"1\" class=\"dataframe\"><thead><tr><th>ext_fs_id</th><th>ext_fs_sha256</th><th>ext_fs_file_name</th><th>control</th><th>user_id</th><th>team_id</th><th>observe</th><th>working_set_slot_id</th><th>map_size_x</th><th>map_size_y</th></tr><tr><td>u64</td><td>str</td><td>str</td><td>i64</td><td>i64</td><td>i64</td><td>u8</td><td>u8</td><td>u8</td><td>u8</td></tr></thead><tbody><tr><td>18780</td><td>&quot;0fa2a90d3c75546dd401130e75c227c5a8d62e12bb0aa8efe432edaafb53493e&quot;</td><td>&quot;/home/seb/SCReplaysOnNVMe/[2023 GSL S2] Ro.8 Group B Match1 Dark vs TY/1SET [2023 GSL S2] Ro.8 Group B Match1 Dark vs TY.SC2Replay&quot;</td><td>2</td><td>2</td><td>1</td><td>0</td><td>2</td><td>184</td><td>178</td></tr><tr><td>18780</td><td>&quot;0fa2a90d3c75546dd401130e75c227c5a8d62e12bb0aa8efe432edaafb53493e&quot;</td><td>&quot;/home/seb/SCReplaysOnNVMe/[2023 GSL S2] Ro.8 Group B Match1 Dark vs TY/1SET [2023 GSL S2] Ro.8 Group B Match1 Dark vs TY.SC2Replay&quot;</td><td>2</td><td>3</td><td>0</td><td>0</td><td>3</td><td>184</td><td>178</td></tr></tbody></table></div>"
      ],
      "text/plain": [
       "shape: (2, 10)\n",
       "┌───────────┬──────────────────────────────────────────────────────────────────┬───────────────────────────────────────────────────────────────────────────────────────────────────────┬─────────┬───┬─────────┬─────────────────────┬────────────┬────────────┐\n",
       "│ ext_fs_id ┆ ext_fs_sha256                                                    ┆ ext_fs_file_name                                                                                      ┆ control ┆ … ┆ observe ┆ working_set_slot_id ┆ map_size_x ┆ map_size_y │\n",
       "│ ---       ┆ ---                                                              ┆ ---                                                                                                   ┆ ---     ┆   ┆ ---     ┆ ---                 ┆ ---        ┆ ---        │\n",
       "│ u64       ┆ str                                                              ┆ str                                                                                                   ┆ i64     ┆   ┆ u8      ┆ u8                  ┆ u8         ┆ u8         │\n",
       "╞═══════════╪══════════════════════════════════════════════════════════════════╪═══════════════════════════════════════════════════════════════════════════════════════════════════════╪═════════╪═══╪═════════╪═════════════════════╪════════════╪════════════╡\n",
       "│ 18780     ┆ 0fa2a90d3c75546dd401130e75c227c5a8d62e12bb0aa8efe432edaafb53493e ┆ /home/seb/SCReplaysOnNVMe/[2023 GSL S2] Ro.8 Group B Match1 Dark vs TY/1SET [2023 GSL S2] Ro.8 Group  ┆ 2       ┆ … ┆ 0       ┆ 2                   ┆ 184        ┆ 178        │\n",
       "│           ┆                                                                  ┆ B Match1 Dark vs TY.SC2Replay                                                                         ┆         ┆   ┆         ┆                     ┆            ┆            │\n",
       "│ 18780     ┆ 0fa2a90d3c75546dd401130e75c227c5a8d62e12bb0aa8efe432edaafb53493e ┆ /home/seb/SCReplaysOnNVMe/[2023 GSL S2] Ro.8 Group B Match1 Dark vs TY/1SET [2023 GSL S2] Ro.8 Group  ┆ 2       ┆ … ┆ 0       ┆ 3                   ┆ 184        ┆ 178        │\n",
       "│           ┆                                                                  ┆ B Match1 Dark vs TY.SC2Replay                                                                         ┆         ┆   ┆         ┆                     ┆            ┆            │\n",
       "└───────────┴──────────────────────────────────────────────────────────────────┴───────────────────────────────────────────────────────────────────────────────────────────────────────┴─────────┴───┴─────────┴─────────────────────┴────────────┴────────────┘"
      ]
     },
     "execution_count": 5,
     "metadata": {},
     "output_type": "execute_result"
    }
   ],
   "source": [
    "lobby_slot_init_data_df.filter(\n",
    "    [pl.col(\"ext_fs_id\").eq(18780) & pl.col(\"observe\").eq(0)]\n",
    ").collect()"
   ]
  },
  {
   "cell_type": "code",
   "execution_count": 6,
   "id": "5e291223-7de8-4c5b-9963-9c950ca01fff",
   "metadata": {},
   "outputs": [
    {
     "data": {
      "text/plain": [
       "Schema([('player_name', String),\n",
       "        ('player_toon_region', UInt8),\n",
       "        ('player_toon_program_id', UInt32),\n",
       "        ('player_toon_realm', UInt32),\n",
       "        ('player_toon_id', UInt64),\n",
       "        ('player_race', String),\n",
       "        ('player_color_a', UInt8),\n",
       "        ('player_color_r', UInt8),\n",
       "        ('player_color_g', UInt8),\n",
       "        ('player_color_b', UInt8),\n",
       "        ('player_control', UInt8),\n",
       "        ('player_team_id', UInt8),\n",
       "        ('player_observe', UInt8),\n",
       "        ('player_result', UInt8),\n",
       "        ('player_working_set_slot_id', UInt8),\n",
       "        ('player_hero', String),\n",
       "        ('title', String),\n",
       "        ('is_blizzard_map', Boolean),\n",
       "        ('time_utc', Int64),\n",
       "        ('time_local_offset', Int64),\n",
       "        ('ext_fs_id', UInt64),\n",
       "        ('ext_datetime', Datetime(time_unit='ns', time_zone=None))])"
      ]
     },
     "execution_count": 6,
     "metadata": {},
     "output_type": "execute_result"
    }
   ],
   "source": [
    "details_df.collect_schema()"
   ]
  },
  {
   "cell_type": "code",
   "execution_count": 7,
   "id": "b8b30d41-c5a6-44a0-bcdb-e506c0928500",
   "metadata": {},
   "outputs": [
    {
     "data": {
      "text/html": [
       "<div><style>\n",
       ".dataframe > thead > tr,\n",
       ".dataframe > tbody > tr {\n",
       "  text-align: right;\n",
       "  white-space: pre-wrap;\n",
       "}\n",
       "</style>\n",
       "<small>shape: (4_638, 1)</small><table border=\"1\" class=\"dataframe\"><thead><tr><th>player_name</th></tr><tr><td>struct[2]</td></tr></thead><tbody><tr><td>{&quot;&amp;lt;Mealen&amp;gt;&lt;sp/&gt;Doombringer&quot;,3225}</td></tr><tr><td>{&quot;A.I. 2 (Elite)&quot;,3060}</td></tr><tr><td>{&quot;A.I. 3 (Elite)&quot;,3004}</td></tr><tr><td>{&quot;&amp;lt;chezs&amp;gt;&lt;sp/&gt;Sazed&quot;,2406}</td></tr><tr><td>{&quot;Sazed&quot;,1880}</td></tr><tr><td>{&quot;Cheater 2 (Insane)&quot;,968}</td></tr><tr><td>{&quot;Cheater 1 (Insane)&quot;,818}</td></tr><tr><td>{&quot;&amp;lt;ƖIıIƖ&amp;gt;&lt;sp/&gt;Sazed&quot;,744}</td></tr><tr><td>{&quot;Cheater 3 (Insane)&quot;,189}</td></tr><tr><td>{&quot;&amp;lt;Mealen&amp;gt;&lt;sp/&gt;Archimonde&quot;,186}</td></tr><tr><td>{&quot;llllllllllll&quot;,183}</td></tr><tr><td>{&quot;Scarlett&quot;,153}</td></tr><tr><td>&hellip;</td></tr><tr><td>{&quot;Sky&quot;,1}</td></tr><tr><td>{&quot;Yonray&quot;,1}</td></tr><tr><td>{&quot;DVlad&quot;,1}</td></tr><tr><td>{&quot;&amp;lt;ƤrG&amp;gt;&lt;sp/&gt;dochopper&quot;,1}</td></tr><tr><td>{&quot;msfan&quot;,1}</td></tr><tr><td>{&quot;danlia&quot;,1}</td></tr><tr><td>{&quot;Floy&quot;,1}</td></tr><tr><td>{&quot;NikBers&quot;,1}</td></tr><tr><td>{&quot;ÖnderSav&quot;,1}</td></tr><tr><td>{&quot;&amp;lt;TVD&amp;gt;&lt;sp/&gt;Tomstar&quot;,1}</td></tr><tr><td>{&quot;LiZaRdKiNg&quot;,1}</td></tr><tr><td>{&quot;&amp;lt;SZgg&amp;gt;&lt;sp/&gt;BabyMarine&quot;,1}</td></tr></tbody></table></div>"
      ],
      "text/plain": [
       "shape: (4_638, 1)\n",
       "┌─────────────────────────────────────────┐\n",
       "│ player_name                             │\n",
       "│ ---                                     │\n",
       "│ struct[2]                               │\n",
       "╞═════════════════════════════════════════╡\n",
       "│ {\"&lt;Mealen&gt;<sp/>Doombringer\",3225} │\n",
       "│ {\"A.I. 2 (Elite)\",3060}                 │\n",
       "│ {\"A.I. 3 (Elite)\",3004}                 │\n",
       "│ {\"&lt;chezs&gt;<sp/>Sazed\",2406}        │\n",
       "│ {\"Sazed\",1880}                          │\n",
       "│ {\"Cheater 2 (Insane)\",968}              │\n",
       "│ {\"Cheater 1 (Insane)\",818}              │\n",
       "│ {\"&lt;ƖIıIƖ&gt;<sp/>Sazed\",744}         │\n",
       "│ {\"Cheater 3 (Insane)\",189}              │\n",
       "│ {\"&lt;Mealen&gt;<sp/>Archimonde\",186}   │\n",
       "│ {\"llllllllllll\",183}                    │\n",
       "│ {\"Scarlett\",153}                        │\n",
       "│ …                                       │\n",
       "│ {\"Sky\",1}                               │\n",
       "│ {\"Yonray\",1}                            │\n",
       "│ {\"DVlad\",1}                             │\n",
       "│ {\"&lt;ƤrG&gt;<sp/>dochopper\",1}         │\n",
       "│ {\"msfan\",1}                             │\n",
       "│ {\"danlia\",1}                            │\n",
       "│ {\"Floy\",1}                              │\n",
       "│ {\"NikBers\",1}                           │\n",
       "│ {\"ÖnderSav\",1}                          │\n",
       "│ {\"&lt;TVD&gt;<sp/>Tomstar\",1}           │\n",
       "│ {\"LiZaRdKiNg\",1}                        │\n",
       "│ {\"&lt;SZgg&gt;<sp/>BabyMarine\",1}       │\n",
       "└─────────────────────────────────────────┘"
      ]
     },
     "execution_count": 7,
     "metadata": {},
     "output_type": "execute_result"
    }
   ],
   "source": [
    "details_df.select(pl.col(\"player_name\").value_counts(sort=True)).collect()\n",
    "# player_name contains the clan\n",
    "# player_race is Protoss, Terran, but also has hanzi (神族), korean? (테란) and strings like \"Primal Zerg\" or \"Terraner\" or \"\"\n",
    "# player_team_id is either 0 or 1\n",
    "# player_observe is always 0\n",
    "# player_result can be 1, 2,0 and 3\n",
    "#               1 and 2 are win,loss (not sure which is which). \n",
    "#               0 is probably undecided (or maybe teh status of observer?)\n",
    "#               3 is probably tie (there are only 50 games with this status in this 12K replay dataset.\n",
    "# player_working_set_slot_id null, 0..15\n",
    "#                            not the same as lobby_slot_init_data_df working_set_slot_id\n",
    "# player_hero always \"\"\n",
    "# title is the name of the map\n",
    "# is_blizzard_map seems filled\n",
    "# time_utc is that weird \"epoch\" after 2000 or something\n",
    "# time_local_offset is +- in millis (or nanos?)"
   ]
  },
  {
   "cell_type": "code",
   "execution_count": 8,
   "id": "9ed8fe9a-78f6-4787-8273-84c306874020",
   "metadata": {},
   "outputs": [
    {
     "data": {
      "text/html": [
       "<div><style>\n",
       ".dataframe > thead > tr,\n",
       ".dataframe > tbody > tr {\n",
       "  text-align: right;\n",
       "  white-space: pre-wrap;\n",
       "}\n",
       "</style>\n",
       "<small>shape: (2, 22)</small><table border=\"1\" class=\"dataframe\"><thead><tr><th>player_name</th><th>player_toon_region</th><th>player_toon_program_id</th><th>player_toon_realm</th><th>player_toon_id</th><th>player_race</th><th>player_color_a</th><th>player_color_r</th><th>player_color_g</th><th>player_color_b</th><th>player_control</th><th>player_team_id</th><th>player_observe</th><th>player_result</th><th>player_working_set_slot_id</th><th>player_hero</th><th>title</th><th>is_blizzard_map</th><th>time_utc</th><th>time_local_offset</th><th>ext_fs_id</th><th>ext_datetime</th></tr><tr><td>str</td><td>u8</td><td>u32</td><td>u32</td><td>u64</td><td>str</td><td>u8</td><td>u8</td><td>u8</td><td>u8</td><td>u8</td><td>u8</td><td>u8</td><td>u8</td><td>u8</td><td>str</td><td>str</td><td>bool</td><td>i64</td><td>i64</td><td>u64</td><td>datetime[ns]</td></tr></thead><tbody><tr><td>&quot;TYTY&quot;</td><td>3</td><td>21298</td><td>1</td><td>2341765</td><td>&quot;Terran&quot;</td><td>255</td><td>180</td><td>20</td><td>30</td><td>2</td><td>1</td><td>0</td><td>2</td><td>2</td><td>&quot;&quot;</td><td>&quot;[ESL] Royal Blood&quot;</td><td>false</td><td>133343197785450190</td><td>324000000000</td><td>18780</td><td>2023-07-20 00:42:58.545019</td></tr><tr><td>&quot;Dark&quot;</td><td>3</td><td>21298</td><td>1</td><td>2333312</td><td>&quot;Zerg&quot;</td><td>255</td><td>0</td><td>66</td><td>255</td><td>2</td><td>0</td><td>0</td><td>1</td><td>3</td><td>&quot;&quot;</td><td>&quot;[ESL] Royal Blood&quot;</td><td>false</td><td>133343197785450190</td><td>324000000000</td><td>18780</td><td>2023-07-20 00:42:58.545019</td></tr></tbody></table></div>"
      ],
      "text/plain": [
       "shape: (2, 22)\n",
       "┌─────────────┬────────────────────┬────────────────────────┬───────────────────┬───┬────────────────────┬───────────────────┬───────────┬────────────────────────────┐\n",
       "│ player_name ┆ player_toon_region ┆ player_toon_program_id ┆ player_toon_realm ┆ … ┆ time_utc           ┆ time_local_offset ┆ ext_fs_id ┆ ext_datetime               │\n",
       "│ ---         ┆ ---                ┆ ---                    ┆ ---               ┆   ┆ ---                ┆ ---               ┆ ---       ┆ ---                        │\n",
       "│ str         ┆ u8                 ┆ u32                    ┆ u32               ┆   ┆ i64                ┆ i64               ┆ u64       ┆ datetime[ns]               │\n",
       "╞═════════════╪════════════════════╪════════════════════════╪═══════════════════╪═══╪════════════════════╪═══════════════════╪═══════════╪════════════════════════════╡\n",
       "│ TYTY        ┆ 3                  ┆ 21298                  ┆ 1                 ┆ … ┆ 133343197785450190 ┆ 324000000000      ┆ 18780     ┆ 2023-07-20 00:42:58.545019 │\n",
       "│ Dark        ┆ 3                  ┆ 21298                  ┆ 1                 ┆ … ┆ 133343197785450190 ┆ 324000000000      ┆ 18780     ┆ 2023-07-20 00:42:58.545019 │\n",
       "└─────────────┴────────────────────┴────────────────────────┴───────────────────┴───┴────────────────────┴───────────────────┴───────────┴────────────────────────────┘"
      ]
     },
     "execution_count": 8,
     "metadata": {},
     "output_type": "execute_result"
    }
   ],
   "source": [
    "details_df.filter([pl.col(\"ext_fs_id\").eq(18780)]).collect()"
   ]
  },
  {
   "cell_type": "code",
   "execution_count": 9,
   "id": "6e430667-997c-4c60-b9d3-607de00260c9",
   "metadata": {},
   "outputs": [
    {
     "data": {
      "text/plain": [
       "Schema([('player_id', UInt8),\n",
       "        ('name', String),\n",
       "        ('count', Int32),\n",
       "        ('ext_replay_loop', Int64),\n",
       "        ('ext_replay_seconds', UInt32),\n",
       "        ('ext_fs_id', UInt64)])"
      ]
     },
     "execution_count": 9,
     "metadata": {},
     "output_type": "execute_result"
    }
   ],
   "source": [
    "upgrades_df.collect_schema()"
   ]
  },
  {
   "cell_type": "code",
   "execution_count": 10,
   "id": "50d1851c-6f17-450f-b9d8-8af2f571309c",
   "metadata": {},
   "outputs": [
    {
     "data": {
      "text/html": [
       "<div><style>\n",
       ".dataframe > thead > tr,\n",
       ".dataframe > tbody > tr {\n",
       "  text-align: right;\n",
       "  white-space: pre-wrap;\n",
       "}\n",
       "</style>\n",
       "<small>shape: (753, 1)</small><table border=\"1\" class=\"dataframe\"><thead><tr><th>name</th></tr><tr><td>struct[2]</td></tr></thead><tbody><tr><td>{&quot;SprayZerg&quot;,182513}</td></tr><tr><td>{&quot;SprayProtoss&quot;,83708}</td></tr><tr><td>{&quot;SprayTerran&quot;,78628}</td></tr><tr><td>{&quot;RewardDanceOverlord&quot;,15137}</td></tr><tr><td>{&quot;RewardDanceRoach&quot;,14789}</td></tr><tr><td>{&quot;RewardDanceInfestor&quot;,14196}</td></tr><tr><td>{&quot;zerglingmovementspeed&quot;,13069}</td></tr><tr><td>{&quot;RewardDanceMule&quot;,11240}</td></tr><tr><td>{&quot;RewardDanceStalker&quot;,10828}</td></tr><tr><td>{&quot;RewardDanceViking&quot;,10671}</td></tr><tr><td>{&quot;ZergMissileWeaponsLevel1&quot;,10391}</td></tr><tr><td>{&quot;RewardDanceOracle&quot;,10384}</td></tr><tr><td>&hellip;</td></tr><tr><td>{&quot;ProtossGroundArmorLevel2Starlight&quot;,1}</td></tr><tr><td>{&quot;TerranInfantryArmorLevel2Starlight&quot;,1}</td></tr><tr><td>{&quot;ZergGroundCarapaceLevel2Starlight&quot;,1}</td></tr><tr><td>{&quot;HornerArmorLevel2&quot;,1}</td></tr><tr><td>{&quot;StetmannGroundArmorsLevel2&quot;,1}</td></tr><tr><td>{&quot;ZealotResearchShadowStun&quot;,1}</td></tr><tr><td>{&quot;DehakaMurvarCreeperAir&quot;,1}</td></tr><tr><td>{&quot;DehakaMutaliskAirDoubleDamage&quot;,1}</td></tr><tr><td>{&quot;DehakaMutaliskDamageReduction&quot;,1}</td></tr><tr><td>{&quot;DehakaAirAttackUpgrade&quot;,1}</td></tr><tr><td>{&quot;DehakaMutaliskRespawnOnDeath&quot;,1}</td></tr><tr><td>{&quot;SeismicSpines&quot;,1}</td></tr></tbody></table></div>"
      ],
      "text/plain": [
       "shape: (753, 1)\n",
       "┌──────────────────────────────────────────┐\n",
       "│ name                                     │\n",
       "│ ---                                      │\n",
       "│ struct[2]                                │\n",
       "╞══════════════════════════════════════════╡\n",
       "│ {\"SprayZerg\",182513}                     │\n",
       "│ {\"SprayProtoss\",83708}                   │\n",
       "│ {\"SprayTerran\",78628}                    │\n",
       "│ {\"RewardDanceOverlord\",15137}            │\n",
       "│ {\"RewardDanceRoach\",14789}               │\n",
       "│ {\"RewardDanceInfestor\",14196}            │\n",
       "│ {\"zerglingmovementspeed\",13069}          │\n",
       "│ {\"RewardDanceMule\",11240}                │\n",
       "│ {\"RewardDanceStalker\",10828}             │\n",
       "│ {\"RewardDanceViking\",10671}              │\n",
       "│ {\"ZergMissileWeaponsLevel1\",10391}       │\n",
       "│ {\"RewardDanceOracle\",10384}              │\n",
       "│ …                                        │\n",
       "│ {\"ProtossGroundArmorLevel2Starlight\",1}  │\n",
       "│ {\"TerranInfantryArmorLevel2Starlight\",1} │\n",
       "│ {\"ZergGroundCarapaceLevel2Starlight\",1}  │\n",
       "│ {\"HornerArmorLevel2\",1}                  │\n",
       "│ {\"StetmannGroundArmorsLevel2\",1}         │\n",
       "│ {\"ZealotResearchShadowStun\",1}           │\n",
       "│ {\"DehakaMurvarCreeperAir\",1}             │\n",
       "│ {\"DehakaMutaliskAirDoubleDamage\",1}      │\n",
       "│ {\"DehakaMutaliskDamageReduction\",1}      │\n",
       "│ {\"DehakaAirAttackUpgrade\",1}             │\n",
       "│ {\"DehakaMutaliskRespawnOnDeath\",1}       │\n",
       "│ {\"SeismicSpines\",1}                      │\n",
       "└──────────────────────────────────────────┘"
      ]
     },
     "execution_count": 10,
     "metadata": {},
     "output_type": "execute_result"
    }
   ],
   "source": [
    "upgrades_df.select(pl.col(\"name\").value_counts(sort=True)).collect()\n",
    "# player_id is 0..15\n",
    "#             0 is only 20 occurrences and it's from campaign\n",
    "#             From 1 it's actual players.\n",
    "# name: the name of the upgrade"
   ]
  },
  {
   "cell_type": "code",
   "execution_count": 11,
   "id": "6790a456-f024-486e-80b5-bec6ed51b231",
   "metadata": {},
   "outputs": [
    {
     "data": {
      "text/plain": [
       "Schema([('player_id', UInt8),\n",
       "        ('minerals_current', Int32),\n",
       "        ('vespene_current', Int32),\n",
       "        ('minerals_collection_rate', Int32),\n",
       "        ('vespene_collection_rate', Int32),\n",
       "        ('workers_active_count', Int32),\n",
       "        ('minerals_used_in_progress_army', Int32),\n",
       "        ('minerals_used_in_progress_economy', Int32),\n",
       "        ('minerals_used_in_progress_technology', Int32),\n",
       "        ('vespene_used_in_progress_army', Int32),\n",
       "        ('vespene_used_in_progress_economy', Int32),\n",
       "        ('vespene_used_in_progress_technology', Int32),\n",
       "        ('minerals_used_current_army', Int32),\n",
       "        ('minerals_used_current_economy', Int32),\n",
       "        ('minerals_used_current_technology', Int32),\n",
       "        ('vespene_used_current_army', Int32),\n",
       "        ('vespene_used_current_economy', Int32),\n",
       "        ('vespene_used_current_technology', Int32),\n",
       "        ('minerals_lost_army', Int32),\n",
       "        ('minerals_lost_economy', Int32),\n",
       "        ('minerals_lost_technology', Int32),\n",
       "        ('vespene_lost_army', Int32),\n",
       "        ('vespene_lost_economy', Int32),\n",
       "        ('vespene_lost_technology', Int32),\n",
       "        ('minerals_killed_army', Int32),\n",
       "        ('minerals_killed_economy', Int32),\n",
       "        ('minerals_killed_technology', Int32),\n",
       "        ('vespene_killed_army', Int32),\n",
       "        ('vespene_killed_economy', Int32),\n",
       "        ('vespene_killed_technology', Int32),\n",
       "        ('food_used', Int32),\n",
       "        ('food_made', Int32),\n",
       "        ('minerals_used_active_forces', Int32),\n",
       "        ('vespene_used_active_forces', Int32),\n",
       "        ('minerals_friendly_fire_army', Int32),\n",
       "        ('minerals_friendly_fire_economy', Int32),\n",
       "        ('minerals_friendly_fire_technology', Int32),\n",
       "        ('vespene_friendly_fire_army', Int32),\n",
       "        ('vespene_friendly_fire_economy', Int32),\n",
       "        ('vespene_friendly_fire_technology', Int32),\n",
       "        ('ext_replay_loop', Int64),\n",
       "        ('ext_replay_seconds', UInt32),\n",
       "        ('ext_fs_id', UInt64)])"
      ]
     },
     "execution_count": 11,
     "metadata": {},
     "output_type": "execute_result"
    }
   ],
   "source": [
    "stats_df.collect_schema()"
   ]
  },
  {
   "cell_type": "code",
   "execution_count": 41,
   "id": "a5dc9d39-dbed-42a3-8708-f3a1e4a396db",
   "metadata": {},
   "outputs": [
    {
     "data": {
      "text/html": [
       "<div><style>\n",
       ".dataframe > thead > tr,\n",
       ".dataframe > tbody > tr {\n",
       "  text-align: right;\n",
       "  white-space: pre-wrap;\n",
       "}\n",
       "</style>\n",
       "<small>shape: (203, 1)</small><table border=\"1\" class=\"dataframe\"><thead><tr><th>minerals_used_in_progress_economy</th></tr><tr><td>struct[2]</td></tr></thead><tbody><tr><td>{0,1584516}</td></tr><tr><td>{100,396428}</td></tr><tr><td>{50,332799}</td></tr><tr><td>{150,319089}</td></tr><tr><td>{400,282838}</td></tr><tr><td>{350,229885}</td></tr><tr><td>{200,195525}</td></tr><tr><td>{450,182421}</td></tr><tr><td>{500,167061}</td></tr><tr><td>{550,100406}</td></tr><tr><td>{250,99358}</td></tr><tr><td>{300,79397}</td></tr><tr><td>&hellip;</td></tr><tr><td>{5100,1}</td></tr><tr><td>{5650,1}</td></tr><tr><td>{3125,1}</td></tr><tr><td>{2775,1}</td></tr><tr><td>{2675,1}</td></tr><tr><td>{2525,1}</td></tr><tr><td>{4900,1}</td></tr><tr><td>{2725,1}</td></tr><tr><td>{190,1}</td></tr><tr><td>{3325,1}</td></tr><tr><td>{3250,1}</td></tr><tr><td>{2575,1}</td></tr></tbody></table></div>"
      ],
      "text/plain": [
       "shape: (203, 1)\n",
       "┌───────────────────────────────────┐\n",
       "│ minerals_used_in_progress_economy │\n",
       "│ ---                               │\n",
       "│ struct[2]                         │\n",
       "╞═══════════════════════════════════╡\n",
       "│ {0,1584516}                       │\n",
       "│ {100,396428}                      │\n",
       "│ {50,332799}                       │\n",
       "│ {150,319089}                      │\n",
       "│ {400,282838}                      │\n",
       "│ {350,229885}                      │\n",
       "│ {200,195525}                      │\n",
       "│ {450,182421}                      │\n",
       "│ {500,167061}                      │\n",
       "│ {550,100406}                      │\n",
       "│ {250,99358}                       │\n",
       "│ {300,79397}                       │\n",
       "│ …                                 │\n",
       "│ {5100,1}                          │\n",
       "│ {5650,1}                          │\n",
       "│ {3125,1}                          │\n",
       "│ {2775,1}                          │\n",
       "│ {2675,1}                          │\n",
       "│ {2525,1}                          │\n",
       "│ {4900,1}                          │\n",
       "│ {2725,1}                          │\n",
       "│ {190,1}                           │\n",
       "│ {3325,1}                          │\n",
       "│ {3250,1}                          │\n",
       "│ {2575,1}                          │\n",
       "└───────────────────────────────────┘"
      ]
     },
     "execution_count": 41,
     "metadata": {},
     "output_type": "execute_result"
    }
   ],
   "source": [
    "stats_df.select(pl.col(\"minerals_used_in_progress_economy\").value_counts(sort=True)).collect()\n",
    "# player_id From 0..14, mostly 0 and 1, not sure which matches with working_set_slot_id\n",
    "# minerals_current self explanatory at a given ext_replay_loop for a specific user_id\n",
    "# vespene_current same as minerals_current\n",
    "# minerals_collection_rate unsure, seems to be from 0 to 14Ks, 1566 mean. maybe per minute?\n",
    "# vespene_collection_rate from 0 to 4Ks, 549 mean, as with minerals_collection_rate?\n",
    "# workers_active_count from 0 to 200 (oddly)\n",
    "# ------ Following fields are \"resource\" type:\n",
    "# ------ - Minerals\n",
    "# ------ - Vespene \n",
    "# ------ And for each resource, one stored field per \"bucket\"\n",
    "# ------ - Army\n",
    "# ------ - Economy\n",
    "# ------ - Technology\n",
    "# <resource>_used_in_progress_<bucket>\n",
    "# <resource>_used_current_<bucket>\n",
    "# <resource>_lost_<bucket>\n",
    "# <resource>_killed_<bucket>\n",
    "# <resource>_friendly_fire_<bucket>\n",
    "# ------ And then two more:\n",
    "# <resource>_used_active_forces"
   ]
  },
  {
   "cell_type": "code",
   "execution_count": 14,
   "id": "4d135918-33f4-4b19-b433-63dc1d4d82bf",
   "metadata": {},
   "outputs": [
    {
     "data": {
      "text/plain": [
       "Schema([('unit_tag_index', UInt32),\n",
       "        ('unit_tag_recycle', UInt32),\n",
       "        ('unit_type_name', String),\n",
       "        ('control_player_id', UInt8),\n",
       "        ('upkeep_player_id', UInt8),\n",
       "        ('x', Float32),\n",
       "        ('y', Float32),\n",
       "        ('creator_unit_tag_index', UInt32),\n",
       "        ('creator_unit_tag_recycle', UInt32),\n",
       "        ('creator_unit_type_name', String),\n",
       "        ('creator_ability_name', String),\n",
       "        ('ext_replay_loop', Int64),\n",
       "        ('ext_replay_seconds', UInt32),\n",
       "        ('ext_fs_id', UInt64)])"
      ]
     },
     "execution_count": 14,
     "metadata": {},
     "output_type": "execute_result"
    }
   ],
   "source": [
    "unit_born_df.collect_schema()"
   ]
  },
  {
   "cell_type": "code",
   "execution_count": 34,
   "id": "8b561aea-758b-4d73-ba69-830bf253babe",
   "metadata": {},
   "outputs": [
    {
     "data": {
      "text/html": [
       "<div><style>\n",
       ".dataframe > thead > tr,\n",
       ".dataframe > tbody > tr {\n",
       "  text-align: right;\n",
       "  white-space: pre-wrap;\n",
       "}\n",
       "</style>\n",
       "<small>shape: (219, 1)</small><table border=\"1\" class=\"dataframe\"><thead><tr><th>creator_unit_type_name</th></tr><tr><td>struct[2]</td></tr></thead><tbody><tr><td>{&quot;LurkerMPBurrowed&quot;,38080674}</td></tr><tr><td>{&quot;Egg&quot;,8223231}</td></tr><tr><td>{null,7697656}</td></tr><tr><td>{&quot;Larva&quot;,3724119}</td></tr><tr><td>{&quot;Hatchery&quot;,3247065}</td></tr><tr><td>{&quot;BroodLord&quot;,2691123}</td></tr><tr><td>{&quot;BroodlingEscort&quot;,1041326}</td></tr><tr><td>{&quot;Barracks&quot;,702789}</td></tr><tr><td>{&quot;Nexus&quot;,639436}</td></tr><tr><td>{&quot;Lair&quot;,542361}</td></tr><tr><td>{&quot;OrbitalCommand&quot;,500146}</td></tr><tr><td>{&quot;BanelingCocoon&quot;,479929}</td></tr><tr><td>&hellip;</td></tr><tr><td>{&quot;RavagerAbathur&quot;,1}</td></tr><tr><td>{&quot;HHCommandCenterFlying&quot;,1}</td></tr><tr><td>{&quot;HHWidowMine&quot;,1}</td></tr><tr><td>{&quot;HHRaven_SpawnerUnit&quot;,1}</td></tr><tr><td>{&quot;CoopCasterHorner&quot;,1}</td></tr><tr><td>{&quot;NovaGriffinBombingRunTargeter&quot;,1}</td></tr><tr><td>{&quot;ArchAngelCoopAssault&quot;,1}</td></tr><tr><td>{&quot;DestructibleGateStraightHorizontal&quot;,1}</td></tr><tr><td>{&quot;DehakaHatcheryUprooted&quot;,1}</td></tr><tr><td>{&quot;DehakaNydusDestroyer&quot;,1}</td></tr><tr><td>{&quot;DehakaNydusDestroyerTimedNoFood&quot;,1}</td></tr><tr><td>{&quot;MineralFieldProtoss&quot;,1}</td></tr></tbody></table></div>"
      ],
      "text/plain": [
       "shape: (219, 1)\n",
       "┌──────────────────────────────────────────┐\n",
       "│ creator_unit_type_name                   │\n",
       "│ ---                                      │\n",
       "│ struct[2]                                │\n",
       "╞══════════════════════════════════════════╡\n",
       "│ {\"LurkerMPBurrowed\",38080674}            │\n",
       "│ {\"Egg\",8223231}                          │\n",
       "│ {null,7697656}                           │\n",
       "│ {\"Larva\",3724119}                        │\n",
       "│ {\"Hatchery\",3247065}                     │\n",
       "│ {\"BroodLord\",2691123}                    │\n",
       "│ {\"BroodlingEscort\",1041326}              │\n",
       "│ {\"Barracks\",702789}                      │\n",
       "│ {\"Nexus\",639436}                         │\n",
       "│ {\"Lair\",542361}                          │\n",
       "│ {\"OrbitalCommand\",500146}                │\n",
       "│ {\"BanelingCocoon\",479929}                │\n",
       "│ …                                        │\n",
       "│ {\"RavagerAbathur\",1}                     │\n",
       "│ {\"HHCommandCenterFlying\",1}              │\n",
       "│ {\"HHWidowMine\",1}                        │\n",
       "│ {\"HHRaven_SpawnerUnit\",1}                │\n",
       "│ {\"CoopCasterHorner\",1}                   │\n",
       "│ {\"NovaGriffinBombingRunTargeter\",1}      │\n",
       "│ {\"ArchAngelCoopAssault\",1}               │\n",
       "│ {\"DestructibleGateStraightHorizontal\",1} │\n",
       "│ {\"DehakaHatcheryUprooted\",1}             │\n",
       "│ {\"DehakaNydusDestroyer\",1}               │\n",
       "│ {\"DehakaNydusDestroyerTimedNoFood\",1}    │\n",
       "│ {\"MineralFieldProtoss\",1}                │\n",
       "└──────────────────────────────────────────┘"
      ]
     },
     "execution_count": 34,
     "metadata": {},
     "output_type": "execute_result"
    }
   ],
   "source": [
    "unit_born_df.select(pl.col(\"creator_unit_type_name\").value_counts(sort=True)).collect()\n",
    "# unit_tag_index and unit_tag_recycle = used to calculate the unique id of a unit\n",
    "# unit_type_name = name of unit drone, probe, mineralfield, etc.\n",
    "# control_player_id Either null or 0..15\n",
    "#                   When null (almost no instances in this data set) could be the campaign, stuff like K5Kerrigan\n",
    "#                   When 0 it's the system creating mineral fields, geysers, etc.\n",
    "#                   From 1..15 is the actual users playing.\n",
    "# upkeep_player_id  Either null or 0..15\n",
    "#                   As above, when 0, it's the system creating mineral fields, geysers, etc.\n",
    "#                   When 1..15 actual users playing\n",
    "# creator_ability_name Larva, Cocoons, OrbitalCommands, Barracks, Nexus, Lair, creating units."
   ]
  },
  {
   "cell_type": "code",
   "execution_count": 35,
   "id": "ddfcb1b7-d4ec-455e-b467-1d27a956ccdd",
   "metadata": {},
   "outputs": [
    {
     "data": {
      "text/plain": [
       "Schema([('unit_died_name', String),\n",
       "        ('unit_tag_index', UInt32),\n",
       "        ('unit_tag_recycle', UInt32),\n",
       "        ('killer_player_id', UInt8),\n",
       "        ('x', UInt8),\n",
       "        ('y', UInt8),\n",
       "        ('unit_killer_name', String),\n",
       "        ('killer_unit_tag_index', UInt32),\n",
       "        ('killer_unit_tag_recycle', UInt32),\n",
       "        ('ext_replay_loop', Int64),\n",
       "        ('ext_replay_seconds', UInt32),\n",
       "        ('ext_fs_id', UInt64)])"
      ]
     },
     "execution_count": 35,
     "metadata": {},
     "output_type": "execute_result"
    }
   ],
   "source": [
    "unit_died_df.collect_schema()"
   ]
  },
  {
   "cell_type": "code",
   "execution_count": 37,
   "id": "29c8e38f-c586-4871-934d-03c60d1bf46c",
   "metadata": {},
   "outputs": [
    {
     "data": {
      "text/html": [
       "<div><style>\n",
       ".dataframe > thead > tr,\n",
       ".dataframe > tbody > tr {\n",
       "  text-align: right;\n",
       "  white-space: pre-wrap;\n",
       "}\n",
       "</style>\n",
       "<small>shape: (195, 1)</small><table border=\"1\" class=\"dataframe\"><thead><tr><th>unit_killer_name</th></tr><tr><td>struct[2]</td></tr></thead><tbody><tr><td>{&quot;LurkerMPBurrowed&quot;,38470078}</td></tr><tr><td>{&quot;&quot;,9756594}</td></tr><tr><td>{&quot;Zergling&quot;,557942}</td></tr><tr><td>{&quot;Marine&quot;,499037}</td></tr><tr><td>{&quot;Hydralisk&quot;,433068}</td></tr><tr><td>{&quot;SiegeTankSieged&quot;,414316}</td></tr><tr><td>{&quot;Stalker&quot;,405371}</td></tr><tr><td>{&quot;Roach&quot;,399433}</td></tr><tr><td>{&quot;Zealot&quot;,292009}</td></tr><tr><td>{&quot;BroodlingEscort&quot;,255052}</td></tr><tr><td>{&quot;Immortal&quot;,234818}</td></tr><tr><td>{&quot;Adept&quot;,227018}</td></tr><tr><td>&hellip;</td></tr><tr><td>{&quot;ArchAngelCoopAssault&quot;,2}</td></tr><tr><td>{&quot;CollapsibleRockTowerDebrisRampLeftGreen&quot;,1}</td></tr><tr><td>{&quot;BanelingBurrowed&quot;,1}</td></tr><tr><td>{&quot;InfestedTerranCampaign&quot;,1}</td></tr><tr><td>{&quot;DehakaRoachLevel2&quot;,1}</td></tr><tr><td>{&quot;Firebat&quot;,1}</td></tr><tr><td>{&quot;QueenBurrowed&quot;,1}</td></tr><tr><td>{&quot;PitAlarak&quot;,1}</td></tr><tr><td>{&quot;HHD8CenterCluster&quot;,1}</td></tr><tr><td>{&quot;HHBomberPlatform&quot;,1}</td></tr><tr><td>{&quot;ObjectivePhotonCannon&quot;,1}</td></tr><tr><td>{&quot;MissileTurretMengsk&quot;,1}</td></tr></tbody></table></div>"
      ],
      "text/plain": [
       "shape: (195, 1)\n",
       "┌───────────────────────────────────────────────┐\n",
       "│ unit_killer_name                              │\n",
       "│ ---                                           │\n",
       "│ struct[2]                                     │\n",
       "╞═══════════════════════════════════════════════╡\n",
       "│ {\"LurkerMPBurrowed\",38470078}                 │\n",
       "│ {\"\",9756594}                                  │\n",
       "│ {\"Zergling\",557942}                           │\n",
       "│ {\"Marine\",499037}                             │\n",
       "│ {\"Hydralisk\",433068}                          │\n",
       "│ {\"SiegeTankSieged\",414316}                    │\n",
       "│ {\"Stalker\",405371}                            │\n",
       "│ {\"Roach\",399433}                              │\n",
       "│ {\"Zealot\",292009}                             │\n",
       "│ {\"BroodlingEscort\",255052}                    │\n",
       "│ {\"Immortal\",234818}                           │\n",
       "│ {\"Adept\",227018}                              │\n",
       "│ …                                             │\n",
       "│ {\"ArchAngelCoopAssault\",2}                    │\n",
       "│ {\"CollapsibleRockTowerDebrisRampLeftGreen\",1} │\n",
       "│ {\"BanelingBurrowed\",1}                        │\n",
       "│ {\"InfestedTerranCampaign\",1}                  │\n",
       "│ {\"DehakaRoachLevel2\",1}                       │\n",
       "│ {\"Firebat\",1}                                 │\n",
       "│ {\"QueenBurrowed\",1}                           │\n",
       "│ {\"PitAlarak\",1}                               │\n",
       "│ {\"HHD8CenterCluster\",1}                       │\n",
       "│ {\"HHBomberPlatform\",1}                        │\n",
       "│ {\"ObjectivePhotonCannon\",1}                   │\n",
       "│ {\"MissileTurretMengsk\",1}                     │\n",
       "└───────────────────────────────────────────────┘"
      ]
     },
     "execution_count": 37,
     "metadata": {},
     "output_type": "execute_result"
    }
   ],
   "source": [
    "unit_died_df.select(pl.col(\"unit_killer_name\").value_counts(sort=True)).collect()\n",
    "# unit_died_name name of units dying.\n",
    "#                Most unit names are InvisibleTargetDummy.\n",
    "#                It seems when lurker or units A-move, a temporary target_dummy is created at that location and when the unit \"attacks\" it.\n",
    "#                Q Are tank shots on InvisibleTargetDummy? There's splash radius/damage somewhere maybe?\n",
    "# unit_killer_name the killer unit if found."
   ]
  },
  {
   "cell_type": "code",
   "execution_count": 42,
   "id": "3d8a3593-b6b0-46a6-8285-c1dbc6b847c4",
   "metadata": {},
   "outputs": [
    {
     "data": {
      "text/plain": [
       "Schema([('ext_fs_id', UInt64),\n",
       "        ('ext_fs_sha256', String),\n",
       "        ('ext_fs_file_name', String),\n",
       "        ('name', String),\n",
       "        ('clan_tag', String),\n",
       "        ('scaled_rating', Int32)])"
      ]
     },
     "execution_count": 42,
     "metadata": {},
     "output_type": "execute_result"
    }
   ],
   "source": [
    "user_init_data_df.collect_schema()"
   ]
  },
  {
   "cell_type": "code",
   "execution_count": 49,
   "id": "9a922313-9190-4b91-b85e-52950b3c5262",
   "metadata": {},
   "outputs": [
    {
     "data": {
      "text/html": [
       "<div><style>\n",
       ".dataframe > thead > tr,\n",
       ".dataframe > tbody > tr {\n",
       "  text-align: right;\n",
       "  white-space: pre-wrap;\n",
       "}\n",
       "</style>\n",
       "<small>shape: (1_413, 1)</small><table border=\"1\" class=\"dataframe\"><thead><tr><th>scaled_rating</th></tr><tr><td>struct[2]</td></tr></thead><tbody><tr><td>{null,178724}</td></tr><tr><td>{-36400,6221}</td></tr><tr><td>{3600,246}</td></tr><tr><td>{2800,45}</td></tr><tr><td>{3882,31}</td></tr><tr><td>{3876,26}</td></tr><tr><td>{3880,25}</td></tr><tr><td>{3852,25}</td></tr><tr><td>{3910,25}</td></tr><tr><td>{3859,25}</td></tr><tr><td>{3904,24}</td></tr><tr><td>{3816,24}</td></tr><tr><td>&hellip;</td></tr><tr><td>{2935,1}</td></tr><tr><td>{2716,1}</td></tr><tr><td>{2776,1}</td></tr><tr><td>{2994,1}</td></tr><tr><td>{2774,1}</td></tr><tr><td>{3134,1}</td></tr><tr><td>{3074,1}</td></tr><tr><td>{3417,1}</td></tr><tr><td>{3083,1}</td></tr><tr><td>{2611,1}</td></tr><tr><td>{2609,1}</td></tr><tr><td>{2708,1}</td></tr></tbody></table></div>"
      ],
      "text/plain": [
       "shape: (1_413, 1)\n",
       "┌───────────────┐\n",
       "│ scaled_rating │\n",
       "│ ---           │\n",
       "│ struct[2]     │\n",
       "╞═══════════════╡\n",
       "│ {null,178724} │\n",
       "│ {-36400,6221} │\n",
       "│ {3600,246}    │\n",
       "│ {2800,45}     │\n",
       "│ {3882,31}     │\n",
       "│ {3876,26}     │\n",
       "│ {3880,25}     │\n",
       "│ {3852,25}     │\n",
       "│ {3910,25}     │\n",
       "│ {3859,25}     │\n",
       "│ {3904,24}     │\n",
       "│ {3816,24}     │\n",
       "│ …             │\n",
       "│ {2935,1}      │\n",
       "│ {2716,1}      │\n",
       "│ {2776,1}      │\n",
       "│ {2994,1}      │\n",
       "│ {2774,1}      │\n",
       "│ {3134,1}      │\n",
       "│ {3074,1}      │\n",
       "│ {3417,1}      │\n",
       "│ {3083,1}      │\n",
       "│ {2611,1}      │\n",
       "│ {2609,1}      │\n",
       "│ {2708,1}      │\n",
       "└───────────────┘"
      ]
     },
     "execution_count": 49,
     "metadata": {},
     "output_type": "execute_result"
    }
   ],
   "source": [
    "user_init_data_df.select(pl.col(\"scaled_rating\").value_counts(sort=True)).collect()\n",
    "# Name: The name of the player\n",
    "# clan_tag: The name of the clan\n",
    "# scaled rating, can be null (178K occurrences) or negative (-36400?!?!) or seems like MMR"
   ]
  },
  {
   "cell_type": "code",
   "execution_count": 50,
   "id": "b0c98075-a67e-4c66-aba5-77bac2ff84f2",
   "metadata": {},
   "outputs": [
    {
     "data": {
      "text/plain": [
       "Schema([('ext_fs_id', UInt64),\n",
       "        ('ext_fs_sha256', String),\n",
       "        ('ext_fs_file_name', String),\n",
       "        ('control', Int64),\n",
       "        ('user_id', Int64),\n",
       "        ('team_id', Int64),\n",
       "        ('observe', UInt8),\n",
       "        ('working_set_slot_id', UInt8),\n",
       "        ('map_size_x', UInt8),\n",
       "        ('map_size_y', UInt8)])"
      ]
     },
     "execution_count": 50,
     "metadata": {},
     "output_type": "execute_result"
    }
   ],
   "source": [
    "lobby_slot_init_data_df.collect_schema()"
   ]
  },
  {
   "cell_type": "code",
   "execution_count": 52,
   "id": "cd448b53-df9c-485a-9969-0b464bbcb295",
   "metadata": {},
   "outputs": [
    {
     "data": {
      "text/html": [
       "<div><style>\n",
       ".dataframe > thead > tr,\n",
       ".dataframe > tbody > tr {\n",
       "  text-align: right;\n",
       "  white-space: pre-wrap;\n",
       "}\n",
       "</style>\n",
       "<small>shape: (16, 1)</small><table border=\"1\" class=\"dataframe\"><thead><tr><th>user_id</th></tr><tr><td>struct[2]</td></tr></thead><tbody><tr><td>{null,155728}</td></tr><tr><td>{0,12059}</td></tr><tr><td>{1,10938}</td></tr><tr><td>{2,3422}</td></tr><tr><td>{3,3033}</td></tr><tr><td>{4,2220}</td></tr><tr><td>{5,1637}</td></tr><tr><td>{6,1300}</td></tr><tr><td>{7,519}</td></tr><tr><td>{8,389}</td></tr><tr><td>{9,248}</td></tr><tr><td>{10,103}</td></tr><tr><td>{11,28}</td></tr><tr><td>{12,24}</td></tr><tr><td>{13,10}</td></tr><tr><td>{14,4}</td></tr></tbody></table></div>"
      ],
      "text/plain": [
       "shape: (16, 1)\n",
       "┌───────────────┐\n",
       "│ user_id       │\n",
       "│ ---           │\n",
       "│ struct[2]     │\n",
       "╞═══════════════╡\n",
       "│ {null,155728} │\n",
       "│ {0,12059}     │\n",
       "│ {1,10938}     │\n",
       "│ {2,3422}      │\n",
       "│ {3,3033}      │\n",
       "│ {4,2220}      │\n",
       "│ {5,1637}      │\n",
       "│ {6,1300}      │\n",
       "│ {7,519}       │\n",
       "│ {8,389}       │\n",
       "│ {9,248}       │\n",
       "│ {10,103}      │\n",
       "│ {11,28}       │\n",
       "│ {12,24}       │\n",
       "│ {13,10}       │\n",
       "│ {14,4}        │\n",
       "└───────────────┘"
      ]
     },
     "execution_count": 52,
     "metadata": {},
     "output_type": "execute_result"
    }
   ],
   "source": [
    "lobby_slot_init_data_df.select(pl.col(\"user_id\").value_counts(sort=True)).collect()\n",
    "# control has values 0,1,2,3, most are 1: 89Ks occurrences and the next is 0 with 57K occurrences\n",
    "# "
   ]
  },
  {
   "cell_type": "code",
   "execution_count": null,
   "id": "247ca3b6-4ec2-40f2-9986-10092ffdf2ea",
   "metadata": {},
   "outputs": [],
   "source": []
  }
 ],
 "metadata": {
  "kernelspec": {
   "display_name": "Python 3 (ipykernel)",
   "language": "python",
   "name": "python3"
  },
  "language_info": {
   "codemirror_mode": {
    "name": "ipython",
    "version": 3
   },
   "file_extension": ".py",
   "mimetype": "text/x-python",
   "name": "python",
   "nbconvert_exporter": "python",
   "pygments_lexer": "ipython3",
   "version": "3.13.5"
  }
 },
 "nbformat": 4,
 "nbformat_minor": 5
}
