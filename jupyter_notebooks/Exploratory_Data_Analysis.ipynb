{
 "cells": [
  {
   "cell_type": "markdown",
   "id": "bb2f5d25-734f-45ab-9371-dc277e85f3ee",
   "metadata": {},
   "source": [
    "# Generate the files\n",
    "\n",
    "## Requirements\n",
    "\n",
    "[rustup](https://rustup.rs/)\n",
    "[python3](https://www.python.org/downloads/)\n",
    "\n",
    "Maybe virtual env?\n",
    "\n",
    "## Step by Step\n",
    "We need to locate the directory where the replays are, in my case I dual-boot and mount windows to `/mnt/windows`\n",
    "\n",
    "The final step takes around 32 seconds to process 3600 Replay files. This means about 110 replays per-second on a 16 Core machine.\n",
    "```bash\n",
    "$ git clone https://github.com/sebosp/s2protocol-rs\n",
    "$ cd s2protocol-rs\n",
    "$ mkdir ipcs/\n",
    "$ cargo run --features arrow,syntax -r -- -v error --timing --source /home/seb/SCReplaysOnNVMe --output /home/seb/git/s2protocol-rs/ipcs/ write-arrow-ipc --process-max-files 10000000\n",
    "36752 files have valid init data, processing...\n",
    "Total time: 234.08368818s\n",
    "$ du -sh ipcs/*\n",
    "1.8G    ipcs/cmd_target_point.ipc\n",
    "750M    ipcs/cmd_target_unit.ipc\n",
    "9.7M    ipcs/details.ipc\n",
    "112M    ipcs/lobby_init_data.ipc\n",
    "2.1G    ipcs/stats.ipc\n",
    "9.3G    ipcs/unit_born.ipc\n",
    "5.5G    ipcs/unit_died.ipc\n",
    "172M    ipcs/upgrades.ipc\n",
    "36M     ipcs/user_init_data.ipc\n",
    "$ cd ../s2-polars-data-analysis/\n",
    "$ pip install -r requirements.txt\n",
    "$ jupyter lab --notebook-dir=jupyter_notebooks/\n",
    "# Open the URL explained in the terminal, this will open this notebook for interacting with the data.\n",
    "```\n"
   ]
  },
  {
   "cell_type": "code",
   "execution_count": 43,
   "id": "85a3b87b-e834-4ab7-99d3-8a192c6154a8",
   "metadata": {},
   "outputs": [
    {
     "data": {
      "text/html": [
       "<div><style>\n",
       ".dataframe > thead > tr,\n",
       ".dataframe > tbody > tr {\n",
       "  text-align: right;\n",
       "  white-space: pre-wrap;\n",
       "}\n",
       "</style>\n",
       "<small>shape: (14, 10)</small><table border=\"1\" class=\"dataframe\"><thead><tr><th>ext_fs_id</th><th>ext_fs_sha256</th><th>ext_fs_file_name</th><th>control</th><th>user_id</th><th>team_id</th><th>observe</th><th>working_set_slot_id</th><th>map_size_x</th><th>map_size_y</th></tr><tr><td>u64</td><td>str</td><td>str</td><td>i64</td><td>i64</td><td>i64</td><td>u8</td><td>u8</td><td>u8</td><td>u8</td></tr></thead><tbody><tr><td>16590</td><td>&quot;035622859a854c30852e566a11e0600aa1041fc7b327254146e04469362a4786&quot;</td><td>&quot;/home/seb/SCReplaysOnNVMe/2025EWCReplayPack/3 - Playoffs/8 - Grand Finals - Serral vs Classic/20250725 - Game3 - Classic vs Serral - Ultralove.SC2Replay&quot;</td><td>2</td><td>2</td><td>1</td><td>0</td><td>11</td><td>184</td><td>184</td></tr><tr><td>16590</td><td>&quot;035622859a854c30852e566a11e0600aa1041fc7b327254146e04469362a4786&quot;</td><td>&quot;/home/seb/SCReplaysOnNVMe/2025EWCReplayPack/3 - Playoffs/8 - Grand Finals - Serral vs Classic/20250725 - Game3 - Classic vs Serral - Ultralove.SC2Replay&quot;</td><td>2</td><td>3</td><td>0</td><td>0</td><td>12</td><td>184</td><td>184</td></tr><tr><td>16591</td><td>&quot;e79a9db4ae3fea38c557cb798e8bd712220f4517b37b3cf51cc5f12e5114af64&quot;</td><td>&quot;/home/seb/SCReplaysOnNVMe/2025EWCReplayPack/3 - Playoffs/8 - Grand Finals - Serral vs Classic/20250725 - Game4 - Classic vs Serral - Pylon.SC2Replay&quot;</td><td>2</td><td>2</td><td>0</td><td>0</td><td>11</td><td>248</td><td>250</td></tr><tr><td>16591</td><td>&quot;e79a9db4ae3fea38c557cb798e8bd712220f4517b37b3cf51cc5f12e5114af64&quot;</td><td>&quot;/home/seb/SCReplaysOnNVMe/2025EWCReplayPack/3 - Playoffs/8 - Grand Finals - Serral vs Classic/20250725 - Game4 - Classic vs Serral - Pylon.SC2Replay&quot;</td><td>2</td><td>5</td><td>1</td><td>0</td><td>14</td><td>248</td><td>250</td></tr><tr><td>16592</td><td>&quot;99239a9156f3d0102c5f938c04e9a5ab4b9b1733d67dd12335749b18a79d9907&quot;</td><td>&quot;/home/seb/SCReplaysOnNVMe/2025EWCReplayPack/3 - Playoffs/8 - Grand Finals - Serral vs Classic/20250725 - Game6 - Classic vs Serral - Torches.SC2Replay&quot;</td><td>2</td><td>2</td><td>1</td><td>0</td><td>11</td><td>160</td><td>210</td></tr><tr><td>16592</td><td>&quot;99239a9156f3d0102c5f938c04e9a5ab4b9b1733d67dd12335749b18a79d9907&quot;</td><td>&quot;/home/seb/SCReplaysOnNVMe/2025EWCReplayPack/3 - Playoffs/8 - Grand Finals - Serral vs Classic/20250725 - Game6 - Classic vs Serral - Torches.SC2Replay&quot;</td><td>2</td><td>3</td><td>0</td><td>0</td><td>12</td><td>160</td><td>210</td></tr><tr><td>16593</td><td>&quot;4d15cf43425b9bdb78770dbce0daaa7f03e3d987f565cb783ba42a044ffca789&quot;</td><td>&quot;/home/seb/SCReplaysOnNVMe/2025EWCReplayPack/3 - Playoffs/8 - Grand Finals - Serral vs Classic/20250725 - Game7 - Classic vs Serral - Magannatha.SC2Replay&quot;</td><td>2</td><td>4</td><td>0</td><td>0</td><td>13</td><td>168</td><td>170</td></tr><tr><td>16593</td><td>&quot;4d15cf43425b9bdb78770dbce0daaa7f03e3d987f565cb783ba42a044ffca789&quot;</td><td>&quot;/home/seb/SCReplaysOnNVMe/2025EWCReplayPack/3 - Playoffs/8 - Grand Finals - Serral vs Classic/20250725 - Game7 - Classic vs Serral - Magannatha.SC2Replay&quot;</td><td>2</td><td>5</td><td>1</td><td>0</td><td>14</td><td>168</td><td>170</td></tr><tr><td>16594</td><td>&quot;3f32defc30edd6fd9275ca96dfa5b5a3a2c3b8697c6540e865e2ef595c0265a3&quot;</td><td>&quot;/home/seb/SCReplaysOnNVMe/2025EWCReplayPack/3 - Playoffs/8 - Grand Finals - Serral vs Classic/20250725 - Game1 - Classic vs Serral - Persephone.SC2Replay&quot;</td><td>2</td><td>2</td><td>0</td><td>0</td><td>2</td><td>160</td><td>184</td></tr><tr><td>16594</td><td>&quot;3f32defc30edd6fd9275ca96dfa5b5a3a2c3b8697c6540e865e2ef595c0265a3&quot;</td><td>&quot;/home/seb/SCReplaysOnNVMe/2025EWCReplayPack/3 - Playoffs/8 - Grand Finals - Serral vs Classic/20250725 - Game1 - Classic vs Serral - Persephone.SC2Replay&quot;</td><td>2</td><td>3</td><td>1</td><td>0</td><td>12</td><td>160</td><td>184</td></tr><tr><td>16595</td><td>&quot;1e119307f43ba860f9ce11da3181e33545f6fa9a6937c812686079dda8ce4612&quot;</td><td>&quot;/home/seb/SCReplaysOnNVMe/2025EWCReplayPack/3 - Playoffs/8 - Grand Finals - Serral vs Classic/20250725 - Game5 - Classic vs Serral - Ley Lines.SC2Replay&quot;</td><td>2</td><td>2</td><td>0</td><td>0</td><td>11</td><td>200</td><td>184</td></tr><tr><td>16595</td><td>&quot;1e119307f43ba860f9ce11da3181e33545f6fa9a6937c812686079dda8ce4612&quot;</td><td>&quot;/home/seb/SCReplaysOnNVMe/2025EWCReplayPack/3 - Playoffs/8 - Grand Finals - Serral vs Classic/20250725 - Game5 - Classic vs Serral - Ley Lines.SC2Replay&quot;</td><td>2</td><td>4</td><td>1</td><td>0</td><td>13</td><td>200</td><td>184</td></tr><tr><td>16596</td><td>&quot;e957b2e33ba3ba20ec12f3beb1254a5a9d716ef747c2d7322b59347bb3e89d44&quot;</td><td>&quot;/home/seb/SCReplaysOnNVMe/2025EWCReplayPack/3 - Playoffs/8 - Grand Finals - Serral vs Classic/20250725 - Game2 - Classic vs Serral - Incorporeal.SC2Replay&quot;</td><td>2</td><td>2</td><td>0</td><td>0</td><td>11</td><td>152</td><td>178</td></tr><tr><td>16596</td><td>&quot;e957b2e33ba3ba20ec12f3beb1254a5a9d716ef747c2d7322b59347bb3e89d44&quot;</td><td>&quot;/home/seb/SCReplaysOnNVMe/2025EWCReplayPack/3 - Playoffs/8 - Grand Finals - Serral vs Classic/20250725 - Game2 - Classic vs Serral - Incorporeal.SC2Replay&quot;</td><td>2</td><td>3</td><td>1</td><td>0</td><td>12</td><td>152</td><td>178</td></tr></tbody></table></div>"
      ],
      "text/plain": [
       "shape: (14, 10)\n",
       "┌───────────┬──────────────────────────────────────────────────────────────────┬───────────────────────────────────────────────────────────────────────────────────────┬─────────┬───┬─────────┬─────────────────────┬────────────┬────────────┐\n",
       "│ ext_fs_id ┆ ext_fs_sha256                                                    ┆ ext_fs_file_name                                                                      ┆ control ┆ … ┆ observe ┆ working_set_slot_id ┆ map_size_x ┆ map_size_y │\n",
       "│ ---       ┆ ---                                                              ┆ ---                                                                                   ┆ ---     ┆   ┆ ---     ┆ ---                 ┆ ---        ┆ ---        │\n",
       "│ u64       ┆ str                                                              ┆ str                                                                                   ┆ i64     ┆   ┆ u8      ┆ u8                  ┆ u8         ┆ u8         │\n",
       "╞═══════════╪══════════════════════════════════════════════════════════════════╪═══════════════════════════════════════════════════════════════════════════════════════╪═════════╪═══╪═════════╪═════════════════════╪════════════╪════════════╡\n",
       "│ 16590     ┆ 035622859a854c30852e566a11e0600aa1041fc7b327254146e04469362a4786 ┆ /home/seb/SCReplaysOnNVMe/2025EWCReplayPack/3 - Playoffs/8 - Grand Finals - Serral vs ┆ 2       ┆ … ┆ 0       ┆ 11                  ┆ 184        ┆ 184        │\n",
       "│           ┆                                                                  ┆ Classic/20250725 - Game3 - Classic vs Serral - Ultralove.SC2Replay                    ┆         ┆   ┆         ┆                     ┆            ┆            │\n",
       "│ 16590     ┆ 035622859a854c30852e566a11e0600aa1041fc7b327254146e04469362a4786 ┆ /home/seb/SCReplaysOnNVMe/2025EWCReplayPack/3 - Playoffs/8 - Grand Finals - Serral vs ┆ 2       ┆ … ┆ 0       ┆ 12                  ┆ 184        ┆ 184        │\n",
       "│           ┆                                                                  ┆ Classic/20250725 - Game3 - Classic vs Serral - Ultralove.SC2Replay                    ┆         ┆   ┆         ┆                     ┆            ┆            │\n",
       "│ 16591     ┆ e79a9db4ae3fea38c557cb798e8bd712220f4517b37b3cf51cc5f12e5114af64 ┆ /home/seb/SCReplaysOnNVMe/2025EWCReplayPack/3 - Playoffs/8 - Grand Finals - Serral vs ┆ 2       ┆ … ┆ 0       ┆ 11                  ┆ 248        ┆ 250        │\n",
       "│           ┆                                                                  ┆ Classic/20250725 - Game4 - Classic vs Serral - Pylon.SC2Replay                        ┆         ┆   ┆         ┆                     ┆            ┆            │\n",
       "│ 16591     ┆ e79a9db4ae3fea38c557cb798e8bd712220f4517b37b3cf51cc5f12e5114af64 ┆ /home/seb/SCReplaysOnNVMe/2025EWCReplayPack/3 - Playoffs/8 - Grand Finals - Serral vs ┆ 2       ┆ … ┆ 0       ┆ 14                  ┆ 248        ┆ 250        │\n",
       "│           ┆                                                                  ┆ Classic/20250725 - Game4 - Classic vs Serral - Pylon.SC2Replay                        ┆         ┆   ┆         ┆                     ┆            ┆            │\n",
       "│ 16592     ┆ 99239a9156f3d0102c5f938c04e9a5ab4b9b1733d67dd12335749b18a79d9907 ┆ /home/seb/SCReplaysOnNVMe/2025EWCReplayPack/3 - Playoffs/8 - Grand Finals - Serral vs ┆ 2       ┆ … ┆ 0       ┆ 11                  ┆ 160        ┆ 210        │\n",
       "│           ┆                                                                  ┆ Classic/20250725 - Game6 - Classic vs Serral - Torches.SC2Replay                      ┆         ┆   ┆         ┆                     ┆            ┆            │\n",
       "│ 16592     ┆ 99239a9156f3d0102c5f938c04e9a5ab4b9b1733d67dd12335749b18a79d9907 ┆ /home/seb/SCReplaysOnNVMe/2025EWCReplayPack/3 - Playoffs/8 - Grand Finals - Serral vs ┆ 2       ┆ … ┆ 0       ┆ 12                  ┆ 160        ┆ 210        │\n",
       "│           ┆                                                                  ┆ Classic/20250725 - Game6 - Classic vs Serral - Torches.SC2Replay                      ┆         ┆   ┆         ┆                     ┆            ┆            │\n",
       "│ 16593     ┆ 4d15cf43425b9bdb78770dbce0daaa7f03e3d987f565cb783ba42a044ffca789 ┆ /home/seb/SCReplaysOnNVMe/2025EWCReplayPack/3 - Playoffs/8 - Grand Finals - Serral vs ┆ 2       ┆ … ┆ 0       ┆ 13                  ┆ 168        ┆ 170        │\n",
       "│           ┆                                                                  ┆ Classic/20250725 - Game7 - Classic vs Serral - Magannatha.SC2Replay                   ┆         ┆   ┆         ┆                     ┆            ┆            │\n",
       "│ 16593     ┆ 4d15cf43425b9bdb78770dbce0daaa7f03e3d987f565cb783ba42a044ffca789 ┆ /home/seb/SCReplaysOnNVMe/2025EWCReplayPack/3 - Playoffs/8 - Grand Finals - Serral vs ┆ 2       ┆ … ┆ 0       ┆ 14                  ┆ 168        ┆ 170        │\n",
       "│           ┆                                                                  ┆ Classic/20250725 - Game7 - Classic vs Serral - Magannatha.SC2Replay                   ┆         ┆   ┆         ┆                     ┆            ┆            │\n",
       "│ 16594     ┆ 3f32defc30edd6fd9275ca96dfa5b5a3a2c3b8697c6540e865e2ef595c0265a3 ┆ /home/seb/SCReplaysOnNVMe/2025EWCReplayPack/3 - Playoffs/8 - Grand Finals - Serral vs ┆ 2       ┆ … ┆ 0       ┆ 2                   ┆ 160        ┆ 184        │\n",
       "│           ┆                                                                  ┆ Classic/20250725 - Game1 - Classic vs Serral - Persephone.SC2Replay                   ┆         ┆   ┆         ┆                     ┆            ┆            │\n",
       "│ 16594     ┆ 3f32defc30edd6fd9275ca96dfa5b5a3a2c3b8697c6540e865e2ef595c0265a3 ┆ /home/seb/SCReplaysOnNVMe/2025EWCReplayPack/3 - Playoffs/8 - Grand Finals - Serral vs ┆ 2       ┆ … ┆ 0       ┆ 12                  ┆ 160        ┆ 184        │\n",
       "│           ┆                                                                  ┆ Classic/20250725 - Game1 - Classic vs Serral - Persephone.SC2Replay                   ┆         ┆   ┆         ┆                     ┆            ┆            │\n",
       "│ 16595     ┆ 1e119307f43ba860f9ce11da3181e33545f6fa9a6937c812686079dda8ce4612 ┆ /home/seb/SCReplaysOnNVMe/2025EWCReplayPack/3 - Playoffs/8 - Grand Finals - Serral vs ┆ 2       ┆ … ┆ 0       ┆ 11                  ┆ 200        ┆ 184        │\n",
       "│           ┆                                                                  ┆ Classic/20250725 - Game5 - Classic vs Serral - Ley Lines.SC2Replay                    ┆         ┆   ┆         ┆                     ┆            ┆            │\n",
       "│ 16595     ┆ 1e119307f43ba860f9ce11da3181e33545f6fa9a6937c812686079dda8ce4612 ┆ /home/seb/SCReplaysOnNVMe/2025EWCReplayPack/3 - Playoffs/8 - Grand Finals - Serral vs ┆ 2       ┆ … ┆ 0       ┆ 13                  ┆ 200        ┆ 184        │\n",
       "│           ┆                                                                  ┆ Classic/20250725 - Game5 - Classic vs Serral - Ley Lines.SC2Replay                    ┆         ┆   ┆         ┆                     ┆            ┆            │\n",
       "│ 16596     ┆ e957b2e33ba3ba20ec12f3beb1254a5a9d716ef747c2d7322b59347bb3e89d44 ┆ /home/seb/SCReplaysOnNVMe/2025EWCReplayPack/3 - Playoffs/8 - Grand Finals - Serral vs ┆ 2       ┆ … ┆ 0       ┆ 11                  ┆ 152        ┆ 178        │\n",
       "│           ┆                                                                  ┆ Classic/20250725 - Game2 - Classic vs Serral - Incorporeal.SC2Replay                  ┆         ┆   ┆         ┆                     ┆            ┆            │\n",
       "│ 16596     ┆ e957b2e33ba3ba20ec12f3beb1254a5a9d716ef747c2d7322b59347bb3e89d44 ┆ /home/seb/SCReplaysOnNVMe/2025EWCReplayPack/3 - Playoffs/8 - Grand Finals - Serral vs ┆ 2       ┆ … ┆ 0       ┆ 12                  ┆ 152        ┆ 178        │\n",
       "│           ┆                                                                  ┆ Classic/20250725 - Game2 - Classic vs Serral - Incorporeal.SC2Replay                  ┆         ┆   ┆         ┆                     ┆            ┆            │\n",
       "└───────────┴──────────────────────────────────────────────────────────────────┴───────────────────────────────────────────────────────────────────────────────────────┴─────────┴───┴─────────┴─────────────────────┴────────────┴────────────┘"
      ]
     },
     "execution_count": 43,
     "metadata": {},
     "output_type": "execute_result"
    }
   ],
   "source": [
    "# import datashader as ds\n",
    "import plotly.express as px\n",
    "import polars as pl\n",
    "\n",
    "pl.Config.set_tbl_width_chars(256)\n",
    "pl.Config.set_fmt_str_lengths(256)\n",
    "pl.Config.set_tbl_rows(24)\n",
    "\n",
    "# Location of the IPC generated files from above.\n",
    "ipc_dir = \"/home/seb/git/s2protocol-rs/ipcs\"\n",
    "\n",
    "# Filter out these:\n",
    "# Beacon*: Similiar to above, default targets of hatcheries and buildings\n",
    "#          points to Beacons, clicks on the map, or actions when teams play\n",
    "#          together and send attack/defend points on the map.\n",
    "#          For now we'll avoid them.\n",
    "\n",
    "unit_born_df = pl.scan_ipc(f\"{ipc_dir}/unit_born.ipc\")\n",
    "# .filter((~pl.col(\"unit_type_name\").str.starts_with(\"Beacon\")))\n",
    "unit_died_df = pl.scan_ipc(f\"{ipc_dir}/unit_died.ipc\")\n",
    "# .filter((~pl.col(\"unit_died_name\").str.starts_with(\"Beacon\")))\n",
    "stats_df = pl.scan_ipc(f\"{ipc_dir}/stats.ipc\")\n",
    "upgrades_df = pl.scan_ipc(f\"{ipc_dir}/upgrades.ipc\")\n",
    "lobby_slot_init_data_df = pl.scan_ipc(f\"{ipc_dir}/lobby_init_data.ipc\")\n",
    "user_init_data_df = pl.scan_ipc(f\"{ipc_dir}/user_init_data.ipc\")\n",
    "details_df = pl.scan_ipc(f\"{ipc_dir}/details.ipc\")\n",
    "cmd_target_point_df = pl.scan_ipc(f\"{ipc_dir}/cmd_target_point.ipc\")\n",
    "cmd_target_unit_df = pl.scan_ipc(f\"{ipc_dir}/cmd_target_unit.ipc\")\n",
    "\n",
    "# Find a game:\n",
    "lobby_slot_init_data_df.filter(\n",
    "    [\n",
    "        pl.col(\"ext_fs_file_name\").str.contains(\"Grand Finals\")\n",
    "        & pl.col(\"ext_fs_file_name\").str.contains(\"2025\")\n",
    "        & pl.col(\"observe\").eq(0)\n",
    "    ]\n",
    ").collect()"
   ]
  },
  {
   "cell_type": "code",
   "execution_count": 44,
   "id": "b726dfde-8fa5-44fc-a678-2ee260e80009",
   "metadata": {},
   "outputs": [],
   "source": [
    "chosen_fs_id = 16594  # One of the above"
   ]
  },
  {
   "cell_type": "code",
   "execution_count": 45,
   "id": "a9d682e9-829f-49d0-a8d5-321e3761759f",
   "metadata": {},
   "outputs": [
    {
     "data": {
      "text/plain": [
       "Schema([('ext_fs_id', UInt64),\n",
       "        ('ext_fs_sha256', String),\n",
       "        ('ext_fs_file_name', String),\n",
       "        ('control', Int64),\n",
       "        ('user_id', Int64),\n",
       "        ('team_id', Int64),\n",
       "        ('observe', UInt8),\n",
       "        ('working_set_slot_id', UInt8),\n",
       "        ('map_size_x', UInt8),\n",
       "        ('map_size_y', UInt8)])"
      ]
     },
     "execution_count": 45,
     "metadata": {},
     "output_type": "execute_result"
    }
   ],
   "source": [
    "lobby_slot_init_data_df.collect_schema()"
   ]
  },
  {
   "cell_type": "code",
   "execution_count": 46,
   "id": "88d018fb-f47b-4cd5-bad4-5f1b2f2f4708",
   "metadata": {},
   "outputs": [
    {
     "data": {
      "text/html": [
       "<div><style>\n",
       ".dataframe > thead > tr,\n",
       ".dataframe > tbody > tr {\n",
       "  text-align: right;\n",
       "  white-space: pre-wrap;\n",
       "}\n",
       "</style>\n",
       "<small>shape: (9, 11)</small><table border=\"1\" class=\"dataframe\"><thead><tr><th>statistic</th><th>ext_fs_id</th><th>ext_fs_sha256</th><th>ext_fs_file_name</th><th>control</th><th>user_id</th><th>team_id</th><th>observe</th><th>working_set_slot_id</th><th>map_size_x</th><th>map_size_y</th></tr><tr><td>str</td><td>f64</td><td>str</td><td>str</td><td>f64</td><td>f64</td><td>f64</td><td>f64</td><td>f64</td><td>f64</td><td>f64</td></tr></thead><tbody><tr><td>&quot;count&quot;</td><td>585914.0</td><td>&quot;585914&quot;</td><td>&quot;585914&quot;</td><td>585914.0</td><td>150806.0</td><td>585914.0</td><td>585914.0</td><td>585904.0</td><td>585914.0</td><td>585914.0</td></tr><tr><td>&quot;null_count&quot;</td><td>0.0</td><td>&quot;0&quot;</td><td>&quot;0&quot;</td><td>0.0</td><td>435108.0</td><td>0.0</td><td>0.0</td><td>10.0</td><td>0.0</td><td>0.0</td></tr><tr><td>&quot;mean&quot;</td><td>28656.471163</td><td>null</td><td>null</td><td>0.941997</td><td>2.540602</td><td>0.112332</td><td>0.891124</td><td>7.513982</td><td>186.989913</td><td>187.694682</td></tr><tr><td>&quot;std&quot;</td><td>14873.434007</td><td>null</td><td>null</td><td>0.868435</td><td>2.579175</td><td>0.343804</td><td>0.437713</td><td>4.610135</td><td>33.331622</td><td>33.721996</td></tr><tr><td>&quot;min&quot;</td><td>0.0</td><td>&quot;00002a9dc36528452ad1938d035d16186b31390e6faef0487a0468214d644b34&quot;</td><td>&quot;/home/seb/SCReplaysOnNVMe/2023_07-ESL_SC2_Masters_Winter_2023_Finals/1 - Winners Stage/A1 - UB Ro8 #1 - GuMiho vs ShoWTimE/20230616 - Game 2 - ShoWTimE vs GuMiho - PvT - Hecate.SC2Replay&quot;</td><td>0.0</td><td>0.0</td><td>0.0</td><td>0.0</td><td>0.0</td><td>0.0</td><td>0.0</td></tr><tr><td>&quot;25%&quot;</td><td>15511.0</td><td>null</td><td>null</td><td>0.0</td><td>1.0</td><td>0.0</td><td>1.0</td><td>4.0</td><td>168.0</td><td>176.0</td></tr><tr><td>&quot;50%&quot;</td><td>28338.0</td><td>null</td><td>null</td><td>1.0</td><td>2.0</td><td>0.0</td><td>1.0</td><td>8.0</td><td>192.0</td><td>186.0</td></tr><tr><td>&quot;75%&quot;</td><td>41541.0</td><td>null</td><td>null</td><td>2.0</td><td>4.0</td><td>0.0</td><td>1.0</td><td>12.0</td><td>200.0</td><td>208.0</td></tr><tr><td>&quot;max&quot;</td><td>54323.0</td><td>&quot;fffe9e9afdd6676125f0204935343add1386f924147125e050bdea4838f60d9f&quot;</td><td>&quot;/home/seb/SCReplaysOnNVMe/[2024 GSL S2] Ro.8 Group B Match5/2SET [2024 GSL S2] Ro.8 Group B Match5.SC2Replay&quot;</td><td>3.0</td><td>15.0</td><td>14.0</td><td>2.0</td><td>15.0</td><td>248.0</td><td>250.0</td></tr></tbody></table></div>"
      ],
      "text/plain": [
       "shape: (9, 11)\n",
       "┌────────────┬──────────────┬──────────────────────────────────────────────────────────────────┬────────────────────────────────────────────────────────────────────────────────────────────────┬───┬──────────┬─────────────────────┬────────────┬────────────┐\n",
       "│ statistic  ┆ ext_fs_id    ┆ ext_fs_sha256                                                    ┆ ext_fs_file_name                                                                               ┆ … ┆ observe  ┆ working_set_slot_id ┆ map_size_x ┆ map_size_y │\n",
       "│ ---        ┆ ---          ┆ ---                                                              ┆ ---                                                                                            ┆   ┆ ---      ┆ ---                 ┆ ---        ┆ ---        │\n",
       "│ str        ┆ f64          ┆ str                                                              ┆ str                                                                                            ┆   ┆ f64      ┆ f64                 ┆ f64        ┆ f64        │\n",
       "╞════════════╪══════════════╪══════════════════════════════════════════════════════════════════╪════════════════════════════════════════════════════════════════════════════════════════════════╪═══╪══════════╪═════════════════════╪════════════╪════════════╡\n",
       "│ count      ┆ 585914.0     ┆ 585914                                                           ┆ 585914                                                                                         ┆ … ┆ 585914.0 ┆ 585904.0            ┆ 585914.0   ┆ 585914.0   │\n",
       "│ null_count ┆ 0.0          ┆ 0                                                                ┆ 0                                                                                              ┆ … ┆ 0.0      ┆ 10.0                ┆ 0.0        ┆ 0.0        │\n",
       "│ mean       ┆ 28656.471163 ┆ null                                                             ┆ null                                                                                           ┆ … ┆ 0.891124 ┆ 7.513982            ┆ 186.989913 ┆ 187.694682 │\n",
       "│ std        ┆ 14873.434007 ┆ null                                                             ┆ null                                                                                           ┆ … ┆ 0.437713 ┆ 4.610135            ┆ 33.331622  ┆ 33.721996  │\n",
       "│ min        ┆ 0.0          ┆ 00002a9dc36528452ad1938d035d16186b31390e6faef0487a0468214d644b34 ┆ /home/seb/SCReplaysOnNVMe/2023_07-ESL_SC2_Masters_Winter_2023_Finals/1 - Winners Stage/A1 - UB ┆ … ┆ 0.0      ┆ 0.0                 ┆ 0.0        ┆ 0.0        │\n",
       "│            ┆              ┆                                                                  ┆ Ro8 #1 - GuMiho vs ShoWTimE/20230616 - Game 2 - ShoWTimE vs GuMiho - PvT - Hecate.SC2Replay    ┆   ┆          ┆                     ┆            ┆            │\n",
       "│ 25%        ┆ 15511.0      ┆ null                                                             ┆ null                                                                                           ┆ … ┆ 1.0      ┆ 4.0                 ┆ 168.0      ┆ 176.0      │\n",
       "│ 50%        ┆ 28338.0      ┆ null                                                             ┆ null                                                                                           ┆ … ┆ 1.0      ┆ 8.0                 ┆ 192.0      ┆ 186.0      │\n",
       "│ 75%        ┆ 41541.0      ┆ null                                                             ┆ null                                                                                           ┆ … ┆ 1.0      ┆ 12.0                ┆ 200.0      ┆ 208.0      │\n",
       "│ max        ┆ 54323.0      ┆ fffe9e9afdd6676125f0204935343add1386f924147125e050bdea4838f60d9f ┆ /home/seb/SCReplaysOnNVMe/[2024 GSL S2] Ro.8 Group B Match5/2SET [2024 GSL S2] Ro.8 Group B    ┆ … ┆ 2.0      ┆ 15.0                ┆ 248.0      ┆ 250.0      │\n",
       "│            ┆              ┆                                                                  ┆ Match5.SC2Replay                                                                               ┆   ┆          ┆                     ┆            ┆            │\n",
       "└────────────┴──────────────┴──────────────────────────────────────────────────────────────────┴────────────────────────────────────────────────────────────────────────────────────────────────┴───┴──────────┴─────────────────────┴────────────┴────────────┘"
      ]
     },
     "execution_count": 46,
     "metadata": {},
     "output_type": "execute_result"
    }
   ],
   "source": [
    "lobby_slot_init_data_df.describe()"
   ]
  },
  {
   "cell_type": "code",
   "execution_count": 47,
   "id": "80a71bba-6a97-490e-b197-56a8e2bd6a36",
   "metadata": {},
   "outputs": [
    {
     "data": {
      "text/html": [
       "<div><style>\n",
       ".dataframe > thead > tr,\n",
       ".dataframe > tbody > tr {\n",
       "  text-align: right;\n",
       "  white-space: pre-wrap;\n",
       "}\n",
       "</style>\n",
       "<small>shape: (17, 1)</small><table border=\"1\" class=\"dataframe\"><thead><tr><th>user_id</th></tr><tr><td>struct[2]</td></tr></thead><tbody><tr><td>{null,435108}</td></tr><tr><td>{0,36752}</td></tr><tr><td>{1,34012}</td></tr><tr><td>{2,18672}</td></tr><tr><td>{3,17298}</td></tr><tr><td>{4,13350}</td></tr><tr><td>{5,10190}</td></tr><tr><td>{6,7917}</td></tr><tr><td>{7,4209}</td></tr><tr><td>{8,3154}</td></tr><tr><td>{9,2218}</td></tr><tr><td>{10,1322}</td></tr><tr><td>{11,850}</td></tr><tr><td>{12,517}</td></tr><tr><td>{13,243}</td></tr><tr><td>{14,84}</td></tr><tr><td>{15,18}</td></tr></tbody></table></div>"
      ],
      "text/plain": [
       "shape: (17, 1)\n",
       "┌───────────────┐\n",
       "│ user_id       │\n",
       "│ ---           │\n",
       "│ struct[2]     │\n",
       "╞═══════════════╡\n",
       "│ {null,435108} │\n",
       "│ {0,36752}     │\n",
       "│ {1,34012}     │\n",
       "│ {2,18672}     │\n",
       "│ {3,17298}     │\n",
       "│ {4,13350}     │\n",
       "│ {5,10190}     │\n",
       "│ {6,7917}      │\n",
       "│ {7,4209}      │\n",
       "│ {8,3154}      │\n",
       "│ {9,2218}      │\n",
       "│ {10,1322}     │\n",
       "│ {11,850}      │\n",
       "│ {12,517}      │\n",
       "│ {13,243}      │\n",
       "│ {14,84}       │\n",
       "│ {15,18}       │\n",
       "└───────────────┘"
      ]
     },
     "execution_count": 47,
     "metadata": {},
     "output_type": "execute_result"
    }
   ],
   "source": [
    "lobby_slot_init_data_df.select(pl.col(\"user_id\").value_counts(sort=True)).collect()\n",
    "# - observe 0, 1, 2 --- 0 = player\n",
    "# - control 0,1,2,3 --- unsure, most are 1.\n",
    "# - user_id null, 0, 1..15 --- unsure, most are null (155Ks), then 0, 12Ks = matches number of files.\n",
    "# - team_id 0, 1 --- seems for players\n",
    "# - working_set_slot_id 0..15 --- unsure (are these maybe the slots of 16 players that can be in a lobby?\n",
    "#   For example active players can be 12, but doesn't match the event player ids\n",
    "# - map_size_x: 0? 1..16 possible values of size_x\n",
    "# - map_size_y: 0? 1.. many more than 16 possible values? doesn't match size_x hmm18780"
   ]
  },
  {
   "cell_type": "code",
   "execution_count": 48,
   "id": "8f11fa31-4bd8-4b86-8a80-b1f31e7a6c07",
   "metadata": {},
   "outputs": [
    {
     "data": {
      "text/html": [
       "<div><style>\n",
       ".dataframe > thead > tr,\n",
       ".dataframe > tbody > tr {\n",
       "  text-align: right;\n",
       "  white-space: pre-wrap;\n",
       "}\n",
       "</style>\n",
       "<small>shape: (2, 10)</small><table border=\"1\" class=\"dataframe\"><thead><tr><th>ext_fs_id</th><th>ext_fs_sha256</th><th>ext_fs_file_name</th><th>control</th><th>user_id</th><th>team_id</th><th>observe</th><th>working_set_slot_id</th><th>map_size_x</th><th>map_size_y</th></tr><tr><td>u64</td><td>str</td><td>str</td><td>i64</td><td>i64</td><td>i64</td><td>u8</td><td>u8</td><td>u8</td><td>u8</td></tr></thead><tbody><tr><td>16594</td><td>&quot;3f32defc30edd6fd9275ca96dfa5b5a3a2c3b8697c6540e865e2ef595c0265a3&quot;</td><td>&quot;/home/seb/SCReplaysOnNVMe/2025EWCReplayPack/3 - Playoffs/8 - Grand Finals - Serral vs Classic/20250725 - Game1 - Classic vs Serral - Persephone.SC2Replay&quot;</td><td>2</td><td>2</td><td>0</td><td>0</td><td>2</td><td>160</td><td>184</td></tr><tr><td>16594</td><td>&quot;3f32defc30edd6fd9275ca96dfa5b5a3a2c3b8697c6540e865e2ef595c0265a3&quot;</td><td>&quot;/home/seb/SCReplaysOnNVMe/2025EWCReplayPack/3 - Playoffs/8 - Grand Finals - Serral vs Classic/20250725 - Game1 - Classic vs Serral - Persephone.SC2Replay&quot;</td><td>2</td><td>3</td><td>1</td><td>0</td><td>12</td><td>160</td><td>184</td></tr></tbody></table></div>"
      ],
      "text/plain": [
       "shape: (2, 10)\n",
       "┌───────────┬──────────────────────────────────────────────────────────────────┬───────────────────────────────────────────────────────────────────────────────────────┬─────────┬───┬─────────┬─────────────────────┬────────────┬────────────┐\n",
       "│ ext_fs_id ┆ ext_fs_sha256                                                    ┆ ext_fs_file_name                                                                      ┆ control ┆ … ┆ observe ┆ working_set_slot_id ┆ map_size_x ┆ map_size_y │\n",
       "│ ---       ┆ ---                                                              ┆ ---                                                                                   ┆ ---     ┆   ┆ ---     ┆ ---                 ┆ ---        ┆ ---        │\n",
       "│ u64       ┆ str                                                              ┆ str                                                                                   ┆ i64     ┆   ┆ u8      ┆ u8                  ┆ u8         ┆ u8         │\n",
       "╞═══════════╪══════════════════════════════════════════════════════════════════╪═══════════════════════════════════════════════════════════════════════════════════════╪═════════╪═══╪═════════╪═════════════════════╪════════════╪════════════╡\n",
       "│ 16594     ┆ 3f32defc30edd6fd9275ca96dfa5b5a3a2c3b8697c6540e865e2ef595c0265a3 ┆ /home/seb/SCReplaysOnNVMe/2025EWCReplayPack/3 - Playoffs/8 - Grand Finals - Serral vs ┆ 2       ┆ … ┆ 0       ┆ 2                   ┆ 160        ┆ 184        │\n",
       "│           ┆                                                                  ┆ Classic/20250725 - Game1 - Classic vs Serral - Persephone.SC2Replay                   ┆         ┆   ┆         ┆                     ┆            ┆            │\n",
       "│ 16594     ┆ 3f32defc30edd6fd9275ca96dfa5b5a3a2c3b8697c6540e865e2ef595c0265a3 ┆ /home/seb/SCReplaysOnNVMe/2025EWCReplayPack/3 - Playoffs/8 - Grand Finals - Serral vs ┆ 2       ┆ … ┆ 0       ┆ 12                  ┆ 160        ┆ 184        │\n",
       "│           ┆                                                                  ┆ Classic/20250725 - Game1 - Classic vs Serral - Persephone.SC2Replay                   ┆         ┆   ┆         ┆                     ┆            ┆            │\n",
       "└───────────┴──────────────────────────────────────────────────────────────────┴───────────────────────────────────────────────────────────────────────────────────────┴─────────┴───┴─────────┴─────────────────────┴────────────┴────────────┘"
      ]
     },
     "execution_count": 48,
     "metadata": {},
     "output_type": "execute_result"
    }
   ],
   "source": [
    "lobby_slot_init_data_df.filter(\n",
    "    [pl.col(\"ext_fs_id\").eq(chosen_fs_id) & pl.col(\"observe\").eq(0)]\n",
    ").collect()"
   ]
  },
  {
   "cell_type": "code",
   "execution_count": 49,
   "id": "5e291223-7de8-4c5b-9963-9c950ca01fff",
   "metadata": {},
   "outputs": [
    {
     "data": {
      "text/plain": [
       "Schema([('player_name', String),\n",
       "        ('player_toon_region', UInt8),\n",
       "        ('player_toon_program_id', UInt32),\n",
       "        ('player_toon_realm', UInt32),\n",
       "        ('player_toon_id', UInt64),\n",
       "        ('player_race', String),\n",
       "        ('player_color_a', UInt8),\n",
       "        ('player_color_r', UInt8),\n",
       "        ('player_color_g', UInt8),\n",
       "        ('player_color_b', UInt8),\n",
       "        ('player_control', UInt8),\n",
       "        ('player_team_id', UInt8),\n",
       "        ('player_observe', UInt8),\n",
       "        ('player_result', UInt8),\n",
       "        ('player_working_set_slot_id', UInt8),\n",
       "        ('player_hero', String),\n",
       "        ('title', String),\n",
       "        ('is_blizzard_map', Boolean),\n",
       "        ('time_utc', Int64),\n",
       "        ('time_local_offset', Int64),\n",
       "        ('ext_fs_id', UInt64),\n",
       "        ('ext_datetime', Datetime(time_unit='ns', time_zone=None))])"
      ]
     },
     "execution_count": 49,
     "metadata": {},
     "output_type": "execute_result"
    }
   ],
   "source": [
    "details_df.collect_schema()"
   ]
  },
  {
   "cell_type": "code",
   "execution_count": 50,
   "id": "a7e7362a-d47a-4a3a-83f7-29cee57ee740",
   "metadata": {},
   "outputs": [
    {
     "data": {
      "text/html": [
       "<div><style>\n",
       ".dataframe > thead > tr,\n",
       ".dataframe > tbody > tr {\n",
       "  text-align: right;\n",
       "  white-space: pre-wrap;\n",
       "}\n",
       "</style>\n",
       "<small>shape: (9, 23)</small><table border=\"1\" class=\"dataframe\"><thead><tr><th>statistic</th><th>player_name</th><th>player_toon_region</th><th>player_toon_program_id</th><th>player_toon_realm</th><th>player_toon_id</th><th>player_race</th><th>player_color_a</th><th>player_color_r</th><th>player_color_g</th><th>player_color_b</th><th>player_control</th><th>player_team_id</th><th>player_observe</th><th>player_result</th><th>player_working_set_slot_id</th><th>player_hero</th><th>title</th><th>is_blizzard_map</th><th>time_utc</th><th>time_local_offset</th><th>ext_fs_id</th><th>ext_datetime</th></tr><tr><td>str</td><td>str</td><td>f64</td><td>f64</td><td>f64</td><td>f64</td><td>str</td><td>f64</td><td>f64</td><td>f64</td><td>f64</td><td>f64</td><td>f64</td><td>f64</td><td>f64</td><td>f64</td><td>str</td><td>str</td><td>f64</td><td>f64</td><td>f64</td><td>f64</td><td>str</td></tr></thead><tbody><tr><td>&quot;count&quot;</td><td>&quot;91303&quot;</td><td>91303.0</td><td>91303.0</td><td>91303.0</td><td>91303.0</td><td>&quot;91303&quot;</td><td>91303.0</td><td>91303.0</td><td>91303.0</td><td>91303.0</td><td>91303.0</td><td>91303.0</td><td>91303.0</td><td>91303.0</td><td>90720.0</td><td>&quot;91303&quot;</td><td>&quot;91303&quot;</td><td>91303.0</td><td>91303.0</td><td>91303.0</td><td>91303.0</td><td>&quot;91303&quot;</td></tr><tr><td>&quot;null_count&quot;</td><td>&quot;0&quot;</td><td>0.0</td><td>0.0</td><td>0.0</td><td>0.0</td><td>&quot;0&quot;</td><td>0.0</td><td>0.0</td><td>0.0</td><td>0.0</td><td>0.0</td><td>0.0</td><td>0.0</td><td>0.0</td><td>583.0</td><td>&quot;0&quot;</td><td>&quot;0&quot;</td><td>0.0</td><td>0.0</td><td>0.0</td><td>0.0</td><td>&quot;0&quot;</td></tr><tr><td>&quot;mean&quot;</td><td>null</td><td>1.523981</td><td>18093.607746</td><td>0.896937</td><td>5.7489e6</td><td>null</td><td>254.950768</td><td>91.923113</td><td>56.68897</td><td>142.136173</td><td>2.150389</td><td>0.50811</td><td>0.0</td><td>1.369243</td><td>3.412831</td><td>null</td><td>null</td><td>0.781431</td><td>1.3305e17</td><td>2.5669e10</td><td>27766.430764</td><td>&quot;2022-08-09 13:05:21.304537&quot;</td></tr><tr><td>&quot;std&quot;</td><td>null</td><td>1.412723</td><td>7614.437047</td><td>0.432697</td><td>4.6587e6</td><td>null</td><td>1.234413</td><td>89.723479</td><td>52.179126</td><td>107.963496</td><td>0.357455</td><td>0.584962</td><td>0.0</td><td>0.634426</td><td>4.646266</td><td>null</td><td>null</td><td>null</td><td>4.3520e14</td><td>1.4609e11</td><td>14648.532064</td><td>null</td></tr><tr><td>&quot;min&quot;</td><td>&quot;&amp;lt;0001&amp;gt;&lt;sp/&gt;VOODOO&quot;</td><td>0.0</td><td>0.0</td><td>0.0</td><td>0.0</td><td>&quot;&quot;</td><td>224.0</td><td>0.0</td><td>0.0</td><td>0.0</td><td>2.0</td><td>0.0</td><td>0.0</td><td>0.0</td><td>0.0</td><td>&quot;&quot;</td><td>&quot;$$$Fastest Map$$$&quot;</td><td>0.0</td><td>1.3240e17</td><td>-3.6000e11</td><td>0.0</td><td>&quot;2020-07-28 02:30:03.466019&quot;</td></tr><tr><td>&quot;25%&quot;</td><td>null</td><td>1.0</td><td>21298.0</td><td>1.0</td><td>1.381873e6</td><td>null</td><td>255.0</td><td>0.0</td><td>20.0</td><td>30.0</td><td>2.0</td><td>0.0</td><td>0.0</td><td>1.0</td><td>0.0</td><td>null</td><td>null</td><td>null</td><td>1.3266e17</td><td>3.6000e10</td><td>14652.0</td><td>&quot;2021-05-25 16:23:25.967399&quot;</td></tr><tr><td>&quot;50%&quot;</td><td>null</td><td>2.0</td><td>21298.0</td><td>1.0</td><td>5.179818e6</td><td>null</td><td>255.0</td><td>84.0</td><td>66.0</td><td>129.0</td><td>2.0</td><td>0.0</td><td>0.0</td><td>1.0</td><td>1.0</td><td>null</td><td>null</td><td>null</td><td>1.3301e17</td><td>3.6000e10</td><td>26400.0</td><td>&quot;2022-07-01 17:42:24.452301&quot;</td></tr><tr><td>&quot;75%&quot;</td><td>null</td><td>2.0</td><td>21298.0</td><td>1.0</td><td>9.939056e6</td><td>null</td><td>255.0</td><td>180.0</td><td>66.0</td><td>255.0</td><td>2.0</td><td>1.0</td><td>0.0</td><td>2.0</td><td>3.0</td><td>null</td><td>null</td><td>null</td><td>1.3335e17</td><td>7.2000e10</td><td>40354.0</td><td>&quot;2023-08-02 13:47:02.582020&quot;</td></tr><tr><td>&quot;max&quot;</td><td>&quot;호에엥&quot;</td><td>98.0</td><td>21298.0</td><td>2.0</td><td>2.0889428e7</td><td>&quot;프로토스&quot;</td><td>255.0</td><td>255.0</td><td>255.0</td><td>255.0</td><td>3.0</td><td>14.0</td><td>0.0</td><td>3.0</td><td>15.0</td><td>&quot;&quot;</td><td>&quot;해비테이션 스테이션 - 래더&quot;</td><td>1.0</td><td>1.3399e17</td><td>4.6800e11</td><td>54323.0</td><td>&quot;2025-08-04 06:44:28.415091&quot;</td></tr></tbody></table></div>"
      ],
      "text/plain": [
       "shape: (9, 23)\n",
       "┌────────────┬─────────────────────────┬────────────────────┬────────────────────────┬───┬───────────┬───────────────────┬──────────────┬────────────────────────────┐\n",
       "│ statistic  ┆ player_name             ┆ player_toon_region ┆ player_toon_program_id ┆ … ┆ time_utc  ┆ time_local_offset ┆ ext_fs_id    ┆ ext_datetime               │\n",
       "│ ---        ┆ ---                     ┆ ---                ┆ ---                    ┆   ┆ ---       ┆ ---               ┆ ---          ┆ ---                        │\n",
       "│ str        ┆ str                     ┆ f64                ┆ f64                    ┆   ┆ f64       ┆ f64               ┆ f64          ┆ str                        │\n",
       "╞════════════╪═════════════════════════╪════════════════════╪════════════════════════╪═══╪═══════════╪═══════════════════╪══════════════╪════════════════════════════╡\n",
       "│ count      ┆ 91303                   ┆ 91303.0            ┆ 91303.0                ┆ … ┆ 91303.0   ┆ 91303.0           ┆ 91303.0      ┆ 91303                      │\n",
       "│ null_count ┆ 0                       ┆ 0.0                ┆ 0.0                    ┆ … ┆ 0.0       ┆ 0.0               ┆ 0.0          ┆ 0                          │\n",
       "│ mean       ┆ null                    ┆ 1.523981           ┆ 18093.607746           ┆ … ┆ 1.3305e17 ┆ 2.5669e10         ┆ 27766.430764 ┆ 2022-08-09 13:05:21.304537 │\n",
       "│ std        ┆ null                    ┆ 1.412723           ┆ 7614.437047            ┆ … ┆ 4.3520e14 ┆ 1.4609e11         ┆ 14648.532064 ┆ null                       │\n",
       "│ min        ┆ &lt;0001&gt;<sp/>VOODOO ┆ 0.0                ┆ 0.0                    ┆ … ┆ 1.3240e17 ┆ -3.6000e11        ┆ 0.0          ┆ 2020-07-28 02:30:03.466019 │\n",
       "│ 25%        ┆ null                    ┆ 1.0                ┆ 21298.0                ┆ … ┆ 1.3266e17 ┆ 3.6000e10         ┆ 14652.0      ┆ 2021-05-25 16:23:25.967399 │\n",
       "│ 50%        ┆ null                    ┆ 2.0                ┆ 21298.0                ┆ … ┆ 1.3301e17 ┆ 3.6000e10         ┆ 26400.0      ┆ 2022-07-01 17:42:24.452301 │\n",
       "│ 75%        ┆ null                    ┆ 2.0                ┆ 21298.0                ┆ … ┆ 1.3335e17 ┆ 7.2000e10         ┆ 40354.0      ┆ 2023-08-02 13:47:02.582020 │\n",
       "│ max        ┆ 호에엥                  ┆ 98.0               ┆ 21298.0                ┆ … ┆ 1.3399e17 ┆ 4.6800e11         ┆ 54323.0      ┆ 2025-08-04 06:44:28.415091 │\n",
       "└────────────┴─────────────────────────┴────────────────────┴────────────────────────┴───┴───────────┴───────────────────┴──────────────┴────────────────────────────┘"
      ]
     },
     "execution_count": 50,
     "metadata": {},
     "output_type": "execute_result"
    }
   ],
   "source": [
    "details_df.describe()"
   ]
  },
  {
   "cell_type": "code",
   "execution_count": 51,
   "id": "b8b30d41-c5a6-44a0-bcdb-e506c0928500",
   "metadata": {},
   "outputs": [
    {
     "data": {
      "text/html": [
       "<div><style>\n",
       ".dataframe > thead > tr,\n",
       ".dataframe > tbody > tr {\n",
       "  text-align: right;\n",
       "  white-space: pre-wrap;\n",
       "}\n",
       "</style>\n",
       "<small>shape: (17_031, 1)</small><table border=\"1\" class=\"dataframe\"><thead><tr><th>player_name</th></tr><tr><td>struct[2]</td></tr></thead><tbody><tr><td>{&quot;&amp;lt;Mealen&amp;gt;&lt;sp/&gt;Doombringer&quot;,3226}</td></tr><tr><td>{&quot;&amp;lt;chezs&amp;gt;&lt;sp/&gt;Sazed&quot;,2406}</td></tr><tr><td>{&quot;Sazed&quot;,1880}</td></tr><tr><td>{&quot;Massa&quot;,1661}</td></tr><tr><td>{&quot;qqq&quot;,1374}</td></tr><tr><td>{&quot;&amp;lt;ƖIıIƖ&amp;gt;&lt;sp/&gt;Sazed&quot;,744}</td></tr><tr><td>{&quot;Serral&quot;,679}</td></tr><tr><td>{&quot;Reynor&quot;,669}</td></tr><tr><td>{&quot;ShoWTimE&quot;,658}</td></tr><tr><td>{&quot;Clem&quot;,580}</td></tr><tr><td>{&quot;Scarlett&quot;,507}</td></tr><tr><td>{&quot;Astrea&quot;,497}</td></tr><tr><td>&hellip;</td></tr><tr><td>{&quot;PEEDRINKER&quot;,1}</td></tr><tr><td>{&quot;&amp;lt;ZTemp&amp;gt;&lt;sp/&gt;Invictus&quot;,1}</td></tr><tr><td>{&quot;Cacty&quot;,1}</td></tr><tr><td>{&quot;&amp;lt;aqocea&amp;gt;&lt;sp/&gt;Shadow&quot;,1}</td></tr><tr><td>{&quot;&amp;lt;No0Bs&amp;gt;&lt;sp/&gt;Grunter&quot;,1}</td></tr><tr><td>{&quot;yndgaming&quot;,1}</td></tr><tr><td>{&quot;TheShortCook&quot;,1}</td></tr><tr><td>{&quot;Neox&quot;,1}</td></tr><tr><td>{&quot;htpkBheLLioM&quot;,1}</td></tr><tr><td>{&quot;Humblesaiya&quot;,1}</td></tr><tr><td>{&quot;&amp;lt;SALAFI&amp;gt;&lt;sp/&gt;MoWjAhEeD&quot;,1}</td></tr><tr><td>{&quot;BeerMan&quot;,1}</td></tr></tbody></table></div>"
      ],
      "text/plain": [
       "shape: (17_031, 1)\n",
       "┌─────────────────────────────────────────┐\n",
       "│ player_name                             │\n",
       "│ ---                                     │\n",
       "│ struct[2]                               │\n",
       "╞═════════════════════════════════════════╡\n",
       "│ {\"&lt;Mealen&gt;<sp/>Doombringer\",3226} │\n",
       "│ {\"&lt;chezs&gt;<sp/>Sazed\",2406}        │\n",
       "│ {\"Sazed\",1880}                          │\n",
       "│ {\"Massa\",1661}                          │\n",
       "│ {\"qqq\",1374}                            │\n",
       "│ {\"&lt;ƖIıIƖ&gt;<sp/>Sazed\",744}         │\n",
       "│ {\"Serral\",679}                          │\n",
       "│ {\"Reynor\",669}                          │\n",
       "│ {\"ShoWTimE\",658}                        │\n",
       "│ {\"Clem\",580}                            │\n",
       "│ {\"Scarlett\",507}                        │\n",
       "│ {\"Astrea\",497}                          │\n",
       "│ …                                       │\n",
       "│ {\"PEEDRINKER\",1}                        │\n",
       "│ {\"&lt;ZTemp&gt;<sp/>Invictus\",1}        │\n",
       "│ {\"Cacty\",1}                             │\n",
       "│ {\"&lt;aqocea&gt;<sp/>Shadow\",1}         │\n",
       "│ {\"&lt;No0Bs&gt;<sp/>Grunter\",1}         │\n",
       "│ {\"yndgaming\",1}                         │\n",
       "│ {\"TheShortCook\",1}                      │\n",
       "│ {\"Neox\",1}                              │\n",
       "│ {\"htpkBheLLioM\",1}                      │\n",
       "│ {\"Humblesaiya\",1}                       │\n",
       "│ {\"&lt;SALAFI&gt;<sp/>MoWjAhEeD\",1}      │\n",
       "│ {\"BeerMan\",1}                           │\n",
       "└─────────────────────────────────────────┘"
      ]
     },
     "execution_count": 51,
     "metadata": {},
     "output_type": "execute_result"
    }
   ],
   "source": [
    "details_df.filter(pl.col(\"player_toon_id\") != 0).select(\n",
    "    pl.col(\"player_name\").value_counts(sort=True)\n",
    ").collect()\n",
    "\n",
    "# player_name contains the clan, clan also in user_inuser_init_data_df separate from name, but no user_id/player_id there. Can be cleaned with pl.col(\"player_name\").str.split(by=\"<sp/>\").list.last().alias(\"player_name\")\n",
    "# player_toon_id may be 0 for A.I. game practice.\n",
    "# player_race is Protoss, Terran, but also has hanzi (神族), korean? (테란) and strings like \"Primal Zerg\" or \"Terraner\" or \"\"\n",
    "# player_team_id is either 0 or 1\n",
    "# player_observe is always 0\n",
    "# player_result can be 1, 2,0 and 3\n",
    "#               1 and 2 are win,loss (not sure which is which).\n",
    "#               0 is probably undecided (or maybe teh status of observer?)\n",
    "#               3 is probably tie (there are only 50 games with this status in this 12K replay dataset.\n",
    "# player_working_set_slot_id null, 0..15\n",
    "#                            not the same as lobby_slot_init_data_df working_set_slot_id\n",
    "# player_hero always \"\"\n",
    "# title is the name of the map\n",
    "# is_blizzard_map seems filled\n",
    "# time_utc is that weird \"epoch\" after 2000 or something\n",
    "# time_local_offset is +- in millis (or nanos?)"
   ]
  },
  {
   "cell_type": "code",
   "execution_count": 52,
   "id": "c3a11992-24ea-4ddc-aff6-9b4f62443b71",
   "metadata": {},
   "outputs": [
    {
     "data": {
      "text/html": [
       "<div><style>\n",
       ".dataframe > thead > tr,\n",
       ".dataframe > tbody > tr {\n",
       "  text-align: right;\n",
       "  white-space: pre-wrap;\n",
       "}\n",
       "</style>\n",
       "<small>shape: (15_914, 1)</small><table border=\"1\" class=\"dataframe\"><thead><tr><th>player_name</th></tr><tr><td>struct[2]</td></tr></thead><tbody><tr><td>{&quot;Sazed&quot;,5055}</td></tr><tr><td>{&quot;Doombringer&quot;,3226}</td></tr><tr><td>{&quot;Massa&quot;,1661}</td></tr><tr><td>{&quot;qqq&quot;,1374}</td></tr><tr><td>{&quot;Reynor&quot;,1017}</td></tr><tr><td>{&quot;Serral&quot;,993}</td></tr><tr><td>{&quot;HeroMarine&quot;,827}</td></tr><tr><td>{&quot;ShoWTimE&quot;,808}</td></tr><tr><td>{&quot;Lambo&quot;,770}</td></tr><tr><td>{&quot;Astrea&quot;,748}</td></tr><tr><td>{&quot;Scarlett&quot;,653}</td></tr><tr><td>{&quot;ByuN&quot;,647}</td></tr><tr><td>&hellip;</td></tr><tr><td>{&quot;Sleven&quot;,1}</td></tr><tr><td>{&quot;PEEDRINKER&quot;,1}</td></tr><tr><td>{&quot;Invictus&quot;,1}</td></tr><tr><td>{&quot;Cacty&quot;,1}</td></tr><tr><td>{&quot;Grunter&quot;,1}</td></tr><tr><td>{&quot;yndgaming&quot;,1}</td></tr><tr><td>{&quot;TheShortCook&quot;,1}</td></tr><tr><td>{&quot;Neox&quot;,1}</td></tr><tr><td>{&quot;htpkBheLLioM&quot;,1}</td></tr><tr><td>{&quot;Humblesaiya&quot;,1}</td></tr><tr><td>{&quot;MoWjAhEeD&quot;,1}</td></tr><tr><td>{&quot;BeerMan&quot;,1}</td></tr></tbody></table></div>"
      ],
      "text/plain": [
       "shape: (15_914, 1)\n",
       "┌──────────────────────┐\n",
       "│ player_name          │\n",
       "│ ---                  │\n",
       "│ struct[2]            │\n",
       "╞══════════════════════╡\n",
       "│ {\"Sazed\",5055}       │\n",
       "│ {\"Doombringer\",3226} │\n",
       "│ {\"Massa\",1661}       │\n",
       "│ {\"qqq\",1374}         │\n",
       "│ {\"Reynor\",1017}      │\n",
       "│ {\"Serral\",993}       │\n",
       "│ {\"HeroMarine\",827}   │\n",
       "│ {\"ShoWTimE\",808}     │\n",
       "│ {\"Lambo\",770}        │\n",
       "│ {\"Astrea\",748}       │\n",
       "│ {\"Scarlett\",653}     │\n",
       "│ {\"ByuN\",647}         │\n",
       "│ …                    │\n",
       "│ {\"Sleven\",1}         │\n",
       "│ {\"PEEDRINKER\",1}     │\n",
       "│ {\"Invictus\",1}       │\n",
       "│ {\"Cacty\",1}          │\n",
       "│ {\"Grunter\",1}        │\n",
       "│ {\"yndgaming\",1}      │\n",
       "│ {\"TheShortCook\",1}   │\n",
       "│ {\"Neox\",1}           │\n",
       "│ {\"htpkBheLLioM\",1}   │\n",
       "│ {\"Humblesaiya\",1}    │\n",
       "│ {\"MoWjAhEeD\",1}      │\n",
       "│ {\"BeerMan\",1}        │\n",
       "└──────────────────────┘"
      ]
     },
     "execution_count": 52,
     "metadata": {},
     "output_type": "execute_result"
    }
   ],
   "source": [
    "# Remove the clan from the player_name\n",
    "# the clan and player are separated already in the user init data\n",
    "# but I don't see a way to tie it to the lobby_state user data).\n",
    "details_df = details_df.with_columns(\n",
    "    pl.col(\"player_name\").str.split(by=\"<sp/>\").list.last().alias(\"player_name\")\n",
    ")\n",
    "details_df.filter(pl.col(\"player_toon_id\") != 0).select(\n",
    "    pl.col(\"player_name\").value_counts(sort=True)\n",
    ").collect()"
   ]
  },
  {
   "cell_type": "code",
   "execution_count": 53,
   "id": "9ed8fe9a-78f6-4787-8273-84c306874020",
   "metadata": {},
   "outputs": [
    {
     "data": {
      "text/plain": [
       "Schema([('player_name', String),\n",
       "        ('player_toon_region', UInt8),\n",
       "        ('player_toon_program_id', UInt32),\n",
       "        ('player_toon_realm', UInt32),\n",
       "        ('player_toon_id', UInt64),\n",
       "        ('player_race', String),\n",
       "        ('player_color_a', UInt8),\n",
       "        ('player_color_r', UInt8),\n",
       "        ('player_color_g', UInt8),\n",
       "        ('player_color_b', UInt8),\n",
       "        ('player_control', UInt8),\n",
       "        ('player_team_id', UInt8),\n",
       "        ('player_observe', UInt8),\n",
       "        ('player_result', UInt8),\n",
       "        ('player_working_set_slot_id', UInt8),\n",
       "        ('player_hero', String),\n",
       "        ('title', String),\n",
       "        ('is_blizzard_map', Boolean),\n",
       "        ('time_utc', Int64),\n",
       "        ('time_local_offset', Int64),\n",
       "        ('ext_fs_id', UInt64),\n",
       "        ('ext_datetime', Datetime(time_unit='ns', time_zone=None)),\n",
       "        ('ext_fs_id_right', UInt64),\n",
       "        ('ext_fs_sha256', String),\n",
       "        ('ext_fs_file_name', String),\n",
       "        ('control', Int64),\n",
       "        ('user_id', Int64),\n",
       "        ('team_id', Int64),\n",
       "        ('observe', UInt8),\n",
       "        ('working_set_slot_id', UInt8),\n",
       "        ('map_size_x', UInt8),\n",
       "        ('map_size_y', UInt8)])"
      ]
     },
     "execution_count": 53,
     "metadata": {},
     "output_type": "execute_result"
    }
   ],
   "source": [
    "details_lobby_df = details_df.filter([pl.col(\"ext_fs_id\").eq(chosen_fs_id)]).join(\n",
    "    lobby_slot_init_data_df.filter([pl.col(\"ext_fs_id\").eq(chosen_fs_id)]).with_columns(\n",
    "        pl.col(\"working_set_slot_id\").alias(\"player_working_set_slot_id\")\n",
    "    ),\n",
    "    on=\"player_working_set_slot_id\",\n",
    ")\n",
    "details_lobby_df.collect_schema()"
   ]
  },
  {
   "cell_type": "code",
   "execution_count": 54,
   "id": "6e430667-997c-4c60-b9d3-607de00260c9",
   "metadata": {},
   "outputs": [
    {
     "data": {
      "text/plain": [
       "Schema([('player_id', UInt8),\n",
       "        ('name', String),\n",
       "        ('count', Int32),\n",
       "        ('ext_replay_loop', Int64),\n",
       "        ('ext_replay_seconds', UInt32),\n",
       "        ('ext_fs_id', UInt64)])"
      ]
     },
     "execution_count": 54,
     "metadata": {},
     "output_type": "execute_result"
    }
   ],
   "source": [
    "upgrades_df.collect_schema()"
   ]
  },
  {
   "cell_type": "code",
   "execution_count": 55,
   "id": "5c087dcf-6818-406f-9d39-93443b174ceb",
   "metadata": {},
   "outputs": [
    {
     "data": {
      "text/html": [
       "<div><style>\n",
       ".dataframe > thead > tr,\n",
       ".dataframe > tbody > tr {\n",
       "  text-align: right;\n",
       "  white-space: pre-wrap;\n",
       "}\n",
       "</style>\n",
       "<small>shape: (9, 7)</small><table border=\"1\" class=\"dataframe\"><thead><tr><th>statistic</th><th>player_id</th><th>name</th><th>count</th><th>ext_replay_loop</th><th>ext_replay_seconds</th><th>ext_fs_id</th></tr><tr><td>str</td><td>f64</td><td>str</td><td>f64</td><td>f64</td><td>f64</td><td>f64</td></tr></thead><tbody><tr><td>&quot;count&quot;</td><td>3.07452e6</td><td>&quot;3074520&quot;</td><td>3.07452e6</td><td>3.07452e6</td><td>3.07452e6</td><td>3.07452e6</td></tr><tr><td>&quot;null_count&quot;</td><td>0.0</td><td>&quot;0&quot;</td><td>0.0</td><td>0.0</td><td>0.0</td><td>0.0</td></tr><tr><td>&quot;mean&quot;</td><td>3.136683</td><td>null</td><td>0.681878</td><td>12500.384307</td><td>608.293145</td><td>30582.066743</td></tr><tr><td>&quot;std&quot;</td><td>3.056639</td><td>null</td><td>1.406891</td><td>19045.01724</td><td>927.225831</td><td>13511.01449</td></tr><tr><td>&quot;min&quot;</td><td>0.0</td><td>&quot;05EnergyRegen&quot;</td><td>-64.0</td><td>0.0</td><td>0.0</td><td>0.0</td></tr><tr><td>&quot;25%&quot;</td><td>1.0</td><td>null</td><td>0.0</td><td>0.0</td><td>0.0</td><td>18899.0</td></tr><tr><td>&quot;50%&quot;</td><td>2.0</td><td>null</td><td>1.0</td><td>7121.0</td><td>346.0</td><td>33954.0</td></tr><tr><td>&quot;75%&quot;</td><td>4.0</td><td>null</td><td>1.0</td><td>18643.0</td><td>907.0</td><td>39208.0</td></tr><tr><td>&quot;max&quot;</td><td>15.0</td><td>&quot;zerglingmovementspeed&quot;</td><td>127.0</td><td>735294.0</td><td>35802.0</td><td>54323.0</td></tr></tbody></table></div>"
      ],
      "text/plain": [
       "shape: (9, 7)\n",
       "┌────────────┬───────────┬───────────────────────┬───────────┬─────────────────┬────────────────────┬──────────────┐\n",
       "│ statistic  ┆ player_id ┆ name                  ┆ count     ┆ ext_replay_loop ┆ ext_replay_seconds ┆ ext_fs_id    │\n",
       "│ ---        ┆ ---       ┆ ---                   ┆ ---       ┆ ---             ┆ ---                ┆ ---          │\n",
       "│ str        ┆ f64       ┆ str                   ┆ f64       ┆ f64             ┆ f64                ┆ f64          │\n",
       "╞════════════╪═══════════╪═══════════════════════╪═══════════╪═════════════════╪════════════════════╪══════════════╡\n",
       "│ count      ┆ 3.07452e6 ┆ 3074520               ┆ 3.07452e6 ┆ 3.07452e6       ┆ 3.07452e6          ┆ 3.07452e6    │\n",
       "│ null_count ┆ 0.0       ┆ 0                     ┆ 0.0       ┆ 0.0             ┆ 0.0                ┆ 0.0          │\n",
       "│ mean       ┆ 3.136683  ┆ null                  ┆ 0.681878  ┆ 12500.384307    ┆ 608.293145         ┆ 30582.066743 │\n",
       "│ std        ┆ 3.056639  ┆ null                  ┆ 1.406891  ┆ 19045.01724     ┆ 927.225831         ┆ 13511.01449  │\n",
       "│ min        ┆ 0.0       ┆ 05EnergyRegen         ┆ -64.0     ┆ 0.0             ┆ 0.0                ┆ 0.0          │\n",
       "│ 25%        ┆ 1.0       ┆ null                  ┆ 0.0       ┆ 0.0             ┆ 0.0                ┆ 18899.0      │\n",
       "│ 50%        ┆ 2.0       ┆ null                  ┆ 1.0       ┆ 7121.0          ┆ 346.0              ┆ 33954.0      │\n",
       "│ 75%        ┆ 4.0       ┆ null                  ┆ 1.0       ┆ 18643.0         ┆ 907.0              ┆ 39208.0      │\n",
       "│ max        ┆ 15.0      ┆ zerglingmovementspeed ┆ 127.0     ┆ 735294.0        ┆ 35802.0            ┆ 54323.0      │\n",
       "└────────────┴───────────┴───────────────────────┴───────────┴─────────────────┴────────────────────┴──────────────┘"
      ]
     },
     "execution_count": 55,
     "metadata": {},
     "output_type": "execute_result"
    }
   ],
   "source": [
    "upgrades_df.describe()"
   ]
  },
  {
   "cell_type": "code",
   "execution_count": 56,
   "id": "50d1851c-6f17-450f-b9d8-8af2f571309c",
   "metadata": {},
   "outputs": [
    {
     "data": {
      "text/html": [
       "<div><style>\n",
       ".dataframe > thead > tr,\n",
       ".dataframe > tbody > tr {\n",
       "  text-align: right;\n",
       "  white-space: pre-wrap;\n",
       "}\n",
       "</style>\n",
       "<small>shape: (4_106, 1)</small><table border=\"1\" class=\"dataframe\"><thead><tr><th>name</th></tr><tr><td>struct[2]</td></tr></thead><tbody><tr><td>{&quot;SprayZerg&quot;,389339}</td></tr><tr><td>{&quot;SprayTerran&quot;,236029}</td></tr><tr><td>{&quot;SprayProtoss&quot;,227133}</td></tr><tr><td>{&quot;RewardDanceMule&quot;,45239}</td></tr><tr><td>{&quot;zerglingmovementspeed&quot;,45118}</td></tr><tr><td>{&quot;RewardDanceOverlord&quot;,44519}</td></tr><tr><td>{&quot;RewardDanceRoach&quot;,42632}</td></tr><tr><td>{&quot;RewardDanceViking&quot;,42388}</td></tr><tr><td>{&quot;RewardDanceStalker&quot;,41803}</td></tr><tr><td>{&quot;MineralIncomeBonus&quot;,41200}</td></tr><tr><td>{&quot;RewardDanceInfestor&quot;,39494}</td></tr><tr><td>{&quot;RewardDanceOracle&quot;,39293}</td></tr><tr><td>&hellip;</td></tr><tr><td>{&quot;UpgradeAMandDualBlasters&quot;,1}</td></tr><tr><td>{&quot;ProtossAirLifeUpgradeLevel5&quot;,1}</td></tr><tr><td>{&quot;CombatProwress&quot;,1}</td></tr><tr><td>{&quot;MasteryPsionicStorm&quot;,1}</td></tr><tr><td>{&quot;UnbreakableShield&quot;,1}</td></tr><tr><td>{&quot;ProtossAirArmorLevel5&quot;,1}</td></tr><tr><td>{&quot;WorkerOverrideMengsk&quot;,1}</td></tr><tr><td>{&quot;DecorationCore_1_4&quot;,1}</td></tr><tr><td>{&quot;DecorationFood_2_1&quot;,1}</td></tr><tr><td>{&quot;Patron&quot;,1}</td></tr><tr><td>{&quot;DecorationTech_0_0&quot;,1}</td></tr><tr><td>{&quot;DecorationUpgrades_0_0&quot;,1}</td></tr></tbody></table></div>"
      ],
      "text/plain": [
       "shape: (4_106, 1)\n",
       "┌───────────────────────────────────┐\n",
       "│ name                              │\n",
       "│ ---                               │\n",
       "│ struct[2]                         │\n",
       "╞═══════════════════════════════════╡\n",
       "│ {\"SprayZerg\",389339}              │\n",
       "│ {\"SprayTerran\",236029}            │\n",
       "│ {\"SprayProtoss\",227133}           │\n",
       "│ {\"RewardDanceMule\",45239}         │\n",
       "│ {\"zerglingmovementspeed\",45118}   │\n",
       "│ {\"RewardDanceOverlord\",44519}     │\n",
       "│ {\"RewardDanceRoach\",42632}        │\n",
       "│ {\"RewardDanceViking\",42388}       │\n",
       "│ {\"RewardDanceStalker\",41803}      │\n",
       "│ {\"MineralIncomeBonus\",41200}      │\n",
       "│ {\"RewardDanceInfestor\",39494}     │\n",
       "│ {\"RewardDanceOracle\",39293}       │\n",
       "│ …                                 │\n",
       "│ {\"UpgradeAMandDualBlasters\",1}    │\n",
       "│ {\"ProtossAirLifeUpgradeLevel5\",1} │\n",
       "│ {\"CombatProwress\",1}              │\n",
       "│ {\"MasteryPsionicStorm\",1}         │\n",
       "│ {\"UnbreakableShield\",1}           │\n",
       "│ {\"ProtossAirArmorLevel5\",1}       │\n",
       "│ {\"WorkerOverrideMengsk\",1}        │\n",
       "│ {\"DecorationCore_1_4\",1}          │\n",
       "│ {\"DecorationFood_2_1\",1}          │\n",
       "│ {\"Patron\",1}                      │\n",
       "│ {\"DecorationTech_0_0\",1}          │\n",
       "│ {\"DecorationUpgrades_0_0\",1}      │\n",
       "└───────────────────────────────────┘"
      ]
     },
     "execution_count": 56,
     "metadata": {},
     "output_type": "execute_result"
    }
   ],
   "source": [
    "upgrades_df.select(pl.col(\"name\").value_counts(sort=True)).collect()\n",
    "# player_id is 0..15\n",
    "#             0 is only 20 occurrences and it's from campaign\n",
    "#             From 1 it's actual players.\n",
    "# name: the name of the upgrade, many are like SprayZerg/Protoss or RewardDance<Unit>\n",
    "# I checked both  the s2protocol python module and debugged this one and they both are missing most of the upgardes...\n",
    "# Maybe after a specific version it comes in different event type?"
   ]
  },
  {
   "cell_type": "code",
   "execution_count": 57,
   "id": "721855b3-a278-486d-87ac-1a618519813b",
   "metadata": {},
   "outputs": [
    {
     "data": {
      "text/html": [
       "<div><style>\n",
       ".dataframe > thead > tr,\n",
       ".dataframe > tbody > tr {\n",
       "  text-align: right;\n",
       "  white-space: pre-wrap;\n",
       "}\n",
       "</style>\n",
       "<small>shape: (8, 6)</small><table border=\"1\" class=\"dataframe\"><thead><tr><th>player_id</th><th>name</th><th>count</th><th>ext_replay_loop</th><th>ext_replay_seconds</th><th>ext_fs_id</th></tr><tr><td>u8</td><td>str</td><td>i32</td><td>i64</td><td>u32</td><td>u64</td></tr></thead><tbody><tr><td>1</td><td>&quot;zerglingmovementspeed&quot;</td><td>1</td><td>6584</td><td>320</td><td>16594</td></tr><tr><td>2</td><td>&quot;WarpGateResearch&quot;</td><td>1</td><td>7728</td><td>376</td><td>16594</td></tr><tr><td>2</td><td>&quot;BlinkTech&quot;</td><td>1</td><td>14609</td><td>711</td><td>16594</td></tr><tr><td>1</td><td>&quot;GlialReconstitution&quot;</td><td>1</td><td>14643</td><td>712</td><td>16594</td></tr><tr><td>2</td><td>&quot;ProtossGroundWeaponsLevel1&quot;</td><td>1</td><td>14921</td><td>726</td><td>16594</td></tr><tr><td>2</td><td>&quot;PsiStormTech&quot;</td><td>1</td><td>14981</td><td>729</td><td>16594</td></tr><tr><td>1</td><td>&quot;overlordspeed&quot;</td><td>1</td><td>15041</td><td>732</td><td>16594</td></tr><tr><td>1</td><td>&quot;ZergMissileWeaponsLevel1&quot;</td><td>1</td><td>16403</td><td>798</td><td>16594</td></tr></tbody></table></div>"
      ],
      "text/plain": [
       "shape: (8, 6)\n",
       "┌───────────┬────────────────────────────┬───────┬─────────────────┬────────────────────┬───────────┐\n",
       "│ player_id ┆ name                       ┆ count ┆ ext_replay_loop ┆ ext_replay_seconds ┆ ext_fs_id │\n",
       "│ ---       ┆ ---                        ┆ ---   ┆ ---             ┆ ---                ┆ ---       │\n",
       "│ u8        ┆ str                        ┆ i32   ┆ i64             ┆ u32                ┆ u64       │\n",
       "╞═══════════╪════════════════════════════╪═══════╪═════════════════╪════════════════════╪═══════════╡\n",
       "│ 1         ┆ zerglingmovementspeed      ┆ 1     ┆ 6584            ┆ 320                ┆ 16594     │\n",
       "│ 2         ┆ WarpGateResearch           ┆ 1     ┆ 7728            ┆ 376                ┆ 16594     │\n",
       "│ 2         ┆ BlinkTech                  ┆ 1     ┆ 14609           ┆ 711                ┆ 16594     │\n",
       "│ 1         ┆ GlialReconstitution        ┆ 1     ┆ 14643           ┆ 712                ┆ 16594     │\n",
       "│ 2         ┆ ProtossGroundWeaponsLevel1 ┆ 1     ┆ 14921           ┆ 726                ┆ 16594     │\n",
       "│ 2         ┆ PsiStormTech               ┆ 1     ┆ 14981           ┆ 729                ┆ 16594     │\n",
       "│ 1         ┆ overlordspeed              ┆ 1     ┆ 15041           ┆ 732                ┆ 16594     │\n",
       "│ 1         ┆ ZergMissileWeaponsLevel1   ┆ 1     ┆ 16403           ┆ 798                ┆ 16594     │\n",
       "└───────────┴────────────────────────────┴───────┴─────────────────┴────────────────────┴───────────┘"
      ]
     },
     "execution_count": 57,
     "metadata": {},
     "output_type": "execute_result"
    }
   ],
   "source": [
    "# Clean up a little bit the upgrades:\n",
    "upgrades_df = upgrades_df.filter(\n",
    "    [\n",
    "        ~pl.col(\"name\").str.contains(\"Reward\")\n",
    "        & ~pl.col(\"name\").str.contains(\"Spray\")\n",
    "        & ~pl.col(\"name\").str.contains(\"GameHeart\")\n",
    "    ]\n",
    ")\n",
    "upgrades_df.filter(pl.col(\"ext_fs_id\").eq(chosen_fs_id)).collect()"
   ]
  },
  {
   "cell_type": "code",
   "execution_count": 58,
   "id": "4053a795-9bdf-4767-9d02-ac37053b9b13",
   "metadata": {},
   "outputs": [
    {
     "data": {
      "text/html": [
       "<div><style>\n",
       ".dataframe > thead > tr,\n",
       ".dataframe > tbody > tr {\n",
       "  text-align: right;\n",
       "  white-space: pre-wrap;\n",
       "}\n",
       "</style>\n",
       "<small>shape: (8, 37)</small><table border=\"1\" class=\"dataframe\"><thead><tr><th>player_id</th><th>name</th><th>count</th><th>ext_replay_loop</th><th>ext_replay_seconds</th><th>ext_fs_id</th><th>player_name</th><th>player_toon_region</th><th>player_toon_program_id</th><th>player_toon_realm</th><th>player_toon_id</th><th>player_race</th><th>player_color_a</th><th>player_color_r</th><th>player_color_g</th><th>player_color_b</th><th>player_control</th><th>player_team_id</th><th>player_observe</th><th>player_result</th><th>player_working_set_slot_id</th><th>player_hero</th><th>title</th><th>is_blizzard_map</th><th>time_utc</th><th>time_local_offset</th><th>ext_datetime</th><th>ext_fs_id_right</th><th>ext_fs_sha256</th><th>ext_fs_file_name</th><th>control</th><th>user_id</th><th>team_id</th><th>observe</th><th>working_set_slot_id</th><th>map_size_x</th><th>map_size_y</th></tr><tr><td>u8</td><td>str</td><td>i32</td><td>i64</td><td>u32</td><td>u64</td><td>str</td><td>u8</td><td>u32</td><td>u32</td><td>u64</td><td>str</td><td>u8</td><td>u8</td><td>u8</td><td>u8</td><td>u8</td><td>u8</td><td>u8</td><td>u8</td><td>u8</td><td>str</td><td>str</td><td>bool</td><td>i64</td><td>i64</td><td>datetime[ns]</td><td>u64</td><td>str</td><td>str</td><td>i64</td><td>i64</td><td>i64</td><td>u8</td><td>u8</td><td>u8</td><td>u8</td></tr></thead><tbody><tr><td>1</td><td>&quot;zerglingmovementspeed&quot;</td><td>1</td><td>6584</td><td>320</td><td>16594</td><td>&quot;Serral&quot;</td><td>2</td><td>21298</td><td>1</td><td>9691277</td><td>&quot;Zerg&quot;</td><td>255</td><td>180</td><td>20</td><td>30</td><td>2</td><td>0</td><td>0</td><td>1</td><td>2</td><td>&quot;&quot;</td><td>&quot;Persephone LE&quot;</td><td>true</td><td>133979343142010758</td><td>108000000000</td><td>2025-07-25 13:25:14.201075</td><td>16594</td><td>&quot;3f32defc30edd6fd9275ca96dfa5b5a3a2c3b8697c6540e865e2ef595c0265a3&quot;</td><td>&quot;/home/seb/SCReplaysOnNVMe/2025EWCReplayPack/3 - Playoffs/8 - Grand Finals - Serral vs Classic/20250725 - Game1 - Classic vs Serral - Persephone.SC2Replay&quot;</td><td>2</td><td>2</td><td>0</td><td>0</td><td>2</td><td>160</td><td>184</td></tr><tr><td>2</td><td>&quot;WarpGateResearch&quot;</td><td>1</td><td>7728</td><td>376</td><td>16594</td><td>&quot;Classic&quot;</td><td>2</td><td>21298</td><td>1</td><td>9691041</td><td>&quot;Protoss&quot;</td><td>255</td><td>0</td><td>66</td><td>255</td><td>2</td><td>1</td><td>0</td><td>2</td><td>12</td><td>&quot;&quot;</td><td>&quot;Persephone LE&quot;</td><td>true</td><td>133979343142010758</td><td>108000000000</td><td>2025-07-25 13:25:14.201075</td><td>16594</td><td>&quot;3f32defc30edd6fd9275ca96dfa5b5a3a2c3b8697c6540e865e2ef595c0265a3&quot;</td><td>&quot;/home/seb/SCReplaysOnNVMe/2025EWCReplayPack/3 - Playoffs/8 - Grand Finals - Serral vs Classic/20250725 - Game1 - Classic vs Serral - Persephone.SC2Replay&quot;</td><td>2</td><td>3</td><td>1</td><td>0</td><td>12</td><td>160</td><td>184</td></tr><tr><td>2</td><td>&quot;BlinkTech&quot;</td><td>1</td><td>14609</td><td>711</td><td>16594</td><td>&quot;Classic&quot;</td><td>2</td><td>21298</td><td>1</td><td>9691041</td><td>&quot;Protoss&quot;</td><td>255</td><td>0</td><td>66</td><td>255</td><td>2</td><td>1</td><td>0</td><td>2</td><td>12</td><td>&quot;&quot;</td><td>&quot;Persephone LE&quot;</td><td>true</td><td>133979343142010758</td><td>108000000000</td><td>2025-07-25 13:25:14.201075</td><td>16594</td><td>&quot;3f32defc30edd6fd9275ca96dfa5b5a3a2c3b8697c6540e865e2ef595c0265a3&quot;</td><td>&quot;/home/seb/SCReplaysOnNVMe/2025EWCReplayPack/3 - Playoffs/8 - Grand Finals - Serral vs Classic/20250725 - Game1 - Classic vs Serral - Persephone.SC2Replay&quot;</td><td>2</td><td>3</td><td>1</td><td>0</td><td>12</td><td>160</td><td>184</td></tr><tr><td>1</td><td>&quot;GlialReconstitution&quot;</td><td>1</td><td>14643</td><td>712</td><td>16594</td><td>&quot;Serral&quot;</td><td>2</td><td>21298</td><td>1</td><td>9691277</td><td>&quot;Zerg&quot;</td><td>255</td><td>180</td><td>20</td><td>30</td><td>2</td><td>0</td><td>0</td><td>1</td><td>2</td><td>&quot;&quot;</td><td>&quot;Persephone LE&quot;</td><td>true</td><td>133979343142010758</td><td>108000000000</td><td>2025-07-25 13:25:14.201075</td><td>16594</td><td>&quot;3f32defc30edd6fd9275ca96dfa5b5a3a2c3b8697c6540e865e2ef595c0265a3&quot;</td><td>&quot;/home/seb/SCReplaysOnNVMe/2025EWCReplayPack/3 - Playoffs/8 - Grand Finals - Serral vs Classic/20250725 - Game1 - Classic vs Serral - Persephone.SC2Replay&quot;</td><td>2</td><td>2</td><td>0</td><td>0</td><td>2</td><td>160</td><td>184</td></tr><tr><td>2</td><td>&quot;ProtossGroundWeaponsLevel1&quot;</td><td>1</td><td>14921</td><td>726</td><td>16594</td><td>&quot;Classic&quot;</td><td>2</td><td>21298</td><td>1</td><td>9691041</td><td>&quot;Protoss&quot;</td><td>255</td><td>0</td><td>66</td><td>255</td><td>2</td><td>1</td><td>0</td><td>2</td><td>12</td><td>&quot;&quot;</td><td>&quot;Persephone LE&quot;</td><td>true</td><td>133979343142010758</td><td>108000000000</td><td>2025-07-25 13:25:14.201075</td><td>16594</td><td>&quot;3f32defc30edd6fd9275ca96dfa5b5a3a2c3b8697c6540e865e2ef595c0265a3&quot;</td><td>&quot;/home/seb/SCReplaysOnNVMe/2025EWCReplayPack/3 - Playoffs/8 - Grand Finals - Serral vs Classic/20250725 - Game1 - Classic vs Serral - Persephone.SC2Replay&quot;</td><td>2</td><td>3</td><td>1</td><td>0</td><td>12</td><td>160</td><td>184</td></tr><tr><td>2</td><td>&quot;PsiStormTech&quot;</td><td>1</td><td>14981</td><td>729</td><td>16594</td><td>&quot;Classic&quot;</td><td>2</td><td>21298</td><td>1</td><td>9691041</td><td>&quot;Protoss&quot;</td><td>255</td><td>0</td><td>66</td><td>255</td><td>2</td><td>1</td><td>0</td><td>2</td><td>12</td><td>&quot;&quot;</td><td>&quot;Persephone LE&quot;</td><td>true</td><td>133979343142010758</td><td>108000000000</td><td>2025-07-25 13:25:14.201075</td><td>16594</td><td>&quot;3f32defc30edd6fd9275ca96dfa5b5a3a2c3b8697c6540e865e2ef595c0265a3&quot;</td><td>&quot;/home/seb/SCReplaysOnNVMe/2025EWCReplayPack/3 - Playoffs/8 - Grand Finals - Serral vs Classic/20250725 - Game1 - Classic vs Serral - Persephone.SC2Replay&quot;</td><td>2</td><td>3</td><td>1</td><td>0</td><td>12</td><td>160</td><td>184</td></tr><tr><td>1</td><td>&quot;overlordspeed&quot;</td><td>1</td><td>15041</td><td>732</td><td>16594</td><td>&quot;Serral&quot;</td><td>2</td><td>21298</td><td>1</td><td>9691277</td><td>&quot;Zerg&quot;</td><td>255</td><td>180</td><td>20</td><td>30</td><td>2</td><td>0</td><td>0</td><td>1</td><td>2</td><td>&quot;&quot;</td><td>&quot;Persephone LE&quot;</td><td>true</td><td>133979343142010758</td><td>108000000000</td><td>2025-07-25 13:25:14.201075</td><td>16594</td><td>&quot;3f32defc30edd6fd9275ca96dfa5b5a3a2c3b8697c6540e865e2ef595c0265a3&quot;</td><td>&quot;/home/seb/SCReplaysOnNVMe/2025EWCReplayPack/3 - Playoffs/8 - Grand Finals - Serral vs Classic/20250725 - Game1 - Classic vs Serral - Persephone.SC2Replay&quot;</td><td>2</td><td>2</td><td>0</td><td>0</td><td>2</td><td>160</td><td>184</td></tr><tr><td>1</td><td>&quot;ZergMissileWeaponsLevel1&quot;</td><td>1</td><td>16403</td><td>798</td><td>16594</td><td>&quot;Serral&quot;</td><td>2</td><td>21298</td><td>1</td><td>9691277</td><td>&quot;Zerg&quot;</td><td>255</td><td>180</td><td>20</td><td>30</td><td>2</td><td>0</td><td>0</td><td>1</td><td>2</td><td>&quot;&quot;</td><td>&quot;Persephone LE&quot;</td><td>true</td><td>133979343142010758</td><td>108000000000</td><td>2025-07-25 13:25:14.201075</td><td>16594</td><td>&quot;3f32defc30edd6fd9275ca96dfa5b5a3a2c3b8697c6540e865e2ef595c0265a3&quot;</td><td>&quot;/home/seb/SCReplaysOnNVMe/2025EWCReplayPack/3 - Playoffs/8 - Grand Finals - Serral vs Classic/20250725 - Game1 - Classic vs Serral - Persephone.SC2Replay&quot;</td><td>2</td><td>2</td><td>0</td><td>0</td><td>2</td><td>160</td><td>184</td></tr></tbody></table></div>"
      ],
      "text/plain": [
       "shape: (8, 37)\n",
       "┌───────────┬────────────────────────────┬───────┬─────────────────┬───┬─────────┬─────────────────────┬────────────┬────────────┐\n",
       "│ player_id ┆ name                       ┆ count ┆ ext_replay_loop ┆ … ┆ observe ┆ working_set_slot_id ┆ map_size_x ┆ map_size_y │\n",
       "│ ---       ┆ ---                        ┆ ---   ┆ ---             ┆   ┆ ---     ┆ ---                 ┆ ---        ┆ ---        │\n",
       "│ u8        ┆ str                        ┆ i32   ┆ i64             ┆   ┆ u8      ┆ u8                  ┆ u8         ┆ u8         │\n",
       "╞═══════════╪════════════════════════════╪═══════╪═════════════════╪═══╪═════════╪═════════════════════╪════════════╪════════════╡\n",
       "│ 1         ┆ zerglingmovementspeed      ┆ 1     ┆ 6584            ┆ … ┆ 0       ┆ 2                   ┆ 160        ┆ 184        │\n",
       "│ 2         ┆ WarpGateResearch           ┆ 1     ┆ 7728            ┆ … ┆ 0       ┆ 12                  ┆ 160        ┆ 184        │\n",
       "│ 2         ┆ BlinkTech                  ┆ 1     ┆ 14609           ┆ … ┆ 0       ┆ 12                  ┆ 160        ┆ 184        │\n",
       "│ 1         ┆ GlialReconstitution        ┆ 1     ┆ 14643           ┆ … ┆ 0       ┆ 2                   ┆ 160        ┆ 184        │\n",
       "│ 2         ┆ ProtossGroundWeaponsLevel1 ┆ 1     ┆ 14921           ┆ … ┆ 0       ┆ 12                  ┆ 160        ┆ 184        │\n",
       "│ 2         ┆ PsiStormTech               ┆ 1     ┆ 14981           ┆ … ┆ 0       ┆ 12                  ┆ 160        ┆ 184        │\n",
       "│ 1         ┆ overlordspeed              ┆ 1     ┆ 15041           ┆ … ┆ 0       ┆ 2                   ┆ 160        ┆ 184        │\n",
       "│ 1         ┆ ZergMissileWeaponsLevel1   ┆ 1     ┆ 16403           ┆ … ┆ 0       ┆ 2                   ┆ 160        ┆ 184        │\n",
       "└───────────┴────────────────────────────┴───────┴─────────────────┴───┴─────────┴─────────────────────┴────────────┴────────────┘"
      ]
     },
     "execution_count": 58,
     "metadata": {},
     "output_type": "execute_result"
    }
   ],
   "source": [
    "upgrades_df.filter(pl.col(\"ext_fs_id\").eq(chosen_fs_id)).join(\n",
    "    details_lobby_df.filter(pl.col(\"ext_fs_id\").eq(chosen_fs_id)).with_columns(\n",
    "        pl.col(\"user_id\").sub(1).alias(\"player_id\")\n",
    "    ),\n",
    "    on=[\"player_id\", \"ext_fs_id\"],\n",
    ").collect()"
   ]
  },
  {
   "cell_type": "code",
   "execution_count": 59,
   "id": "6790a456-f024-486e-80b5-bec6ed51b231",
   "metadata": {},
   "outputs": [
    {
     "data": {
      "text/plain": [
       "Schema([('player_id', UInt8),\n",
       "        ('minerals_current', Int32),\n",
       "        ('vespene_current', Int32),\n",
       "        ('minerals_collection_rate', Int32),\n",
       "        ('vespene_collection_rate', Int32),\n",
       "        ('workers_active_count', Int32),\n",
       "        ('minerals_used_in_progress_army', Int32),\n",
       "        ('minerals_used_in_progress_economy', Int32),\n",
       "        ('minerals_used_in_progress_technology', Int32),\n",
       "        ('vespene_used_in_progress_army', Int32),\n",
       "        ('vespene_used_in_progress_economy', Int32),\n",
       "        ('vespene_used_in_progress_technology', Int32),\n",
       "        ('minerals_used_current_army', Int32),\n",
       "        ('minerals_used_current_economy', Int32),\n",
       "        ('minerals_used_current_technology', Int32),\n",
       "        ('vespene_used_current_army', Int32),\n",
       "        ('vespene_used_current_economy', Int32),\n",
       "        ('vespene_used_current_technology', Int32),\n",
       "        ('minerals_lost_army', Int32),\n",
       "        ('minerals_lost_economy', Int32),\n",
       "        ('minerals_lost_technology', Int32),\n",
       "        ('vespene_lost_army', Int32),\n",
       "        ('vespene_lost_economy', Int32),\n",
       "        ('vespene_lost_technology', Int32),\n",
       "        ('minerals_killed_army', Int32),\n",
       "        ('minerals_killed_economy', Int32),\n",
       "        ('minerals_killed_technology', Int32),\n",
       "        ('vespene_killed_army', Int32),\n",
       "        ('vespene_killed_economy', Int32),\n",
       "        ('vespene_killed_technology', Int32),\n",
       "        ('food_used', Int32),\n",
       "        ('food_made', Int32),\n",
       "        ('minerals_used_active_forces', Int32),\n",
       "        ('vespene_used_active_forces', Int32),\n",
       "        ('minerals_friendly_fire_army', Int32),\n",
       "        ('minerals_friendly_fire_economy', Int32),\n",
       "        ('minerals_friendly_fire_technology', Int32),\n",
       "        ('vespene_friendly_fire_army', Int32),\n",
       "        ('vespene_friendly_fire_economy', Int32),\n",
       "        ('vespene_friendly_fire_technology', Int32),\n",
       "        ('ext_replay_loop', Int64),\n",
       "        ('ext_replay_seconds', UInt32),\n",
       "        ('ext_fs_id', UInt64)])"
      ]
     },
     "execution_count": 59,
     "metadata": {},
     "output_type": "execute_result"
    }
   ],
   "source": [
    "stats_df.collect_schema()"
   ]
  },
  {
   "cell_type": "code",
   "execution_count": 60,
   "id": "253cf960-ab97-4f14-a3b8-a5cc048e70d8",
   "metadata": {},
   "outputs": [
    {
     "data": {
      "text/html": [
       "<div><style>\n",
       ".dataframe > thead > tr,\n",
       ".dataframe > tbody > tr {\n",
       "  text-align: right;\n",
       "  white-space: pre-wrap;\n",
       "}\n",
       "</style>\n",
       "<small>shape: (9, 44)</small><table border=\"1\" class=\"dataframe\"><thead><tr><th>statistic</th><th>player_id</th><th>minerals_current</th><th>vespene_current</th><th>minerals_collection_rate</th><th>vespene_collection_rate</th><th>workers_active_count</th><th>minerals_used_in_progress_army</th><th>minerals_used_in_progress_economy</th><th>minerals_used_in_progress_technology</th><th>vespene_used_in_progress_army</th><th>vespene_used_in_progress_economy</th><th>vespene_used_in_progress_technology</th><th>minerals_used_current_army</th><th>minerals_used_current_economy</th><th>minerals_used_current_technology</th><th>vespene_used_current_army</th><th>vespene_used_current_economy</th><th>vespene_used_current_technology</th><th>minerals_lost_army</th><th>minerals_lost_economy</th><th>minerals_lost_technology</th><th>vespene_lost_army</th><th>vespene_lost_economy</th><th>vespene_lost_technology</th><th>minerals_killed_army</th><th>minerals_killed_economy</th><th>minerals_killed_technology</th><th>vespene_killed_army</th><th>vespene_killed_economy</th><th>vespene_killed_technology</th><th>food_used</th><th>food_made</th><th>minerals_used_active_forces</th><th>vespene_used_active_forces</th><th>minerals_friendly_fire_army</th><th>minerals_friendly_fire_economy</th><th>minerals_friendly_fire_technology</th><th>vespene_friendly_fire_army</th><th>vespene_friendly_fire_economy</th><th>vespene_friendly_fire_technology</th><th>ext_replay_loop</th><th>ext_replay_seconds</th><th>ext_fs_id</th></tr><tr><td>str</td><td>f64</td><td>f64</td><td>f64</td><td>f64</td><td>f64</td><td>f64</td><td>f64</td><td>f64</td><td>f64</td><td>f64</td><td>f64</td><td>f64</td><td>f64</td><td>f64</td><td>f64</td><td>f64</td><td>f64</td><td>f64</td><td>f64</td><td>f64</td><td>f64</td><td>f64</td><td>f64</td><td>f64</td><td>f64</td><td>f64</td><td>f64</td><td>f64</td><td>f64</td><td>f64</td><td>f64</td><td>f64</td><td>f64</td><td>f64</td><td>f64</td><td>f64</td><td>f64</td><td>f64</td><td>f64</td><td>f64</td><td>f64</td><td>f64</td><td>f64</td></tr></thead><tbody><tr><td>&quot;count&quot;</td><td>1.0867638e7</td><td>1.0867638e7</td><td>1.0867638e7</td><td>1.0867638e7</td><td>1.0867638e7</td><td>1.0867638e7</td><td>1.0867638e7</td><td>1.0867638e7</td><td>1.0867638e7</td><td>1.0867638e7</td><td>1.0867638e7</td><td>1.0867638e7</td><td>1.0867638e7</td><td>1.0867638e7</td><td>1.0867638e7</td><td>1.0867638e7</td><td>1.0867638e7</td><td>1.0867638e7</td><td>1.0867638e7</td><td>1.0867638e7</td><td>1.0867638e7</td><td>1.0867638e7</td><td>1.0867638e7</td><td>1.0867638e7</td><td>1.0867638e7</td><td>1.0867638e7</td><td>1.0867638e7</td><td>1.0867638e7</td><td>1.0867638e7</td><td>1.0867638e7</td><td>1.0867638e7</td><td>1.0867638e7</td><td>1.0867638e7</td><td>1.0867638e7</td><td>1.0867638e7</td><td>1.0867638e7</td><td>1.0867638e7</td><td>1.0867638e7</td><td>1.0867638e7</td><td>1.0867638e7</td><td>1.0867638e7</td><td>1.0867638e7</td><td>1.0867638e7</td></tr><tr><td>&quot;null_count&quot;</td><td>0.0</td><td>0.0</td><td>0.0</td><td>0.0</td><td>0.0</td><td>0.0</td><td>0.0</td><td>0.0</td><td>0.0</td><td>0.0</td><td>0.0</td><td>0.0</td><td>0.0</td><td>0.0</td><td>0.0</td><td>0.0</td><td>0.0</td><td>0.0</td><td>0.0</td><td>0.0</td><td>0.0</td><td>0.0</td><td>0.0</td><td>0.0</td><td>0.0</td><td>0.0</td><td>0.0</td><td>0.0</td><td>0.0</td><td>0.0</td><td>0.0</td><td>0.0</td><td>0.0</td><td>0.0</td><td>0.0</td><td>0.0</td><td>0.0</td><td>0.0</td><td>0.0</td><td>0.0</td><td>0.0</td><td>0.0</td><td>0.0</td></tr><tr><td>&quot;mean&quot;</td><td>2.040324</td><td>7161.093621</td><td>1540.784684</td><td>1509.381282</td><td>485.889025</td><td>38.864301</td><td>259.623342</td><td>206.994603</td><td>108.828687</td><td>127.791416</td><td>2.360511</td><td>30.482875</td><td>2583.153929</td><td>4680.445414</td><td>2033.827134</td><td>1141.224279</td><td>120.237839</td><td>423.274576</td><td>5956.806849</td><td>1258.313263</td><td>422.676062</td><td>2582.784966</td><td>37.504705</td><td>45.684042</td><td>8137.794204</td><td>1320.571318</td><td>536.584637</td><td>3785.362793</td><td>28.504384</td><td>54.565683</td><td>86.542436</td><td>122.145925</td><td>2744.362845</td><td>1136.863703</td><td>225.382313</td><td>47.959367</td><td>26.294944</td><td>101.8621</td><td>0.464176</td><td>6.076989</td><td>23702.594847</td><td>1153.570983</td><td>25998.632221</td></tr><tr><td>&quot;std&quot;</td><td>1.360996</td><td>1.0251e6</td><td>11413.920231</td><td>1037.193691</td><td>531.145462</td><td>23.136313</td><td>420.724178</td><td>260.74912</td><td>186.148218</td><td>259.105211</td><td>100.749751</td><td>78.619912</td><td>97231.920522</td><td>5300.120144</td><td>10031.154468</td><td>2702.841842</td><td>4006.203723</td><td>1333.786838</td><td>85056.322284</td><td>3865.204279</td><td>2854.684413</td><td>8518.814939</td><td>1988.633847</td><td>801.964369</td><td>152780.194088</td><td>5875.302866</td><td>21784.665972</td><td>75294.089175</td><td>1591.862899</td><td>910.432084</td><td>63.948118</td><td>233.455406</td><td>97229.617961</td><td>2698.848045</td><td>1004.521885</td><td>175.743325</td><td>156.282546</td><td>668.389535</td><td>28.137779</td><td>104.566453</td><td>35302.389555</td><td>1718.943469</td><td>14450.697439</td></tr><tr><td>&quot;min&quot;</td><td>0.0</td><td>0.0</td><td>0.0</td><td>0.0</td><td>0.0</td><td>0.0</td><td>0.0</td><td>-12.0</td><td>-450.0</td><td>0.0</td><td>0.0</td><td>0.0</td><td>-5e7</td><td>-371175.0</td><td>-69300.0</td><td>-4020.0</td><td>-294.0</td><td>-690.0</td><td>-800.0</td><td>-1344.0</td><td>-1475.0</td><td>-900.0</td><td>-90.0</td><td>-900.0</td><td>0.0</td><td>0.0</td><td>0.0</td><td>0.0</td><td>0.0</td><td>0.0</td><td>0.0</td><td>0.0</td><td>-5e7</td><td>-1700.0</td><td>0.0</td><td>0.0</td><td>0.0</td><td>0.0</td><td>0.0</td><td>0.0</td><td>0.0</td><td>0.0</td><td>0.0</td></tr><tr><td>&quot;25%&quot;</td><td>1.0</td><td>125.0</td><td>65.0</td><td>811.0</td><td>134.0</td><td>19.0</td><td>0.0</td><td>0.0</td><td>0.0</td><td>0.0</td><td>0.0</td><td>0.0</td><td>200.0</td><td>2100.0</td><td>300.0</td><td>0.0</td><td>0.0</td><td>0.0</td><td>0.0</td><td>0.0</td><td>0.0</td><td>0.0</td><td>0.0</td><td>0.0</td><td>0.0</td><td>0.0</td><td>0.0</td><td>0.0</td><td>0.0</td><td>0.0</td><td>29.0</td><td>40.0</td><td>222.0</td><td>0.0</td><td>0.0</td><td>0.0</td><td>0.0</td><td>0.0</td><td>0.0</td><td>0.0</td><td>6986.0</td><td>340.0</td><td>13790.0</td></tr><tr><td>&quot;50%&quot;</td><td>2.0</td><td>324.0</td><td>230.0</td><td>1399.0</td><td>335.0</td><td>36.0</td><td>125.0</td><td>100.0</td><td>0.0</td><td>0.0</td><td>0.0</td><td>0.0</td><td>1250.0</td><td>4200.0</td><td>1100.0</td><td>375.0</td><td>0.0</td><td>275.0</td><td>400.0</td><td>50.0</td><td>0.0</td><td>50.0</td><td>0.0</td><td>0.0</td><td>400.0</td><td>75.0</td><td>0.0</td><td>50.0</td><td>0.0</td><td>0.0</td><td>72.0</td><td>101.0</td><td>1300.0</td><td>375.0</td><td>0.0</td><td>0.0</td><td>0.0</td><td>0.0</td><td>0.0</td><td>0.0</td><td>14648.0</td><td>713.0</td><td>22820.0</td></tr><tr><td>&quot;75%&quot;</td><td>2.0</td><td>1035.0</td><td>715.0</td><td>2172.0</td><td>694.0</td><td>58.0</td><td>375.0</td><td>400.0</td><td>150.0</td><td>175.0</td><td>0.0</td><td>0.0</td><td>3450.0</td><td>6725.0</td><td>2350.0</td><td>1550.0</td><td>0.0</td><td>650.0</td><td>4300.0</td><td>825.0</td><td>50.0</td><td>1350.0</td><td>0.0</td><td>0.0</td><td>3950.0</td><td>800.0</td><td>125.0</td><td>1275.0</td><td>0.0</td><td>0.0</td><td>138.0</td><td>186.0</td><td>3600.0</td><td>1525.0</td><td>0.0</td><td>0.0</td><td>0.0</td><td>0.0</td><td>0.0</td><td>0.0</td><td>25466.0</td><td>1239.0</td><td>38324.0</td></tr><tr><td>&quot;max&quot;</td><td>15.0</td><td>2.68435651e8</td><td>1.323338e6</td><td>159028.0</td><td>72794.0</td><td>200.0</td><td>90600.0</td><td>90000.0</td><td>35950.0</td><td>45000.0</td><td>90000.0</td><td>18500.0</td><td>7.7000868e7</td><td>609220.0</td><td>3.675e6</td><td>268851.0</td><td>577520.0</td><td>215685.0</td><td>4.0078725e7</td><td>203517.0</td><td>1.000127e6</td><td>545401.0</td><td>263975.0</td><td>128669.0</td><td>2.843875e7</td><td>324050.0</td><td>8e6</td><td>6.922053e6</td><td>203350.0</td><td>116005.0</td><td>907.0</td><td>10284.0</td><td>7.7000868e7</td><td>268851.0</td><td>131425.0</td><td>13050.0</td><td>17000.0</td><td>131930.0</td><td>3850.0</td><td>8500.0</td><td>738474.0</td><td>35957.0</td><td>54323.0</td></tr></tbody></table></div>"
      ],
      "text/plain": [
       "shape: (9, 44)\n",
       "┌────────────┬─────────────┬──────────────────┬─────────────────┬───┬──────────────────────────────────┬─────────────────┬────────────────────┬──────────────┐\n",
       "│ statistic  ┆ player_id   ┆ minerals_current ┆ vespene_current ┆ … ┆ vespene_friendly_fire_technology ┆ ext_replay_loop ┆ ext_replay_seconds ┆ ext_fs_id    │\n",
       "│ ---        ┆ ---         ┆ ---              ┆ ---             ┆   ┆ ---                              ┆ ---             ┆ ---                ┆ ---          │\n",
       "│ str        ┆ f64         ┆ f64              ┆ f64             ┆   ┆ f64                              ┆ f64             ┆ f64                ┆ f64          │\n",
       "╞════════════╪═════════════╪══════════════════╪═════════════════╪═══╪══════════════════════════════════╪═════════════════╪════════════════════╪══════════════╡\n",
       "│ count      ┆ 1.0867638e7 ┆ 1.0867638e7      ┆ 1.0867638e7     ┆ … ┆ 1.0867638e7                      ┆ 1.0867638e7     ┆ 1.0867638e7        ┆ 1.0867638e7  │\n",
       "│ null_count ┆ 0.0         ┆ 0.0              ┆ 0.0             ┆ … ┆ 0.0                              ┆ 0.0             ┆ 0.0                ┆ 0.0          │\n",
       "│ mean       ┆ 2.040324    ┆ 7161.093621      ┆ 1540.784684     ┆ … ┆ 6.076989                         ┆ 23702.594847    ┆ 1153.570983        ┆ 25998.632221 │\n",
       "│ std        ┆ 1.360996    ┆ 1.0251e6         ┆ 11413.920231    ┆ … ┆ 104.566453                       ┆ 35302.389555    ┆ 1718.943469        ┆ 14450.697439 │\n",
       "│ min        ┆ 0.0         ┆ 0.0              ┆ 0.0             ┆ … ┆ 0.0                              ┆ 0.0             ┆ 0.0                ┆ 0.0          │\n",
       "│ 25%        ┆ 1.0         ┆ 125.0            ┆ 65.0            ┆ … ┆ 0.0                              ┆ 6986.0          ┆ 340.0              ┆ 13790.0      │\n",
       "│ 50%        ┆ 2.0         ┆ 324.0            ┆ 230.0           ┆ … ┆ 0.0                              ┆ 14648.0         ┆ 713.0              ┆ 22820.0      │\n",
       "│ 75%        ┆ 2.0         ┆ 1035.0           ┆ 715.0           ┆ … ┆ 0.0                              ┆ 25466.0         ┆ 1239.0             ┆ 38324.0      │\n",
       "│ max        ┆ 15.0        ┆ 2.68435651e8     ┆ 1.323338e6      ┆ … ┆ 8500.0                           ┆ 738474.0        ┆ 35957.0            ┆ 54323.0      │\n",
       "└────────────┴─────────────┴──────────────────┴─────────────────┴───┴──────────────────────────────────┴─────────────────┴────────────────────┴──────────────┘"
      ]
     },
     "execution_count": 60,
     "metadata": {},
     "output_type": "execute_result"
    }
   ],
   "source": [
    "stats_df.describe()"
   ]
  },
  {
   "cell_type": "code",
   "execution_count": 61,
   "id": "a5dc9d39-dbed-42a3-8708-f3a1e4a396db",
   "metadata": {},
   "outputs": [
    {
     "data": {
      "text/html": [
       "<div><style>\n",
       ".dataframe > thead > tr,\n",
       ".dataframe > tbody > tr {\n",
       "  text-align: right;\n",
       "  white-space: pre-wrap;\n",
       "}\n",
       "</style>\n",
       "<small>shape: (549, 1)</small><table border=\"1\" class=\"dataframe\"><thead><tr><th>minerals_used_in_progress_economy</th></tr><tr><td>struct[2]</td></tr></thead><tbody><tr><td>{0,3603803}</td></tr><tr><td>{100,959676}</td></tr><tr><td>{50,847404}</td></tr><tr><td>{150,754554}</td></tr><tr><td>{400,648313}</td></tr><tr><td>{200,493650}</td></tr><tr><td>{450,456594}</td></tr><tr><td>{350,456481}</td></tr><tr><td>{500,378672}</td></tr><tr><td>{550,253251}</td></tr><tr><td>{250,232517}</td></tr><tr><td>{300,193514}</td></tr><tr><td>&hellip;</td></tr><tr><td>{29,1}</td></tr><tr><td>{1449,1}</td></tr><tr><td>{157,1}</td></tr><tr><td>{448,1}</td></tr><tr><td>{946,1}</td></tr><tr><td>{1046,1}</td></tr><tr><td>{1262,1}</td></tr><tr><td>{1114,1}</td></tr><tr><td>{740,1}</td></tr><tr><td>{814,1}</td></tr><tr><td>{420,1}</td></tr><tr><td>{772,1}</td></tr></tbody></table></div>"
      ],
      "text/plain": [
       "shape: (549, 1)\n",
       "┌───────────────────────────────────┐\n",
       "│ minerals_used_in_progress_economy │\n",
       "│ ---                               │\n",
       "│ struct[2]                         │\n",
       "╞═══════════════════════════════════╡\n",
       "│ {0,3603803}                       │\n",
       "│ {100,959676}                      │\n",
       "│ {50,847404}                       │\n",
       "│ {150,754554}                      │\n",
       "│ {400,648313}                      │\n",
       "│ {200,493650}                      │\n",
       "│ {450,456594}                      │\n",
       "│ {350,456481}                      │\n",
       "│ {500,378672}                      │\n",
       "│ {550,253251}                      │\n",
       "│ {250,232517}                      │\n",
       "│ {300,193514}                      │\n",
       "│ …                                 │\n",
       "│ {29,1}                            │\n",
       "│ {1449,1}                          │\n",
       "│ {157,1}                           │\n",
       "│ {448,1}                           │\n",
       "│ {946,1}                           │\n",
       "│ {1046,1}                          │\n",
       "│ {1262,1}                          │\n",
       "│ {1114,1}                          │\n",
       "│ {740,1}                           │\n",
       "│ {814,1}                           │\n",
       "│ {420,1}                           │\n",
       "│ {772,1}                           │\n",
       "└───────────────────────────────────┘"
      ]
     },
     "execution_count": 61,
     "metadata": {},
     "output_type": "execute_result"
    }
   ],
   "source": [
    "stats_df.select(\n",
    "    pl.col(\"minerals_used_in_progress_economy\").value_counts(sort=True)\n",
    ").collect()\n",
    "# player_id From 0..14, mostly 0 and 1, not sure which matches with working_set_slot_id\n",
    "# minerals_current self explanatory at a given ext_replay_loop for a specific user_id\n",
    "# vespene_current same as minerals_current\n",
    "# minerals_collection_rate unsure, seems to be from 0 to 14Ks, 1566 mean. maybe per minute?\n",
    "# vespene_collection_rate from 0 to 4Ks, 549 mean, as with minerals_collection_rate?\n",
    "# workers_active_count from 0 to 200 (oddly)\n",
    "# ------ Following fields are \"resource\" type:\n",
    "# ------ - Minerals\n",
    "# ------ - Vespene\n",
    "# ------ And for each resource, one stored field per \"bucket\"\n",
    "# ------ - Army\n",
    "# ------ - Economy\n",
    "# ------ - Technology\n",
    "# <resource>_used_in_progress_<bucket>\n",
    "# <resource>_used_current_<bucket>\n",
    "# <resource>_lost_<bucket>\n",
    "# <resource>_killed_<bucket>\n",
    "# <resource>_friendly_fire_<bucket>\n",
    "# ------ And then two more:\n",
    "# <resource>_used_active_forces"
   ]
  },
  {
   "cell_type": "code",
   "execution_count": 62,
   "id": "dafaf556-e728-43c9-9918-31917b34355d",
   "metadata": {
    "collapsed": true,
    "jupyter": {
     "outputs_hidden": true
    }
   },
   "outputs": [
    {
     "data": {
      "text/html": [
       "<div><style>\n",
       ".dataframe > thead > tr,\n",
       ".dataframe > tbody > tr {\n",
       "  text-align: right;\n",
       "  white-space: pre-wrap;\n",
       "}\n",
       "</style>\n",
       "<small>shape: (2, 74)</small><table border=\"1\" class=\"dataframe\"><thead><tr><th>player_id</th><th>minerals_current</th><th>vespene_current</th><th>minerals_collection_rate</th><th>vespene_collection_rate</th><th>workers_active_count</th><th>minerals_used_in_progress_army</th><th>minerals_used_in_progress_economy</th><th>minerals_used_in_progress_technology</th><th>vespene_used_in_progress_army</th><th>vespene_used_in_progress_economy</th><th>vespene_used_in_progress_technology</th><th>minerals_used_current_army</th><th>minerals_used_current_economy</th><th>minerals_used_current_technology</th><th>vespene_used_current_army</th><th>vespene_used_current_economy</th><th>vespene_used_current_technology</th><th>minerals_lost_army</th><th>minerals_lost_economy</th><th>minerals_lost_technology</th><th>vespene_lost_army</th><th>vespene_lost_economy</th><th>vespene_lost_technology</th><th>minerals_killed_army</th><th>minerals_killed_economy</th><th>minerals_killed_technology</th><th>vespene_killed_army</th><th>vespene_killed_economy</th><th>vespene_killed_technology</th><th>food_used</th><th>food_made</th><th>minerals_used_active_forces</th><th>vespene_used_active_forces</th><th>minerals_friendly_fire_army</th><th>minerals_friendly_fire_economy</th><th>minerals_friendly_fire_technology</th><th>vespene_friendly_fire_army</th><th>vespene_friendly_fire_economy</th><th>vespene_friendly_fire_technology</th><th>ext_replay_loop</th><th>ext_replay_seconds</th><th>ext_fs_id</th><th>player_name</th><th>player_toon_region</th><th>player_toon_program_id</th><th>player_toon_realm</th><th>player_toon_id</th><th>player_race</th><th>player_color_a</th><th>player_color_r</th><th>player_color_g</th><th>player_color_b</th><th>player_control</th><th>player_team_id</th><th>player_observe</th><th>player_result</th><th>player_working_set_slot_id</th><th>player_hero</th><th>title</th><th>is_blizzard_map</th><th>time_utc</th><th>time_local_offset</th><th>ext_datetime</th><th>ext_fs_id_right</th><th>ext_fs_sha256</th><th>ext_fs_file_name</th><th>control</th><th>user_id</th><th>team_id</th><th>observe</th><th>working_set_slot_id</th><th>map_size_x</th><th>map_size_y</th></tr><tr><td>u8</td><td>i32</td><td>i32</td><td>i32</td><td>i32</td><td>i32</td><td>i32</td><td>i32</td><td>i32</td><td>i32</td><td>i32</td><td>i32</td><td>i32</td><td>i32</td><td>i32</td><td>i32</td><td>i32</td><td>i32</td><td>i32</td><td>i32</td><td>i32</td><td>i32</td><td>i32</td><td>i32</td><td>i32</td><td>i32</td><td>i32</td><td>i32</td><td>i32</td><td>i32</td><td>i32</td><td>i32</td><td>i32</td><td>i32</td><td>i32</td><td>i32</td><td>i32</td><td>i32</td><td>i32</td><td>i32</td><td>i64</td><td>u32</td><td>u64</td><td>str</td><td>u8</td><td>u32</td><td>u32</td><td>u64</td><td>str</td><td>u8</td><td>u8</td><td>u8</td><td>u8</td><td>u8</td><td>u8</td><td>u8</td><td>u8</td><td>u8</td><td>str</td><td>str</td><td>bool</td><td>i64</td><td>i64</td><td>datetime[ns]</td><td>u64</td><td>str</td><td>str</td><td>i64</td><td>i64</td><td>i64</td><td>u8</td><td>u8</td><td>u8</td><td>u8</td></tr></thead><tbody><tr><td>1</td><td>50</td><td>0</td><td>0</td><td>0</td><td>12</td><td>0</td><td>0</td><td>0</td><td>0</td><td>0</td><td>0</td><td>0</td><td>1025</td><td>0</td><td>0</td><td>0</td><td>0</td><td>0</td><td>0</td><td>0</td><td>0</td><td>0</td><td>0</td><td>0</td><td>0</td><td>0</td><td>0</td><td>0</td><td>0</td><td>12</td><td>14</td><td>0</td><td>0</td><td>0</td><td>0</td><td>0</td><td>0</td><td>0</td><td>0</td><td>1</td><td>0</td><td>16594</td><td>&quot;Serral&quot;</td><td>2</td><td>21298</td><td>1</td><td>9691277</td><td>&quot;Zerg&quot;</td><td>255</td><td>180</td><td>20</td><td>30</td><td>2</td><td>0</td><td>0</td><td>1</td><td>2</td><td>&quot;&quot;</td><td>&quot;Persephone LE&quot;</td><td>true</td><td>133979343142010758</td><td>108000000000</td><td>2025-07-25 13:25:14.201075</td><td>16594</td><td>&quot;3f32defc30edd6fd9275ca96dfa5b5a3a2c3b8697c6540e865e2ef595c0265a3&quot;</td><td>&quot;/home/seb/SCReplaysOnNVMe/2025EWCReplayPack/3 - Playoffs/8 - Grand Finals - Serral vs Classic/20250725 - Game1 - Classic vs Serral - Persephone.SC2Replay&quot;</td><td>2</td><td>2</td><td>0</td><td>0</td><td>2</td><td>160</td><td>184</td></tr><tr><td>2</td><td>50</td><td>0</td><td>0</td><td>0</td><td>12</td><td>0</td><td>0</td><td>0</td><td>0</td><td>0</td><td>0</td><td>0</td><td>1000</td><td>0</td><td>0</td><td>0</td><td>0</td><td>0</td><td>0</td><td>0</td><td>0</td><td>0</td><td>0</td><td>0</td><td>0</td><td>0</td><td>0</td><td>0</td><td>0</td><td>12</td><td>15</td><td>0</td><td>0</td><td>0</td><td>0</td><td>0</td><td>0</td><td>0</td><td>0</td><td>1</td><td>0</td><td>16594</td><td>&quot;Classic&quot;</td><td>2</td><td>21298</td><td>1</td><td>9691041</td><td>&quot;Protoss&quot;</td><td>255</td><td>0</td><td>66</td><td>255</td><td>2</td><td>1</td><td>0</td><td>2</td><td>12</td><td>&quot;&quot;</td><td>&quot;Persephone LE&quot;</td><td>true</td><td>133979343142010758</td><td>108000000000</td><td>2025-07-25 13:25:14.201075</td><td>16594</td><td>&quot;3f32defc30edd6fd9275ca96dfa5b5a3a2c3b8697c6540e865e2ef595c0265a3&quot;</td><td>&quot;/home/seb/SCReplaysOnNVMe/2025EWCReplayPack/3 - Playoffs/8 - Grand Finals - Serral vs Classic/20250725 - Game1 - Classic vs Serral - Persephone.SC2Replay&quot;</td><td>2</td><td>3</td><td>1</td><td>0</td><td>12</td><td>160</td><td>184</td></tr></tbody></table></div>"
      ],
      "text/plain": [
       "shape: (2, 74)\n",
       "┌───────────┬──────────────────┬─────────────────┬──────────────────────────┬───┬─────────┬─────────────────────┬────────────┬────────────┐\n",
       "│ player_id ┆ minerals_current ┆ vespene_current ┆ minerals_collection_rate ┆ … ┆ observe ┆ working_set_slot_id ┆ map_size_x ┆ map_size_y │\n",
       "│ ---       ┆ ---              ┆ ---             ┆ ---                      ┆   ┆ ---     ┆ ---                 ┆ ---        ┆ ---        │\n",
       "│ u8        ┆ i32              ┆ i32             ┆ i32                      ┆   ┆ u8      ┆ u8                  ┆ u8         ┆ u8         │\n",
       "╞═══════════╪══════════════════╪═════════════════╪══════════════════════════╪═══╪═════════╪═════════════════════╪════════════╪════════════╡\n",
       "│ 1         ┆ 50               ┆ 0               ┆ 0                        ┆ … ┆ 0       ┆ 2                   ┆ 160        ┆ 184        │\n",
       "│ 2         ┆ 50               ┆ 0               ┆ 0                        ┆ … ┆ 0       ┆ 12                  ┆ 160        ┆ 184        │\n",
       "└───────────┴──────────────────┴─────────────────┴──────────────────────────┴───┴─────────┴─────────────────────┴────────────┴────────────┘"
      ]
     },
     "execution_count": 62,
     "metadata": {},
     "output_type": "execute_result"
    }
   ],
   "source": [
    "stats_df.filter(\n",
    "    [pl.col(\"ext_fs_id\").eq(chosen_fs_id) & pl.col(\"ext_replay_loop\").eq(1)]\n",
    ").join(\n",
    "    details_lobby_df.filter(pl.col(\"ext_fs_id\").eq(chosen_fs_id)).with_columns(\n",
    "        pl.col(\"user_id\").sub(1).alias(\"player_id\")\n",
    "    ),\n",
    "    on=[\"player_id\", \"ext_fs_id\"],\n",
    ").collect()"
   ]
  },
  {
   "cell_type": "code",
   "execution_count": 63,
   "id": "4d135918-33f4-4b19-b433-63dc1d4d82bf",
   "metadata": {
    "collapsed": true,
    "jupyter": {
     "outputs_hidden": true
    }
   },
   "outputs": [
    {
     "data": {
      "text/plain": [
       "Schema([('unit_tag_index', UInt32),\n",
       "        ('unit_tag_recycle', UInt32),\n",
       "        ('unit_type_name', String),\n",
       "        ('control_player_id', UInt8),\n",
       "        ('upkeep_player_id', UInt8),\n",
       "        ('x', Float32),\n",
       "        ('y', Float32),\n",
       "        ('creator_unit_tag_index', UInt32),\n",
       "        ('creator_unit_tag_recycle', UInt32),\n",
       "        ('creator_unit_type_name', String),\n",
       "        ('creator_ability_name', String),\n",
       "        ('ext_replay_loop', Int64),\n",
       "        ('ext_replay_seconds', UInt32),\n",
       "        ('ext_fs_id', UInt64)])"
      ]
     },
     "execution_count": 63,
     "metadata": {},
     "output_type": "execute_result"
    }
   ],
   "source": [
    "unit_born_df.collect_schema()"
   ]
  },
  {
   "cell_type": "code",
   "execution_count": 64,
   "id": "59139a73-7e7f-48c8-9f53-129dbafec416",
   "metadata": {
    "collapsed": true,
    "jupyter": {
     "outputs_hidden": true
    }
   },
   "outputs": [
    {
     "data": {
      "text/html": [
       "<div><style>\n",
       ".dataframe > thead > tr,\n",
       ".dataframe > tbody > tr {\n",
       "  text-align: right;\n",
       "  white-space: pre-wrap;\n",
       "}\n",
       "</style>\n",
       "<small>shape: (9, 15)</small><table border=\"1\" class=\"dataframe\"><thead><tr><th>statistic</th><th>unit_tag_index</th><th>unit_tag_recycle</th><th>unit_type_name</th><th>control_player_id</th><th>upkeep_player_id</th><th>x</th><th>y</th><th>creator_unit_tag_index</th><th>creator_unit_tag_recycle</th><th>creator_unit_type_name</th><th>creator_ability_name</th><th>ext_replay_loop</th><th>ext_replay_seconds</th><th>ext_fs_id</th></tr><tr><td>str</td><td>f64</td><td>f64</td><td>str</td><td>f64</td><td>f64</td><td>f64</td><td>f64</td><td>f64</td><td>f64</td><td>str</td><td>str</td><td>f64</td><td>f64</td><td>f64</td></tr></thead><tbody><tr><td>&quot;count&quot;</td><td>1.17375714e8</td><td>1.17375714e8</td><td>&quot;117375714&quot;</td><td>1.17375629e8</td><td>1.17375629e8</td><td>1.17375714e8</td><td>1.17375714e8</td><td>7.7673455e7</td><td>7.7673455e7</td><td>&quot;98104207&quot;</td><td>&quot;77673483&quot;</td><td>1.17375714e8</td><td>1.17375714e8</td><td>1.17375714e8</td></tr><tr><td>&quot;null_count&quot;</td><td>0.0</td><td>0.0</td><td>&quot;0&quot;</td><td>85.0</td><td>85.0</td><td>0.0</td><td>0.0</td><td>3.9702259e7</td><td>3.9702259e7</td><td>&quot;19271507&quot;</td><td>&quot;39702231&quot;</td><td>0.0</td><td>0.0</td><td>0.0</td></tr><tr><td>&quot;mean&quot;</td><td>492.178509</td><td>45.504042</td><td>null</td><td>1.543063</td><td>1.543063</td><td>96.055092</td><td>92.644661</td><td>506.479517</td><td>25.172304</td><td>null</td><td>null</td><td>40721.632156</td><td>1982.309267</td><td>21624.565453</td></tr><tr><td>&quot;std&quot;</td><td>288.75173</td><td>109.020177</td><td>null</td><td>1.176864</td><td>1.176864</td><td>44.437153</td><td>43.646477</td><td>269.298619</td><td>58.1475</td><td>null</td><td>null</td><td>49321.479661</td><td>2401.518399</td><td>13402.509743</td></tr><tr><td>&quot;min&quot;</td><td>0.0</td><td>1.0</td><td>&quot;105mmArtillery2&quot;</td><td>0.0</td><td>0.0</td><td>0.0</td><td>0.0</td><td>1.0</td><td>1.0</td><td>&quot;ACPirateCapitalShip&quot;</td><td>&quot;&quot;</td><td>0.0</td><td>0.0</td><td>0.0</td></tr><tr><td>&quot;25%&quot;</td><td>285.0</td><td>2.0</td><td>null</td><td>1.0</td><td>1.0</td><td>58.0</td><td>57.0</td><td>294.0</td><td>2.0</td><td>null</td><td>null</td><td>13827.0</td><td>673.0</td><td>12688.0</td></tr><tr><td>&quot;50%&quot;</td><td>460.0</td><td>10.0</td><td>null</td><td>1.0</td><td>1.0</td><td>97.0</td><td>93.0</td><td>488.0</td><td>4.0</td><td>null</td><td>null</td><td>24687.0</td><td>1202.0</td><td>15269.0</td></tr><tr><td>&quot;75%&quot;</td><td>684.0</td><td>42.0</td><td>null</td><td>2.0</td><td>2.0</td><td>131.0</td><td>126.0</td><td>705.0</td><td>20.0</td><td>null</td><td>null</td><td>42224.0</td><td>2055.0</td><td>30632.0</td></tr><tr><td>&quot;max&quot;</td><td>3741.0</td><td>5169.0</td><td>&quot;zealot_A22&quot;</td><td>15.0</td><td>15.0</td><td>255.0</td><td>255.0</td><td>3740.0</td><td>4487.0</td><td>&quot;uzig&quot;</td><td>&quot;toWarPig&quot;</td><td>738474.0</td><td>35957.0</td><td>54323.0</td></tr></tbody></table></div>"
      ],
      "text/plain": [
       "shape: (9, 15)\n",
       "┌────────────┬────────────────┬──────────────────┬─────────────────┬───┬──────────────────────┬─────────────────┬────────────────────┬──────────────┐\n",
       "│ statistic  ┆ unit_tag_index ┆ unit_tag_recycle ┆ unit_type_name  ┆ … ┆ creator_ability_name ┆ ext_replay_loop ┆ ext_replay_seconds ┆ ext_fs_id    │\n",
       "│ ---        ┆ ---            ┆ ---              ┆ ---             ┆   ┆ ---                  ┆ ---             ┆ ---                ┆ ---          │\n",
       "│ str        ┆ f64            ┆ f64              ┆ str             ┆   ┆ str                  ┆ f64             ┆ f64                ┆ f64          │\n",
       "╞════════════╪════════════════╪══════════════════╪═════════════════╪═══╪══════════════════════╪═════════════════╪════════════════════╪══════════════╡\n",
       "│ count      ┆ 1.17375714e8   ┆ 1.17375714e8     ┆ 117375714       ┆ … ┆ 77673483             ┆ 1.17375714e8    ┆ 1.17375714e8       ┆ 1.17375714e8 │\n",
       "│ null_count ┆ 0.0            ┆ 0.0              ┆ 0               ┆ … ┆ 39702231             ┆ 0.0             ┆ 0.0                ┆ 0.0          │\n",
       "│ mean       ┆ 492.178509     ┆ 45.504042        ┆ null            ┆ … ┆ null                 ┆ 40721.632156    ┆ 1982.309267        ┆ 21624.565453 │\n",
       "│ std        ┆ 288.75173      ┆ 109.020177       ┆ null            ┆ … ┆ null                 ┆ 49321.479661    ┆ 2401.518399        ┆ 13402.509743 │\n",
       "│ min        ┆ 0.0            ┆ 1.0              ┆ 105mmArtillery2 ┆ … ┆                      ┆ 0.0             ┆ 0.0                ┆ 0.0          │\n",
       "│ 25%        ┆ 285.0          ┆ 2.0              ┆ null            ┆ … ┆ null                 ┆ 13827.0         ┆ 673.0              ┆ 12688.0      │\n",
       "│ 50%        ┆ 460.0          ┆ 10.0             ┆ null            ┆ … ┆ null                 ┆ 24687.0         ┆ 1202.0             ┆ 15269.0      │\n",
       "│ 75%        ┆ 684.0          ┆ 42.0             ┆ null            ┆ … ┆ null                 ┆ 42224.0         ┆ 2055.0             ┆ 30632.0      │\n",
       "│ max        ┆ 3741.0         ┆ 5169.0           ┆ zealot_A22      ┆ … ┆ toWarPig             ┆ 738474.0        ┆ 35957.0            ┆ 54323.0      │\n",
       "└────────────┴────────────────┴──────────────────┴─────────────────┴───┴──────────────────────┴─────────────────┴────────────────────┴──────────────┘"
      ]
     },
     "execution_count": 64,
     "metadata": {},
     "output_type": "execute_result"
    }
   ],
   "source": [
    "unit_born_df.describe()"
   ]
  },
  {
   "cell_type": "code",
   "execution_count": 65,
   "id": "8b561aea-758b-4d73-ba69-830bf253babe",
   "metadata": {
    "collapsed": true,
    "jupyter": {
     "outputs_hidden": true
    }
   },
   "outputs": [
    {
     "data": {
      "text/html": [
       "<div><style>\n",
       ".dataframe > thead > tr,\n",
       ".dataframe > tbody > tr {\n",
       "  text-align: right;\n",
       "  white-space: pre-wrap;\n",
       "}\n",
       "</style>\n",
       "<small>shape: (1_177, 1)</small><table border=\"1\" class=\"dataframe\"><thead><tr><th>creator_unit_type_name</th></tr><tr><td>struct[2]</td></tr></thead><tbody><tr><td>{&quot;LurkerMPBurrowed&quot;,43328380}</td></tr><tr><td>{null,19271507}</td></tr><tr><td>{&quot;Egg&quot;,16615568}</td></tr><tr><td>{&quot;Larva&quot;,7402007}</td></tr><tr><td>{&quot;Hatchery&quot;,6508651}</td></tr><tr><td>{&quot;BroodLord&quot;,3055107}</td></tr><tr><td>{&quot;Barracks&quot;,2235507}</td></tr><tr><td>{&quot;Nexus&quot;,1622251}</td></tr><tr><td>{&quot;OrbitalCommand&quot;,1530489}</td></tr><tr><td>{&quot;BroodlingEscort&quot;,1171479}</td></tr><tr><td>{&quot;BanelingCocoon&quot;,1110279}</td></tr><tr><td>{&quot;Lair&quot;,1088906}</td></tr><tr><td>&hellip;</td></tr><tr><td>{&quot;MetalGateStraightVertical&quot;,1}</td></tr><tr><td>{&quot;ReciepeShop&quot;,1}</td></tr><tr><td>{&quot;OilSpill&quot;,1}</td></tr><tr><td>{&quot;InfestedCocoon&quot;,1}</td></tr><tr><td>{&quot;EvolutionChamber3&quot;,1}</td></tr><tr><td>{&quot;SiegeTower&quot;,1}</td></tr><tr><td>{&quot;CommandCardTopRight&quot;,1}</td></tr><tr><td>{&quot;TrophyRiftPremium&quot;,1}</td></tr><tr><td>{&quot;TownHall&quot;,1}</td></tr><tr><td>{&quot;BigWall&quot;,1}</td></tr><tr><td>{&quot;Keep&quot;,1}</td></tr><tr><td>{&quot;StrongBigWall&quot;,1}</td></tr></tbody></table></div>"
      ],
      "text/plain": [
       "shape: (1_177, 1)\n",
       "┌─────────────────────────────────┐\n",
       "│ creator_unit_type_name          │\n",
       "│ ---                             │\n",
       "│ struct[2]                       │\n",
       "╞═════════════════════════════════╡\n",
       "│ {\"LurkerMPBurrowed\",43328380}   │\n",
       "│ {null,19271507}                 │\n",
       "│ {\"Egg\",16615568}                │\n",
       "│ {\"Larva\",7402007}               │\n",
       "│ {\"Hatchery\",6508651}            │\n",
       "│ {\"BroodLord\",3055107}           │\n",
       "│ {\"Barracks\",2235507}            │\n",
       "│ {\"Nexus\",1622251}               │\n",
       "│ {\"OrbitalCommand\",1530489}      │\n",
       "│ {\"BroodlingEscort\",1171479}     │\n",
       "│ {\"BanelingCocoon\",1110279}      │\n",
       "│ {\"Lair\",1088906}                │\n",
       "│ …                               │\n",
       "│ {\"MetalGateStraightVertical\",1} │\n",
       "│ {\"ReciepeShop\",1}               │\n",
       "│ {\"OilSpill\",1}                  │\n",
       "│ {\"InfestedCocoon\",1}            │\n",
       "│ {\"EvolutionChamber3\",1}         │\n",
       "│ {\"SiegeTower\",1}                │\n",
       "│ {\"CommandCardTopRight\",1}       │\n",
       "│ {\"TrophyRiftPremium\",1}         │\n",
       "│ {\"TownHall\",1}                  │\n",
       "│ {\"BigWall\",1}                   │\n",
       "│ {\"Keep\",1}                      │\n",
       "│ {\"StrongBigWall\",1}             │\n",
       "└─────────────────────────────────┘"
      ]
     },
     "execution_count": 65,
     "metadata": {},
     "output_type": "execute_result"
    }
   ],
   "source": [
    "unit_born_df.select(pl.col(\"creator_unit_type_name\").value_counts(sort=True)).collect()\n",
    "# unit_tag_index and unit_tag_recycle = used to calculate the unique id of a unit\n",
    "# unit_type_name = name of unit drone, probe, mineralfield, etc.\n",
    "# control_player_id Either null or 0..15\n",
    "#                   When null (almost no instances in this data set) could be the campaign, stuff like K5Kerrigan\n",
    "#                   When 0 it's the system creating mineral fields, geysers, etc.\n",
    "#                   From 1..15 is the actual users playing.\n",
    "# upkeep_player_id  Either null or 0..15\n",
    "#                   As above, when 0, it's the system creating mineral fields, geysers, etc.\n",
    "#                   When 1..15 actual users playing\n",
    "# creator_ability_name Larva, Cocoons, OrbitalCommands, Barracks, Nexus, Lair, creating units."
   ]
  },
  {
   "cell_type": "code",
   "execution_count": 66,
   "id": "ffffda30-9c6a-4b73-be60-40c4b1ed12af",
   "metadata": {
    "collapsed": true,
    "jupyter": {
     "outputs_hidden": true
    },
    "scrolled": true
   },
   "outputs": [
    {
     "data": {
      "text/html": [
       "<div><style>\n",
       ".dataframe > thead > tr,\n",
       ".dataframe > tbody > tr {\n",
       "  text-align: right;\n",
       "  white-space: pre-wrap;\n",
       "}\n",
       "</style>\n",
       "<small>shape: (1_258, 45)</small><table border=\"1\" class=\"dataframe\"><thead><tr><th>unit_tag_index</th><th>unit_tag_recycle</th><th>unit_type_name</th><th>control_player_id</th><th>upkeep_player_id</th><th>x</th><th>y</th><th>creator_unit_tag_index</th><th>creator_unit_tag_recycle</th><th>creator_unit_type_name</th><th>creator_ability_name</th><th>ext_replay_loop</th><th>ext_replay_seconds</th><th>ext_fs_id</th><th>player_name</th><th>player_toon_region</th><th>player_toon_program_id</th><th>player_toon_realm</th><th>player_toon_id</th><th>player_race</th><th>player_color_a</th><th>player_color_r</th><th>player_color_g</th><th>player_color_b</th><th>player_control</th><th>player_team_id</th><th>player_observe</th><th>player_result</th><th>player_working_set_slot_id</th><th>player_hero</th><th>title</th><th>is_blizzard_map</th><th>time_utc</th><th>time_local_offset</th><th>ext_datetime</th><th>ext_fs_id_right</th><th>ext_fs_sha256</th><th>ext_fs_file_name</th><th>control</th><th>user_id</th><th>team_id</th><th>observe</th><th>working_set_slot_id</th><th>map_size_x</th><th>map_size_y</th></tr><tr><td>u32</td><td>u32</td><td>str</td><td>u8</td><td>u8</td><td>f32</td><td>f32</td><td>u32</td><td>u32</td><td>str</td><td>str</td><td>i64</td><td>u32</td><td>u64</td><td>str</td><td>u8</td><td>u32</td><td>u32</td><td>u64</td><td>str</td><td>u8</td><td>u8</td><td>u8</td><td>u8</td><td>u8</td><td>u8</td><td>u8</td><td>u8</td><td>u8</td><td>str</td><td>str</td><td>bool</td><td>i64</td><td>i64</td><td>datetime[ns]</td><td>u64</td><td>str</td><td>str</td><td>i64</td><td>i64</td><td>i64</td><td>u8</td><td>u8</td><td>u8</td><td>u8</td></tr></thead><tbody><tr><td>203</td><td>1</td><td>&quot;Hatchery&quot;</td><td>1</td><td>1</td><td>37.0</td><td>145.0</td><td>null</td><td>null</td><td>null</td><td>null</td><td>0</td><td>0</td><td>16594</td><td>&quot;Serral&quot;</td><td>2</td><td>21298</td><td>1</td><td>9691277</td><td>&quot;Zerg&quot;</td><td>255</td><td>180</td><td>20</td><td>30</td><td>2</td><td>0</td><td>0</td><td>1</td><td>2</td><td>&quot;&quot;</td><td>&quot;Persephone LE&quot;</td><td>true</td><td>133979343142010758</td><td>108000000000</td><td>2025-07-25 13:25:14.201075</td><td>16594</td><td>&quot;3f32defc30edd6fd9275ca96dfa5b5a3a2c3b8697c6540e865e2ef595c0265a3&quot;</td><td>&quot;/home/seb/SCReplaysOnNVMe/2025EWCReplayPack/3 - Playoffs/8 - Grand Finals - Serral vs Classic/20250725 - Game1 - Classic vs Serral - Persephone.SC2Replay&quot;</td><td>2</td><td>2</td><td>0</td><td>0</td><td>2</td><td>160</td><td>184</td></tr><tr><td>204</td><td>1</td><td>&quot;Larva&quot;</td><td>1</td><td>1</td><td>37.0</td><td>142.0</td><td>203</td><td>1</td><td>&quot;Hatchery&quot;</td><td>&quot;&quot;</td><td>0</td><td>0</td><td>16594</td><td>&quot;Serral&quot;</td><td>2</td><td>21298</td><td>1</td><td>9691277</td><td>&quot;Zerg&quot;</td><td>255</td><td>180</td><td>20</td><td>30</td><td>2</td><td>0</td><td>0</td><td>1</td><td>2</td><td>&quot;&quot;</td><td>&quot;Persephone LE&quot;</td><td>true</td><td>133979343142010758</td><td>108000000000</td><td>2025-07-25 13:25:14.201075</td><td>16594</td><td>&quot;3f32defc30edd6fd9275ca96dfa5b5a3a2c3b8697c6540e865e2ef595c0265a3&quot;</td><td>&quot;/home/seb/SCReplaysOnNVMe/2025EWCReplayPack/3 - Playoffs/8 - Grand Finals - Serral vs Classic/20250725 - Game1 - Classic vs Serral - Persephone.SC2Replay&quot;</td><td>2</td><td>2</td><td>0</td><td>0</td><td>2</td><td>160</td><td>184</td></tr><tr><td>205</td><td>1</td><td>&quot;Larva&quot;</td><td>1</td><td>1</td><td>38.0</td><td>142.0</td><td>203</td><td>1</td><td>&quot;Hatchery&quot;</td><td>&quot;&quot;</td><td>0</td><td>0</td><td>16594</td><td>&quot;Serral&quot;</td><td>2</td><td>21298</td><td>1</td><td>9691277</td><td>&quot;Zerg&quot;</td><td>255</td><td>180</td><td>20</td><td>30</td><td>2</td><td>0</td><td>0</td><td>1</td><td>2</td><td>&quot;&quot;</td><td>&quot;Persephone LE&quot;</td><td>true</td><td>133979343142010758</td><td>108000000000</td><td>2025-07-25 13:25:14.201075</td><td>16594</td><td>&quot;3f32defc30edd6fd9275ca96dfa5b5a3a2c3b8697c6540e865e2ef595c0265a3&quot;</td><td>&quot;/home/seb/SCReplaysOnNVMe/2025EWCReplayPack/3 - Playoffs/8 - Grand Finals - Serral vs Classic/20250725 - Game1 - Classic vs Serral - Persephone.SC2Replay&quot;</td><td>2</td><td>2</td><td>0</td><td>0</td><td>2</td><td>160</td><td>184</td></tr><tr><td>206</td><td>1</td><td>&quot;Larva&quot;</td><td>1</td><td>1</td><td>36.0</td><td>142.0</td><td>203</td><td>1</td><td>&quot;Hatchery&quot;</td><td>&quot;&quot;</td><td>0</td><td>0</td><td>16594</td><td>&quot;Serral&quot;</td><td>2</td><td>21298</td><td>1</td><td>9691277</td><td>&quot;Zerg&quot;</td><td>255</td><td>180</td><td>20</td><td>30</td><td>2</td><td>0</td><td>0</td><td>1</td><td>2</td><td>&quot;&quot;</td><td>&quot;Persephone LE&quot;</td><td>true</td><td>133979343142010758</td><td>108000000000</td><td>2025-07-25 13:25:14.201075</td><td>16594</td><td>&quot;3f32defc30edd6fd9275ca96dfa5b5a3a2c3b8697c6540e865e2ef595c0265a3&quot;</td><td>&quot;/home/seb/SCReplaysOnNVMe/2025EWCReplayPack/3 - Playoffs/8 - Grand Finals - Serral vs Classic/20250725 - Game1 - Classic vs Serral - Persephone.SC2Replay&quot;</td><td>2</td><td>2</td><td>0</td><td>0</td><td>2</td><td>160</td><td>184</td></tr><tr><td>207</td><td>1</td><td>&quot;Drone&quot;</td><td>1</td><td>1</td><td>34.0</td><td>148.0</td><td>null</td><td>null</td><td>null</td><td>null</td><td>0</td><td>0</td><td>16594</td><td>&quot;Serral&quot;</td><td>2</td><td>21298</td><td>1</td><td>9691277</td><td>&quot;Zerg&quot;</td><td>255</td><td>180</td><td>20</td><td>30</td><td>2</td><td>0</td><td>0</td><td>1</td><td>2</td><td>&quot;&quot;</td><td>&quot;Persephone LE&quot;</td><td>true</td><td>133979343142010758</td><td>108000000000</td><td>2025-07-25 13:25:14.201075</td><td>16594</td><td>&quot;3f32defc30edd6fd9275ca96dfa5b5a3a2c3b8697c6540e865e2ef595c0265a3&quot;</td><td>&quot;/home/seb/SCReplaysOnNVMe/2025EWCReplayPack/3 - Playoffs/8 - Grand Finals - Serral vs Classic/20250725 - Game1 - Classic vs Serral - Persephone.SC2Replay&quot;</td><td>2</td><td>2</td><td>0</td><td>0</td><td>2</td><td>160</td><td>184</td></tr><tr><td>208</td><td>1</td><td>&quot;Drone&quot;</td><td>1</td><td>1</td><td>34.0</td><td>147.0</td><td>null</td><td>null</td><td>null</td><td>null</td><td>0</td><td>0</td><td>16594</td><td>&quot;Serral&quot;</td><td>2</td><td>21298</td><td>1</td><td>9691277</td><td>&quot;Zerg&quot;</td><td>255</td><td>180</td><td>20</td><td>30</td><td>2</td><td>0</td><td>0</td><td>1</td><td>2</td><td>&quot;&quot;</td><td>&quot;Persephone LE&quot;</td><td>true</td><td>133979343142010758</td><td>108000000000</td><td>2025-07-25 13:25:14.201075</td><td>16594</td><td>&quot;3f32defc30edd6fd9275ca96dfa5b5a3a2c3b8697c6540e865e2ef595c0265a3&quot;</td><td>&quot;/home/seb/SCReplaysOnNVMe/2025EWCReplayPack/3 - Playoffs/8 - Grand Finals - Serral vs Classic/20250725 - Game1 - Classic vs Serral - Persephone.SC2Replay&quot;</td><td>2</td><td>2</td><td>0</td><td>0</td><td>2</td><td>160</td><td>184</td></tr><tr><td>209</td><td>1</td><td>&quot;Drone&quot;</td><td>1</td><td>1</td><td>35.0</td><td>148.0</td><td>null</td><td>null</td><td>null</td><td>null</td><td>0</td><td>0</td><td>16594</td><td>&quot;Serral&quot;</td><td>2</td><td>21298</td><td>1</td><td>9691277</td><td>&quot;Zerg&quot;</td><td>255</td><td>180</td><td>20</td><td>30</td><td>2</td><td>0</td><td>0</td><td>1</td><td>2</td><td>&quot;&quot;</td><td>&quot;Persephone LE&quot;</td><td>true</td><td>133979343142010758</td><td>108000000000</td><td>2025-07-25 13:25:14.201075</td><td>16594</td><td>&quot;3f32defc30edd6fd9275ca96dfa5b5a3a2c3b8697c6540e865e2ef595c0265a3&quot;</td><td>&quot;/home/seb/SCReplaysOnNVMe/2025EWCReplayPack/3 - Playoffs/8 - Grand Finals - Serral vs Classic/20250725 - Game1 - Classic vs Serral - Persephone.SC2Replay&quot;</td><td>2</td><td>2</td><td>0</td><td>0</td><td>2</td><td>160</td><td>184</td></tr><tr><td>210</td><td>1</td><td>&quot;Drone&quot;</td><td>1</td><td>1</td><td>34.0</td><td>146.0</td><td>null</td><td>null</td><td>null</td><td>null</td><td>0</td><td>0</td><td>16594</td><td>&quot;Serral&quot;</td><td>2</td><td>21298</td><td>1</td><td>9691277</td><td>&quot;Zerg&quot;</td><td>255</td><td>180</td><td>20</td><td>30</td><td>2</td><td>0</td><td>0</td><td>1</td><td>2</td><td>&quot;&quot;</td><td>&quot;Persephone LE&quot;</td><td>true</td><td>133979343142010758</td><td>108000000000</td><td>2025-07-25 13:25:14.201075</td><td>16594</td><td>&quot;3f32defc30edd6fd9275ca96dfa5b5a3a2c3b8697c6540e865e2ef595c0265a3&quot;</td><td>&quot;/home/seb/SCReplaysOnNVMe/2025EWCReplayPack/3 - Playoffs/8 - Grand Finals - Serral vs Classic/20250725 - Game1 - Classic vs Serral - Persephone.SC2Replay&quot;</td><td>2</td><td>2</td><td>0</td><td>0</td><td>2</td><td>160</td><td>184</td></tr><tr><td>211</td><td>1</td><td>&quot;Drone&quot;</td><td>1</td><td>1</td><td>36.0</td><td>148.0</td><td>null</td><td>null</td><td>null</td><td>null</td><td>0</td><td>0</td><td>16594</td><td>&quot;Serral&quot;</td><td>2</td><td>21298</td><td>1</td><td>9691277</td><td>&quot;Zerg&quot;</td><td>255</td><td>180</td><td>20</td><td>30</td><td>2</td><td>0</td><td>0</td><td>1</td><td>2</td><td>&quot;&quot;</td><td>&quot;Persephone LE&quot;</td><td>true</td><td>133979343142010758</td><td>108000000000</td><td>2025-07-25 13:25:14.201075</td><td>16594</td><td>&quot;3f32defc30edd6fd9275ca96dfa5b5a3a2c3b8697c6540e865e2ef595c0265a3&quot;</td><td>&quot;/home/seb/SCReplaysOnNVMe/2025EWCReplayPack/3 - Playoffs/8 - Grand Finals - Serral vs Classic/20250725 - Game1 - Classic vs Serral - Persephone.SC2Replay&quot;</td><td>2</td><td>2</td><td>0</td><td>0</td><td>2</td><td>160</td><td>184</td></tr><tr><td>212</td><td>1</td><td>&quot;Drone&quot;</td><td>1</td><td>1</td><td>34.0</td><td>145.0</td><td>null</td><td>null</td><td>null</td><td>null</td><td>0</td><td>0</td><td>16594</td><td>&quot;Serral&quot;</td><td>2</td><td>21298</td><td>1</td><td>9691277</td><td>&quot;Zerg&quot;</td><td>255</td><td>180</td><td>20</td><td>30</td><td>2</td><td>0</td><td>0</td><td>1</td><td>2</td><td>&quot;&quot;</td><td>&quot;Persephone LE&quot;</td><td>true</td><td>133979343142010758</td><td>108000000000</td><td>2025-07-25 13:25:14.201075</td><td>16594</td><td>&quot;3f32defc30edd6fd9275ca96dfa5b5a3a2c3b8697c6540e865e2ef595c0265a3&quot;</td><td>&quot;/home/seb/SCReplaysOnNVMe/2025EWCReplayPack/3 - Playoffs/8 - Grand Finals - Serral vs Classic/20250725 - Game1 - Classic vs Serral - Persephone.SC2Replay&quot;</td><td>2</td><td>2</td><td>0</td><td>0</td><td>2</td><td>160</td><td>184</td></tr><tr><td>213</td><td>1</td><td>&quot;Drone&quot;</td><td>1</td><td>1</td><td>37.0</td><td>148.0</td><td>null</td><td>null</td><td>null</td><td>null</td><td>0</td><td>0</td><td>16594</td><td>&quot;Serral&quot;</td><td>2</td><td>21298</td><td>1</td><td>9691277</td><td>&quot;Zerg&quot;</td><td>255</td><td>180</td><td>20</td><td>30</td><td>2</td><td>0</td><td>0</td><td>1</td><td>2</td><td>&quot;&quot;</td><td>&quot;Persephone LE&quot;</td><td>true</td><td>133979343142010758</td><td>108000000000</td><td>2025-07-25 13:25:14.201075</td><td>16594</td><td>&quot;3f32defc30edd6fd9275ca96dfa5b5a3a2c3b8697c6540e865e2ef595c0265a3&quot;</td><td>&quot;/home/seb/SCReplaysOnNVMe/2025EWCReplayPack/3 - Playoffs/8 - Grand Finals - Serral vs Classic/20250725 - Game1 - Classic vs Serral - Persephone.SC2Replay&quot;</td><td>2</td><td>2</td><td>0</td><td>0</td><td>2</td><td>160</td><td>184</td></tr><tr><td>214</td><td>1</td><td>&quot;Drone&quot;</td><td>1</td><td>1</td><td>34.0</td><td>144.0</td><td>null</td><td>null</td><td>null</td><td>null</td><td>0</td><td>0</td><td>16594</td><td>&quot;Serral&quot;</td><td>2</td><td>21298</td><td>1</td><td>9691277</td><td>&quot;Zerg&quot;</td><td>255</td><td>180</td><td>20</td><td>30</td><td>2</td><td>0</td><td>0</td><td>1</td><td>2</td><td>&quot;&quot;</td><td>&quot;Persephone LE&quot;</td><td>true</td><td>133979343142010758</td><td>108000000000</td><td>2025-07-25 13:25:14.201075</td><td>16594</td><td>&quot;3f32defc30edd6fd9275ca96dfa5b5a3a2c3b8697c6540e865e2ef595c0265a3&quot;</td><td>&quot;/home/seb/SCReplaysOnNVMe/2025EWCReplayPack/3 - Playoffs/8 - Grand Finals - Serral vs Classic/20250725 - Game1 - Classic vs Serral - Persephone.SC2Replay&quot;</td><td>2</td><td>2</td><td>0</td><td>0</td><td>2</td><td>160</td><td>184</td></tr><tr><td>&hellip;</td><td>&hellip;</td><td>&hellip;</td><td>&hellip;</td><td>&hellip;</td><td>&hellip;</td><td>&hellip;</td><td>&hellip;</td><td>&hellip;</td><td>&hellip;</td><td>&hellip;</td><td>&hellip;</td><td>&hellip;</td><td>&hellip;</td><td>&hellip;</td><td>&hellip;</td><td>&hellip;</td><td>&hellip;</td><td>&hellip;</td><td>&hellip;</td><td>&hellip;</td><td>&hellip;</td><td>&hellip;</td><td>&hellip;</td><td>&hellip;</td><td>&hellip;</td><td>&hellip;</td><td>&hellip;</td><td>&hellip;</td><td>&hellip;</td><td>&hellip;</td><td>&hellip;</td><td>&hellip;</td><td>&hellip;</td><td>&hellip;</td><td>&hellip;</td><td>&hellip;</td><td>&hellip;</td><td>&hellip;</td><td>&hellip;</td><td>&hellip;</td><td>&hellip;</td><td>&hellip;</td><td>&hellip;</td><td>&hellip;</td></tr><tr><td>443</td><td>23</td><td>&quot;Larva&quot;</td><td>1</td><td>1</td><td>65.0</td><td>146.0</td><td>243</td><td>1</td><td>&quot;Hatchery&quot;</td><td>&quot;&quot;</td><td>18999</td><td>925</td><td>16594</td><td>&quot;Serral&quot;</td><td>2</td><td>21298</td><td>1</td><td>9691277</td><td>&quot;Zerg&quot;</td><td>255</td><td>180</td><td>20</td><td>30</td><td>2</td><td>0</td><td>0</td><td>1</td><td>2</td><td>&quot;&quot;</td><td>&quot;Persephone LE&quot;</td><td>true</td><td>133979343142010758</td><td>108000000000</td><td>2025-07-25 13:25:14.201075</td><td>16594</td><td>&quot;3f32defc30edd6fd9275ca96dfa5b5a3a2c3b8697c6540e865e2ef595c0265a3&quot;</td><td>&quot;/home/seb/SCReplaysOnNVMe/2025EWCReplayPack/3 - Playoffs/8 - Grand Finals - Serral vs Classic/20250725 - Game1 - Classic vs Serral - Persephone.SC2Replay&quot;</td><td>2</td><td>2</td><td>0</td><td>0</td><td>2</td><td>160</td><td>184</td></tr><tr><td>443</td><td>23</td><td>&quot;Egg&quot;</td><td>1</td><td>1</td><td>65.0</td><td>146.0</td><td>null</td><td>null</td><td>&quot;Larva&quot;</td><td>null</td><td>19047</td><td>927</td><td>16594</td><td>&quot;Serral&quot;</td><td>2</td><td>21298</td><td>1</td><td>9691277</td><td>&quot;Zerg&quot;</td><td>255</td><td>180</td><td>20</td><td>30</td><td>2</td><td>0</td><td>0</td><td>1</td><td>2</td><td>&quot;&quot;</td><td>&quot;Persephone LE&quot;</td><td>true</td><td>133979343142010758</td><td>108000000000</td><td>2025-07-25 13:25:14.201075</td><td>16594</td><td>&quot;3f32defc30edd6fd9275ca96dfa5b5a3a2c3b8697c6540e865e2ef595c0265a3&quot;</td><td>&quot;/home/seb/SCReplaysOnNVMe/2025EWCReplayPack/3 - Playoffs/8 - Grand Finals - Serral vs Classic/20250725 - Game1 - Classic vs Serral - Persephone.SC2Replay&quot;</td><td>2</td><td>2</td><td>0</td><td>0</td><td>2</td><td>160</td><td>184</td></tr><tr><td>504</td><td>33</td><td>&quot;Egg&quot;</td><td>1</td><td>1</td><td>130.0</td><td>147.0</td><td>null</td><td>null</td><td>&quot;Larva&quot;</td><td>null</td><td>19051</td><td>927</td><td>16594</td><td>&quot;Serral&quot;</td><td>2</td><td>21298</td><td>1</td><td>9691277</td><td>&quot;Zerg&quot;</td><td>255</td><td>180</td><td>20</td><td>30</td><td>2</td><td>0</td><td>0</td><td>1</td><td>2</td><td>&quot;&quot;</td><td>&quot;Persephone LE&quot;</td><td>true</td><td>133979343142010758</td><td>108000000000</td><td>2025-07-25 13:25:14.201075</td><td>16594</td><td>&quot;3f32defc30edd6fd9275ca96dfa5b5a3a2c3b8697c6540e865e2ef595c0265a3&quot;</td><td>&quot;/home/seb/SCReplaysOnNVMe/2025EWCReplayPack/3 - Playoffs/8 - Grand Finals - Serral vs Classic/20250725 - Game1 - Classic vs Serral - Persephone.SC2Replay&quot;</td><td>2</td><td>2</td><td>0</td><td>0</td><td>2</td><td>160</td><td>184</td></tr><tr><td>424</td><td>33</td><td>&quot;Larva&quot;</td><td>1</td><td>1</td><td>92.0</td><td>148.0</td><td>281</td><td>1</td><td>&quot;Hatchery&quot;</td><td>&quot;&quot;</td><td>19065</td><td>928</td><td>16594</td><td>&quot;Serral&quot;</td><td>2</td><td>21298</td><td>1</td><td>9691277</td><td>&quot;Zerg&quot;</td><td>255</td><td>180</td><td>20</td><td>30</td><td>2</td><td>0</td><td>0</td><td>1</td><td>2</td><td>&quot;&quot;</td><td>&quot;Persephone LE&quot;</td><td>true</td><td>133979343142010758</td><td>108000000000</td><td>2025-07-25 13:25:14.201075</td><td>16594</td><td>&quot;3f32defc30edd6fd9275ca96dfa5b5a3a2c3b8697c6540e865e2ef595c0265a3&quot;</td><td>&quot;/home/seb/SCReplaysOnNVMe/2025EWCReplayPack/3 - Playoffs/8 - Grand Finals - Serral vs Classic/20250725 - Game1 - Classic vs Serral - Persephone.SC2Replay&quot;</td><td>2</td><td>2</td><td>0</td><td>0</td><td>2</td><td>160</td><td>184</td></tr><tr><td>480</td><td>40</td><td>&quot;Larva&quot;</td><td>1</td><td>1</td><td>37.0</td><td>142.0</td><td>203</td><td>1</td><td>&quot;Lair&quot;</td><td>&quot;&quot;</td><td>19067</td><td>928</td><td>16594</td><td>&quot;Serral&quot;</td><td>2</td><td>21298</td><td>1</td><td>9691277</td><td>&quot;Zerg&quot;</td><td>255</td><td>180</td><td>20</td><td>30</td><td>2</td><td>0</td><td>0</td><td>1</td><td>2</td><td>&quot;&quot;</td><td>&quot;Persephone LE&quot;</td><td>true</td><td>133979343142010758</td><td>108000000000</td><td>2025-07-25 13:25:14.201075</td><td>16594</td><td>&quot;3f32defc30edd6fd9275ca96dfa5b5a3a2c3b8697c6540e865e2ef595c0265a3&quot;</td><td>&quot;/home/seb/SCReplaysOnNVMe/2025EWCReplayPack/3 - Playoffs/8 - Grand Finals - Serral vs Classic/20250725 - Game1 - Classic vs Serral - Persephone.SC2Replay&quot;</td><td>2</td><td>2</td><td>0</td><td>0</td><td>2</td><td>160</td><td>184</td></tr><tr><td>485</td><td>19</td><td>&quot;Queen&quot;</td><td>1</td><td>1</td><td>37.0</td><td>142.0</td><td>203</td><td>1</td><td>&quot;Lair&quot;</td><td>&quot;TrainQueen&quot;</td><td>19085</td><td>929</td><td>16594</td><td>&quot;Serral&quot;</td><td>2</td><td>21298</td><td>1</td><td>9691277</td><td>&quot;Zerg&quot;</td><td>255</td><td>180</td><td>20</td><td>30</td><td>2</td><td>0</td><td>0</td><td>1</td><td>2</td><td>&quot;&quot;</td><td>&quot;Persephone LE&quot;</td><td>true</td><td>133979343142010758</td><td>108000000000</td><td>2025-07-25 13:25:14.201075</td><td>16594</td><td>&quot;3f32defc30edd6fd9275ca96dfa5b5a3a2c3b8697c6540e865e2ef595c0265a3&quot;</td><td>&quot;/home/seb/SCReplaysOnNVMe/2025EWCReplayPack/3 - Playoffs/8 - Grand Finals - Serral vs Classic/20250725 - Game1 - Classic vs Serral - Persephone.SC2Replay&quot;</td><td>2</td><td>2</td><td>0</td><td>0</td><td>2</td><td>160</td><td>184</td></tr><tr><td>577</td><td>43</td><td>&quot;Queen&quot;</td><td>1</td><td>1</td><td>65.0</td><td>146.0</td><td>243</td><td>1</td><td>&quot;Hatchery&quot;</td><td>&quot;TrainQueen&quot;</td><td>19186</td><td>934</td><td>16594</td><td>&quot;Serral&quot;</td><td>2</td><td>21298</td><td>1</td><td>9691277</td><td>&quot;Zerg&quot;</td><td>255</td><td>180</td><td>20</td><td>30</td><td>2</td><td>0</td><td>0</td><td>1</td><td>2</td><td>&quot;&quot;</td><td>&quot;Persephone LE&quot;</td><td>true</td><td>133979343142010758</td><td>108000000000</td><td>2025-07-25 13:25:14.201075</td><td>16594</td><td>&quot;3f32defc30edd6fd9275ca96dfa5b5a3a2c3b8697c6540e865e2ef595c0265a3&quot;</td><td>&quot;/home/seb/SCReplaysOnNVMe/2025EWCReplayPack/3 - Playoffs/8 - Grand Finals - Serral vs Classic/20250725 - Game1 - Classic vs Serral - Persephone.SC2Replay&quot;</td><td>2</td><td>2</td><td>0</td><td>0</td><td>2</td><td>160</td><td>184</td></tr><tr><td>421</td><td>34</td><td>&quot;Roach&quot;</td><td>1</td><td>1</td><td>38.0</td><td>142.0</td><td>148</td><td>12</td><td>&quot;Egg&quot;</td><td>&quot;LarvaTrain&quot;</td><td>19203</td><td>935</td><td>16594</td><td>&quot;Serral&quot;</td><td>2</td><td>21298</td><td>1</td><td>9691277</td><td>&quot;Zerg&quot;</td><td>255</td><td>180</td><td>20</td><td>30</td><td>2</td><td>0</td><td>0</td><td>1</td><td>2</td><td>&quot;&quot;</td><td>&quot;Persephone LE&quot;</td><td>true</td><td>133979343142010758</td><td>108000000000</td><td>2025-07-25 13:25:14.201075</td><td>16594</td><td>&quot;3f32defc30edd6fd9275ca96dfa5b5a3a2c3b8697c6540e865e2ef595c0265a3&quot;</td><td>&quot;/home/seb/SCReplaysOnNVMe/2025EWCReplayPack/3 - Playoffs/8 - Grand Finals - Serral vs Classic/20250725 - Game1 - Classic vs Serral - Persephone.SC2Replay&quot;</td><td>2</td><td>2</td><td>0</td><td>0</td><td>2</td><td>160</td><td>184</td></tr><tr><td>148</td><td>12</td><td>&quot;Larva&quot;</td><td>1</td><td>1</td><td>37.0</td><td>142.0</td><td>null</td><td>null</td><td>&quot;Egg&quot;</td><td>null</td><td>19203</td><td>935</td><td>16594</td><td>&quot;Serral&quot;</td><td>2</td><td>21298</td><td>1</td><td>9691277</td><td>&quot;Zerg&quot;</td><td>255</td><td>180</td><td>20</td><td>30</td><td>2</td><td>0</td><td>0</td><td>1</td><td>2</td><td>&quot;&quot;</td><td>&quot;Persephone LE&quot;</td><td>true</td><td>133979343142010758</td><td>108000000000</td><td>2025-07-25 13:25:14.201075</td><td>16594</td><td>&quot;3f32defc30edd6fd9275ca96dfa5b5a3a2c3b8697c6540e865e2ef595c0265a3&quot;</td><td>&quot;/home/seb/SCReplaysOnNVMe/2025EWCReplayPack/3 - Playoffs/8 - Grand Finals - Serral vs Classic/20250725 - Game1 - Classic vs Serral - Persephone.SC2Replay&quot;</td><td>2</td><td>2</td><td>0</td><td>0</td><td>2</td><td>160</td><td>184</td></tr><tr><td>567</td><td>39</td><td>&quot;InfestationPit&quot;</td><td>1</td><td>1</td><td>42.0</td><td>147.0</td><td>null</td><td>null</td><td>null</td><td>null</td><td>19205</td><td>935</td><td>16594</td><td>&quot;Serral&quot;</td><td>2</td><td>21298</td><td>1</td><td>9691277</td><td>&quot;Zerg&quot;</td><td>255</td><td>180</td><td>20</td><td>30</td><td>2</td><td>0</td><td>0</td><td>1</td><td>2</td><td>&quot;&quot;</td><td>&quot;Persephone LE&quot;</td><td>true</td><td>133979343142010758</td><td>108000000000</td><td>2025-07-25 13:25:14.201075</td><td>16594</td><td>&quot;3f32defc30edd6fd9275ca96dfa5b5a3a2c3b8697c6540e865e2ef595c0265a3&quot;</td><td>&quot;/home/seb/SCReplaysOnNVMe/2025EWCReplayPack/3 - Playoffs/8 - Grand Finals - Serral vs Classic/20250725 - Game1 - Classic vs Serral - Persephone.SC2Replay&quot;</td><td>2</td><td>2</td><td>0</td><td>0</td><td>2</td><td>160</td><td>184</td></tr><tr><td>148</td><td>13</td><td>&quot;Roach&quot;</td><td>1</td><td>1</td><td>92.0</td><td>148.0</td><td>494</td><td>7</td><td>&quot;Egg&quot;</td><td>&quot;LarvaTrain&quot;</td><td>19208</td><td>935</td><td>16594</td><td>&quot;Serral&quot;</td><td>2</td><td>21298</td><td>1</td><td>9691277</td><td>&quot;Zerg&quot;</td><td>255</td><td>180</td><td>20</td><td>30</td><td>2</td><td>0</td><td>0</td><td>1</td><td>2</td><td>&quot;&quot;</td><td>&quot;Persephone LE&quot;</td><td>true</td><td>133979343142010758</td><td>108000000000</td><td>2025-07-25 13:25:14.201075</td><td>16594</td><td>&quot;3f32defc30edd6fd9275ca96dfa5b5a3a2c3b8697c6540e865e2ef595c0265a3&quot;</td><td>&quot;/home/seb/SCReplaysOnNVMe/2025EWCReplayPack/3 - Playoffs/8 - Grand Finals - Serral vs Classic/20250725 - Game1 - Classic vs Serral - Persephone.SC2Replay&quot;</td><td>2</td><td>2</td><td>0</td><td>0</td><td>2</td><td>160</td><td>184</td></tr><tr><td>494</td><td>7</td><td>&quot;Larva&quot;</td><td>1</td><td>1</td><td>92.0</td><td>148.0</td><td>null</td><td>null</td><td>&quot;Egg&quot;</td><td>null</td><td>19208</td><td>935</td><td>16594</td><td>&quot;Serral&quot;</td><td>2</td><td>21298</td><td>1</td><td>9691277</td><td>&quot;Zerg&quot;</td><td>255</td><td>180</td><td>20</td><td>30</td><td>2</td><td>0</td><td>0</td><td>1</td><td>2</td><td>&quot;&quot;</td><td>&quot;Persephone LE&quot;</td><td>true</td><td>133979343142010758</td><td>108000000000</td><td>2025-07-25 13:25:14.201075</td><td>16594</td><td>&quot;3f32defc30edd6fd9275ca96dfa5b5a3a2c3b8697c6540e865e2ef595c0265a3&quot;</td><td>&quot;/home/seb/SCReplaysOnNVMe/2025EWCReplayPack/3 - Playoffs/8 - Grand Finals - Serral vs Classic/20250725 - Game1 - Classic vs Serral - Persephone.SC2Replay&quot;</td><td>2</td><td>2</td><td>0</td><td>0</td><td>2</td><td>160</td><td>184</td></tr></tbody></table></div>"
      ],
      "text/plain": [
       "shape: (1_258, 45)\n",
       "┌────────────────┬──────────────────┬────────────────┬───────────────────┬───┬─────────┬─────────────────────┬────────────┬────────────┐\n",
       "│ unit_tag_index ┆ unit_tag_recycle ┆ unit_type_name ┆ control_player_id ┆ … ┆ observe ┆ working_set_slot_id ┆ map_size_x ┆ map_size_y │\n",
       "│ ---            ┆ ---              ┆ ---            ┆ ---               ┆   ┆ ---     ┆ ---                 ┆ ---        ┆ ---        │\n",
       "│ u32            ┆ u32              ┆ str            ┆ u8                ┆   ┆ u8      ┆ u8                  ┆ u8         ┆ u8         │\n",
       "╞════════════════╪══════════════════╪════════════════╪═══════════════════╪═══╪═════════╪═════════════════════╪════════════╪════════════╡\n",
       "│ 203            ┆ 1                ┆ Hatchery       ┆ 1                 ┆ … ┆ 0       ┆ 2                   ┆ 160        ┆ 184        │\n",
       "│ 204            ┆ 1                ┆ Larva          ┆ 1                 ┆ … ┆ 0       ┆ 2                   ┆ 160        ┆ 184        │\n",
       "│ 205            ┆ 1                ┆ Larva          ┆ 1                 ┆ … ┆ 0       ┆ 2                   ┆ 160        ┆ 184        │\n",
       "│ 206            ┆ 1                ┆ Larva          ┆ 1                 ┆ … ┆ 0       ┆ 2                   ┆ 160        ┆ 184        │\n",
       "│ 207            ┆ 1                ┆ Drone          ┆ 1                 ┆ … ┆ 0       ┆ 2                   ┆ 160        ┆ 184        │\n",
       "│ 208            ┆ 1                ┆ Drone          ┆ 1                 ┆ … ┆ 0       ┆ 2                   ┆ 160        ┆ 184        │\n",
       "│ 209            ┆ 1                ┆ Drone          ┆ 1                 ┆ … ┆ 0       ┆ 2                   ┆ 160        ┆ 184        │\n",
       "│ 210            ┆ 1                ┆ Drone          ┆ 1                 ┆ … ┆ 0       ┆ 2                   ┆ 160        ┆ 184        │\n",
       "│ 211            ┆ 1                ┆ Drone          ┆ 1                 ┆ … ┆ 0       ┆ 2                   ┆ 160        ┆ 184        │\n",
       "│ 212            ┆ 1                ┆ Drone          ┆ 1                 ┆ … ┆ 0       ┆ 2                   ┆ 160        ┆ 184        │\n",
       "│ 213            ┆ 1                ┆ Drone          ┆ 1                 ┆ … ┆ 0       ┆ 2                   ┆ 160        ┆ 184        │\n",
       "│ 214            ┆ 1                ┆ Drone          ┆ 1                 ┆ … ┆ 0       ┆ 2                   ┆ 160        ┆ 184        │\n",
       "│ …              ┆ …                ┆ …              ┆ …                 ┆ … ┆ …       ┆ …                   ┆ …          ┆ …          │\n",
       "│ 443            ┆ 23               ┆ Larva          ┆ 1                 ┆ … ┆ 0       ┆ 2                   ┆ 160        ┆ 184        │\n",
       "│ 443            ┆ 23               ┆ Egg            ┆ 1                 ┆ … ┆ 0       ┆ 2                   ┆ 160        ┆ 184        │\n",
       "│ 504            ┆ 33               ┆ Egg            ┆ 1                 ┆ … ┆ 0       ┆ 2                   ┆ 160        ┆ 184        │\n",
       "│ 424            ┆ 33               ┆ Larva          ┆ 1                 ┆ … ┆ 0       ┆ 2                   ┆ 160        ┆ 184        │\n",
       "│ 480            ┆ 40               ┆ Larva          ┆ 1                 ┆ … ┆ 0       ┆ 2                   ┆ 160        ┆ 184        │\n",
       "│ 485            ┆ 19               ┆ Queen          ┆ 1                 ┆ … ┆ 0       ┆ 2                   ┆ 160        ┆ 184        │\n",
       "│ 577            ┆ 43               ┆ Queen          ┆ 1                 ┆ … ┆ 0       ┆ 2                   ┆ 160        ┆ 184        │\n",
       "│ 421            ┆ 34               ┆ Roach          ┆ 1                 ┆ … ┆ 0       ┆ 2                   ┆ 160        ┆ 184        │\n",
       "│ 148            ┆ 12               ┆ Larva          ┆ 1                 ┆ … ┆ 0       ┆ 2                   ┆ 160        ┆ 184        │\n",
       "│ 567            ┆ 39               ┆ InfestationPit ┆ 1                 ┆ … ┆ 0       ┆ 2                   ┆ 160        ┆ 184        │\n",
       "│ 148            ┆ 13               ┆ Roach          ┆ 1                 ┆ … ┆ 0       ┆ 2                   ┆ 160        ┆ 184        │\n",
       "│ 494            ┆ 7                ┆ Larva          ┆ 1                 ┆ … ┆ 0       ┆ 2                   ┆ 160        ┆ 184        │\n",
       "└────────────────┴──────────────────┴────────────────┴───────────────────┴───┴─────────┴─────────────────────┴────────────┴────────────┘"
      ]
     },
     "execution_count": 66,
     "metadata": {},
     "output_type": "execute_result"
    }
   ],
   "source": [
    "unit_born_df.filter(\n",
    "    [\n",
    "        pl.col(\"ext_fs_id\").eq(chosen_fs_id)\n",
    "        & ~pl.col(\"unit_type_name\").str.contains(\"Beacon\")\n",
    "    ]\n",
    ").join(\n",
    "    details_lobby_df.filter(pl.col(\"ext_fs_id\").eq(chosen_fs_id)).with_columns(\n",
    "        pl.col(\"user_id\").sub(1).alias(\"control_player_id\")\n",
    "    ),\n",
    "    on=[\"control_player_id\", \"ext_fs_id\"],\n",
    ").collect()"
   ]
  },
  {
   "cell_type": "code",
   "execution_count": 104,
   "id": "315dec51-551b-4e81-b17d-c638351a0a7a",
   "metadata": {
    "collapsed": true,
    "jupyter": {
     "outputs_hidden": true
    },
    "scrolled": true
   },
   "outputs": [
    {
     "data": {
      "text/html": [
       "<div><style>\n",
       ".dataframe > thead > tr,\n",
       ".dataframe > tbody > tr {\n",
       "  text-align: right;\n",
       "  white-space: pre-wrap;\n",
       "}\n",
       "</style>\n",
       "<small>shape: (46, 3)</small><table border=\"1\" class=\"dataframe\"><thead><tr><th>unit_type_name</th><th>player_name</th><th>freq</th></tr><tr><td>str</td><td>str</td><td>u32</td></tr></thead><tbody><tr><td>&quot;Larva&quot;</td><td>&quot;Serral&quot;</td><td>462</td></tr><tr><td>&quot;Egg&quot;</td><td>&quot;Serral&quot;</td><td>233</td></tr><tr><td>&quot;Drone&quot;</td><td>&quot;Serral&quot;</td><td>99</td></tr><tr><td>&quot;Roach&quot;</td><td>&quot;Serral&quot;</td><td>97</td></tr><tr><td>&quot;Probe&quot;</td><td>&quot;Classic&quot;</td><td>83</td></tr><tr><td>&quot;Stalker&quot;</td><td>&quot;Classic&quot;</td><td>45</td></tr><tr><td>&quot;Overlord&quot;</td><td>&quot;Serral&quot;</td><td>26</td></tr><tr><td>&quot;CreepTumorBurrowed&quot;</td><td>&quot;Serral&quot;</td><td>23</td></tr><tr><td>&quot;Zergling&quot;</td><td>&quot;Serral&quot;</td><td>18</td></tr><tr><td>&quot;Pylon&quot;</td><td>&quot;Classic&quot;</td><td>16</td></tr><tr><td>&quot;CreepTumor&quot;</td><td>&quot;Serral&quot;</td><td>15</td></tr><tr><td>&quot;Queen&quot;</td><td>&quot;Serral&quot;</td><td>12</td></tr><tr><td>&hellip;</td><td>&hellip;</td><td>&hellip;</td></tr><tr><td>&quot;OracleStasisTrap&quot;</td><td>&quot;Classic&quot;</td><td>1</td></tr><tr><td>&quot;TwilightCouncil&quot;</td><td>&quot;Classic&quot;</td><td>1</td></tr><tr><td>&quot;EvolutionChamber&quot;</td><td>&quot;Serral&quot;</td><td>1</td></tr><tr><td>&quot;VoidRay&quot;</td><td>&quot;Classic&quot;</td><td>1</td></tr><tr><td>&quot;Spire&quot;</td><td>&quot;Serral&quot;</td><td>1</td></tr><tr><td>&quot;CyberneticsCore&quot;</td><td>&quot;Classic&quot;</td><td>1</td></tr><tr><td>&quot;TemplarArchive&quot;</td><td>&quot;Classic&quot;</td><td>1</td></tr><tr><td>&quot;InfestationPit&quot;</td><td>&quot;Serral&quot;</td><td>1</td></tr><tr><td>&quot;Overseer&quot;</td><td>&quot;Serral&quot;</td><td>1</td></tr><tr><td>&quot;RoachWarren&quot;</td><td>&quot;Serral&quot;</td><td>1</td></tr><tr><td>&quot;Lair&quot;</td><td>&quot;Serral&quot;</td><td>1</td></tr><tr><td>&quot;SporeCrawlerUprooted&quot;</td><td>&quot;Serral&quot;</td><td>1</td></tr></tbody></table></div>"
      ],
      "text/plain": [
       "shape: (46, 3)\n",
       "┌──────────────────────┬─────────────┬──────┐\n",
       "│ unit_type_name       ┆ player_name ┆ freq │\n",
       "│ ---                  ┆ ---         ┆ ---  │\n",
       "│ str                  ┆ str         ┆ u32  │\n",
       "╞══════════════════════╪═════════════╪══════╡\n",
       "│ Larva                ┆ Serral      ┆ 462  │\n",
       "│ Egg                  ┆ Serral      ┆ 233  │\n",
       "│ Drone                ┆ Serral      ┆ 99   │\n",
       "│ Roach                ┆ Serral      ┆ 97   │\n",
       "│ Probe                ┆ Classic     ┆ 83   │\n",
       "│ Stalker              ┆ Classic     ┆ 45   │\n",
       "│ Overlord             ┆ Serral      ┆ 26   │\n",
       "│ CreepTumorBurrowed   ┆ Serral      ┆ 23   │\n",
       "│ Zergling             ┆ Serral      ┆ 18   │\n",
       "│ Pylon                ┆ Classic     ┆ 16   │\n",
       "│ CreepTumor           ┆ Serral      ┆ 15   │\n",
       "│ Queen                ┆ Serral      ┆ 12   │\n",
       "│ …                    ┆ …           ┆ …    │\n",
       "│ OracleStasisTrap     ┆ Classic     ┆ 1    │\n",
       "│ TwilightCouncil      ┆ Classic     ┆ 1    │\n",
       "│ EvolutionChamber     ┆ Serral      ┆ 1    │\n",
       "│ VoidRay              ┆ Classic     ┆ 1    │\n",
       "│ Spire                ┆ Serral      ┆ 1    │\n",
       "│ CyberneticsCore      ┆ Classic     ┆ 1    │\n",
       "│ TemplarArchive       ┆ Classic     ┆ 1    │\n",
       "│ InfestationPit       ┆ Serral      ┆ 1    │\n",
       "│ Overseer             ┆ Serral      ┆ 1    │\n",
       "│ RoachWarren          ┆ Serral      ┆ 1    │\n",
       "│ Lair                 ┆ Serral      ┆ 1    │\n",
       "│ SporeCrawlerUprooted ┆ Serral      ┆ 1    │\n",
       "└──────────────────────┴─────────────┴──────┘"
      ]
     },
     "execution_count": 104,
     "metadata": {},
     "output_type": "execute_result"
    }
   ],
   "source": [
    "(\n",
    "    unit_born_df.filter(\n",
    "        [\n",
    "            pl.col(\"ext_fs_id\").eq(chosen_fs_id)\n",
    "            & ~pl.col(\"unit_type_name\").str.contains(\"Beacon\")\n",
    "        ]\n",
    "    ).join(\n",
    "        details_lobby_df.filter(pl.col(\"ext_fs_id\").eq(chosen_fs_id)).with_columns(\n",
    "            pl.col(\"user_id\").sub(1).alias(\"control_player_id\")\n",
    "        ),\n",
    "        on=[\"control_player_id\", \"ext_fs_id\"],\n",
    "    )\n",
    "    .group_by(pl.col(\"unit_type_name\"), pl.col(\"player_name\"))\n",
    "        .agg(pl.len().alias(\"freq\"))\n",
    "        .sort(pl.col(\"freq\"), descending=True)\n",
    "    .collect()\n",
    ")"
   ]
  },
  {
   "cell_type": "code",
   "execution_count": 67,
   "id": "ff649ddb-3333-4501-b1f6-451b6f9fe21c",
   "metadata": {
    "collapsed": true,
    "jupyter": {
     "outputs_hidden": true
    },
    "scrolled": true
   },
   "outputs": [
    {
     "data": {
      "text/html": [
       "<div><style>\n",
       ".dataframe > thead > tr,\n",
       ".dataframe > tbody > tr {\n",
       "  text-align: right;\n",
       "  white-space: pre-wrap;\n",
       "}\n",
       "</style>\n",
       "<small>shape: (16, 1)</small><table border=\"1\" class=\"dataframe\"><thead><tr><th>unit_type_name</th></tr><tr><td>struct[2]</td></tr></thead><tbody><tr><td>{&quot;MineralField&quot;,56}</td></tr><tr><td>{&quot;MineralField750&quot;,56}</td></tr><tr><td>{&quot;ProtossVespeneGeyser&quot;,20}</td></tr><tr><td>{&quot;VespeneGeyser&quot;,6}</td></tr><tr><td>{&quot;AccelerationZoneLarge&quot;,6}</td></tr><tr><td>{&quot;MineralField450&quot;,4}</td></tr><tr><td>{&quot;ShakurasVespeneGeyser&quot;,4}</td></tr><tr><td>{&quot;DestructibleRockEx16x6&quot;,4}</td></tr><tr><td>{&quot;RichMineralField750&quot;,3}</td></tr><tr><td>{&quot;CollapsiblePurifierTowerDiagonal&quot;,3}</td></tr><tr><td>{&quot;RichMineralField&quot;,3}</td></tr><tr><td>{&quot;DestructibleRockEx14x4&quot;,2}</td></tr><tr><td>{&quot;UnbuildableBricksDestructible&quot;,2}</td></tr><tr><td>{&quot;AccelerationZoneSmall&quot;,2}</td></tr><tr><td>{&quot;XelNagaHealingShrine&quot;,1}</td></tr><tr><td>{&quot;CollapsibleRockTowerDiagonal&quot;,1}</td></tr></tbody></table></div>"
      ],
      "text/plain": [
       "shape: (16, 1)\n",
       "┌────────────────────────────────────────┐\n",
       "│ unit_type_name                         │\n",
       "│ ---                                    │\n",
       "│ struct[2]                              │\n",
       "╞════════════════════════════════════════╡\n",
       "│ {\"MineralField\",56}                    │\n",
       "│ {\"MineralField750\",56}                 │\n",
       "│ {\"ProtossVespeneGeyser\",20}            │\n",
       "│ {\"VespeneGeyser\",6}                    │\n",
       "│ {\"AccelerationZoneLarge\",6}            │\n",
       "│ {\"MineralField450\",4}                  │\n",
       "│ {\"ShakurasVespeneGeyser\",4}            │\n",
       "│ {\"DestructibleRockEx16x6\",4}           │\n",
       "│ {\"RichMineralField750\",3}              │\n",
       "│ {\"CollapsiblePurifierTowerDiagonal\",3} │\n",
       "│ {\"RichMineralField\",3}                 │\n",
       "│ {\"DestructibleRockEx14x4\",2}           │\n",
       "│ {\"UnbuildableBricksDestructible\",2}    │\n",
       "│ {\"AccelerationZoneSmall\",2}            │\n",
       "│ {\"XelNagaHealingShrine\",1}             │\n",
       "│ {\"CollapsibleRockTowerDiagonal\",1}     │\n",
       "└────────────────────────────────────────┘"
      ]
     },
     "execution_count": 67,
     "metadata": {},
     "output_type": "execute_result"
    }
   ],
   "source": [
    "# System created units, mineral fields, etc.\n",
    "unit_born_df.filter(\n",
    "    [\n",
    "        pl.col(\"ext_fs_id\").eq(chosen_fs_id)\n",
    "        & pl.col(\"ext_replay_loop\").eq(0)\n",
    "        & pl.col(\"control_player_id\").eq(0)\n",
    "    ]\n",
    ").select(pl.col(\"unit_type_name\").value_counts(sort=True)).collect()"
   ]
  },
  {
   "cell_type": "code",
   "execution_count": 68,
   "id": "ddfcb1b7-d4ec-455e-b467-1d27a956ccdd",
   "metadata": {
    "collapsed": true,
    "jupyter": {
     "outputs_hidden": true
    },
    "scrolled": true
   },
   "outputs": [
    {
     "data": {
      "text/plain": [
       "Schema([('unit_died_name', String),\n",
       "        ('unit_tag_index', UInt32),\n",
       "        ('unit_tag_recycle', UInt32),\n",
       "        ('killer_player_id', UInt8),\n",
       "        ('x', UInt8),\n",
       "        ('y', UInt8),\n",
       "        ('unit_killer_name', String),\n",
       "        ('killer_unit_tag_index', UInt32),\n",
       "        ('killer_unit_tag_recycle', UInt32),\n",
       "        ('ext_replay_loop', Int64),\n",
       "        ('ext_replay_seconds', UInt32),\n",
       "        ('ext_fs_id', UInt64)])"
      ]
     },
     "execution_count": 68,
     "metadata": {},
     "output_type": "execute_result"
    }
   ],
   "source": [
    "unit_died_df.collect_schema()"
   ]
  },
  {
   "cell_type": "code",
   "execution_count": 68,
   "id": "c8493afb-8e16-4348-823f-eb9a4dcac00b",
   "metadata": {
    "collapsed": true,
    "jupyter": {
     "outputs_hidden": true
    },
    "scrolled": true
   },
   "outputs": [
    {
     "data": {
      "text/plain": [
       "Schema([('unit_died_name', String),\n",
       "        ('unit_tag_index', UInt32),\n",
       "        ('unit_tag_recycle', UInt32),\n",
       "        ('killer_player_id', UInt8),\n",
       "        ('x', UInt8),\n",
       "        ('y', UInt8),\n",
       "        ('unit_killer_name', String),\n",
       "        ('killer_unit_tag_index', UInt32),\n",
       "        ('killer_unit_tag_recycle', UInt32),\n",
       "        ('ext_replay_loop', Int64),\n",
       "        ('ext_replay_seconds', UInt32),\n",
       "        ('ext_fs_id', UInt64)])"
      ]
     },
     "execution_count": 68,
     "metadata": {},
     "output_type": "execute_result"
    }
   ],
   "source": [
    "unit_died_df.describe()"
   ]
  },
  {
   "cell_type": "code",
   "execution_count": 70,
   "id": "29c8e38f-c586-4871-934d-03c60d1bf46c",
   "metadata": {
    "collapsed": true,
    "jupyter": {
     "outputs_hidden": true
    }
   },
   "outputs": [
    {
     "data": {
      "text/html": [
       "<div><style>\n",
       ".dataframe > thead > tr,\n",
       ".dataframe > tbody > tr {\n",
       "  text-align: right;\n",
       "  white-space: pre-wrap;\n",
       "}\n",
       "</style>\n",
       "<small>shape: (1_556, 1)</small><table border=\"1\" class=\"dataframe\"><thead><tr><th>unit_killer_name</th></tr><tr><td>struct[2]</td></tr></thead><tbody><tr><td>{&quot;LurkerMPBurrowed&quot;,43716889}</td></tr><tr><td>{&quot;&quot;,17249356}</td></tr><tr><td>{&quot;Marine&quot;,1671233}</td></tr><tr><td>{&quot;Stalker&quot;,1056299}</td></tr><tr><td>{&quot;Zergling&quot;,1020163}</td></tr><tr><td>{&quot;SiegeTankSieged&quot;,972513}</td></tr><tr><td>{&quot;Roach&quot;,735870}</td></tr><tr><td>{&quot;Hydralisk&quot;,715853}</td></tr><tr><td>{&quot;Zealot&quot;,701311}</td></tr><tr><td>{&quot;Marauder&quot;,547878}</td></tr><tr><td>{&quot;Adept&quot;,503694}</td></tr><tr><td>{&quot;Immortal&quot;,411947}</td></tr><tr><td>&hellip;</td></tr><tr><td>{&quot;SIBroodlingFlying&quot;,1}</td></tr><tr><td>{&quot;LeviathanCocoon&quot;,1}</td></tr><tr><td>{&quot;ThorWreckageSwann&quot;,1}</td></tr><tr><td>{&quot;SpineCrawlerStetmann&quot;,1}</td></tr><tr><td>{&quot;Creepling&quot;,1}</td></tr><tr><td>{&quot;Pyroling&quot;,1}</td></tr><tr><td>{&quot;Geoling&quot;,1}</td></tr><tr><td>{&quot;MegaCuteling&quot;,1}</td></tr><tr><td>{&quot;ScourgeSCBW&quot;,1}</td></tr><tr><td>{&quot;ugho&quot;,1}</td></tr><tr><td>{&quot;Medic&quot;,1}</td></tr><tr><td>{&quot;InfestedCocoon&quot;,1}</td></tr></tbody></table></div>"
      ],
      "text/plain": [
       "shape: (1_556, 1)\n",
       "┌───────────────────────────────┐\n",
       "│ unit_killer_name              │\n",
       "│ ---                           │\n",
       "│ struct[2]                     │\n",
       "╞═══════════════════════════════╡\n",
       "│ {\"LurkerMPBurrowed\",43716889} │\n",
       "│ {\"\",17249356}                 │\n",
       "│ {\"Marine\",1671233}            │\n",
       "│ {\"Stalker\",1056299}           │\n",
       "│ {\"Zergling\",1020163}          │\n",
       "│ {\"SiegeTankSieged\",972513}    │\n",
       "│ {\"Roach\",735870}              │\n",
       "│ {\"Hydralisk\",715853}          │\n",
       "│ {\"Zealot\",701311}             │\n",
       "│ {\"Marauder\",547878}           │\n",
       "│ {\"Adept\",503694}              │\n",
       "│ {\"Immortal\",411947}           │\n",
       "│ …                             │\n",
       "│ {\"SIBroodlingFlying\",1}       │\n",
       "│ {\"LeviathanCocoon\",1}         │\n",
       "│ {\"ThorWreckageSwann\",1}       │\n",
       "│ {\"SpineCrawlerStetmann\",1}    │\n",
       "│ {\"Creepling\",1}               │\n",
       "│ {\"Pyroling\",1}                │\n",
       "│ {\"Geoling\",1}                 │\n",
       "│ {\"MegaCuteling\",1}            │\n",
       "│ {\"ScourgeSCBW\",1}             │\n",
       "│ {\"ugho\",1}                    │\n",
       "│ {\"Medic\",1}                   │\n",
       "│ {\"InfestedCocoon\",1}          │\n",
       "└───────────────────────────────┘"
      ]
     },
     "execution_count": 70,
     "metadata": {},
     "output_type": "execute_result"
    }
   ],
   "source": [
    "unit_died_df.select(pl.col(\"unit_killer_name\").value_counts(sort=True)).collect()\n",
    "# unit_died_name name of units dying.\n",
    "#                Most unit names are InvisibleTargetDummy.\n",
    "#                It seems when lurker or units A-move, a temporary target_dummy is created at that location and when the unit \"attacks\" it.\n",
    "#                Q Are tank shots on InvisibleTargetDummy? There's splash radius/damage somewhere maybe?\n",
    "# unit_killer_name the killer unit if found."
   ]
  },
  {
   "cell_type": "code",
   "execution_count": 71,
   "id": "247ca3b6-4ec2-40f2-9986-10092ffdf2ea",
   "metadata": {
    "scrolled": true
   },
   "outputs": [
    {
     "data": {
      "text/html": [
       "<div><style>\n",
       ".dataframe > thead > tr,\n",
       ".dataframe > tbody > tr {\n",
       "  text-align: right;\n",
       "  white-space: pre-wrap;\n",
       "}\n",
       "</style>\n",
       "<small>shape: (100, 43)</small><table border=\"1\" class=\"dataframe\"><thead><tr><th>unit_died_name</th><th>unit_tag_index</th><th>unit_tag_recycle</th><th>killer_player_id</th><th>x</th><th>y</th><th>unit_killer_name</th><th>killer_unit_tag_index</th><th>killer_unit_tag_recycle</th><th>ext_replay_loop</th><th>ext_replay_seconds</th><th>ext_fs_id</th><th>player_name</th><th>player_toon_region</th><th>player_toon_program_id</th><th>player_toon_realm</th><th>player_toon_id</th><th>player_race</th><th>player_color_a</th><th>player_color_r</th><th>player_color_g</th><th>player_color_b</th><th>player_control</th><th>player_team_id</th><th>player_observe</th><th>player_result</th><th>player_working_set_slot_id</th><th>player_hero</th><th>title</th><th>is_blizzard_map</th><th>time_utc</th><th>time_local_offset</th><th>ext_datetime</th><th>ext_fs_id_right</th><th>ext_fs_sha256</th><th>ext_fs_file_name</th><th>control</th><th>user_id</th><th>team_id</th><th>observe</th><th>working_set_slot_id</th><th>map_size_x</th><th>map_size_y</th></tr><tr><td>str</td><td>u32</td><td>u32</td><td>u8</td><td>u8</td><td>u8</td><td>str</td><td>u32</td><td>u32</td><td>i64</td><td>u32</td><td>u64</td><td>str</td><td>u8</td><td>u32</td><td>u32</td><td>u64</td><td>str</td><td>u8</td><td>u8</td><td>u8</td><td>u8</td><td>u8</td><td>u8</td><td>u8</td><td>u8</td><td>u8</td><td>str</td><td>str</td><td>bool</td><td>i64</td><td>i64</td><td>datetime[ns]</td><td>u64</td><td>str</td><td>str</td><td>i64</td><td>i64</td><td>i64</td><td>u8</td><td>u8</td><td>u8</td><td>u8</td></tr></thead><tbody><tr><td>&quot;Roach&quot;</td><td>482</td><td>3</td><td>2</td><td>61</td><td>51</td><td>&quot;Adept&quot;</td><td>288</td><td>4</td><td>16869</td><td>821</td><td>16594</td><td>&quot;Classic&quot;</td><td>2</td><td>21298</td><td>1</td><td>9691041</td><td>&quot;Protoss&quot;</td><td>255</td><td>0</td><td>66</td><td>255</td><td>2</td><td>1</td><td>0</td><td>2</td><td>12</td><td>&quot;&quot;</td><td>&quot;Persephone LE&quot;</td><td>true</td><td>133979343142010758</td><td>108000000000</td><td>2025-07-25 13:25:14.201075</td><td>16594</td><td>&quot;3f32defc30edd6fd9275ca96dfa5b5a3a2c3b8697c6540e865e2ef595c0265a3&quot;</td><td>&quot;/home/seb/SCReplaysOnNVMe/2025EWCReplayPack/3 - Playoffs/8 - Grand Finals - Serral vs Classic/20250725 - Game1 - Classic vs Serral - Persephone.SC2Replay&quot;</td><td>2</td><td>3</td><td>1</td><td>0</td><td>12</td><td>160</td><td>184</td></tr><tr><td>&quot;HighTemplar&quot;</td><td>488</td><td>1</td><td>1</td><td>60</td><td>51</td><td>&quot;Roach&quot;</td><td>436</td><td>13</td><td>16881</td><td>821</td><td>16594</td><td>&quot;Serral&quot;</td><td>2</td><td>21298</td><td>1</td><td>9691277</td><td>&quot;Zerg&quot;</td><td>255</td><td>180</td><td>20</td><td>30</td><td>2</td><td>0</td><td>0</td><td>1</td><td>2</td><td>&quot;&quot;</td><td>&quot;Persephone LE&quot;</td><td>true</td><td>133979343142010758</td><td>108000000000</td><td>2025-07-25 13:25:14.201075</td><td>16594</td><td>&quot;3f32defc30edd6fd9275ca96dfa5b5a3a2c3b8697c6540e865e2ef595c0265a3&quot;</td><td>&quot;/home/seb/SCReplaysOnNVMe/2025EWCReplayPack/3 - Playoffs/8 - Grand Finals - Serral vs Classic/20250725 - Game1 - Classic vs Serral - Persephone.SC2Replay&quot;</td><td>2</td><td>2</td><td>0</td><td>0</td><td>2</td><td>160</td><td>184</td></tr><tr><td>&quot;Stalker&quot;</td><td>442</td><td>10</td><td>1</td><td>62</td><td>59</td><td>&quot;Roach&quot;</td><td>423</td><td>8</td><td>16947</td><td>825</td><td>16594</td><td>&quot;Serral&quot;</td><td>2</td><td>21298</td><td>1</td><td>9691277</td><td>&quot;Zerg&quot;</td><td>255</td><td>180</td><td>20</td><td>30</td><td>2</td><td>0</td><td>0</td><td>1</td><td>2</td><td>&quot;&quot;</td><td>&quot;Persephone LE&quot;</td><td>true</td><td>133979343142010758</td><td>108000000000</td><td>2025-07-25 13:25:14.201075</td><td>16594</td><td>&quot;3f32defc30edd6fd9275ca96dfa5b5a3a2c3b8697c6540e865e2ef595c0265a3&quot;</td><td>&quot;/home/seb/SCReplaysOnNVMe/2025EWCReplayPack/3 - Playoffs/8 - Grand Finals - Serral vs Classic/20250725 - Game1 - Classic vs Serral - Persephone.SC2Replay&quot;</td><td>2</td><td>2</td><td>0</td><td>0</td><td>2</td><td>160</td><td>184</td></tr><tr><td>&quot;Roach&quot;</td><td>512</td><td>4</td><td>2</td><td>66</td><td>57</td><td>&quot;Stalker&quot;</td><td>535</td><td>3</td><td>16978</td><td>826</td><td>16594</td><td>&quot;Classic&quot;</td><td>2</td><td>21298</td><td>1</td><td>9691041</td><td>&quot;Protoss&quot;</td><td>255</td><td>0</td><td>66</td><td>255</td><td>2</td><td>1</td><td>0</td><td>2</td><td>12</td><td>&quot;&quot;</td><td>&quot;Persephone LE&quot;</td><td>true</td><td>133979343142010758</td><td>108000000000</td><td>2025-07-25 13:25:14.201075</td><td>16594</td><td>&quot;3f32defc30edd6fd9275ca96dfa5b5a3a2c3b8697c6540e865e2ef595c0265a3&quot;</td><td>&quot;/home/seb/SCReplaysOnNVMe/2025EWCReplayPack/3 - Playoffs/8 - Grand Finals - Serral vs Classic/20250725 - Game1 - Classic vs Serral - Persephone.SC2Replay&quot;</td><td>2</td><td>3</td><td>1</td><td>0</td><td>12</td><td>160</td><td>184</td></tr><tr><td>&quot;Roach&quot;</td><td>548</td><td>13</td><td>2</td><td>67</td><td>56</td><td>&quot;Stalker&quot;</td><td>535</td><td>3</td><td>17022</td><td>828</td><td>16594</td><td>&quot;Classic&quot;</td><td>2</td><td>21298</td><td>1</td><td>9691041</td><td>&quot;Protoss&quot;</td><td>255</td><td>0</td><td>66</td><td>255</td><td>2</td><td>1</td><td>0</td><td>2</td><td>12</td><td>&quot;&quot;</td><td>&quot;Persephone LE&quot;</td><td>true</td><td>133979343142010758</td><td>108000000000</td><td>2025-07-25 13:25:14.201075</td><td>16594</td><td>&quot;3f32defc30edd6fd9275ca96dfa5b5a3a2c3b8697c6540e865e2ef595c0265a3&quot;</td><td>&quot;/home/seb/SCReplaysOnNVMe/2025EWCReplayPack/3 - Playoffs/8 - Grand Finals - Serral vs Classic/20250725 - Game1 - Classic vs Serral - Persephone.SC2Replay&quot;</td><td>2</td><td>3</td><td>1</td><td>0</td><td>12</td><td>160</td><td>184</td></tr><tr><td>&quot;Probe&quot;</td><td>413</td><td>3</td><td>1</td><td>62</td><td>54</td><td>&quot;Roach&quot;</td><td>544</td><td>18</td><td>17026</td><td>828</td><td>16594</td><td>&quot;Serral&quot;</td><td>2</td><td>21298</td><td>1</td><td>9691277</td><td>&quot;Zerg&quot;</td><td>255</td><td>180</td><td>20</td><td>30</td><td>2</td><td>0</td><td>0</td><td>1</td><td>2</td><td>&quot;&quot;</td><td>&quot;Persephone LE&quot;</td><td>true</td><td>133979343142010758</td><td>108000000000</td><td>2025-07-25 13:25:14.201075</td><td>16594</td><td>&quot;3f32defc30edd6fd9275ca96dfa5b5a3a2c3b8697c6540e865e2ef595c0265a3&quot;</td><td>&quot;/home/seb/SCReplaysOnNVMe/2025EWCReplayPack/3 - Playoffs/8 - Grand Finals - Serral vs Classic/20250725 - Game1 - Classic vs Serral - Persephone.SC2Replay&quot;</td><td>2</td><td>2</td><td>0</td><td>0</td><td>2</td><td>160</td><td>184</td></tr><tr><td>&quot;Adept&quot;</td><td>288</td><td>4</td><td>1</td><td>59</td><td>50</td><td>&quot;Roach&quot;</td><td>579</td><td>1</td><td>17027</td><td>829</td><td>16594</td><td>&quot;Serral&quot;</td><td>2</td><td>21298</td><td>1</td><td>9691277</td><td>&quot;Zerg&quot;</td><td>255</td><td>180</td><td>20</td><td>30</td><td>2</td><td>0</td><td>0</td><td>1</td><td>2</td><td>&quot;&quot;</td><td>&quot;Persephone LE&quot;</td><td>true</td><td>133979343142010758</td><td>108000000000</td><td>2025-07-25 13:25:14.201075</td><td>16594</td><td>&quot;3f32defc30edd6fd9275ca96dfa5b5a3a2c3b8697c6540e865e2ef595c0265a3&quot;</td><td>&quot;/home/seb/SCReplaysOnNVMe/2025EWCReplayPack/3 - Playoffs/8 - Grand Finals - Serral vs Classic/20250725 - Game1 - Classic vs Serral - Persephone.SC2Replay&quot;</td><td>2</td><td>2</td><td>0</td><td>0</td><td>2</td><td>160</td><td>184</td></tr><tr><td>&quot;Probe&quot;</td><td>360</td><td>2</td><td>1</td><td>62</td><td>51</td><td>&quot;Ravager&quot;</td><td>480</td><td>2</td><td>17029</td><td>829</td><td>16594</td><td>&quot;Serral&quot;</td><td>2</td><td>21298</td><td>1</td><td>9691277</td><td>&quot;Zerg&quot;</td><td>255</td><td>180</td><td>20</td><td>30</td><td>2</td><td>0</td><td>0</td><td>1</td><td>2</td><td>&quot;&quot;</td><td>&quot;Persephone LE&quot;</td><td>true</td><td>133979343142010758</td><td>108000000000</td><td>2025-07-25 13:25:14.201075</td><td>16594</td><td>&quot;3f32defc30edd6fd9275ca96dfa5b5a3a2c3b8697c6540e865e2ef595c0265a3&quot;</td><td>&quot;/home/seb/SCReplaysOnNVMe/2025EWCReplayPack/3 - Playoffs/8 - Grand Finals - Serral vs Classic/20250725 - Game1 - Classic vs Serral - Persephone.SC2Replay&quot;</td><td>2</td><td>2</td><td>0</td><td>0</td><td>2</td><td>160</td><td>184</td></tr><tr><td>&quot;Roach&quot;</td><td>421</td><td>4</td><td>2</td><td>67</td><td>55</td><td>&quot;Stalker&quot;</td><td>469</td><td>2</td><td>17054</td><td>830</td><td>16594</td><td>&quot;Classic&quot;</td><td>2</td><td>21298</td><td>1</td><td>9691041</td><td>&quot;Protoss&quot;</td><td>255</td><td>0</td><td>66</td><td>255</td><td>2</td><td>1</td><td>0</td><td>2</td><td>12</td><td>&quot;&quot;</td><td>&quot;Persephone LE&quot;</td><td>true</td><td>133979343142010758</td><td>108000000000</td><td>2025-07-25 13:25:14.201075</td><td>16594</td><td>&quot;3f32defc30edd6fd9275ca96dfa5b5a3a2c3b8697c6540e865e2ef595c0265a3&quot;</td><td>&quot;/home/seb/SCReplaysOnNVMe/2025EWCReplayPack/3 - Playoffs/8 - Grand Finals - Serral vs Classic/20250725 - Game1 - Classic vs Serral - Persephone.SC2Replay&quot;</td><td>2</td><td>3</td><td>1</td><td>0</td><td>12</td><td>160</td><td>184</td></tr><tr><td>&quot;Oracle&quot;</td><td>385</td><td>2</td><td>1</td><td>64</td><td>51</td><td>&quot;Queen&quot;</td><td>297</td><td>3</td><td>17099</td><td>832</td><td>16594</td><td>&quot;Serral&quot;</td><td>2</td><td>21298</td><td>1</td><td>9691277</td><td>&quot;Zerg&quot;</td><td>255</td><td>180</td><td>20</td><td>30</td><td>2</td><td>0</td><td>0</td><td>1</td><td>2</td><td>&quot;&quot;</td><td>&quot;Persephone LE&quot;</td><td>true</td><td>133979343142010758</td><td>108000000000</td><td>2025-07-25 13:25:14.201075</td><td>16594</td><td>&quot;3f32defc30edd6fd9275ca96dfa5b5a3a2c3b8697c6540e865e2ef595c0265a3&quot;</td><td>&quot;/home/seb/SCReplaysOnNVMe/2025EWCReplayPack/3 - Playoffs/8 - Grand Finals - Serral vs Classic/20250725 - Game1 - Classic vs Serral - Persephone.SC2Replay&quot;</td><td>2</td><td>2</td><td>0</td><td>0</td><td>2</td><td>160</td><td>184</td></tr><tr><td>&quot;Roach&quot;</td><td>423</td><td>8</td><td>2</td><td>69</td><td>57</td><td>&quot;Stalker&quot;</td><td>535</td><td>3</td><td>17117</td><td>833</td><td>16594</td><td>&quot;Classic&quot;</td><td>2</td><td>21298</td><td>1</td><td>9691041</td><td>&quot;Protoss&quot;</td><td>255</td><td>0</td><td>66</td><td>255</td><td>2</td><td>1</td><td>0</td><td>2</td><td>12</td><td>&quot;&quot;</td><td>&quot;Persephone LE&quot;</td><td>true</td><td>133979343142010758</td><td>108000000000</td><td>2025-07-25 13:25:14.201075</td><td>16594</td><td>&quot;3f32defc30edd6fd9275ca96dfa5b5a3a2c3b8697c6540e865e2ef595c0265a3&quot;</td><td>&quot;/home/seb/SCReplaysOnNVMe/2025EWCReplayPack/3 - Playoffs/8 - Grand Finals - Serral vs Classic/20250725 - Game1 - Classic vs Serral - Persephone.SC2Replay&quot;</td><td>2</td><td>3</td><td>1</td><td>0</td><td>12</td><td>160</td><td>184</td></tr><tr><td>&quot;MineralField750&quot;</td><td>14</td><td>1</td><td>2</td><td>37</td><td>27</td><td>&quot;&quot;</td><td>null</td><td>null</td><td>17138</td><td>834</td><td>16594</td><td>&quot;Classic&quot;</td><td>2</td><td>21298</td><td>1</td><td>9691041</td><td>&quot;Protoss&quot;</td><td>255</td><td>0</td><td>66</td><td>255</td><td>2</td><td>1</td><td>0</td><td>2</td><td>12</td><td>&quot;&quot;</td><td>&quot;Persephone LE&quot;</td><td>true</td><td>133979343142010758</td><td>108000000000</td><td>2025-07-25 13:25:14.201075</td><td>16594</td><td>&quot;3f32defc30edd6fd9275ca96dfa5b5a3a2c3b8697c6540e865e2ef595c0265a3&quot;</td><td>&quot;/home/seb/SCReplaysOnNVMe/2025EWCReplayPack/3 - Playoffs/8 - Grand Finals - Serral vs Classic/20250725 - Game1 - Classic vs Serral - Persephone.SC2Replay&quot;</td><td>2</td><td>3</td><td>1</td><td>0</td><td>12</td><td>160</td><td>184</td></tr><tr><td>&hellip;</td><td>&hellip;</td><td>&hellip;</td><td>&hellip;</td><td>&hellip;</td><td>&hellip;</td><td>&hellip;</td><td>&hellip;</td><td>&hellip;</td><td>&hellip;</td><td>&hellip;</td><td>&hellip;</td><td>&hellip;</td><td>&hellip;</td><td>&hellip;</td><td>&hellip;</td><td>&hellip;</td><td>&hellip;</td><td>&hellip;</td><td>&hellip;</td><td>&hellip;</td><td>&hellip;</td><td>&hellip;</td><td>&hellip;</td><td>&hellip;</td><td>&hellip;</td><td>&hellip;</td><td>&hellip;</td><td>&hellip;</td><td>&hellip;</td><td>&hellip;</td><td>&hellip;</td><td>&hellip;</td><td>&hellip;</td><td>&hellip;</td><td>&hellip;</td><td>&hellip;</td><td>&hellip;</td><td>&hellip;</td><td>&hellip;</td><td>&hellip;</td><td>&hellip;</td><td>&hellip;</td></tr><tr><td>&quot;Stalker&quot;</td><td>552</td><td>30</td><td>1</td><td>71</td><td>34</td><td>&quot;Roach&quot;</td><td>549</td><td>5</td><td>19202</td><td>934</td><td>16594</td><td>&quot;Serral&quot;</td><td>2</td><td>21298</td><td>1</td><td>9691277</td><td>&quot;Zerg&quot;</td><td>255</td><td>180</td><td>20</td><td>30</td><td>2</td><td>0</td><td>0</td><td>1</td><td>2</td><td>&quot;&quot;</td><td>&quot;Persephone LE&quot;</td><td>true</td><td>133979343142010758</td><td>108000000000</td><td>2025-07-25 13:25:14.201075</td><td>16594</td><td>&quot;3f32defc30edd6fd9275ca96dfa5b5a3a2c3b8697c6540e865e2ef595c0265a3&quot;</td><td>&quot;/home/seb/SCReplaysOnNVMe/2025EWCReplayPack/3 - Playoffs/8 - Grand Finals - Serral vs Classic/20250725 - Game1 - Classic vs Serral - Persephone.SC2Replay&quot;</td><td>2</td><td>2</td><td>0</td><td>0</td><td>2</td><td>160</td><td>184</td></tr><tr><td>&quot;Probe&quot;</td><td>499</td><td>2</td><td>1</td><td>90</td><td>24</td><td>&quot;Roach&quot;</td><td>516</td><td>26</td><td>19205</td><td>935</td><td>16594</td><td>&quot;Serral&quot;</td><td>2</td><td>21298</td><td>1</td><td>9691277</td><td>&quot;Zerg&quot;</td><td>255</td><td>180</td><td>20</td><td>30</td><td>2</td><td>0</td><td>0</td><td>1</td><td>2</td><td>&quot;&quot;</td><td>&quot;Persephone LE&quot;</td><td>true</td><td>133979343142010758</td><td>108000000000</td><td>2025-07-25 13:25:14.201075</td><td>16594</td><td>&quot;3f32defc30edd6fd9275ca96dfa5b5a3a2c3b8697c6540e865e2ef595c0265a3&quot;</td><td>&quot;/home/seb/SCReplaysOnNVMe/2025EWCReplayPack/3 - Playoffs/8 - Grand Finals - Serral vs Classic/20250725 - Game1 - Classic vs Serral - Persephone.SC2Replay&quot;</td><td>2</td><td>2</td><td>0</td><td>0</td><td>2</td><td>160</td><td>184</td></tr><tr><td>&quot;Probe&quot;</td><td>478</td><td>1</td><td>1</td><td>91</td><td>26</td><td>&quot;Roach&quot;</td><td>491</td><td>11</td><td>19212</td><td>935</td><td>16594</td><td>&quot;Serral&quot;</td><td>2</td><td>21298</td><td>1</td><td>9691277</td><td>&quot;Zerg&quot;</td><td>255</td><td>180</td><td>20</td><td>30</td><td>2</td><td>0</td><td>0</td><td>1</td><td>2</td><td>&quot;&quot;</td><td>&quot;Persephone LE&quot;</td><td>true</td><td>133979343142010758</td><td>108000000000</td><td>2025-07-25 13:25:14.201075</td><td>16594</td><td>&quot;3f32defc30edd6fd9275ca96dfa5b5a3a2c3b8697c6540e865e2ef595c0265a3&quot;</td><td>&quot;/home/seb/SCReplaysOnNVMe/2025EWCReplayPack/3 - Playoffs/8 - Grand Finals - Serral vs Classic/20250725 - Game1 - Classic vs Serral - Persephone.SC2Replay&quot;</td><td>2</td><td>2</td><td>0</td><td>0</td><td>2</td><td>160</td><td>184</td></tr><tr><td>&quot;Probe&quot;</td><td>401</td><td>1</td><td>1</td><td>91</td><td>22</td><td>&quot;Roach&quot;</td><td>506</td><td>11</td><td>19229</td><td>936</td><td>16594</td><td>&quot;Serral&quot;</td><td>2</td><td>21298</td><td>1</td><td>9691277</td><td>&quot;Zerg&quot;</td><td>255</td><td>180</td><td>20</td><td>30</td><td>2</td><td>0</td><td>0</td><td>1</td><td>2</td><td>&quot;&quot;</td><td>&quot;Persephone LE&quot;</td><td>true</td><td>133979343142010758</td><td>108000000000</td><td>2025-07-25 13:25:14.201075</td><td>16594</td><td>&quot;3f32defc30edd6fd9275ca96dfa5b5a3a2c3b8697c6540e865e2ef595c0265a3&quot;</td><td>&quot;/home/seb/SCReplaysOnNVMe/2025EWCReplayPack/3 - Playoffs/8 - Grand Finals - Serral vs Classic/20250725 - Game1 - Classic vs Serral - Persephone.SC2Replay&quot;</td><td>2</td><td>2</td><td>0</td><td>0</td><td>2</td><td>160</td><td>184</td></tr><tr><td>&quot;Probe&quot;</td><td>464</td><td>2</td><td>1</td><td>92</td><td>25</td><td>&quot;Roach&quot;</td><td>389</td><td>24</td><td>19260</td><td>937</td><td>16594</td><td>&quot;Serral&quot;</td><td>2</td><td>21298</td><td>1</td><td>9691277</td><td>&quot;Zerg&quot;</td><td>255</td><td>180</td><td>20</td><td>30</td><td>2</td><td>0</td><td>0</td><td>1</td><td>2</td><td>&quot;&quot;</td><td>&quot;Persephone LE&quot;</td><td>true</td><td>133979343142010758</td><td>108000000000</td><td>2025-07-25 13:25:14.201075</td><td>16594</td><td>&quot;3f32defc30edd6fd9275ca96dfa5b5a3a2c3b8697c6540e865e2ef595c0265a3&quot;</td><td>&quot;/home/seb/SCReplaysOnNVMe/2025EWCReplayPack/3 - Playoffs/8 - Grand Finals - Serral vs Classic/20250725 - Game1 - Classic vs Serral - Persephone.SC2Replay&quot;</td><td>2</td><td>2</td><td>0</td><td>0</td><td>2</td><td>160</td><td>184</td></tr><tr><td>&quot;Probe&quot;</td><td>378</td><td>1</td><td>1</td><td>91</td><td>25</td><td>&quot;Roach&quot;</td><td>413</td><td>9</td><td>19274</td><td>938</td><td>16594</td><td>&quot;Serral&quot;</td><td>2</td><td>21298</td><td>1</td><td>9691277</td><td>&quot;Zerg&quot;</td><td>255</td><td>180</td><td>20</td><td>30</td><td>2</td><td>0</td><td>0</td><td>1</td><td>2</td><td>&quot;&quot;</td><td>&quot;Persephone LE&quot;</td><td>true</td><td>133979343142010758</td><td>108000000000</td><td>2025-07-25 13:25:14.201075</td><td>16594</td><td>&quot;3f32defc30edd6fd9275ca96dfa5b5a3a2c3b8697c6540e865e2ef595c0265a3&quot;</td><td>&quot;/home/seb/SCReplaysOnNVMe/2025EWCReplayPack/3 - Playoffs/8 - Grand Finals - Serral vs Classic/20250725 - Game1 - Classic vs Serral - Persephone.SC2Replay&quot;</td><td>2</td><td>2</td><td>0</td><td>0</td><td>2</td><td>160</td><td>184</td></tr><tr><td>&quot;Probe&quot;</td><td>546</td><td>22</td><td>1</td><td>91</td><td>23</td><td>&quot;Roach&quot;</td><td>569</td><td>5</td><td>19289</td><td>939</td><td>16594</td><td>&quot;Serral&quot;</td><td>2</td><td>21298</td><td>1</td><td>9691277</td><td>&quot;Zerg&quot;</td><td>255</td><td>180</td><td>20</td><td>30</td><td>2</td><td>0</td><td>0</td><td>1</td><td>2</td><td>&quot;&quot;</td><td>&quot;Persephone LE&quot;</td><td>true</td><td>133979343142010758</td><td>108000000000</td><td>2025-07-25 13:25:14.201075</td><td>16594</td><td>&quot;3f32defc30edd6fd9275ca96dfa5b5a3a2c3b8697c6540e865e2ef595c0265a3&quot;</td><td>&quot;/home/seb/SCReplaysOnNVMe/2025EWCReplayPack/3 - Playoffs/8 - Grand Finals - Serral vs Classic/20250725 - Game1 - Classic vs Serral - Persephone.SC2Replay&quot;</td><td>2</td><td>2</td><td>0</td><td>0</td><td>2</td><td>160</td><td>184</td></tr><tr><td>&quot;WarpGate&quot;</td><td>205</td><td>2</td><td>1</td><td>70</td><td>41</td><td>&quot;Roach&quot;</td><td>501</td><td>22</td><td>19305</td><td>939</td><td>16594</td><td>&quot;Serral&quot;</td><td>2</td><td>21298</td><td>1</td><td>9691277</td><td>&quot;Zerg&quot;</td><td>255</td><td>180</td><td>20</td><td>30</td><td>2</td><td>0</td><td>0</td><td>1</td><td>2</td><td>&quot;&quot;</td><td>&quot;Persephone LE&quot;</td><td>true</td><td>133979343142010758</td><td>108000000000</td><td>2025-07-25 13:25:14.201075</td><td>16594</td><td>&quot;3f32defc30edd6fd9275ca96dfa5b5a3a2c3b8697c6540e865e2ef595c0265a3&quot;</td><td>&quot;/home/seb/SCReplaysOnNVMe/2025EWCReplayPack/3 - Playoffs/8 - Grand Finals - Serral vs Classic/20250725 - Game1 - Classic vs Serral - Persephone.SC2Replay&quot;</td><td>2</td><td>2</td><td>0</td><td>0</td><td>2</td><td>160</td><td>184</td></tr><tr><td>&quot;Probe&quot;</td><td>502</td><td>1</td><td>1</td><td>92</td><td>24</td><td>&quot;Roach&quot;</td><td>389</td><td>24</td><td>19308</td><td>940</td><td>16594</td><td>&quot;Serral&quot;</td><td>2</td><td>21298</td><td>1</td><td>9691277</td><td>&quot;Zerg&quot;</td><td>255</td><td>180</td><td>20</td><td>30</td><td>2</td><td>0</td><td>0</td><td>1</td><td>2</td><td>&quot;&quot;</td><td>&quot;Persephone LE&quot;</td><td>true</td><td>133979343142010758</td><td>108000000000</td><td>2025-07-25 13:25:14.201075</td><td>16594</td><td>&quot;3f32defc30edd6fd9275ca96dfa5b5a3a2c3b8697c6540e865e2ef595c0265a3&quot;</td><td>&quot;/home/seb/SCReplaysOnNVMe/2025EWCReplayPack/3 - Playoffs/8 - Grand Finals - Serral vs Classic/20250725 - Game1 - Classic vs Serral - Persephone.SC2Replay&quot;</td><td>2</td><td>2</td><td>0</td><td>0</td><td>2</td><td>160</td><td>184</td></tr><tr><td>&quot;Probe&quot;</td><td>345</td><td>3</td><td>1</td><td>88</td><td>24</td><td>&quot;Roach&quot;</td><td>425</td><td>29</td><td>19312</td><td>940</td><td>16594</td><td>&quot;Serral&quot;</td><td>2</td><td>21298</td><td>1</td><td>9691277</td><td>&quot;Zerg&quot;</td><td>255</td><td>180</td><td>20</td><td>30</td><td>2</td><td>0</td><td>0</td><td>1</td><td>2</td><td>&quot;&quot;</td><td>&quot;Persephone LE&quot;</td><td>true</td><td>133979343142010758</td><td>108000000000</td><td>2025-07-25 13:25:14.201075</td><td>16594</td><td>&quot;3f32defc30edd6fd9275ca96dfa5b5a3a2c3b8697c6540e865e2ef595c0265a3&quot;</td><td>&quot;/home/seb/SCReplaysOnNVMe/2025EWCReplayPack/3 - Playoffs/8 - Grand Finals - Serral vs Classic/20250725 - Game1 - Classic vs Serral - Persephone.SC2Replay&quot;</td><td>2</td><td>2</td><td>0</td><td>0</td><td>2</td><td>160</td><td>184</td></tr><tr><td>&quot;MineralField750&quot;</td><td>60</td><td>1</td><td>1</td><td>37</td><td>152</td><td>&quot;&quot;</td><td>null</td><td>null</td><td>19312</td><td>940</td><td>16594</td><td>&quot;Serral&quot;</td><td>2</td><td>21298</td><td>1</td><td>9691277</td><td>&quot;Zerg&quot;</td><td>255</td><td>180</td><td>20</td><td>30</td><td>2</td><td>0</td><td>0</td><td>1</td><td>2</td><td>&quot;&quot;</td><td>&quot;Persephone LE&quot;</td><td>true</td><td>133979343142010758</td><td>108000000000</td><td>2025-07-25 13:25:14.201075</td><td>16594</td><td>&quot;3f32defc30edd6fd9275ca96dfa5b5a3a2c3b8697c6540e865e2ef595c0265a3&quot;</td><td>&quot;/home/seb/SCReplaysOnNVMe/2025EWCReplayPack/3 - Playoffs/8 - Grand Finals - Serral vs Classic/20250725 - Game1 - Classic vs Serral - Persephone.SC2Replay&quot;</td><td>2</td><td>2</td><td>0</td><td>0</td><td>2</td><td>160</td><td>184</td></tr><tr><td>&quot;Probe&quot;</td><td>446</td><td>1</td><td>1</td><td>91</td><td>22</td><td>&quot;Roach&quot;</td><td>84</td><td>10</td><td>19322</td><td>940</td><td>16594</td><td>&quot;Serral&quot;</td><td>2</td><td>21298</td><td>1</td><td>9691277</td><td>&quot;Zerg&quot;</td><td>255</td><td>180</td><td>20</td><td>30</td><td>2</td><td>0</td><td>0</td><td>1</td><td>2</td><td>&quot;&quot;</td><td>&quot;Persephone LE&quot;</td><td>true</td><td>133979343142010758</td><td>108000000000</td><td>2025-07-25 13:25:14.201075</td><td>16594</td><td>&quot;3f32defc30edd6fd9275ca96dfa5b5a3a2c3b8697c6540e865e2ef595c0265a3&quot;</td><td>&quot;/home/seb/SCReplaysOnNVMe/2025EWCReplayPack/3 - Playoffs/8 - Grand Finals - Serral vs Classic/20250725 - Game1 - Classic vs Serral - Persephone.SC2Replay&quot;</td><td>2</td><td>2</td><td>0</td><td>0</td><td>2</td><td>160</td><td>184</td></tr></tbody></table></div>"
      ],
      "text/plain": [
       "shape: (100, 43)\n",
       "┌─────────────────┬────────────────┬──────────────────┬──────────────────┬───┬─────────┬─────────────────────┬────────────┬────────────┐\n",
       "│ unit_died_name  ┆ unit_tag_index ┆ unit_tag_recycle ┆ killer_player_id ┆ … ┆ observe ┆ working_set_slot_id ┆ map_size_x ┆ map_size_y │\n",
       "│ ---             ┆ ---            ┆ ---              ┆ ---              ┆   ┆ ---     ┆ ---                 ┆ ---        ┆ ---        │\n",
       "│ str             ┆ u32            ┆ u32              ┆ u8               ┆   ┆ u8      ┆ u8                  ┆ u8         ┆ u8         │\n",
       "╞═════════════════╪════════════════╪══════════════════╪══════════════════╪═══╪═════════╪═════════════════════╪════════════╪════════════╡\n",
       "│ Roach           ┆ 482            ┆ 3                ┆ 2                ┆ … ┆ 0       ┆ 12                  ┆ 160        ┆ 184        │\n",
       "│ HighTemplar     ┆ 488            ┆ 1                ┆ 1                ┆ … ┆ 0       ┆ 2                   ┆ 160        ┆ 184        │\n",
       "│ Stalker         ┆ 442            ┆ 10               ┆ 1                ┆ … ┆ 0       ┆ 2                   ┆ 160        ┆ 184        │\n",
       "│ Roach           ┆ 512            ┆ 4                ┆ 2                ┆ … ┆ 0       ┆ 12                  ┆ 160        ┆ 184        │\n",
       "│ Roach           ┆ 548            ┆ 13               ┆ 2                ┆ … ┆ 0       ┆ 12                  ┆ 160        ┆ 184        │\n",
       "│ Probe           ┆ 413            ┆ 3                ┆ 1                ┆ … ┆ 0       ┆ 2                   ┆ 160        ┆ 184        │\n",
       "│ Adept           ┆ 288            ┆ 4                ┆ 1                ┆ … ┆ 0       ┆ 2                   ┆ 160        ┆ 184        │\n",
       "│ Probe           ┆ 360            ┆ 2                ┆ 1                ┆ … ┆ 0       ┆ 2                   ┆ 160        ┆ 184        │\n",
       "│ Roach           ┆ 421            ┆ 4                ┆ 2                ┆ … ┆ 0       ┆ 12                  ┆ 160        ┆ 184        │\n",
       "│ Oracle          ┆ 385            ┆ 2                ┆ 1                ┆ … ┆ 0       ┆ 2                   ┆ 160        ┆ 184        │\n",
       "│ Roach           ┆ 423            ┆ 8                ┆ 2                ┆ … ┆ 0       ┆ 12                  ┆ 160        ┆ 184        │\n",
       "│ MineralField750 ┆ 14             ┆ 1                ┆ 2                ┆ … ┆ 0       ┆ 12                  ┆ 160        ┆ 184        │\n",
       "│ …               ┆ …              ┆ …                ┆ …                ┆ … ┆ …       ┆ …                   ┆ …          ┆ …          │\n",
       "│ Stalker         ┆ 552            ┆ 30               ┆ 1                ┆ … ┆ 0       ┆ 2                   ┆ 160        ┆ 184        │\n",
       "│ Probe           ┆ 499            ┆ 2                ┆ 1                ┆ … ┆ 0       ┆ 2                   ┆ 160        ┆ 184        │\n",
       "│ Probe           ┆ 478            ┆ 1                ┆ 1                ┆ … ┆ 0       ┆ 2                   ┆ 160        ┆ 184        │\n",
       "│ Probe           ┆ 401            ┆ 1                ┆ 1                ┆ … ┆ 0       ┆ 2                   ┆ 160        ┆ 184        │\n",
       "│ Probe           ┆ 464            ┆ 2                ┆ 1                ┆ … ┆ 0       ┆ 2                   ┆ 160        ┆ 184        │\n",
       "│ Probe           ┆ 378            ┆ 1                ┆ 1                ┆ … ┆ 0       ┆ 2                   ┆ 160        ┆ 184        │\n",
       "│ Probe           ┆ 546            ┆ 22               ┆ 1                ┆ … ┆ 0       ┆ 2                   ┆ 160        ┆ 184        │\n",
       "│ WarpGate        ┆ 205            ┆ 2                ┆ 1                ┆ … ┆ 0       ┆ 2                   ┆ 160        ┆ 184        │\n",
       "│ Probe           ┆ 502            ┆ 1                ┆ 1                ┆ … ┆ 0       ┆ 2                   ┆ 160        ┆ 184        │\n",
       "│ Probe           ┆ 345            ┆ 3                ┆ 1                ┆ … ┆ 0       ┆ 2                   ┆ 160        ┆ 184        │\n",
       "│ MineralField750 ┆ 60             ┆ 1                ┆ 1                ┆ … ┆ 0       ┆ 2                   ┆ 160        ┆ 184        │\n",
       "│ Probe           ┆ 446            ┆ 1                ┆ 1                ┆ … ┆ 0       ┆ 2                   ┆ 160        ┆ 184        │\n",
       "└─────────────────┴────────────────┴──────────────────┴──────────────────┴───┴─────────┴─────────────────────┴────────────┴────────────┘"
      ]
     },
     "execution_count": 71,
     "metadata": {},
     "output_type": "execute_result"
    }
   ],
   "source": [
    "unit_died_df.filter(pl.col(\"ext_fs_id\").eq(chosen_fs_id)).join(\n",
    "    details_lobby_df.filter(pl.col(\"ext_fs_id\").eq(chosen_fs_id)).with_columns(\n",
    "        pl.col(\"user_id\").sub(1).alias(\"killer_player_id\")\n",
    "    ),\n",
    "    on=[\"killer_player_id\", \"ext_fs_id\"],\n",
    ").tail(100).collect()"
   ]
  },
  {
   "cell_type": "code",
   "execution_count": 105,
   "id": "4a67874f-6a02-4de8-9fc9-2aa5036dfda3",
   "metadata": {},
   "outputs": [
    {
     "data": {
      "text/plain": [
       "77779912"
      ]
     },
     "execution_count": 105,
     "metadata": {},
     "output_type": "execute_result"
    }
   ],
   "source": [
    "len(unit_died_df.collect())"
   ]
  },
  {
   "cell_type": "code",
   "execution_count": 107,
   "id": "4adeb0a5-a958-4ce0-841e-c0d62169b507",
   "metadata": {},
   "outputs": [
    {
     "data": {
      "text/html": [
       "<div><style>\n",
       ".dataframe > thead > tr,\n",
       ".dataframe > tbody > tr {\n",
       "  text-align: right;\n",
       "  white-space: pre-wrap;\n",
       "}\n",
       "</style>\n",
       "<small>shape: (52, 4)</small><table border=\"1\" class=\"dataframe\"><thead><tr><th>player_name</th><th>unit_killer_name</th><th>unit_died_name</th><th>freq</th></tr><tr><td>str</td><td>str</td><td>str</td><td>u32</td></tr></thead><tbody><tr><td>&quot;Classic&quot;</td><td>&quot;Stalker&quot;</td><td>&quot;Roach&quot;</td><td>30</td></tr><tr><td>&quot;Serral&quot;</td><td>&quot;Roach&quot;</td><td>&quot;Stalker&quot;</td><td>27</td></tr><tr><td>&quot;Classic&quot;</td><td>&quot;Stalker&quot;</td><td>&quot;Zergling&quot;</td><td>14</td></tr><tr><td>&quot;Serral&quot;</td><td>&quot;Roach&quot;</td><td>&quot;Probe&quot;</td><td>13</td></tr><tr><td>&quot;Serral&quot;</td><td>&quot;Ravager&quot;</td><td>&quot;Stalker&quot;</td><td>13</td></tr><tr><td>&quot;Classic&quot;</td><td>&quot;Adept&quot;</td><td>&quot;AdeptPhaseShift&quot;</td><td>9</td></tr><tr><td>&quot;Serral&quot;</td><td>&quot;Ravager&quot;</td><td>&quot;Probe&quot;</td><td>7</td></tr><tr><td>&quot;Classic&quot;</td><td>&quot;Phoenix&quot;</td><td>&quot;Mutalisk&quot;</td><td>6</td></tr><tr><td>&quot;Serral&quot;</td><td>&quot;&quot;</td><td>&quot;MineralField750&quot;</td><td>5</td></tr><tr><td>&quot;Classic&quot;</td><td>&quot;VoidRay&quot;</td><td>&quot;Roach&quot;</td><td>5</td></tr><tr><td>&quot;Classic&quot;</td><td>&quot;PhotonCannon&quot;</td><td>&quot;Roach&quot;</td><td>5</td></tr><tr><td>&quot;Classic&quot;</td><td>&quot;HighTemplar&quot;</td><td>&quot;Roach&quot;</td><td>5</td></tr><tr><td>&hellip;</td><td>&hellip;</td><td>&hellip;</td><td>&hellip;</td></tr><tr><td>&quot;Serral&quot;</td><td>&quot;Ravager&quot;</td><td>&quot;Adept&quot;</td><td>1</td></tr><tr><td>&quot;Classic&quot;</td><td>&quot;VoidRay&quot;</td><td>&quot;CreepTumorBurrowed&quot;</td><td>1</td></tr><tr><td>&quot;Classic&quot;</td><td>&quot;VoidRay&quot;</td><td>&quot;Overlord&quot;</td><td>1</td></tr><tr><td>&quot;Serral&quot;</td><td>&quot;Zergling&quot;</td><td>&quot;HighTemplar&quot;</td><td>1</td></tr><tr><td>&quot;Classic&quot;</td><td>&quot;Stalker&quot;</td><td>&quot;Mutalisk&quot;</td><td>1</td></tr><tr><td>&quot;Serral&quot;</td><td>&quot;Roach&quot;</td><td>&quot;WarpGate&quot;</td><td>1</td></tr><tr><td>&quot;Serral&quot;</td><td>&quot;Mutalisk&quot;</td><td>&quot;Probe&quot;</td><td>1</td></tr><tr><td>&quot;Serral&quot;</td><td>&quot;Queen&quot;</td><td>&quot;Phoenix&quot;</td><td>1</td></tr><tr><td>&quot;Classic&quot;</td><td>&quot;Stalker&quot;</td><td>&quot;Queen&quot;</td><td>1</td></tr><tr><td>&quot;Classic&quot;</td><td>&quot;VoidRay&quot;</td><td>&quot;Mutalisk&quot;</td><td>1</td></tr><tr><td>&quot;Serral&quot;</td><td>&quot;Ravager&quot;</td><td>&quot;OracleStasisTrap&quot;</td><td>1</td></tr><tr><td>&quot;Serral&quot;</td><td>&quot;&quot;</td><td>&quot;SporeCrawler&quot;</td><td>1</td></tr></tbody></table></div>"
      ],
      "text/plain": [
       "shape: (52, 4)\n",
       "┌─────────────┬──────────────────┬────────────────────┬──────┐\n",
       "│ player_name ┆ unit_killer_name ┆ unit_died_name     ┆ freq │\n",
       "│ ---         ┆ ---              ┆ ---                ┆ ---  │\n",
       "│ str         ┆ str              ┆ str                ┆ u32  │\n",
       "╞═════════════╪══════════════════╪════════════════════╪══════╡\n",
       "│ Classic     ┆ Stalker          ┆ Roach              ┆ 30   │\n",
       "│ Serral      ┆ Roach            ┆ Stalker            ┆ 27   │\n",
       "│ Classic     ┆ Stalker          ┆ Zergling           ┆ 14   │\n",
       "│ Serral      ┆ Roach            ┆ Probe              ┆ 13   │\n",
       "│ Serral      ┆ Ravager          ┆ Stalker            ┆ 13   │\n",
       "│ Classic     ┆ Adept            ┆ AdeptPhaseShift    ┆ 9    │\n",
       "│ Serral      ┆ Ravager          ┆ Probe              ┆ 7    │\n",
       "│ Classic     ┆ Phoenix          ┆ Mutalisk           ┆ 6    │\n",
       "│ Serral      ┆                  ┆ MineralField750    ┆ 5    │\n",
       "│ Classic     ┆ VoidRay          ┆ Roach              ┆ 5    │\n",
       "│ Classic     ┆ PhotonCannon     ┆ Roach              ┆ 5    │\n",
       "│ Classic     ┆ HighTemplar      ┆ Roach              ┆ 5    │\n",
       "│ …           ┆ …                ┆ …                  ┆ …    │\n",
       "│ Serral      ┆ Ravager          ┆ Adept              ┆ 1    │\n",
       "│ Classic     ┆ VoidRay          ┆ CreepTumorBurrowed ┆ 1    │\n",
       "│ Classic     ┆ VoidRay          ┆ Overlord           ┆ 1    │\n",
       "│ Serral      ┆ Zergling         ┆ HighTemplar        ┆ 1    │\n",
       "│ Classic     ┆ Stalker          ┆ Mutalisk           ┆ 1    │\n",
       "│ Serral      ┆ Roach            ┆ WarpGate           ┆ 1    │\n",
       "│ Serral      ┆ Mutalisk         ┆ Probe              ┆ 1    │\n",
       "│ Serral      ┆ Queen            ┆ Phoenix            ┆ 1    │\n",
       "│ Classic     ┆ Stalker          ┆ Queen              ┆ 1    │\n",
       "│ Classic     ┆ VoidRay          ┆ Mutalisk           ┆ 1    │\n",
       "│ Serral      ┆ Ravager          ┆ OracleStasisTrap   ┆ 1    │\n",
       "│ Serral      ┆                  ┆ SporeCrawler       ┆ 1    │\n",
       "└─────────────┴──────────────────┴────────────────────┴──────┘"
      ]
     },
     "execution_count": 107,
     "metadata": {},
     "output_type": "execute_result"
    }
   ],
   "source": [
    "(\n",
    "    unit_died_df\n",
    "        .filter(pl.col(\"ext_fs_id\").eq(chosen_fs_id))\n",
    "        .join(\n",
    "            details_lobby_df\n",
    "                .filter(pl.col(\"ext_fs_id\").eq(chosen_fs_id))\n",
    "                .with_columns(pl.col(\"user_id\").sub(1).alias(\"killer_player_id\"))\n",
    "            ,on=[\"killer_player_id\", \"ext_fs_id\"],\n",
    "        )\n",
    "        .group_by(pl.col(\"player_name\"), pl.col(\"unit_killer_name\"), pl.col(\"unit_died_name\"))\n",
    "        .agg(pl.len().alias(\"freq\"))\n",
    "        .sort(pl.col(\"freq\"), descending=True)\n",
    "        .collect()\n",
    ")"
   ]
  },
  {
   "cell_type": "code",
   "execution_count": 74,
   "id": "aab3501c-ed2f-4b4f-b8ad-58b65753142e",
   "metadata": {},
   "outputs": [
    {
     "data": {
      "text/plain": [
       "Schema([('user_id', Int64),\n",
       "        ('cmd_flags', Int64),\n",
       "        ('abil_link', UInt16),\n",
       "        ('abil_cmd_index', Int64),\n",
       "        ('ability', String),\n",
       "        ('target_point_x', Int64),\n",
       "        ('target_point_y', Int64),\n",
       "        ('target_point_z', Int32),\n",
       "        ('sequence', Int64),\n",
       "        ('unit_group', UInt32),\n",
       "        ('ext_replay_loop', Int64),\n",
       "        ('ext_replay_seconds', UInt32),\n",
       "        ('ext_fs_id', UInt64)])"
      ]
     },
     "execution_count": 74,
     "metadata": {},
     "output_type": "execute_result"
    }
   ],
   "source": [
    "cmd_target_point_df.collect_schema()"
   ]
  },
  {
   "cell_type": "code",
   "execution_count": 75,
   "id": "c1cda05a-0d44-4946-b5aa-523d5be10f78",
   "metadata": {},
   "outputs": [
    {
     "data": {
      "text/html": [
       "<div><style>\n",
       ".dataframe > thead > tr,\n",
       ".dataframe > tbody > tr {\n",
       "  text-align: right;\n",
       "  white-space: pre-wrap;\n",
       "}\n",
       "</style>\n",
       "<small>shape: (9, 14)</small><table border=\"1\" class=\"dataframe\"><thead><tr><th>statistic</th><th>user_id</th><th>cmd_flags</th><th>abil_link</th><th>abil_cmd_index</th><th>ability</th><th>target_point_x</th><th>target_point_y</th><th>target_point_z</th><th>sequence</th><th>unit_group</th><th>ext_replay_loop</th><th>ext_replay_seconds</th><th>ext_fs_id</th></tr><tr><td>str</td><td>f64</td><td>f64</td><td>f64</td><td>f64</td><td>str</td><td>f64</td><td>f64</td><td>f64</td><td>f64</td><td>f64</td><td>f64</td><td>f64</td><td>f64</td></tr></thead><tbody><tr><td>&quot;count&quot;</td><td>2.261309e7</td><td>2.261309e7</td><td>1.0728131e7</td><td>1.0728131e7</td><td>&quot;22613090&quot;</td><td>2.261309e7</td><td>2.261309e7</td><td>2.261309e7</td><td>2.261309e7</td><td>20264.0</td><td>2.261309e7</td><td>2.261309e7</td><td>2.261309e7</td></tr><tr><td>&quot;null_count&quot;</td><td>0.0</td><td>0.0</td><td>1.1884959e7</td><td>1.1884959e7</td><td>&quot;0&quot;</td><td>0.0</td><td>0.0</td><td>0.0</td><td>0.0</td><td>2.2592826e7</td><td>0.0</td><td>0.0</td><td>0.0</td></tr><tr><td>&quot;mean&quot;</td><td>2.195515</td><td>95032.358634</td><td>124.32191</td><td>1.019574</td><td>null</td><td>393013.87234</td><td>370429.506006</td><td>39136.025229</td><td>1684.123698</td><td>1.5208e7</td><td>3.7335e6</td><td>256057.108176</td><td>30427.829518</td></tr><tr><td>&quot;std&quot;</td><td>2.116589</td><td>1.2162e6</td><td>190.614978</td><td>2.886964</td><td>null</td><td>159628.419146</td><td>155516.530438</td><td>595057.118385</td><td>748053.148636</td><td>1.1209e8</td><td>2.9829e8</td><td>2.0458e7</td><td>14611.257645</td></tr><tr><td>&quot;min&quot;</td><td>0.0</td><td>256.0</td><td>43.0</td><td>0.0</td><td>&quot;&quot;</td><td>8192.0</td><td>8192.0</td><td>-1.3832e9</td><td>1.0</td><td>68923.0</td><td>0.0</td><td>0.0</td><td>0.0</td></tr><tr><td>&quot;25%&quot;</td><td>1.0</td><td>256.0</td><td>46.0</td><td>0.0</td><td>null</td><td>260550.0</td><td>241451.0</td><td>32744.0</td><td>561.0</td><td>69930.0</td><td>6293.0</td><td>431.0</td><td>18173.0</td></tr><tr><td>&quot;50%&quot;</td><td>2.0</td><td>264.0</td><td>46.0</td><td>0.0</td><td>null</td><td>391168.0</td><td>364161.0</td><td>40919.0</td><td>1060.0</td><td>70037.0</td><td>10688.0</td><td>733.0</td><td>30769.0</td></tr><tr><td>&quot;75%&quot;</td><td>3.0</td><td>264.0</td><td>172.0</td><td>0.0</td><td>null</td><td>522240.0</td><td>497664.0</td><td>40954.0</td><td>1766.0</td><td>70133.0</td><td>16262.0</td><td>1115.0</td><td>43093.0</td></tr><tr><td>&quot;max&quot;</td><td>26.0</td><td>6.2793903e7</td><td>12470.0</td><td>29.0</td><td>&quot;&quot;</td><td>1.048575e6</td><td>1.044511e6</td><td>149253.0</td><td>2.1016e9</td><td>3.5588e9</td><td>2.7985e10</td><td>1.9193e9</td><td>54323.0</td></tr></tbody></table></div>"
      ],
      "text/plain": [
       "shape: (9, 14)\n",
       "┌────────────┬────────────┬──────────────┬─────────────┬───┬─────────────┬─────────────────┬────────────────────┬──────────────┐\n",
       "│ statistic  ┆ user_id    ┆ cmd_flags    ┆ abil_link   ┆ … ┆ unit_group  ┆ ext_replay_loop ┆ ext_replay_seconds ┆ ext_fs_id    │\n",
       "│ ---        ┆ ---        ┆ ---          ┆ ---         ┆   ┆ ---         ┆ ---             ┆ ---                ┆ ---          │\n",
       "│ str        ┆ f64        ┆ f64          ┆ f64         ┆   ┆ f64         ┆ f64             ┆ f64                ┆ f64          │\n",
       "╞════════════╪════════════╪══════════════╪═════════════╪═══╪═════════════╪═════════════════╪════════════════════╪══════════════╡\n",
       "│ count      ┆ 2.261309e7 ┆ 2.261309e7   ┆ 1.0728131e7 ┆ … ┆ 20264.0     ┆ 2.261309e7      ┆ 2.261309e7         ┆ 2.261309e7   │\n",
       "│ null_count ┆ 0.0        ┆ 0.0          ┆ 1.1884959e7 ┆ … ┆ 2.2592826e7 ┆ 0.0             ┆ 0.0                ┆ 0.0          │\n",
       "│ mean       ┆ 2.195515   ┆ 95032.358634 ┆ 124.32191   ┆ … ┆ 1.5208e7    ┆ 3.7335e6        ┆ 256057.108176      ┆ 30427.829518 │\n",
       "│ std        ┆ 2.116589   ┆ 1.2162e6     ┆ 190.614978  ┆ … ┆ 1.1209e8    ┆ 2.9829e8        ┆ 2.0458e7           ┆ 14611.257645 │\n",
       "│ min        ┆ 0.0        ┆ 256.0        ┆ 43.0        ┆ … ┆ 68923.0     ┆ 0.0             ┆ 0.0                ┆ 0.0          │\n",
       "│ 25%        ┆ 1.0        ┆ 256.0        ┆ 46.0        ┆ … ┆ 69930.0     ┆ 6293.0          ┆ 431.0              ┆ 18173.0      │\n",
       "│ 50%        ┆ 2.0        ┆ 264.0        ┆ 46.0        ┆ … ┆ 70037.0     ┆ 10688.0         ┆ 733.0              ┆ 30769.0      │\n",
       "│ 75%        ┆ 3.0        ┆ 264.0        ┆ 172.0       ┆ … ┆ 70133.0     ┆ 16262.0         ┆ 1115.0             ┆ 43093.0      │\n",
       "│ max        ┆ 26.0       ┆ 6.2793903e7  ┆ 12470.0     ┆ … ┆ 3.5588e9    ┆ 2.7985e10       ┆ 1.9193e9           ┆ 54323.0      │\n",
       "└────────────┴────────────┴──────────────┴─────────────┴───┴─────────────┴─────────────────┴────────────────────┴──────────────┘"
      ]
     },
     "execution_count": 75,
     "metadata": {},
     "output_type": "execute_result"
    }
   ],
   "source": [
    "cmd_target_point_df.describe()"
   ]
  },
  {
   "cell_type": "code",
   "execution_count": 76,
   "id": "3642adfc-b92d-4bc6-955d-1986aa606138",
   "metadata": {},
   "outputs": [
    {
     "data": {
      "text/html": [
       "<div><style>\n",
       ".dataframe > thead > tr,\n",
       ".dataframe > tbody > tr {\n",
       "  text-align: right;\n",
       "  white-space: pre-wrap;\n",
       "}\n",
       "</style>\n",
       "<small>shape: (1_307, 1)</small><table border=\"1\" class=\"dataframe\"><thead><tr><th>unit_group</th></tr><tr><td>struct[2]</td></tr></thead><tbody><tr><td>{null,22592826}</td></tr><tr><td>{69918,1287}</td></tr><tr><td>{70037,947}</td></tr><tr><td>{69919,932}</td></tr><tr><td>{70038,927}</td></tr><tr><td>{70048,859}</td></tr><tr><td>{70049,781}</td></tr><tr><td>{69902,706}</td></tr><tr><td>{69903,613}</td></tr><tr><td>{69930,582}</td></tr><tr><td>{70012,535}</td></tr><tr><td>{69861,522}</td></tr><tr><td>&hellip;</td></tr><tr><td>{112403299,1}</td></tr><tr><td>{1038033150,1}</td></tr><tr><td>{190063299,1}</td></tr><tr><td>{595862175,1}</td></tr><tr><td>{785523393,1}</td></tr><tr><td>{130687738,1}</td></tr><tr><td>{451945081,1}</td></tr><tr><td>{221324085,1}</td></tr><tr><td>{201204475,1}</td></tr><tr><td>{1890984265,1}</td></tr><tr><td>{1209082688,1}</td></tr><tr><td>{205194,1}</td></tr></tbody></table></div>"
      ],
      "text/plain": [
       "shape: (1_307, 1)\n",
       "┌─────────────────┐\n",
       "│ unit_group      │\n",
       "│ ---             │\n",
       "│ struct[2]       │\n",
       "╞═════════════════╡\n",
       "│ {null,22592826} │\n",
       "│ {69918,1287}    │\n",
       "│ {70037,947}     │\n",
       "│ {69919,932}     │\n",
       "│ {70038,927}     │\n",
       "│ {70048,859}     │\n",
       "│ {70049,781}     │\n",
       "│ {69902,706}     │\n",
       "│ {69903,613}     │\n",
       "│ {69930,582}     │\n",
       "│ {70012,535}     │\n",
       "│ {69861,522}     │\n",
       "│ …               │\n",
       "│ {112403299,1}   │\n",
       "│ {1038033150,1}  │\n",
       "│ {190063299,1}   │\n",
       "│ {595862175,1}   │\n",
       "│ {785523393,1}   │\n",
       "│ {130687738,1}   │\n",
       "│ {451945081,1}   │\n",
       "│ {221324085,1}   │\n",
       "│ {201204475,1}   │\n",
       "│ {1890984265,1}  │\n",
       "│ {1209082688,1}  │\n",
       "│ {205194,1}      │\n",
       "└─────────────────┘"
      ]
     },
     "execution_count": 76,
     "metadata": {},
     "output_type": "execute_result"
    }
   ],
   "source": [
    "cmd_target_point_df.select(pl.col(\"unit_group\").value_counts(sort=True)).collect()\n",
    "# map_elements(lambda x: f'{x:>064b}', return_dtype=pl.String). # Transform i64 to bits.\n",
    "# cmd_flags is some bit map, not sure about its meaning. Mostly 0s, a few 1s\n",
    "# unst_abil is a currently unstable feature of s2protocol-rs that tries to generate the ability strings.\n",
    "# abil_link: mostly null, then followed by 46, 172, 185, 267\n",
    "# abil_cmd_index: From 0 to 15, mostly nulls, followed by  0, 1,3,15,4,...\n",
    "# target_point_x, target_point_y and target_point_z are self explanatory, important that the Z is i32 and x,y are i64 at the source.\n",
    "# sequence: Unknown 12K values, top are: 5,6,4,7,721,681,...\n",
    "# unit_group: 20 values, most are null, then 70011 with 44 instances, 69957, 70013, but very very few non nulls."
   ]
  },
  {
   "cell_type": "code",
   "execution_count": 77,
   "id": "d67e9890-9e54-4837-a7b6-de1e6208966e",
   "metadata": {},
   "outputs": [
    {
     "data": {
      "text/html": [
       "<div><style>\n",
       ".dataframe > thead > tr,\n",
       ".dataframe > tbody > tr {\n",
       "  text-align: right;\n",
       "  white-space: pre-wrap;\n",
       "}\n",
       "</style>\n",
       "<small>shape: (782, 43)</small><table border=\"1\" class=\"dataframe\"><thead><tr><th>user_id</th><th>cmd_flags</th><th>abil_link</th><th>abil_cmd_index</th><th>ability</th><th>target_point_x</th><th>target_point_y</th><th>target_point_z</th><th>sequence</th><th>unit_group</th><th>ext_replay_loop</th><th>ext_replay_seconds</th><th>ext_fs_id</th><th>player_name</th><th>player_toon_region</th><th>player_toon_program_id</th><th>player_toon_realm</th><th>player_toon_id</th><th>player_race</th><th>player_color_a</th><th>player_color_r</th><th>player_color_g</th><th>player_color_b</th><th>player_control</th><th>player_team_id</th><th>player_observe</th><th>player_result</th><th>player_working_set_slot_id</th><th>player_hero</th><th>title</th><th>is_blizzard_map</th><th>time_utc</th><th>time_local_offset</th><th>ext_datetime</th><th>ext_fs_id_right</th><th>ext_fs_sha256</th><th>ext_fs_file_name</th><th>control</th><th>team_id</th><th>observe</th><th>working_set_slot_id</th><th>map_size_x</th><th>map_size_y</th></tr><tr><td>i64</td><td>i64</td><td>u16</td><td>i64</td><td>str</td><td>i64</td><td>i64</td><td>i32</td><td>i64</td><td>u32</td><td>i64</td><td>u32</td><td>u64</td><td>str</td><td>u8</td><td>u32</td><td>u32</td><td>u64</td><td>str</td><td>u8</td><td>u8</td><td>u8</td><td>u8</td><td>u8</td><td>u8</td><td>u8</td><td>u8</td><td>u8</td><td>str</td><td>str</td><td>bool</td><td>i64</td><td>i64</td><td>datetime[ns]</td><td>u64</td><td>str</td><td>str</td><td>i64</td><td>i64</td><td>u8</td><td>u8</td><td>u8</td><td>u8</td></tr></thead><tbody><tr><td>2</td><td>65800</td><td>null</td><td>null</td><td>&quot;&quot;</td><td>282455</td><td>134532</td><td>40896</td><td>8</td><td>null</td><td>54</td><td>3</td><td>16594</td><td>&quot;Serral&quot;</td><td>2</td><td>21298</td><td>1</td><td>9691277</td><td>&quot;Zerg&quot;</td><td>255</td><td>180</td><td>20</td><td>30</td><td>2</td><td>0</td><td>0</td><td>1</td><td>2</td><td>&quot;&quot;</td><td>&quot;Persephone LE&quot;</td><td>true</td><td>133979343142010758</td><td>108000000000</td><td>2025-07-25 13:25:14.201075</td><td>16594</td><td>&quot;3f32defc30edd6fd9275ca96dfa5b5a3a2c3b8697c6540e865e2ef595c0265a3&quot;</td><td>&quot;/home/seb/SCReplaysOnNVMe/2025EWCReplayPack/3 - Playoffs/8 - Grand Finals - Serral vs Classic/20250725 - Game1 - Classic vs Serral - Persephone.SC2Replay&quot;</td><td>2</td><td>0</td><td>0</td><td>2</td><td>160</td><td>184</td></tr><tr><td>3</td><td>256</td><td>107</td><td>0</td><td>&quot;&quot;</td><td>263591</td><td>119154</td><td>40907</td><td>5</td><td>null</td><td>70</td><td>4</td><td>16594</td><td>&quot;Classic&quot;</td><td>2</td><td>21298</td><td>1</td><td>9691041</td><td>&quot;Protoss&quot;</td><td>255</td><td>0</td><td>66</td><td>255</td><td>2</td><td>1</td><td>0</td><td>2</td><td>12</td><td>&quot;&quot;</td><td>&quot;Persephone LE&quot;</td><td>true</td><td>133979343142010758</td><td>108000000000</td><td>2025-07-25 13:25:14.201075</td><td>16594</td><td>&quot;3f32defc30edd6fd9275ca96dfa5b5a3a2c3b8697c6540e865e2ef595c0265a3&quot;</td><td>&quot;/home/seb/SCReplaysOnNVMe/2025EWCReplayPack/3 - Playoffs/8 - Grand Finals - Serral vs Classic/20250725 - Game1 - Classic vs Serral - Persephone.SC2Replay&quot;</td><td>2</td><td>1</td><td>0</td><td>12</td><td>160</td><td>184</td></tr><tr><td>3</td><td>264</td><td>null</td><td>null</td><td>&quot;&quot;</td><td>275872</td><td>109184</td><td>40907</td><td>7</td><td>null</td><td>224</td><td>15</td><td>16594</td><td>&quot;Classic&quot;</td><td>2</td><td>21298</td><td>1</td><td>9691041</td><td>&quot;Protoss&quot;</td><td>255</td><td>0</td><td>66</td><td>255</td><td>2</td><td>1</td><td>0</td><td>2</td><td>12</td><td>&quot;&quot;</td><td>&quot;Persephone LE&quot;</td><td>true</td><td>133979343142010758</td><td>108000000000</td><td>2025-07-25 13:25:14.201075</td><td>16594</td><td>&quot;3f32defc30edd6fd9275ca96dfa5b5a3a2c3b8697c6540e865e2ef595c0265a3&quot;</td><td>&quot;/home/seb/SCReplaysOnNVMe/2025EWCReplayPack/3 - Playoffs/8 - Grand Finals - Serral vs Classic/20250725 - Game1 - Classic vs Serral - Persephone.SC2Replay&quot;</td><td>2</td><td>1</td><td>0</td><td>12</td><td>160</td><td>184</td></tr><tr><td>2</td><td>264</td><td>null</td><td>null</td><td>&quot;&quot;</td><td>126594</td><td>591942</td><td>49101</td><td>46</td><td>null</td><td>262</td><td>17</td><td>16594</td><td>&quot;Serral&quot;</td><td>2</td><td>21298</td><td>1</td><td>9691277</td><td>&quot;Zerg&quot;</td><td>255</td><td>180</td><td>20</td><td>30</td><td>2</td><td>0</td><td>0</td><td>1</td><td>2</td><td>&quot;&quot;</td><td>&quot;Persephone LE&quot;</td><td>true</td><td>133979343142010758</td><td>108000000000</td><td>2025-07-25 13:25:14.201075</td><td>16594</td><td>&quot;3f32defc30edd6fd9275ca96dfa5b5a3a2c3b8697c6540e865e2ef595c0265a3&quot;</td><td>&quot;/home/seb/SCReplaysOnNVMe/2025EWCReplayPack/3 - Playoffs/8 - Grand Finals - Serral vs Classic/20250725 - Game1 - Classic vs Serral - Persephone.SC2Replay&quot;</td><td>2</td><td>0</td><td>0</td><td>2</td><td>160</td><td>184</td></tr><tr><td>2</td><td>264</td><td>null</td><td>null</td><td>&quot;&quot;</td><td>176392</td><td>589620</td><td>49101</td><td>51</td><td>null</td><td>302</td><td>20</td><td>16594</td><td>&quot;Serral&quot;</td><td>2</td><td>21298</td><td>1</td><td>9691277</td><td>&quot;Zerg&quot;</td><td>255</td><td>180</td><td>20</td><td>30</td><td>2</td><td>0</td><td>0</td><td>1</td><td>2</td><td>&quot;&quot;</td><td>&quot;Persephone LE&quot;</td><td>true</td><td>133979343142010758</td><td>108000000000</td><td>2025-07-25 13:25:14.201075</td><td>16594</td><td>&quot;3f32defc30edd6fd9275ca96dfa5b5a3a2c3b8697c6540e865e2ef595c0265a3&quot;</td><td>&quot;/home/seb/SCReplaysOnNVMe/2025EWCReplayPack/3 - Playoffs/8 - Grand Finals - Serral vs Classic/20250725 - Game1 - Classic vs Serral - Persephone.SC2Replay&quot;</td><td>2</td><td>0</td><td>0</td><td>2</td><td>160</td><td>184</td></tr><tr><td>3</td><td>264</td><td>null</td><td>null</td><td>&quot;&quot;</td><td>307427</td><td>154429</td><td>40907</td><td>12</td><td>null</td><td>341</td><td>23</td><td>16594</td><td>&quot;Classic&quot;</td><td>2</td><td>21298</td><td>1</td><td>9691041</td><td>&quot;Protoss&quot;</td><td>255</td><td>0</td><td>66</td><td>255</td><td>2</td><td>1</td><td>0</td><td>2</td><td>12</td><td>&quot;&quot;</td><td>&quot;Persephone LE&quot;</td><td>true</td><td>133979343142010758</td><td>108000000000</td><td>2025-07-25 13:25:14.201075</td><td>16594</td><td>&quot;3f32defc30edd6fd9275ca96dfa5b5a3a2c3b8697c6540e865e2ef595c0265a3&quot;</td><td>&quot;/home/seb/SCReplaysOnNVMe/2025EWCReplayPack/3 - Playoffs/8 - Grand Finals - Serral vs Classic/20250725 - Game1 - Classic vs Serral - Persephone.SC2Replay&quot;</td><td>2</td><td>1</td><td>0</td><td>12</td><td>160</td><td>184</td></tr><tr><td>3</td><td>256</td><td>172</td><td>1</td><td>&quot;&quot;</td><td>286720</td><td>147456</td><td>40907</td><td>27</td><td>null</td><td>403</td><td>27</td><td>16594</td><td>&quot;Classic&quot;</td><td>2</td><td>21298</td><td>1</td><td>9691041</td><td>&quot;Protoss&quot;</td><td>255</td><td>0</td><td>66</td><td>255</td><td>2</td><td>1</td><td>0</td><td>2</td><td>12</td><td>&quot;&quot;</td><td>&quot;Persephone LE&quot;</td><td>true</td><td>133979343142010758</td><td>108000000000</td><td>2025-07-25 13:25:14.201075</td><td>16594</td><td>&quot;3f32defc30edd6fd9275ca96dfa5b5a3a2c3b8697c6540e865e2ef595c0265a3&quot;</td><td>&quot;/home/seb/SCReplaysOnNVMe/2025EWCReplayPack/3 - Playoffs/8 - Grand Finals - Serral vs Classic/20250725 - Game1 - Classic vs Serral - Persephone.SC2Replay&quot;</td><td>2</td><td>1</td><td>0</td><td>12</td><td>160</td><td>184</td></tr><tr><td>2</td><td>264</td><td>null</td><td>null</td><td>&quot;&quot;</td><td>143258</td><td>616374</td><td>49101</td><td>100</td><td>null</td><td>489</td><td>33</td><td>16594</td><td>&quot;Serral&quot;</td><td>2</td><td>21298</td><td>1</td><td>9691277</td><td>&quot;Zerg&quot;</td><td>255</td><td>180</td><td>20</td><td>30</td><td>2</td><td>0</td><td>0</td><td>1</td><td>2</td><td>&quot;&quot;</td><td>&quot;Persephone LE&quot;</td><td>true</td><td>133979343142010758</td><td>108000000000</td><td>2025-07-25 13:25:14.201075</td><td>16594</td><td>&quot;3f32defc30edd6fd9275ca96dfa5b5a3a2c3b8697c6540e865e2ef595c0265a3&quot;</td><td>&quot;/home/seb/SCReplaysOnNVMe/2025EWCReplayPack/3 - Playoffs/8 - Grand Finals - Serral vs Classic/20250725 - Game1 - Classic vs Serral - Persephone.SC2Replay&quot;</td><td>2</td><td>0</td><td>0</td><td>2</td><td>160</td><td>184</td></tr><tr><td>3</td><td>264</td><td>null</td><td>null</td><td>&quot;&quot;</td><td>135840</td><td>133640</td><td>49101</td><td>36</td><td>null</td><td>616</td><td>42</td><td>16594</td><td>&quot;Classic&quot;</td><td>2</td><td>21298</td><td>1</td><td>9691041</td><td>&quot;Protoss&quot;</td><td>255</td><td>0</td><td>66</td><td>255</td><td>2</td><td>1</td><td>0</td><td>2</td><td>12</td><td>&quot;&quot;</td><td>&quot;Persephone LE&quot;</td><td>true</td><td>133979343142010758</td><td>108000000000</td><td>2025-07-25 13:25:14.201075</td><td>16594</td><td>&quot;3f32defc30edd6fd9275ca96dfa5b5a3a2c3b8697c6540e865e2ef595c0265a3&quot;</td><td>&quot;/home/seb/SCReplaysOnNVMe/2025EWCReplayPack/3 - Playoffs/8 - Grand Finals - Serral vs Classic/20250725 - Game1 - Classic vs Serral - Persephone.SC2Replay&quot;</td><td>2</td><td>1</td><td>0</td><td>12</td><td>160</td><td>184</td></tr><tr><td>2</td><td>65792</td><td>43</td><td>3</td><td>&quot;&quot;</td><td>270859</td><td>148440</td><td>40907</td><td>114</td><td>null</td><td>617</td><td>42</td><td>16594</td><td>&quot;Serral&quot;</td><td>2</td><td>21298</td><td>1</td><td>9691277</td><td>&quot;Zerg&quot;</td><td>255</td><td>180</td><td>20</td><td>30</td><td>2</td><td>0</td><td>0</td><td>1</td><td>2</td><td>&quot;&quot;</td><td>&quot;Persephone LE&quot;</td><td>true</td><td>133979343142010758</td><td>108000000000</td><td>2025-07-25 13:25:14.201075</td><td>16594</td><td>&quot;3f32defc30edd6fd9275ca96dfa5b5a3a2c3b8697c6540e865e2ef595c0265a3&quot;</td><td>&quot;/home/seb/SCReplaysOnNVMe/2025EWCReplayPack/3 - Playoffs/8 - Grand Finals - Serral vs Classic/20250725 - Game1 - Classic vs Serral - Persephone.SC2Replay&quot;</td><td>2</td><td>0</td><td>0</td><td>2</td><td>160</td><td>184</td></tr><tr><td>2</td><td>266</td><td>null</td><td>null</td><td>&quot;&quot;</td><td>266110</td><td>614304</td><td>40907</td><td>120</td><td>null</td><td>724</td><td>49</td><td>16594</td><td>&quot;Serral&quot;</td><td>2</td><td>21298</td><td>1</td><td>9691277</td><td>&quot;Zerg&quot;</td><td>255</td><td>180</td><td>20</td><td>30</td><td>2</td><td>0</td><td>0</td><td>1</td><td>2</td><td>&quot;&quot;</td><td>&quot;Persephone LE&quot;</td><td>true</td><td>133979343142010758</td><td>108000000000</td><td>2025-07-25 13:25:14.201075</td><td>16594</td><td>&quot;3f32defc30edd6fd9275ca96dfa5b5a3a2c3b8697c6540e865e2ef595c0265a3&quot;</td><td>&quot;/home/seb/SCReplaysOnNVMe/2025EWCReplayPack/3 - Playoffs/8 - Grand Finals - Serral vs Classic/20250725 - Game1 - Classic vs Serral - Persephone.SC2Replay&quot;</td><td>2</td><td>0</td><td>0</td><td>2</td><td>160</td><td>184</td></tr><tr><td>3</td><td>264</td><td>null</td><td>null</td><td>&quot;&quot;</td><td>290114</td><td>165746</td><td>40907</td><td>43</td><td>null</td><td>748</td><td>51</td><td>16594</td><td>&quot;Classic&quot;</td><td>2</td><td>21298</td><td>1</td><td>9691041</td><td>&quot;Protoss&quot;</td><td>255</td><td>0</td><td>66</td><td>255</td><td>2</td><td>1</td><td>0</td><td>2</td><td>12</td><td>&quot;&quot;</td><td>&quot;Persephone LE&quot;</td><td>true</td><td>133979343142010758</td><td>108000000000</td><td>2025-07-25 13:25:14.201075</td><td>16594</td><td>&quot;3f32defc30edd6fd9275ca96dfa5b5a3a2c3b8697c6540e865e2ef595c0265a3&quot;</td><td>&quot;/home/seb/SCReplaysOnNVMe/2025EWCReplayPack/3 - Playoffs/8 - Grand Finals - Serral vs Classic/20250725 - Game1 - Classic vs Serral - Persephone.SC2Replay&quot;</td><td>2</td><td>1</td><td>0</td><td>12</td><td>160</td><td>184</td></tr><tr><td>&hellip;</td><td>&hellip;</td><td>&hellip;</td><td>&hellip;</td><td>&hellip;</td><td>&hellip;</td><td>&hellip;</td><td>&hellip;</td><td>&hellip;</td><td>&hellip;</td><td>&hellip;</td><td>&hellip;</td><td>&hellip;</td><td>&hellip;</td><td>&hellip;</td><td>&hellip;</td><td>&hellip;</td><td>&hellip;</td><td>&hellip;</td><td>&hellip;</td><td>&hellip;</td><td>&hellip;</td><td>&hellip;</td><td>&hellip;</td><td>&hellip;</td><td>&hellip;</td><td>&hellip;</td><td>&hellip;</td><td>&hellip;</td><td>&hellip;</td><td>&hellip;</td><td>&hellip;</td><td>&hellip;</td><td>&hellip;</td><td>&hellip;</td><td>&hellip;</td><td>&hellip;</td><td>&hellip;</td><td>&hellip;</td><td>&hellip;</td><td>&hellip;</td><td>&hellip;</td><td>&hellip;</td></tr><tr><td>3</td><td>256</td><td>46</td><td>0</td><td>&quot;&quot;</td><td>323712</td><td>140002</td><td>49413</td><td>1954</td><td>null</td><td>13361</td><td>916</td><td>16594</td><td>&quot;Classic&quot;</td><td>2</td><td>21298</td><td>1</td><td>9691041</td><td>&quot;Protoss&quot;</td><td>255</td><td>0</td><td>66</td><td>255</td><td>2</td><td>1</td><td>0</td><td>2</td><td>12</td><td>&quot;&quot;</td><td>&quot;Persephone LE&quot;</td><td>true</td><td>133979343142010758</td><td>108000000000</td><td>2025-07-25 13:25:14.201075</td><td>16594</td><td>&quot;3f32defc30edd6fd9275ca96dfa5b5a3a2c3b8697c6540e865e2ef595c0265a3&quot;</td><td>&quot;/home/seb/SCReplaysOnNVMe/2025EWCReplayPack/3 - Playoffs/8 - Grand Finals - Serral vs Classic/20250725 - Game1 - Classic vs Serral - Persephone.SC2Replay&quot;</td><td>2</td><td>1</td><td>0</td><td>12</td><td>160</td><td>184</td></tr><tr><td>3</td><td>264</td><td>null</td><td>null</td><td>&quot;&quot;</td><td>312801</td><td>138223</td><td>43918</td><td>1955</td><td>null</td><td>13366</td><td>916</td><td>16594</td><td>&quot;Classic&quot;</td><td>2</td><td>21298</td><td>1</td><td>9691041</td><td>&quot;Protoss&quot;</td><td>255</td><td>0</td><td>66</td><td>255</td><td>2</td><td>1</td><td>0</td><td>2</td><td>12</td><td>&quot;&quot;</td><td>&quot;Persephone LE&quot;</td><td>true</td><td>133979343142010758</td><td>108000000000</td><td>2025-07-25 13:25:14.201075</td><td>16594</td><td>&quot;3f32defc30edd6fd9275ca96dfa5b5a3a2c3b8697c6540e865e2ef595c0265a3&quot;</td><td>&quot;/home/seb/SCReplaysOnNVMe/2025EWCReplayPack/3 - Playoffs/8 - Grand Finals - Serral vs Classic/20250725 - Game1 - Classic vs Serral - Persephone.SC2Replay&quot;</td><td>2</td><td>1</td><td>0</td><td>12</td><td>160</td><td>184</td></tr><tr><td>3</td><td>256</td><td>216</td><td>1</td><td>&quot;&quot;</td><td>275051</td><td>145727</td><td>40907</td><td>1959</td><td>null</td><td>13391</td><td>918</td><td>16594</td><td>&quot;Classic&quot;</td><td>2</td><td>21298</td><td>1</td><td>9691041</td><td>&quot;Protoss&quot;</td><td>255</td><td>0</td><td>66</td><td>255</td><td>2</td><td>1</td><td>0</td><td>2</td><td>12</td><td>&quot;&quot;</td><td>&quot;Persephone LE&quot;</td><td>true</td><td>133979343142010758</td><td>108000000000</td><td>2025-07-25 13:25:14.201075</td><td>16594</td><td>&quot;3f32defc30edd6fd9275ca96dfa5b5a3a2c3b8697c6540e865e2ef595c0265a3&quot;</td><td>&quot;/home/seb/SCReplaysOnNVMe/2025EWCReplayPack/3 - Playoffs/8 - Grand Finals - Serral vs Classic/20250725 - Game1 - Classic vs Serral - Persephone.SC2Replay&quot;</td><td>2</td><td>1</td><td>0</td><td>12</td><td>160</td><td>184</td></tr><tr><td>2</td><td>256</td><td>283</td><td>0</td><td>&quot;&quot;</td><td>286514</td><td>150849</td><td>40907</td><td>3101</td><td>null</td><td>13392</td><td>918</td><td>16594</td><td>&quot;Serral&quot;</td><td>2</td><td>21298</td><td>1</td><td>9691277</td><td>&quot;Zerg&quot;</td><td>255</td><td>180</td><td>20</td><td>30</td><td>2</td><td>0</td><td>0</td><td>1</td><td>2</td><td>&quot;&quot;</td><td>&quot;Persephone LE&quot;</td><td>true</td><td>133979343142010758</td><td>108000000000</td><td>2025-07-25 13:25:14.201075</td><td>16594</td><td>&quot;3f32defc30edd6fd9275ca96dfa5b5a3a2c3b8697c6540e865e2ef595c0265a3&quot;</td><td>&quot;/home/seb/SCReplaysOnNVMe/2025EWCReplayPack/3 - Playoffs/8 - Grand Finals - Serral vs Classic/20250725 - Game1 - Classic vs Serral - Persephone.SC2Replay&quot;</td><td>2</td><td>0</td><td>0</td><td>2</td><td>160</td><td>184</td></tr><tr><td>3</td><td>256</td><td>46</td><td>0</td><td>&quot;&quot;</td><td>327199</td><td>150950</td><td>34202</td><td>1965</td><td>null</td><td>13401</td><td>919</td><td>16594</td><td>&quot;Classic&quot;</td><td>2</td><td>21298</td><td>1</td><td>9691041</td><td>&quot;Protoss&quot;</td><td>255</td><td>0</td><td>66</td><td>255</td><td>2</td><td>1</td><td>0</td><td>2</td><td>12</td><td>&quot;&quot;</td><td>&quot;Persephone LE&quot;</td><td>true</td><td>133979343142010758</td><td>108000000000</td><td>2025-07-25 13:25:14.201075</td><td>16594</td><td>&quot;3f32defc30edd6fd9275ca96dfa5b5a3a2c3b8697c6540e865e2ef595c0265a3&quot;</td><td>&quot;/home/seb/SCReplaysOnNVMe/2025EWCReplayPack/3 - Playoffs/8 - Grand Finals - Serral vs Classic/20250725 - Game1 - Classic vs Serral - Persephone.SC2Replay&quot;</td><td>2</td><td>1</td><td>0</td><td>12</td><td>160</td><td>184</td></tr><tr><td>3</td><td>256</td><td>220</td><td>0</td><td>&quot;&quot;</td><td>262735</td><td>148912</td><td>40907</td><td>1969</td><td>null</td><td>13437</td><td>921</td><td>16594</td><td>&quot;Classic&quot;</td><td>2</td><td>21298</td><td>1</td><td>9691041</td><td>&quot;Protoss&quot;</td><td>255</td><td>0</td><td>66</td><td>255</td><td>2</td><td>1</td><td>0</td><td>2</td><td>12</td><td>&quot;&quot;</td><td>&quot;Persephone LE&quot;</td><td>true</td><td>133979343142010758</td><td>108000000000</td><td>2025-07-25 13:25:14.201075</td><td>16594</td><td>&quot;3f32defc30edd6fd9275ca96dfa5b5a3a2c3b8697c6540e865e2ef595c0265a3&quot;</td><td>&quot;/home/seb/SCReplaysOnNVMe/2025EWCReplayPack/3 - Playoffs/8 - Grand Finals - Serral vs Classic/20250725 - Game1 - Classic vs Serral - Persephone.SC2Replay&quot;</td><td>2</td><td>1</td><td>0</td><td>12</td><td>160</td><td>184</td></tr><tr><td>2</td><td>264</td><td>null</td><td>null</td><td>&quot;&quot;</td><td>315558</td><td>204932</td><td>40907</td><td>3269</td><td>null</td><td>13483</td><td>924</td><td>16594</td><td>&quot;Serral&quot;</td><td>2</td><td>21298</td><td>1</td><td>9691277</td><td>&quot;Zerg&quot;</td><td>255</td><td>180</td><td>20</td><td>30</td><td>2</td><td>0</td><td>0</td><td>1</td><td>2</td><td>&quot;&quot;</td><td>&quot;Persephone LE&quot;</td><td>true</td><td>133979343142010758</td><td>108000000000</td><td>2025-07-25 13:25:14.201075</td><td>16594</td><td>&quot;3f32defc30edd6fd9275ca96dfa5b5a3a2c3b8697c6540e865e2ef595c0265a3&quot;</td><td>&quot;/home/seb/SCReplaysOnNVMe/2025EWCReplayPack/3 - Playoffs/8 - Grand Finals - Serral vs Classic/20250725 - Game1 - Classic vs Serral - Persephone.SC2Replay&quot;</td><td>2</td><td>0</td><td>0</td><td>2</td><td>160</td><td>184</td></tr><tr><td>3</td><td>264</td><td>null</td><td>null</td><td>&quot;&quot;</td><td>267735</td><td>154312</td><td>40907</td><td>1983</td><td>null</td><td>13490</td><td>925</td><td>16594</td><td>&quot;Classic&quot;</td><td>2</td><td>21298</td><td>1</td><td>9691041</td><td>&quot;Protoss&quot;</td><td>255</td><td>0</td><td>66</td><td>255</td><td>2</td><td>1</td><td>0</td><td>2</td><td>12</td><td>&quot;&quot;</td><td>&quot;Persephone LE&quot;</td><td>true</td><td>133979343142010758</td><td>108000000000</td><td>2025-07-25 13:25:14.201075</td><td>16594</td><td>&quot;3f32defc30edd6fd9275ca96dfa5b5a3a2c3b8697c6540e865e2ef595c0265a3&quot;</td><td>&quot;/home/seb/SCReplaysOnNVMe/2025EWCReplayPack/3 - Playoffs/8 - Grand Finals - Serral vs Classic/20250725 - Game1 - Classic vs Serral - Persephone.SC2Replay&quot;</td><td>2</td><td>1</td><td>0</td><td>12</td><td>160</td><td>184</td></tr><tr><td>2</td><td>256</td><td>46</td><td>0</td><td>&quot;&quot;</td><td>394438</td><td>101626</td><td>32713</td><td>3278</td><td>null</td><td>13518</td><td>927</td><td>16594</td><td>&quot;Serral&quot;</td><td>2</td><td>21298</td><td>1</td><td>9691277</td><td>&quot;Zerg&quot;</td><td>255</td><td>180</td><td>20</td><td>30</td><td>2</td><td>0</td><td>0</td><td>1</td><td>2</td><td>&quot;&quot;</td><td>&quot;Persephone LE&quot;</td><td>true</td><td>133979343142010758</td><td>108000000000</td><td>2025-07-25 13:25:14.201075</td><td>16594</td><td>&quot;3f32defc30edd6fd9275ca96dfa5b5a3a2c3b8697c6540e865e2ef595c0265a3&quot;</td><td>&quot;/home/seb/SCReplaysOnNVMe/2025EWCReplayPack/3 - Playoffs/8 - Grand Finals - Serral vs Classic/20250725 - Game1 - Classic vs Serral - Persephone.SC2Replay&quot;</td><td>2</td><td>0</td><td>0</td><td>2</td><td>160</td><td>184</td></tr><tr><td>3</td><td>256</td><td>46</td><td>0</td><td>&quot;&quot;</td><td>297084</td><td>131522</td><td>40907</td><td>1989</td><td>null</td><td>13533</td><td>928</td><td>16594</td><td>&quot;Classic&quot;</td><td>2</td><td>21298</td><td>1</td><td>9691041</td><td>&quot;Protoss&quot;</td><td>255</td><td>0</td><td>66</td><td>255</td><td>2</td><td>1</td><td>0</td><td>2</td><td>12</td><td>&quot;&quot;</td><td>&quot;Persephone LE&quot;</td><td>true</td><td>133979343142010758</td><td>108000000000</td><td>2025-07-25 13:25:14.201075</td><td>16594</td><td>&quot;3f32defc30edd6fd9275ca96dfa5b5a3a2c3b8697c6540e865e2ef595c0265a3&quot;</td><td>&quot;/home/seb/SCReplaysOnNVMe/2025EWCReplayPack/3 - Playoffs/8 - Grand Finals - Serral vs Classic/20250725 - Game1 - Classic vs Serral - Persephone.SC2Replay&quot;</td><td>2</td><td>1</td><td>0</td><td>12</td><td>160</td><td>184</td></tr><tr><td>2</td><td>264</td><td>null</td><td>null</td><td>&quot;&quot;</td><td>375390</td><td>100757</td><td>32713</td><td>3293</td><td>null</td><td>13536</td><td>928</td><td>16594</td><td>&quot;Serral&quot;</td><td>2</td><td>21298</td><td>1</td><td>9691277</td><td>&quot;Zerg&quot;</td><td>255</td><td>180</td><td>20</td><td>30</td><td>2</td><td>0</td><td>0</td><td>1</td><td>2</td><td>&quot;&quot;</td><td>&quot;Persephone LE&quot;</td><td>true</td><td>133979343142010758</td><td>108000000000</td><td>2025-07-25 13:25:14.201075</td><td>16594</td><td>&quot;3f32defc30edd6fd9275ca96dfa5b5a3a2c3b8697c6540e865e2ef595c0265a3&quot;</td><td>&quot;/home/seb/SCReplaysOnNVMe/2025EWCReplayPack/3 - Playoffs/8 - Grand Finals - Serral vs Classic/20250725 - Game1 - Classic vs Serral - Persephone.SC2Replay&quot;</td><td>2</td><td>0</td><td>0</td><td>2</td><td>160</td><td>184</td></tr><tr><td>2</td><td>256</td><td>46</td><td>0</td><td>&quot;&quot;</td><td>299074</td><td>176850</td><td>40907</td><td>3294</td><td>null</td><td>13555</td><td>929</td><td>16594</td><td>&quot;Serral&quot;</td><td>2</td><td>21298</td><td>1</td><td>9691277</td><td>&quot;Zerg&quot;</td><td>255</td><td>180</td><td>20</td><td>30</td><td>2</td><td>0</td><td>0</td><td>1</td><td>2</td><td>&quot;&quot;</td><td>&quot;Persephone LE&quot;</td><td>true</td><td>133979343142010758</td><td>108000000000</td><td>2025-07-25 13:25:14.201075</td><td>16594</td><td>&quot;3f32defc30edd6fd9275ca96dfa5b5a3a2c3b8697c6540e865e2ef595c0265a3&quot;</td><td>&quot;/home/seb/SCReplaysOnNVMe/2025EWCReplayPack/3 - Playoffs/8 - Grand Finals - Serral vs Classic/20250725 - Game1 - Classic vs Serral - Persephone.SC2Replay&quot;</td><td>2</td><td>0</td><td>0</td><td>2</td><td>160</td><td>184</td></tr></tbody></table></div>"
      ],
      "text/plain": [
       "shape: (782, 43)\n",
       "┌─────────┬───────────┬───────────┬────────────────┬───┬─────────┬─────────────────────┬────────────┬────────────┐\n",
       "│ user_id ┆ cmd_flags ┆ abil_link ┆ abil_cmd_index ┆ … ┆ observe ┆ working_set_slot_id ┆ map_size_x ┆ map_size_y │\n",
       "│ ---     ┆ ---       ┆ ---       ┆ ---            ┆   ┆ ---     ┆ ---                 ┆ ---        ┆ ---        │\n",
       "│ i64     ┆ i64       ┆ u16       ┆ i64            ┆   ┆ u8      ┆ u8                  ┆ u8         ┆ u8         │\n",
       "╞═════════╪═══════════╪═══════════╪════════════════╪═══╪═════════╪═════════════════════╪════════════╪════════════╡\n",
       "│ 2       ┆ 65800     ┆ null      ┆ null           ┆ … ┆ 0       ┆ 2                   ┆ 160        ┆ 184        │\n",
       "│ 3       ┆ 256       ┆ 107       ┆ 0              ┆ … ┆ 0       ┆ 12                  ┆ 160        ┆ 184        │\n",
       "│ 3       ┆ 264       ┆ null      ┆ null           ┆ … ┆ 0       ┆ 12                  ┆ 160        ┆ 184        │\n",
       "│ 2       ┆ 264       ┆ null      ┆ null           ┆ … ┆ 0       ┆ 2                   ┆ 160        ┆ 184        │\n",
       "│ 2       ┆ 264       ┆ null      ┆ null           ┆ … ┆ 0       ┆ 2                   ┆ 160        ┆ 184        │\n",
       "│ 3       ┆ 264       ┆ null      ┆ null           ┆ … ┆ 0       ┆ 12                  ┆ 160        ┆ 184        │\n",
       "│ 3       ┆ 256       ┆ 172       ┆ 1              ┆ … ┆ 0       ┆ 12                  ┆ 160        ┆ 184        │\n",
       "│ 2       ┆ 264       ┆ null      ┆ null           ┆ … ┆ 0       ┆ 2                   ┆ 160        ┆ 184        │\n",
       "│ 3       ┆ 264       ┆ null      ┆ null           ┆ … ┆ 0       ┆ 12                  ┆ 160        ┆ 184        │\n",
       "│ 2       ┆ 65792     ┆ 43        ┆ 3              ┆ … ┆ 0       ┆ 2                   ┆ 160        ┆ 184        │\n",
       "│ 2       ┆ 266       ┆ null      ┆ null           ┆ … ┆ 0       ┆ 2                   ┆ 160        ┆ 184        │\n",
       "│ 3       ┆ 264       ┆ null      ┆ null           ┆ … ┆ 0       ┆ 12                  ┆ 160        ┆ 184        │\n",
       "│ …       ┆ …         ┆ …         ┆ …              ┆ … ┆ …       ┆ …                   ┆ …          ┆ …          │\n",
       "│ 3       ┆ 256       ┆ 46        ┆ 0              ┆ … ┆ 0       ┆ 12                  ┆ 160        ┆ 184        │\n",
       "│ 3       ┆ 264       ┆ null      ┆ null           ┆ … ┆ 0       ┆ 12                  ┆ 160        ┆ 184        │\n",
       "│ 3       ┆ 256       ┆ 216       ┆ 1              ┆ … ┆ 0       ┆ 12                  ┆ 160        ┆ 184        │\n",
       "│ 2       ┆ 256       ┆ 283       ┆ 0              ┆ … ┆ 0       ┆ 2                   ┆ 160        ┆ 184        │\n",
       "│ 3       ┆ 256       ┆ 46        ┆ 0              ┆ … ┆ 0       ┆ 12                  ┆ 160        ┆ 184        │\n",
       "│ 3       ┆ 256       ┆ 220       ┆ 0              ┆ … ┆ 0       ┆ 12                  ┆ 160        ┆ 184        │\n",
       "│ 2       ┆ 264       ┆ null      ┆ null           ┆ … ┆ 0       ┆ 2                   ┆ 160        ┆ 184        │\n",
       "│ 3       ┆ 264       ┆ null      ┆ null           ┆ … ┆ 0       ┆ 12                  ┆ 160        ┆ 184        │\n",
       "│ 2       ┆ 256       ┆ 46        ┆ 0              ┆ … ┆ 0       ┆ 2                   ┆ 160        ┆ 184        │\n",
       "│ 3       ┆ 256       ┆ 46        ┆ 0              ┆ … ┆ 0       ┆ 12                  ┆ 160        ┆ 184        │\n",
       "│ 2       ┆ 264       ┆ null      ┆ null           ┆ … ┆ 0       ┆ 2                   ┆ 160        ┆ 184        │\n",
       "│ 2       ┆ 256       ┆ 46        ┆ 0              ┆ … ┆ 0       ┆ 2                   ┆ 160        ┆ 184        │\n",
       "└─────────┴───────────┴───────────┴────────────────┴───┴─────────┴─────────────────────┴────────────┴────────────┘"
      ]
     },
     "execution_count": 77,
     "metadata": {},
     "output_type": "execute_result"
    }
   ],
   "source": [
    "cmd_target_point_df.filter(pl.col(\"ext_fs_id\").eq(chosen_fs_id)).join(\n",
    "    details_lobby_df.filter(pl.col(\"ext_fs_id\").eq(chosen_fs_id)).with_columns(\n",
    "        pl.col(\"user_id\").alias(\"user_id\")\n",
    "    ),\n",
    "    on=[\"user_id\", \"ext_fs_id\"],\n",
    ").sort(by=[pl.col(\"ext_replay_loop\")]).collect()"
   ]
  },
  {
   "cell_type": "code",
   "execution_count": 86,
   "id": "0b0ecb9a-0295-4321-a838-19f08dce0558",
   "metadata": {},
   "outputs": [
    {
     "data": {
      "text/html": [
       "<div><style>\n",
       ".dataframe > thead > tr,\n",
       ".dataframe > tbody > tr {\n",
       "  text-align: right;\n",
       "  white-space: pre-wrap;\n",
       "}\n",
       "</style>\n",
       "<small>shape: (9, 1)</small><table border=\"1\" class=\"dataframe\"><thead><tr><th>abil_link</th></tr><tr><td>struct[2]</td></tr></thead><tbody><tr><td>{null,192}</td></tr><tr><td>{46,93}</td></tr><tr><td>{185,15}</td></tr><tr><td>{283,14}</td></tr><tr><td>{267,11}</td></tr><tr><td>{43,10}</td></tr><tr><td>{262,9}</td></tr><tr><td>{108,1}</td></tr><tr><td>{266,1}</td></tr></tbody></table></div>"
      ],
      "text/plain": [
       "shape: (9, 1)\n",
       "┌────────────┐\n",
       "│ abil_link  │\n",
       "│ ---        │\n",
       "│ struct[2]  │\n",
       "╞════════════╡\n",
       "│ {null,192} │\n",
       "│ {46,93}    │\n",
       "│ {185,15}   │\n",
       "│ {283,14}   │\n",
       "│ {267,11}   │\n",
       "│ {43,10}    │\n",
       "│ {262,9}    │\n",
       "│ {108,1}    │\n",
       "│ {266,1}    │\n",
       "└────────────┘"
      ]
     },
     "execution_count": 86,
     "metadata": {},
     "output_type": "execute_result"
    }
   ],
   "source": [
    "cmd_target_point_df.filter(pl.col(\"ext_fs_id\").eq(chosen_fs_id)).join(\n",
    "    details_lobby_df.filter(pl.col(\"ext_fs_id\").eq(chosen_fs_id))\n",
    "    .filter(pl.col(\"player_race\").eq(\"Zerg\"))\n",
    "    .select(pl.col([\"user_id\", \"ext_fs_id\"])),\n",
    "    on=[\"user_id\", \"ext_fs_id\"],\n",
    ").sort(by=[pl.col(\"ext_replay_loop\")]).select(\n",
    "    pl.col(\"abil_link\").value_counts(sort=True)\n",
    ").collect()"
   ]
  },
  {
   "cell_type": "code",
   "execution_count": 87,
   "id": "cef017d3-ff89-4e28-a4ab-159bc88b1daf",
   "metadata": {},
   "outputs": [
    {
     "data": {
      "text/html": [
       "<div><style>\n",
       ".dataframe > thead > tr,\n",
       ".dataframe > tbody > tr {\n",
       "  text-align: right;\n",
       "  white-space: pre-wrap;\n",
       "}\n",
       "</style>\n",
       "<small>shape: (13, 1)</small><table border=\"1\" class=\"dataframe\"><thead><tr><th>abil_link</th></tr><tr><td>struct[2]</td></tr></thead><tbody><tr><td>{null,234}</td></tr><tr><td>{46,80}</td></tr><tr><td>{172,49}</td></tr><tr><td>{216,19}</td></tr><tr><td>{220,14}</td></tr><tr><td>{104,13}</td></tr><tr><td>{178,8}</td></tr><tr><td>{610,7}</td></tr><tr><td>{421,4}</td></tr><tr><td>{107,3}</td></tr><tr><td>{43,3}</td></tr><tr><td>{605,1}</td></tr><tr><td>{724,1}</td></tr></tbody></table></div>"
      ],
      "text/plain": [
       "shape: (13, 1)\n",
       "┌────────────┐\n",
       "│ abil_link  │\n",
       "│ ---        │\n",
       "│ struct[2]  │\n",
       "╞════════════╡\n",
       "│ {null,234} │\n",
       "│ {46,80}    │\n",
       "│ {172,49}   │\n",
       "│ {216,19}   │\n",
       "│ {220,14}   │\n",
       "│ {104,13}   │\n",
       "│ {178,8}    │\n",
       "│ {610,7}    │\n",
       "│ {421,4}    │\n",
       "│ {107,3}    │\n",
       "│ {43,3}     │\n",
       "│ {605,1}    │\n",
       "│ {724,1}    │\n",
       "└────────────┘"
      ]
     },
     "execution_count": 87,
     "metadata": {},
     "output_type": "execute_result"
    }
   ],
   "source": [
    "cmd_target_point_df.filter(pl.col(\"ext_fs_id\").eq(chosen_fs_id)).join(\n",
    "    details_lobby_df.filter(pl.col(\"ext_fs_id\").eq(chosen_fs_id))\n",
    "    .filter(pl.col(\"player_race\").eq(\"Protoss\"))\n",
    "    .select([pl.col(\"user_id\"), pl.col(\"ext_fs_id\")]),\n",
    "    on=[\"user_id\", \"ext_fs_id\"],\n",
    ").sort(by=[pl.col(\"ext_replay_loop\")]).select(\n",
    "    pl.col(\"abil_link\").value_counts(sort=True)\n",
    ").collect()"
   ]
  },
  {
   "cell_type": "code",
   "execution_count": 80,
   "id": "1e417a57-d38f-48e8-98cd-a4457a0a355e",
   "metadata": {},
   "outputs": [
    {
     "data": {
      "text/plain": [
       "Schema([('user_id', Int64),\n",
       "        ('cmd_flags', Int64),\n",
       "        ('abil_link', UInt16),\n",
       "        ('abil_cmd_index', Int64),\n",
       "        ('ability', String),\n",
       "        ('target_unit_flags', UInt16),\n",
       "        ('tag', UInt32),\n",
       "        ('snapshot_unit_link', UInt16),\n",
       "        ('snapshot_control_player_id', Int64),\n",
       "        ('snapshot_upkeep_player_id', Int64),\n",
       "        ('snapshot_point_x', Int64),\n",
       "        ('snapshot_point_y', Int64),\n",
       "        ('snapshot_point_z', Int32),\n",
       "        ('sequence', Int64),\n",
       "        ('ext_replay_loop', Int64),\n",
       "        ('ext_replay_seconds', UInt32),\n",
       "        ('ext_fs_id', UInt64)])"
      ]
     },
     "execution_count": 80,
     "metadata": {},
     "output_type": "execute_result"
    }
   ],
   "source": [
    "cmd_target_unit_df.collect_schema()"
   ]
  },
  {
   "cell_type": "code",
   "execution_count": 81,
   "id": "df3b2fbb-4192-4d2a-820a-ad2d128facd2",
   "metadata": {},
   "outputs": [
    {
     "data": {
      "text/html": [
       "<div><style>\n",
       ".dataframe > thead > tr,\n",
       ".dataframe > tbody > tr {\n",
       "  text-align: right;\n",
       "  white-space: pre-wrap;\n",
       "}\n",
       "</style>\n",
       "<small>shape: (9, 18)</small><table border=\"1\" class=\"dataframe\"><thead><tr><th>statistic</th><th>user_id</th><th>cmd_flags</th><th>abil_link</th><th>abil_cmd_index</th><th>ability</th><th>target_unit_flags</th><th>tag</th><th>snapshot_unit_link</th><th>snapshot_control_player_id</th><th>snapshot_upkeep_player_id</th><th>snapshot_point_x</th><th>snapshot_point_y</th><th>snapshot_point_z</th><th>sequence</th><th>ext_replay_loop</th><th>ext_replay_seconds</th><th>ext_fs_id</th></tr><tr><td>str</td><td>f64</td><td>f64</td><td>f64</td><td>f64</td><td>str</td><td>f64</td><td>f64</td><td>f64</td><td>f64</td><td>f64</td><td>f64</td><td>f64</td><td>f64</td><td>f64</td><td>f64</td><td>f64</td><td>f64</td></tr></thead><tbody><tr><td>&quot;count&quot;</td><td>7.125606e6</td><td>7.125606e6</td><td>3.475483e6</td><td>3.475483e6</td><td>&quot;7125606&quot;</td><td>7.125606e6</td><td>7.125606e6</td><td>7.125606e6</td><td>7.125603e6</td><td>7.125603e6</td><td>7.125606e6</td><td>7.125606e6</td><td>7.125606e6</td><td>7.125606e6</td><td>7.125606e6</td><td>7.125606e6</td><td>7.125606e6</td></tr><tr><td>&quot;null_count&quot;</td><td>0.0</td><td>0.0</td><td>3.650123e6</td><td>3.650123e6</td><td>&quot;0&quot;</td><td>0.0</td><td>0.0</td><td>0.0</td><td>3.0</td><td>3.0</td><td>0.0</td><td>0.0</td><td>0.0</td><td>0.0</td><td>0.0</td><td>0.0</td><td>0.0</td></tr><tr><td>&quot;mean&quot;</td><td>2.086311</td><td>2654.07215</td><td>186.680315</td><td>0.288126</td><td>null</td><td>113.066611</td><td>6.0949e7</td><td>374.081552</td><td>0.934703</td><td>0.934695</td><td>391232.314899</td><td>371006.088755</td><td>43210.26402</td><td>1343.051647</td><td>1.7985e6</td><td>123346.371257</td><td>29839.433946</td></tr><tr><td>&quot;std&quot;</td><td>2.103183</td><td>268920.44046</td><td>234.444969</td><td>0.715471</td><td>null</td><td>18.19816</td><td>4.8034e7</td><td>367.5903</td><td>0.973829</td><td>0.973832</td><td>191502.086512</td><td>186515.401273</td><td>590323.720821</td><td>465040.784906</td><td>2.1840e8</td><td>1.4978e7</td><td>14685.755854</td></tr><tr><td>&quot;min&quot;</td><td>0.0</td><td>256.0</td><td>43.0</td><td>0.0</td><td>&quot;&quot;</td><td>111.0</td><td>0.0</td><td>23.0</td><td>0.0</td><td>0.0</td><td>11177.0</td><td>8192.0</td><td>-1.0022e9</td><td>1.0</td><td>0.0</td><td>0.0</td><td>0.0</td></tr><tr><td>&quot;25%&quot;</td><td>0.0</td><td>256.0</td><td>46.0</td><td>0.0</td><td>null</td><td>111.0</td><td>2.3592961e7</td><td>97.0</td><td>0.0</td><td>0.0</td><td>212992.0</td><td>202752.0</td><td>40912.0</td><td>353.0</td><td>4541.0</td><td>311.0</td><td>16909.0</td></tr><tr><td>&quot;50%&quot;</td><td>1.0</td><td>264.0</td><td>113.0</td><td>0.0</td><td>null</td><td>111.0</td><td>5.6098817e7</td><td>133.0</td><td>1.0</td><td>1.0</td><td>390676.0</td><td>362496.0</td><td>40944.0</td><td>810.0</td><td>8546.0</td><td>586.0</td><td>29962.0</td></tr><tr><td>&quot;75%&quot;</td><td>3.0</td><td>264.0</td><td>173.0</td><td>0.0</td><td>null</td><td>111.0</td><td>8.4410369e7</td><td>547.0</td><td>2.0</td><td>2.0</td><td>563200.0</td><td>541980.0</td><td>49120.0</td><td>1469.0</td><td>13855.0</td><td>950.0</td><td>42546.0</td></tr><tr><td>&quot;max&quot;</td><td>20.0</td><td>5.201338e7</td><td>29135.0</td><td>27.0</td><td>&quot;&quot;</td><td>28036.0</td><td>1.4899e9</td><td>28090.0</td><td>15.0</td><td>15.0</td><td>1.032192e6</td><td>1.040383e6</td><td>162816.0</td><td>9.02046459e8</td><td>2.9723e10</td><td>2.0385e9</td><td>54323.0</td></tr></tbody></table></div>"
      ],
      "text/plain": [
       "shape: (9, 18)\n",
       "┌────────────┬────────────┬──────────────┬────────────┬───┬───────────────┬─────────────────┬────────────────────┬──────────────┐\n",
       "│ statistic  ┆ user_id    ┆ cmd_flags    ┆ abil_link  ┆ … ┆ sequence      ┆ ext_replay_loop ┆ ext_replay_seconds ┆ ext_fs_id    │\n",
       "│ ---        ┆ ---        ┆ ---          ┆ ---        ┆   ┆ ---           ┆ ---             ┆ ---                ┆ ---          │\n",
       "│ str        ┆ f64        ┆ f64          ┆ f64        ┆   ┆ f64           ┆ f64             ┆ f64                ┆ f64          │\n",
       "╞════════════╪════════════╪══════════════╪════════════╪═══╪═══════════════╪═════════════════╪════════════════════╪══════════════╡\n",
       "│ count      ┆ 7.125606e6 ┆ 7.125606e6   ┆ 3.475483e6 ┆ … ┆ 7.125606e6    ┆ 7.125606e6      ┆ 7.125606e6         ┆ 7.125606e6   │\n",
       "│ null_count ┆ 0.0        ┆ 0.0          ┆ 3.650123e6 ┆ … ┆ 0.0           ┆ 0.0             ┆ 0.0                ┆ 0.0          │\n",
       "│ mean       ┆ 2.086311   ┆ 2654.07215   ┆ 186.680315 ┆ … ┆ 1343.051647   ┆ 1.7985e6        ┆ 123346.371257      ┆ 29839.433946 │\n",
       "│ std        ┆ 2.103183   ┆ 268920.44046 ┆ 234.444969 ┆ … ┆ 465040.784906 ┆ 2.1840e8        ┆ 1.4978e7           ┆ 14685.755854 │\n",
       "│ min        ┆ 0.0        ┆ 256.0        ┆ 43.0       ┆ … ┆ 1.0           ┆ 0.0             ┆ 0.0                ┆ 0.0          │\n",
       "│ 25%        ┆ 0.0        ┆ 256.0        ┆ 46.0       ┆ … ┆ 353.0         ┆ 4541.0          ┆ 311.0              ┆ 16909.0      │\n",
       "│ 50%        ┆ 1.0        ┆ 264.0        ┆ 113.0      ┆ … ┆ 810.0         ┆ 8546.0          ┆ 586.0              ┆ 29962.0      │\n",
       "│ 75%        ┆ 3.0        ┆ 264.0        ┆ 173.0      ┆ … ┆ 1469.0        ┆ 13855.0         ┆ 950.0              ┆ 42546.0      │\n",
       "│ max        ┆ 20.0       ┆ 5.201338e7   ┆ 29135.0    ┆ … ┆ 9.02046459e8  ┆ 2.9723e10       ┆ 2.0385e9           ┆ 54323.0      │\n",
       "└────────────┴────────────┴──────────────┴────────────┴───┴───────────────┴─────────────────┴────────────────────┴──────────────┘"
      ]
     },
     "execution_count": 81,
     "metadata": {},
     "output_type": "execute_result"
    }
   ],
   "source": [
    "cmd_target_unit_df.describe()"
   ]
  },
  {
   "cell_type": "code",
   "execution_count": 92,
   "id": "f045e46e-4fd5-4102-babf-5df17f5b110a",
   "metadata": {},
   "outputs": [
    {
     "data": {
      "text/html": [
       "<div><style>\n",
       ".dataframe > thead > tr,\n",
       ".dataframe > tbody > tr {\n",
       "  text-align: right;\n",
       "  white-space: pre-wrap;\n",
       "}\n",
       "</style>\n",
       "<small>shape: (42, 1)</small><table border=\"1\" class=\"dataframe\"><thead><tr><th>ability</th></tr><tr><td>struct[2]</td></tr></thead><tbody><tr><td>{&quot;&quot;,7078708}</td></tr><tr><td>{&quot;attack.Execute&quot;,11040}</td></tr><tr><td>{&quot;SpawnLarva.Execute&quot;,10021}</td></tr><tr><td>{&quot;ChronoBoostEnergyCost.Execute&quot;,6500}</td></tr><tr><td>{&quot;SCVHarvest.Gather&quot;,6075}</td></tr><tr><td>{&quot;Transfusion.Execute&quot;,1875}</td></tr><tr><td>{&quot;DroneHarvest.Gather&quot;,1703}</td></tr><tr><td>{&quot;CalldownMULE.Execute&quot;,1554}</td></tr><tr><td>{&quot;RallyNexus.Rally1&quot;,1228}</td></tr><tr><td>{&quot;EnergyRecharge.Execute&quot;,978}</td></tr><tr><td>{&quot;ProbeHarvest.Gather&quot;,847}</td></tr><tr><td>{&quot;Repair.Execute&quot;,582}</td></tr><tr><td>&hellip;</td></tr><tr><td>{&quot;Feedback.Execute&quot;,21}</td></tr><tr><td>{&quot;Yamato.Execute&quot;,18}</td></tr><tr><td>{&quot;Yoink.Execute&quot;,17}</td></tr><tr><td>{&quot;Contaminate.Execute&quot;,12}</td></tr><tr><td>{&quot;CausticSpray.Execute&quot;,10}</td></tr><tr><td>{&quot;NeuralParasite.Execute&quot;,10}</td></tr><tr><td>{&quot;MedivacTransport.Load&quot;,9}</td></tr><tr><td>{&quot;ShieldBatteryRechargeEx5.Execute&quot;,4}</td></tr><tr><td>{&quot;AttackRedirect.Execute&quot;,3}</td></tr><tr><td>{&quot;OverlordTransport.UnloadAt&quot;,3}</td></tr><tr><td>{&quot;MULEGather.Gather&quot;,2}</td></tr><tr><td>{&quot;RallyHatchery.Rally1&quot;,1}</td></tr></tbody></table></div>"
      ],
      "text/plain": [
       "shape: (42, 1)\n",
       "┌────────────────────────────────────────┐\n",
       "│ ability                                │\n",
       "│ ---                                    │\n",
       "│ struct[2]                              │\n",
       "╞════════════════════════════════════════╡\n",
       "│ {\"\",7078708}                           │\n",
       "│ {\"attack.Execute\",11040}               │\n",
       "│ {\"SpawnLarva.Execute\",10021}           │\n",
       "│ {\"ChronoBoostEnergyCost.Execute\",6500} │\n",
       "│ {\"SCVHarvest.Gather\",6075}             │\n",
       "│ {\"Transfusion.Execute\",1875}           │\n",
       "│ {\"DroneHarvest.Gather\",1703}           │\n",
       "│ {\"CalldownMULE.Execute\",1554}          │\n",
       "│ {\"RallyNexus.Rally1\",1228}             │\n",
       "│ {\"EnergyRecharge.Execute\",978}         │\n",
       "│ {\"ProbeHarvest.Gather\",847}            │\n",
       "│ {\"Repair.Execute\",582}                 │\n",
       "│ …                                      │\n",
       "│ {\"Feedback.Execute\",21}                │\n",
       "│ {\"Yamato.Execute\",18}                  │\n",
       "│ {\"Yoink.Execute\",17}                   │\n",
       "│ {\"Contaminate.Execute\",12}             │\n",
       "│ {\"CausticSpray.Execute\",10}            │\n",
       "│ {\"NeuralParasite.Execute\",10}          │\n",
       "│ {\"MedivacTransport.Load\",9}            │\n",
       "│ {\"ShieldBatteryRechargeEx5.Execute\",4} │\n",
       "│ {\"AttackRedirect.Execute\",3}           │\n",
       "│ {\"OverlordTransport.UnloadAt\",3}       │\n",
       "│ {\"MULEGather.Gather\",2}                │\n",
       "│ {\"RallyHatchery.Rally1\",1}             │\n",
       "└────────────────────────────────────────┘"
      ]
     },
     "execution_count": 92,
     "metadata": {},
     "output_type": "execute_result"
    }
   ],
   "source": [
    "cmd_target_unit_df.select(pl.col(\"ability\").value_counts(sort=True)).collect()\n",
    "# User-ID is 0-indexed\n",
    "# cmd_flags 8 values, seems bitmap\n",
    "# abil_link: mostly null, then followed by 46, 172, 185, 267\n",
    "# abil_cmd_index: 7 possible values, mostly nulls, followed by  0,2,1,3,23,18\n",
    "# target_unit_flags can be either 111 or 175 I guess some bitmap\n",
    "# tag: The tag_index+tag_recycle combo\n",
    "# snapshot_unit_link 321 possible values, top are 545,109,903,111,547,... Maybe related to abil_link?\n",
    "# snapshot_control_player_id from 0 to 15\n",
    "# snapshot_upkeep_player_id 0 to 15\n",
    "# snapshot_pointx, y, z positions, again z is i32.\n",
    "# sequence 9K values, starts at 2, 1, 6, 3,66, 82,68 maybe bitmap"
   ]
  },
  {
   "cell_type": "code",
   "execution_count": 94,
   "id": "f969c870-f574-4f2f-8826-051778af8ae4",
   "metadata": {},
   "outputs": [
    {
     "data": {
      "text/html": [
       "<div><style>\n",
       ".dataframe > thead > tr,\n",
       ".dataframe > tbody > tr {\n",
       "  text-align: right;\n",
       "  white-space: pre-wrap;\n",
       "}\n",
       "</style>\n",
       "<small>shape: (83, 47)</small><table border=\"1\" class=\"dataframe\"><thead><tr><th>user_id</th><th>cmd_flags</th><th>abil_link</th><th>abil_cmd_index</th><th>ability</th><th>target_unit_flags</th><th>tag</th><th>snapshot_unit_link</th><th>snapshot_control_player_id</th><th>snapshot_upkeep_player_id</th><th>snapshot_point_x</th><th>snapshot_point_y</th><th>snapshot_point_z</th><th>sequence</th><th>ext_replay_loop</th><th>ext_replay_seconds</th><th>ext_fs_id</th><th>player_name</th><th>player_toon_region</th><th>player_toon_program_id</th><th>player_toon_realm</th><th>player_toon_id</th><th>player_race</th><th>player_color_a</th><th>player_color_r</th><th>player_color_g</th><th>player_color_b</th><th>player_control</th><th>player_team_id</th><th>player_observe</th><th>player_result</th><th>player_working_set_slot_id</th><th>player_hero</th><th>title</th><th>is_blizzard_map</th><th>time_utc</th><th>time_local_offset</th><th>ext_datetime</th><th>ext_fs_id_right</th><th>ext_fs_sha256</th><th>ext_fs_file_name</th><th>control</th><th>team_id</th><th>observe</th><th>working_set_slot_id</th><th>map_size_x</th><th>map_size_y</th></tr><tr><td>i64</td><td>i64</td><td>u16</td><td>i64</td><td>str</td><td>u16</td><td>u32</td><td>u16</td><td>i64</td><td>i64</td><td>i64</td><td>i64</td><td>i32</td><td>i64</td><td>i64</td><td>u32</td><td>u64</td><td>str</td><td>u8</td><td>u32</td><td>u32</td><td>u64</td><td>str</td><td>u8</td><td>u8</td><td>u8</td><td>u8</td><td>u8</td><td>u8</td><td>u8</td><td>u8</td><td>u8</td><td>str</td><td>str</td><td>bool</td><td>i64</td><td>i64</td><td>datetime[ns]</td><td>u64</td><td>str</td><td>str</td><td>i64</td><td>i64</td><td>u8</td><td>u8</td><td>u8</td><td>u8</td></tr></thead><tbody><tr><td>3</td><td>256</td><td>107</td><td>0</td><td>&quot;RallyNexus.Rally1&quot;</td><td>111</td><td>40632321</td><td>545</td><td>0</td><td>0</td><td>126976</td><td>141312</td><td>49088</td><td>9</td><td>240</td><td>16</td><td>16594</td><td>&quot;Classic&quot;</td><td>2</td><td>21298</td><td>1</td><td>9691041</td><td>&quot;Protoss&quot;</td><td>255</td><td>0</td><td>66</td><td>255</td><td>2</td><td>1</td><td>0</td><td>2</td><td>12</td><td>&quot;&quot;</td><td>&quot;Persephone LE&quot;</td><td>true</td><td>133979343142010758</td><td>108000000000</td><td>2025-07-25 13:25:14.201075</td><td>16594</td><td>&quot;3f32defc30edd6fd9275ca96dfa5b5a3a2c3b8697c6540e865e2ef595c0265a3&quot;</td><td>&quot;/home/seb/SCReplaysOnNVMe/2025EWCReplayPack/3 - Playoffs/8 - Grand Finals - Serral vs Classic/20250725 - Game1 - Classic vs Serral - Persephone.SC2Replay&quot;</td><td>2</td><td>1</td><td>0</td><td>12</td><td>160</td><td>184</td></tr><tr><td>3</td><td>256</td><td>107</td><td>0</td><td>&quot;RallyNexus.Rally1&quot;</td><td>111</td><td>31457281</td><td>545</td><td>0</td><td>0</td><td>155648</td><td>116736</td><td>49088</td><td>11</td><td>316</td><td>21</td><td>16594</td><td>&quot;Classic&quot;</td><td>2</td><td>21298</td><td>1</td><td>9691041</td><td>&quot;Protoss&quot;</td><td>255</td><td>0</td><td>66</td><td>255</td><td>2</td><td>1</td><td>0</td><td>2</td><td>12</td><td>&quot;&quot;</td><td>&quot;Persephone LE&quot;</td><td>true</td><td>133979343142010758</td><td>108000000000</td><td>2025-07-25 13:25:14.201075</td><td>16594</td><td>&quot;3f32defc30edd6fd9275ca96dfa5b5a3a2c3b8697c6540e865e2ef595c0265a3&quot;</td><td>&quot;/home/seb/SCReplaysOnNVMe/2025EWCReplayPack/3 - Playoffs/8 - Grand Finals - Serral vs Classic/20250725 - Game1 - Classic vs Serral - Persephone.SC2Replay&quot;</td><td>2</td><td>1</td><td>0</td><td>12</td><td>160</td><td>184</td></tr><tr><td>3</td><td>256</td><td>107</td><td>0</td><td>&quot;RallyNexus.Rally1&quot;</td><td>111</td><td>31457281</td><td>545</td><td>0</td><td>0</td><td>155648</td><td>116736</td><td>49088</td><td>31</td><td>478</td><td>32</td><td>16594</td><td>&quot;Classic&quot;</td><td>2</td><td>21298</td><td>1</td><td>9691041</td><td>&quot;Protoss&quot;</td><td>255</td><td>0</td><td>66</td><td>255</td><td>2</td><td>1</td><td>0</td><td>2</td><td>12</td><td>&quot;&quot;</td><td>&quot;Persephone LE&quot;</td><td>true</td><td>133979343142010758</td><td>108000000000</td><td>2025-07-25 13:25:14.201075</td><td>16594</td><td>&quot;3f32defc30edd6fd9275ca96dfa5b5a3a2c3b8697c6540e865e2ef595c0265a3&quot;</td><td>&quot;/home/seb/SCReplaysOnNVMe/2025EWCReplayPack/3 - Playoffs/8 - Grand Finals - Serral vs Classic/20250725 - Game1 - Classic vs Serral - Persephone.SC2Replay&quot;</td><td>2</td><td>1</td><td>0</td><td>12</td><td>160</td><td>184</td></tr><tr><td>3</td><td>256</td><td>107</td><td>0</td><td>&quot;RallyNexus.Rally1&quot;</td><td>111</td><td>3670017</td><td>547</td><td>0</td><td>0</td><td>151552</td><td>112640</td><td>49088</td><td>42</td><td>721</td><td>49</td><td>16594</td><td>&quot;Classic&quot;</td><td>2</td><td>21298</td><td>1</td><td>9691041</td><td>&quot;Protoss&quot;</td><td>255</td><td>0</td><td>66</td><td>255</td><td>2</td><td>1</td><td>0</td><td>2</td><td>12</td><td>&quot;&quot;</td><td>&quot;Persephone LE&quot;</td><td>true</td><td>133979343142010758</td><td>108000000000</td><td>2025-07-25 13:25:14.201075</td><td>16594</td><td>&quot;3f32defc30edd6fd9275ca96dfa5b5a3a2c3b8697c6540e865e2ef595c0265a3&quot;</td><td>&quot;/home/seb/SCReplaysOnNVMe/2025EWCReplayPack/3 - Playoffs/8 - Grand Finals - Serral vs Classic/20250725 - Game1 - Classic vs Serral - Persephone.SC2Replay&quot;</td><td>2</td><td>1</td><td>0</td><td>12</td><td>160</td><td>184</td></tr><tr><td>3</td><td>256</td><td>107</td><td>0</td><td>&quot;RallyNexus.Rally1&quot;</td><td>111</td><td>3670017</td><td>547</td><td>0</td><td>0</td><td>151552</td><td>112640</td><td>49088</td><td>46</td><td>784</td><td>53</td><td>16594</td><td>&quot;Classic&quot;</td><td>2</td><td>21298</td><td>1</td><td>9691041</td><td>&quot;Protoss&quot;</td><td>255</td><td>0</td><td>66</td><td>255</td><td>2</td><td>1</td><td>0</td><td>2</td><td>12</td><td>&quot;&quot;</td><td>&quot;Persephone LE&quot;</td><td>true</td><td>133979343142010758</td><td>108000000000</td><td>2025-07-25 13:25:14.201075</td><td>16594</td><td>&quot;3f32defc30edd6fd9275ca96dfa5b5a3a2c3b8697c6540e865e2ef595c0265a3&quot;</td><td>&quot;/home/seb/SCReplaysOnNVMe/2025EWCReplayPack/3 - Playoffs/8 - Grand Finals - Serral vs Classic/20250725 - Game1 - Classic vs Serral - Persephone.SC2Replay&quot;</td><td>2</td><td>1</td><td>0</td><td>12</td><td>160</td><td>184</td></tr><tr><td>3</td><td>256</td><td>723</td><td>0</td><td>&quot;ChronoBoostEnergyCost.Execute&quot;</td><td>111</td><td>57671681</td><td>82</td><td>2</td><td>2</td><td>153600</td><td>141312</td><td>49088</td><td>54</td><td>837</td><td>57</td><td>16594</td><td>&quot;Classic&quot;</td><td>2</td><td>21298</td><td>1</td><td>9691041</td><td>&quot;Protoss&quot;</td><td>255</td><td>0</td><td>66</td><td>255</td><td>2</td><td>1</td><td>0</td><td>2</td><td>12</td><td>&quot;&quot;</td><td>&quot;Persephone LE&quot;</td><td>true</td><td>133979343142010758</td><td>108000000000</td><td>2025-07-25 13:25:14.201075</td><td>16594</td><td>&quot;3f32defc30edd6fd9275ca96dfa5b5a3a2c3b8697c6540e865e2ef595c0265a3&quot;</td><td>&quot;/home/seb/SCReplaysOnNVMe/2025EWCReplayPack/3 - Playoffs/8 - Grand Finals - Serral vs Classic/20250725 - Game1 - Classic vs Serral - Persephone.SC2Replay&quot;</td><td>2</td><td>1</td><td>0</td><td>12</td><td>160</td><td>184</td></tr><tr><td>3</td><td>256</td><td>107</td><td>0</td><td>&quot;RallyNexus.Rally1&quot;</td><td>111</td><td>23592961</td><td>1179</td><td>0</td><td>0</td><td>169984</td><td>112640</td><td>49088</td><td>63</td><td>927</td><td>63</td><td>16594</td><td>&quot;Classic&quot;</td><td>2</td><td>21298</td><td>1</td><td>9691041</td><td>&quot;Protoss&quot;</td><td>255</td><td>0</td><td>66</td><td>255</td><td>2</td><td>1</td><td>0</td><td>2</td><td>12</td><td>&quot;&quot;</td><td>&quot;Persephone LE&quot;</td><td>true</td><td>133979343142010758</td><td>108000000000</td><td>2025-07-25 13:25:14.201075</td><td>16594</td><td>&quot;3f32defc30edd6fd9275ca96dfa5b5a3a2c3b8697c6540e865e2ef595c0265a3&quot;</td><td>&quot;/home/seb/SCReplaysOnNVMe/2025EWCReplayPack/3 - Playoffs/8 - Grand Finals - Serral vs Classic/20250725 - Game1 - Classic vs Serral - Persephone.SC2Replay&quot;</td><td>2</td><td>1</td><td>0</td><td>12</td><td>160</td><td>184</td></tr><tr><td>3</td><td>256</td><td>107</td><td>0</td><td>&quot;RallyNexus.Rally1&quot;</td><td>111</td><td>23592961</td><td>1179</td><td>0</td><td>0</td><td>169984</td><td>112640</td><td>49088</td><td>65</td><td>1004</td><td>68</td><td>16594</td><td>&quot;Classic&quot;</td><td>2</td><td>21298</td><td>1</td><td>9691041</td><td>&quot;Protoss&quot;</td><td>255</td><td>0</td><td>66</td><td>255</td><td>2</td><td>1</td><td>0</td><td>2</td><td>12</td><td>&quot;&quot;</td><td>&quot;Persephone LE&quot;</td><td>true</td><td>133979343142010758</td><td>108000000000</td><td>2025-07-25 13:25:14.201075</td><td>16594</td><td>&quot;3f32defc30edd6fd9275ca96dfa5b5a3a2c3b8697c6540e865e2ef595c0265a3&quot;</td><td>&quot;/home/seb/SCReplaysOnNVMe/2025EWCReplayPack/3 - Playoffs/8 - Grand Finals - Serral vs Classic/20250725 - Game1 - Classic vs Serral - Persephone.SC2Replay&quot;</td><td>2</td><td>1</td><td>0</td><td>12</td><td>160</td><td>184</td></tr><tr><td>3</td><td>256</td><td>107</td><td>0</td><td>&quot;RallyNexus.Rally1&quot;</td><td>111</td><td>23592961</td><td>1179</td><td>0</td><td>0</td><td>169984</td><td>112640</td><td>49088</td><td>67</td><td>1033</td><td>70</td><td>16594</td><td>&quot;Classic&quot;</td><td>2</td><td>21298</td><td>1</td><td>9691041</td><td>&quot;Protoss&quot;</td><td>255</td><td>0</td><td>66</td><td>255</td><td>2</td><td>1</td><td>0</td><td>2</td><td>12</td><td>&quot;&quot;</td><td>&quot;Persephone LE&quot;</td><td>true</td><td>133979343142010758</td><td>108000000000</td><td>2025-07-25 13:25:14.201075</td><td>16594</td><td>&quot;3f32defc30edd6fd9275ca96dfa5b5a3a2c3b8697c6540e865e2ef595c0265a3&quot;</td><td>&quot;/home/seb/SCReplaysOnNVMe/2025EWCReplayPack/3 - Playoffs/8 - Grand Finals - Serral vs Classic/20250725 - Game1 - Classic vs Serral - Persephone.SC2Replay&quot;</td><td>2</td><td>1</td><td>0</td><td>12</td><td>160</td><td>184</td></tr><tr><td>3</td><td>256</td><td>107</td><td>0</td><td>&quot;RallyNexus.Rally1&quot;</td><td>111</td><td>22020097</td><td>547</td><td>0</td><td>0</td><td>126976</td><td>124928</td><td>49088</td><td>76</td><td>1156</td><td>79</td><td>16594</td><td>&quot;Classic&quot;</td><td>2</td><td>21298</td><td>1</td><td>9691041</td><td>&quot;Protoss&quot;</td><td>255</td><td>0</td><td>66</td><td>255</td><td>2</td><td>1</td><td>0</td><td>2</td><td>12</td><td>&quot;&quot;</td><td>&quot;Persephone LE&quot;</td><td>true</td><td>133979343142010758</td><td>108000000000</td><td>2025-07-25 13:25:14.201075</td><td>16594</td><td>&quot;3f32defc30edd6fd9275ca96dfa5b5a3a2c3b8697c6540e865e2ef595c0265a3&quot;</td><td>&quot;/home/seb/SCReplaysOnNVMe/2025EWCReplayPack/3 - Playoffs/8 - Grand Finals - Serral vs Classic/20250725 - Game1 - Classic vs Serral - Persephone.SC2Replay&quot;</td><td>2</td><td>1</td><td>0</td><td>12</td><td>160</td><td>184</td></tr><tr><td>3</td><td>256</td><td>107</td><td>0</td><td>&quot;RallyNexus.Rally1&quot;</td><td>111</td><td>63963137</td><td>84</td><td>2</td><td>2</td><td>169984</td><td>112640</td><td>49088</td><td>79</td><td>1210</td><td>82</td><td>16594</td><td>&quot;Classic&quot;</td><td>2</td><td>21298</td><td>1</td><td>9691041</td><td>&quot;Protoss&quot;</td><td>255</td><td>0</td><td>66</td><td>255</td><td>2</td><td>1</td><td>0</td><td>2</td><td>12</td><td>&quot;&quot;</td><td>&quot;Persephone LE&quot;</td><td>true</td><td>133979343142010758</td><td>108000000000</td><td>2025-07-25 13:25:14.201075</td><td>16594</td><td>&quot;3f32defc30edd6fd9275ca96dfa5b5a3a2c3b8697c6540e865e2ef595c0265a3&quot;</td><td>&quot;/home/seb/SCReplaysOnNVMe/2025EWCReplayPack/3 - Playoffs/8 - Grand Finals - Serral vs Classic/20250725 - Game1 - Classic vs Serral - Persephone.SC2Replay&quot;</td><td>2</td><td>1</td><td>0</td><td>12</td><td>160</td><td>184</td></tr><tr><td>3</td><td>256</td><td>107</td><td>0</td><td>&quot;RallyNexus.Rally1&quot;</td><td>111</td><td>63963137</td><td>84</td><td>2</td><td>2</td><td>169984</td><td>112640</td><td>49088</td><td>98</td><td>1698</td><td>116</td><td>16594</td><td>&quot;Classic&quot;</td><td>2</td><td>21298</td><td>1</td><td>9691041</td><td>&quot;Protoss&quot;</td><td>255</td><td>0</td><td>66</td><td>255</td><td>2</td><td>1</td><td>0</td><td>2</td><td>12</td><td>&quot;&quot;</td><td>&quot;Persephone LE&quot;</td><td>true</td><td>133979343142010758</td><td>108000000000</td><td>2025-07-25 13:25:14.201075</td><td>16594</td><td>&quot;3f32defc30edd6fd9275ca96dfa5b5a3a2c3b8697c6540e865e2ef595c0265a3&quot;</td><td>&quot;/home/seb/SCReplaysOnNVMe/2025EWCReplayPack/3 - Playoffs/8 - Grand Finals - Serral vs Classic/20250725 - Game1 - Classic vs Serral - Persephone.SC2Replay&quot;</td><td>2</td><td>1</td><td>0</td><td>12</td><td>160</td><td>184</td></tr><tr><td>&hellip;</td><td>&hellip;</td><td>&hellip;</td><td>&hellip;</td><td>&hellip;</td><td>&hellip;</td><td>&hellip;</td><td>&hellip;</td><td>&hellip;</td><td>&hellip;</td><td>&hellip;</td><td>&hellip;</td><td>&hellip;</td><td>&hellip;</td><td>&hellip;</td><td>&hellip;</td><td>&hellip;</td><td>&hellip;</td><td>&hellip;</td><td>&hellip;</td><td>&hellip;</td><td>&hellip;</td><td>&hellip;</td><td>&hellip;</td><td>&hellip;</td><td>&hellip;</td><td>&hellip;</td><td>&hellip;</td><td>&hellip;</td><td>&hellip;</td><td>&hellip;</td><td>&hellip;</td><td>&hellip;</td><td>&hellip;</td><td>&hellip;</td><td>&hellip;</td><td>&hellip;</td><td>&hellip;</td><td>&hellip;</td><td>&hellip;</td><td>&hellip;</td><td>&hellip;</td><td>&hellip;</td><td>&hellip;</td><td>&hellip;</td><td>&hellip;</td><td>&hellip;</td></tr><tr><td>2</td><td>256</td><td>247</td><td>0</td><td>&quot;Transfusion.Execute&quot;</td><td>111</td><td>126877700</td><td>133</td><td>1</td><td>1</td><td>313839</td><td>219643</td><td>40896</td><td>2529</td><td>11618</td><td>796</td><td>16594</td><td>&quot;Serral&quot;</td><td>2</td><td>21298</td><td>1</td><td>9691277</td><td>&quot;Zerg&quot;</td><td>255</td><td>180</td><td>20</td><td>30</td><td>2</td><td>0</td><td>0</td><td>1</td><td>2</td><td>&quot;&quot;</td><td>&quot;Persephone LE&quot;</td><td>true</td><td>133979343142010758</td><td>108000000000</td><td>2025-07-25 13:25:14.201075</td><td>16594</td><td>&quot;3f32defc30edd6fd9275ca96dfa5b5a3a2c3b8697c6540e865e2ef595c0265a3&quot;</td><td>&quot;/home/seb/SCReplaysOnNVMe/2025EWCReplayPack/3 - Playoffs/8 - Grand Finals - Serral vs Classic/20250725 - Game1 - Classic vs Serral - Persephone.SC2Replay&quot;</td><td>2</td><td>0</td><td>0</td><td>2</td><td>160</td><td>184</td></tr><tr><td>2</td><td>256</td><td>247</td><td>0</td><td>&quot;Transfusion.Execute&quot;</td><td>111</td><td>111149061</td><td>149</td><td>1</td><td>1</td><td>320424</td><td>226036</td><td>40898</td><td>2549</td><td>11685</td><td>801</td><td>16594</td><td>&quot;Serral&quot;</td><td>2</td><td>21298</td><td>1</td><td>9691277</td><td>&quot;Zerg&quot;</td><td>255</td><td>180</td><td>20</td><td>30</td><td>2</td><td>0</td><td>0</td><td>1</td><td>2</td><td>&quot;&quot;</td><td>&quot;Persephone LE&quot;</td><td>true</td><td>133979343142010758</td><td>108000000000</td><td>2025-07-25 13:25:14.201075</td><td>16594</td><td>&quot;3f32defc30edd6fd9275ca96dfa5b5a3a2c3b8697c6540e865e2ef595c0265a3&quot;</td><td>&quot;/home/seb/SCReplaysOnNVMe/2025EWCReplayPack/3 - Playoffs/8 - Grand Finals - Serral vs Classic/20250725 - Game1 - Classic vs Serral - Persephone.SC2Replay&quot;</td><td>2</td><td>0</td><td>0</td><td>2</td><td>160</td><td>184</td></tr><tr><td>2</td><td>256</td><td>247</td><td>0</td><td>&quot;Transfusion.Execute&quot;</td><td>111</td><td>111149061</td><td>149</td><td>1</td><td>1</td><td>325861</td><td>219337</td><td>40896</td><td>2555</td><td>11731</td><td>804</td><td>16594</td><td>&quot;Serral&quot;</td><td>2</td><td>21298</td><td>1</td><td>9691277</td><td>&quot;Zerg&quot;</td><td>255</td><td>180</td><td>20</td><td>30</td><td>2</td><td>0</td><td>0</td><td>1</td><td>2</td><td>&quot;&quot;</td><td>&quot;Persephone LE&quot;</td><td>true</td><td>133979343142010758</td><td>108000000000</td><td>2025-07-25 13:25:14.201075</td><td>16594</td><td>&quot;3f32defc30edd6fd9275ca96dfa5b5a3a2c3b8697c6540e865e2ef595c0265a3&quot;</td><td>&quot;/home/seb/SCReplaysOnNVMe/2025EWCReplayPack/3 - Playoffs/8 - Grand Finals - Serral vs Classic/20250725 - Game1 - Classic vs Serral - Persephone.SC2Replay&quot;</td><td>2</td><td>0</td><td>0</td><td>2</td><td>160</td><td>184</td></tr><tr><td>2</td><td>256</td><td>247</td><td>0</td><td>&quot;Transfusion.Execute&quot;</td><td>111</td><td>125566980</td><td>179</td><td>1</td><td>1</td><td>317244</td><td>215045</td><td>40896</td><td>2559</td><td>11759</td><td>806</td><td>16594</td><td>&quot;Serral&quot;</td><td>2</td><td>21298</td><td>1</td><td>9691277</td><td>&quot;Zerg&quot;</td><td>255</td><td>180</td><td>20</td><td>30</td><td>2</td><td>0</td><td>0</td><td>1</td><td>2</td><td>&quot;&quot;</td><td>&quot;Persephone LE&quot;</td><td>true</td><td>133979343142010758</td><td>108000000000</td><td>2025-07-25 13:25:14.201075</td><td>16594</td><td>&quot;3f32defc30edd6fd9275ca96dfa5b5a3a2c3b8697c6540e865e2ef595c0265a3&quot;</td><td>&quot;/home/seb/SCReplaysOnNVMe/2025EWCReplayPack/3 - Playoffs/8 - Grand Finals - Serral vs Classic/20250725 - Game1 - Classic vs Serral - Persephone.SC2Replay&quot;</td><td>2</td><td>0</td><td>0</td><td>2</td><td>160</td><td>184</td></tr><tr><td>3</td><td>256</td><td>732</td><td>0</td><td>&quot;EnergyRecharge.Execute&quot;</td><td>111</td><td>144965639</td><td>98</td><td>2</td><td>2</td><td>255081</td><td>214359</td><td>40896</td><td>1727</td><td>12386</td><td>849</td><td>16594</td><td>&quot;Classic&quot;</td><td>2</td><td>21298</td><td>1</td><td>9691041</td><td>&quot;Protoss&quot;</td><td>255</td><td>0</td><td>66</td><td>255</td><td>2</td><td>1</td><td>0</td><td>2</td><td>12</td><td>&quot;&quot;</td><td>&quot;Persephone LE&quot;</td><td>true</td><td>133979343142010758</td><td>108000000000</td><td>2025-07-25 13:25:14.201075</td><td>16594</td><td>&quot;3f32defc30edd6fd9275ca96dfa5b5a3a2c3b8697c6540e865e2ef595c0265a3&quot;</td><td>&quot;/home/seb/SCReplaysOnNVMe/2025EWCReplayPack/3 - Playoffs/8 - Grand Finals - Serral vs Classic/20250725 - Game1 - Classic vs Serral - Persephone.SC2Replay&quot;</td><td>2</td><td>1</td><td>0</td><td>12</td><td>160</td><td>184</td></tr><tr><td>3</td><td>256</td><td>46</td><td>0</td><td>&quot;attack.Execute&quot;</td><td>111</td><td>124518418</td><td>133</td><td>1</td><td>1</td><td>314629</td><td>206971</td><td>40896</td><td>1879</td><td>13040</td><td>894</td><td>16594</td><td>&quot;Classic&quot;</td><td>2</td><td>21298</td><td>1</td><td>9691041</td><td>&quot;Protoss&quot;</td><td>255</td><td>0</td><td>66</td><td>255</td><td>2</td><td>1</td><td>0</td><td>2</td><td>12</td><td>&quot;&quot;</td><td>&quot;Persephone LE&quot;</td><td>true</td><td>133979343142010758</td><td>108000000000</td><td>2025-07-25 13:25:14.201075</td><td>16594</td><td>&quot;3f32defc30edd6fd9275ca96dfa5b5a3a2c3b8697c6540e865e2ef595c0265a3&quot;</td><td>&quot;/home/seb/SCReplaysOnNVMe/2025EWCReplayPack/3 - Playoffs/8 - Grand Finals - Serral vs Classic/20250725 - Game1 - Classic vs Serral - Persephone.SC2Replay&quot;</td><td>2</td><td>1</td><td>0</td><td>12</td><td>160</td><td>184</td></tr><tr><td>2</td><td>256</td><td>247</td><td>0</td><td>&quot;Transfusion.Execute&quot;</td><td>111</td><td>126877700</td><td>179</td><td>1</td><td>1</td><td>308147</td><td>204770</td><td>40896</td><td>3000</td><td>13053</td><td>895</td><td>16594</td><td>&quot;Serral&quot;</td><td>2</td><td>21298</td><td>1</td><td>9691277</td><td>&quot;Zerg&quot;</td><td>255</td><td>180</td><td>20</td><td>30</td><td>2</td><td>0</td><td>0</td><td>1</td><td>2</td><td>&quot;&quot;</td><td>&quot;Persephone LE&quot;</td><td>true</td><td>133979343142010758</td><td>108000000000</td><td>2025-07-25 13:25:14.201075</td><td>16594</td><td>&quot;3f32defc30edd6fd9275ca96dfa5b5a3a2c3b8697c6540e865e2ef595c0265a3&quot;</td><td>&quot;/home/seb/SCReplaysOnNVMe/2025EWCReplayPack/3 - Playoffs/8 - Grand Finals - Serral vs Classic/20250725 - Game1 - Classic vs Serral - Persephone.SC2Replay&quot;</td><td>2</td><td>0</td><td>0</td><td>2</td><td>160</td><td>184</td></tr><tr><td>2</td><td>256</td><td>46</td><td>0</td><td>&quot;attack.Execute&quot;</td><td>111</td><td>117440514</td><td>89</td><td>2</td><td>2</td><td>380928</td><td>135168</td><td>32704</td><td>3062</td><td>13254</td><td>909</td><td>16594</td><td>&quot;Serral&quot;</td><td>2</td><td>21298</td><td>1</td><td>9691277</td><td>&quot;Zerg&quot;</td><td>255</td><td>180</td><td>20</td><td>30</td><td>2</td><td>0</td><td>0</td><td>1</td><td>2</td><td>&quot;&quot;</td><td>&quot;Persephone LE&quot;</td><td>true</td><td>133979343142010758</td><td>108000000000</td><td>2025-07-25 13:25:14.201075</td><td>16594</td><td>&quot;3f32defc30edd6fd9275ca96dfa5b5a3a2c3b8697c6540e865e2ef595c0265a3&quot;</td><td>&quot;/home/seb/SCReplaysOnNVMe/2025EWCReplayPack/3 - Playoffs/8 - Grand Finals - Serral vs Classic/20250725 - Game1 - Classic vs Serral - Persephone.SC2Replay&quot;</td><td>2</td><td>0</td><td>0</td><td>2</td><td>160</td><td>184</td></tr><tr><td>3</td><td>256</td><td>46</td><td>0</td><td>&quot;attack.Execute&quot;</td><td>111</td><td>129761282</td><td>179</td><td>1</td><td>1</td><td>341478</td><td>164050</td><td>39574</td><td>1934</td><td>13267</td><td>909</td><td>16594</td><td>&quot;Classic&quot;</td><td>2</td><td>21298</td><td>1</td><td>9691041</td><td>&quot;Protoss&quot;</td><td>255</td><td>0</td><td>66</td><td>255</td><td>2</td><td>1</td><td>0</td><td>2</td><td>12</td><td>&quot;&quot;</td><td>&quot;Persephone LE&quot;</td><td>true</td><td>133979343142010758</td><td>108000000000</td><td>2025-07-25 13:25:14.201075</td><td>16594</td><td>&quot;3f32defc30edd6fd9275ca96dfa5b5a3a2c3b8697c6540e865e2ef595c0265a3&quot;</td><td>&quot;/home/seb/SCReplaysOnNVMe/2025EWCReplayPack/3 - Playoffs/8 - Grand Finals - Serral vs Classic/20250725 - Game1 - Classic vs Serral - Persephone.SC2Replay&quot;</td><td>2</td><td>1</td><td>0</td><td>12</td><td>160</td><td>184</td></tr><tr><td>2</td><td>256</td><td>247</td><td>0</td><td>&quot;Transfusion.Execute&quot;</td><td>111</td><td>129761282</td><td>179</td><td>1</td><td>1</td><td>342031</td><td>167524</td><td>40251</td><td>3066</td><td>13271</td><td>910</td><td>16594</td><td>&quot;Serral&quot;</td><td>2</td><td>21298</td><td>1</td><td>9691277</td><td>&quot;Zerg&quot;</td><td>255</td><td>180</td><td>20</td><td>30</td><td>2</td><td>0</td><td>0</td><td>1</td><td>2</td><td>&quot;&quot;</td><td>&quot;Persephone LE&quot;</td><td>true</td><td>133979343142010758</td><td>108000000000</td><td>2025-07-25 13:25:14.201075</td><td>16594</td><td>&quot;3f32defc30edd6fd9275ca96dfa5b5a3a2c3b8697c6540e865e2ef595c0265a3&quot;</td><td>&quot;/home/seb/SCReplaysOnNVMe/2025EWCReplayPack/3 - Playoffs/8 - Grand Finals - Serral vs Classic/20250725 - Game1 - Classic vs Serral - Persephone.SC2Replay&quot;</td><td>2</td><td>0</td><td>0</td><td>2</td><td>160</td><td>184</td></tr><tr><td>2</td><td>256</td><td>247</td><td>0</td><td>&quot;Transfusion.Execute&quot;</td><td>111</td><td>129761282</td><td>179</td><td>1</td><td>1</td><td>343403</td><td>174408</td><td>40880</td><td>3069</td><td>13287</td><td>911</td><td>16594</td><td>&quot;Serral&quot;</td><td>2</td><td>21298</td><td>1</td><td>9691277</td><td>&quot;Zerg&quot;</td><td>255</td><td>180</td><td>20</td><td>30</td><td>2</td><td>0</td><td>0</td><td>1</td><td>2</td><td>&quot;&quot;</td><td>&quot;Persephone LE&quot;</td><td>true</td><td>133979343142010758</td><td>108000000000</td><td>2025-07-25 13:25:14.201075</td><td>16594</td><td>&quot;3f32defc30edd6fd9275ca96dfa5b5a3a2c3b8697c6540e865e2ef595c0265a3&quot;</td><td>&quot;/home/seb/SCReplaysOnNVMe/2025EWCReplayPack/3 - Playoffs/8 - Grand Finals - Serral vs Classic/20250725 - Game1 - Classic vs Serral - Persephone.SC2Replay&quot;</td><td>2</td><td>0</td><td>0</td><td>2</td><td>160</td><td>184</td></tr><tr><td>3</td><td>256</td><td>46</td><td>0</td><td>&quot;attack.Execute&quot;</td><td>111</td><td>129761282</td><td>179</td><td>1</td><td>1</td><td>336990</td><td>175150</td><td>40906</td><td>1949</td><td>13323</td><td>913</td><td>16594</td><td>&quot;Classic&quot;</td><td>2</td><td>21298</td><td>1</td><td>9691041</td><td>&quot;Protoss&quot;</td><td>255</td><td>0</td><td>66</td><td>255</td><td>2</td><td>1</td><td>0</td><td>2</td><td>12</td><td>&quot;&quot;</td><td>&quot;Persephone LE&quot;</td><td>true</td><td>133979343142010758</td><td>108000000000</td><td>2025-07-25 13:25:14.201075</td><td>16594</td><td>&quot;3f32defc30edd6fd9275ca96dfa5b5a3a2c3b8697c6540e865e2ef595c0265a3&quot;</td><td>&quot;/home/seb/SCReplaysOnNVMe/2025EWCReplayPack/3 - Playoffs/8 - Grand Finals - Serral vs Classic/20250725 - Game1 - Classic vs Serral - Persephone.SC2Replay&quot;</td><td>2</td><td>1</td><td>0</td><td>12</td><td>160</td><td>184</td></tr></tbody></table></div>"
      ],
      "text/plain": [
       "shape: (83, 47)\n",
       "┌─────────┬───────────┬───────────┬────────────────┬───┬─────────┬─────────────────────┬────────────┬────────────┐\n",
       "│ user_id ┆ cmd_flags ┆ abil_link ┆ abil_cmd_index ┆ … ┆ observe ┆ working_set_slot_id ┆ map_size_x ┆ map_size_y │\n",
       "│ ---     ┆ ---       ┆ ---       ┆ ---            ┆   ┆ ---     ┆ ---                 ┆ ---        ┆ ---        │\n",
       "│ i64     ┆ i64       ┆ u16       ┆ i64            ┆   ┆ u8      ┆ u8                  ┆ u8         ┆ u8         │\n",
       "╞═════════╪═══════════╪═══════════╪════════════════╪═══╪═════════╪═════════════════════╪════════════╪════════════╡\n",
       "│ 3       ┆ 256       ┆ 107       ┆ 0              ┆ … ┆ 0       ┆ 12                  ┆ 160        ┆ 184        │\n",
       "│ 3       ┆ 256       ┆ 107       ┆ 0              ┆ … ┆ 0       ┆ 12                  ┆ 160        ┆ 184        │\n",
       "│ 3       ┆ 256       ┆ 107       ┆ 0              ┆ … ┆ 0       ┆ 12                  ┆ 160        ┆ 184        │\n",
       "│ 3       ┆ 256       ┆ 107       ┆ 0              ┆ … ┆ 0       ┆ 12                  ┆ 160        ┆ 184        │\n",
       "│ 3       ┆ 256       ┆ 107       ┆ 0              ┆ … ┆ 0       ┆ 12                  ┆ 160        ┆ 184        │\n",
       "│ 3       ┆ 256       ┆ 723       ┆ 0              ┆ … ┆ 0       ┆ 12                  ┆ 160        ┆ 184        │\n",
       "│ 3       ┆ 256       ┆ 107       ┆ 0              ┆ … ┆ 0       ┆ 12                  ┆ 160        ┆ 184        │\n",
       "│ 3       ┆ 256       ┆ 107       ┆ 0              ┆ … ┆ 0       ┆ 12                  ┆ 160        ┆ 184        │\n",
       "│ 3       ┆ 256       ┆ 107       ┆ 0              ┆ … ┆ 0       ┆ 12                  ┆ 160        ┆ 184        │\n",
       "│ 3       ┆ 256       ┆ 107       ┆ 0              ┆ … ┆ 0       ┆ 12                  ┆ 160        ┆ 184        │\n",
       "│ 3       ┆ 256       ┆ 107       ┆ 0              ┆ … ┆ 0       ┆ 12                  ┆ 160        ┆ 184        │\n",
       "│ 3       ┆ 256       ┆ 107       ┆ 0              ┆ … ┆ 0       ┆ 12                  ┆ 160        ┆ 184        │\n",
       "│ …       ┆ …         ┆ …         ┆ …              ┆ … ┆ …       ┆ …                   ┆ …          ┆ …          │\n",
       "│ 2       ┆ 256       ┆ 247       ┆ 0              ┆ … ┆ 0       ┆ 2                   ┆ 160        ┆ 184        │\n",
       "│ 2       ┆ 256       ┆ 247       ┆ 0              ┆ … ┆ 0       ┆ 2                   ┆ 160        ┆ 184        │\n",
       "│ 2       ┆ 256       ┆ 247       ┆ 0              ┆ … ┆ 0       ┆ 2                   ┆ 160        ┆ 184        │\n",
       "│ 2       ┆ 256       ┆ 247       ┆ 0              ┆ … ┆ 0       ┆ 2                   ┆ 160        ┆ 184        │\n",
       "│ 3       ┆ 256       ┆ 732       ┆ 0              ┆ … ┆ 0       ┆ 12                  ┆ 160        ┆ 184        │\n",
       "│ 3       ┆ 256       ┆ 46        ┆ 0              ┆ … ┆ 0       ┆ 12                  ┆ 160        ┆ 184        │\n",
       "│ 2       ┆ 256       ┆ 247       ┆ 0              ┆ … ┆ 0       ┆ 2                   ┆ 160        ┆ 184        │\n",
       "│ 2       ┆ 256       ┆ 46        ┆ 0              ┆ … ┆ 0       ┆ 2                   ┆ 160        ┆ 184        │\n",
       "│ 3       ┆ 256       ┆ 46        ┆ 0              ┆ … ┆ 0       ┆ 12                  ┆ 160        ┆ 184        │\n",
       "│ 2       ┆ 256       ┆ 247       ┆ 0              ┆ … ┆ 0       ┆ 2                   ┆ 160        ┆ 184        │\n",
       "│ 2       ┆ 256       ┆ 247       ┆ 0              ┆ … ┆ 0       ┆ 2                   ┆ 160        ┆ 184        │\n",
       "│ 3       ┆ 256       ┆ 46        ┆ 0              ┆ … ┆ 0       ┆ 12                  ┆ 160        ┆ 184        │\n",
       "└─────────┴───────────┴───────────┴────────────────┴───┴─────────┴─────────────────────┴────────────┴────────────┘"
      ]
     },
     "execution_count": 94,
     "metadata": {},
     "output_type": "execute_result"
    }
   ],
   "source": [
    "cmd_target_unit_df.filter(pl.col(\"ext_fs_id\").eq(chosen_fs_id)).join(\n",
    "    details_lobby_df.filter(pl.col(\"ext_fs_id\").eq(chosen_fs_id)).with_columns(\n",
    "        pl.col(\"user_id\").alias(\"user_id\")\n",
    "    ),\n",
    "    on=[\"user_id\", \"ext_fs_id\"],\n",
    ").filter(pl.col(\"ability\") != \"\").sort(by=[pl.col(\"ext_replay_loop\")]).collect()"
   ]
  },
  {
   "cell_type": "code",
   "execution_count": 102,
   "id": "58c7f4b0-2936-49cb-bb5f-4bbb55c90cf1",
   "metadata": {},
   "outputs": [
    {
     "data": {
      "text/html": [
       "<div><style>\n",
       ".dataframe > thead > tr,\n",
       ".dataframe > tbody > tr {\n",
       "  text-align: right;\n",
       "  white-space: pre-wrap;\n",
       "}\n",
       "</style>\n",
       "<small>shape: (11, 3)</small><table border=\"1\" class=\"dataframe\"><thead><tr><th>ability</th><th>player_name</th><th>freq</th></tr><tr><td>str</td><td>str</td><td>u32</td></tr></thead><tbody><tr><td>&quot;SpawnLarva.Execute&quot;</td><td>&quot;Serral&quot;</td><td>20</td></tr><tr><td>&quot;RallyNexus.Rally1&quot;</td><td>&quot;Classic&quot;</td><td>17</td></tr><tr><td>&quot;DroneHarvest.Gather&quot;</td><td>&quot;Serral&quot;</td><td>12</td></tr><tr><td>&quot;Transfusion.Execute&quot;</td><td>&quot;Serral&quot;</td><td>8</td></tr><tr><td>&quot;attack.Execute&quot;</td><td>&quot;Serral&quot;</td><td>7</td></tr><tr><td>&quot;ChronoBoostEnergyCost.Execute&quot;</td><td>&quot;Classic&quot;</td><td>7</td></tr><tr><td>&quot;attack.Execute&quot;</td><td>&quot;Classic&quot;</td><td>5</td></tr><tr><td>&quot;RallyHatchery.Rally2&quot;</td><td>&quot;Serral&quot;</td><td>2</td></tr><tr><td>&quot;Rally.Rally1&quot;</td><td>&quot;Classic&quot;</td><td>2</td></tr><tr><td>&quot;EnergyRecharge.Execute&quot;</td><td>&quot;Classic&quot;</td><td>2</td></tr><tr><td>&quot;move.AcquireMove&quot;</td><td>&quot;Serral&quot;</td><td>1</td></tr></tbody></table></div>"
      ],
      "text/plain": [
       "shape: (11, 3)\n",
       "┌───────────────────────────────┬─────────────┬──────┐\n",
       "│ ability                       ┆ player_name ┆ freq │\n",
       "│ ---                           ┆ ---         ┆ ---  │\n",
       "│ str                           ┆ str         ┆ u32  │\n",
       "╞═══════════════════════════════╪═════════════╪══════╡\n",
       "│ SpawnLarva.Execute            ┆ Serral      ┆ 20   │\n",
       "│ RallyNexus.Rally1             ┆ Classic     ┆ 17   │\n",
       "│ DroneHarvest.Gather           ┆ Serral      ┆ 12   │\n",
       "│ Transfusion.Execute           ┆ Serral      ┆ 8    │\n",
       "│ attack.Execute                ┆ Serral      ┆ 7    │\n",
       "│ ChronoBoostEnergyCost.Execute ┆ Classic     ┆ 7    │\n",
       "│ attack.Execute                ┆ Classic     ┆ 5    │\n",
       "│ RallyHatchery.Rally2          ┆ Serral      ┆ 2    │\n",
       "│ Rally.Rally1                  ┆ Classic     ┆ 2    │\n",
       "│ EnergyRecharge.Execute        ┆ Classic     ┆ 2    │\n",
       "│ move.AcquireMove              ┆ Serral      ┆ 1    │\n",
       "└───────────────────────────────┴─────────────┴──────┘"
      ]
     },
     "execution_count": 102,
     "metadata": {},
     "output_type": "execute_result"
    }
   ],
   "source": [
    "cmd_target_unit_df.filter(pl.col(\"ext_fs_id\").eq(chosen_fs_id)).join(\n",
    "    details_lobby_df.filter(pl.col(\"ext_fs_id\").eq(chosen_fs_id)).with_columns(\n",
    "        pl.col(\"user_id\").alias(\"user_id\")\n",
    "    ),\n",
    "    on=[\"user_id\", \"ext_fs_id\"],\n",
    ").filter(pl.col(\"ability\") != \"\").group_by(pl.col(\"ability\"), pl.col(\"player_name\")).agg(pl.len().alias(\"freq\")).sort(pl.col(\"freq\"),descending=True).collect()"
   ]
  },
  {
   "cell_type": "code",
   "execution_count": null,
   "id": "a994f15f-983b-4a4e-86dc-6565c91db082",
   "metadata": {},
   "outputs": [],
   "source": []
  }
 ],
 "metadata": {
  "kernelspec": {
   "display_name": "Python 3 (ipykernel)",
   "language": "python",
   "name": "python3"
  },
  "language_info": {
   "codemirror_mode": {
    "name": "ipython",
    "version": 3
   },
   "file_extension": ".py",
   "mimetype": "text/x-python",
   "name": "python",
   "nbconvert_exporter": "python",
   "pygments_lexer": "ipython3",
   "version": "3.13.5"
  }
 },
 "nbformat": 4,
 "nbformat_minor": 5
}
